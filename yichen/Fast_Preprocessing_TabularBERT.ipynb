{
  "nbformat": 4,
  "nbformat_minor": 0,
  "metadata": {
    "colab": {
      "provenance": [],
      "collapsed_sections": [],
      "machine_shape": "hm",
      "toc_visible": true
    },
    "kernelspec": {
      "name": "python3",
      "display_name": "Python 3"
    },
    "language_info": {
      "name": "python"
    },
    "accelerator": "GPU",
    "gpuClass": "standard"
  },
  "cells": [
    {
      "cell_type": "markdown",
      "source": [
        "#Loading Data"
      ],
      "metadata": {
        "id": "PKnZpkJYD9fN"
      }
    },
    {
      "cell_type": "code",
      "source": [
        "!pip install ipython-autotime\n",
        "%load_ext autotime"
      ],
      "metadata": {
        "colab": {
          "base_uri": "https://localhost:8080/"
        },
        "id": "zL76Q2SevMjS",
        "outputId": "8040261a-10d8-4f62-dbdc-171b77297b83"
      },
      "execution_count": null,
      "outputs": [
        {
          "output_type": "stream",
          "name": "stdout",
          "text": [
            "Looking in indexes: https://pypi.org/simple, https://us-python.pkg.dev/colab-wheels/public/simple/\n",
            "Collecting ipython-autotime\n",
            "  Downloading ipython_autotime-0.3.1-py2.py3-none-any.whl (6.8 kB)\n",
            "Requirement already satisfied: ipython in /usr/local/lib/python3.7/dist-packages (from ipython-autotime) (7.9.0)\n",
            "Requirement already satisfied: pexpect in /usr/local/lib/python3.7/dist-packages (from ipython->ipython-autotime) (4.8.0)\n",
            "Requirement already satisfied: setuptools>=18.5 in /usr/local/lib/python3.7/dist-packages (from ipython->ipython-autotime) (57.4.0)\n",
            "Requirement already satisfied: decorator in /usr/local/lib/python3.7/dist-packages (from ipython->ipython-autotime) (4.4.2)\n",
            "Requirement already satisfied: prompt-toolkit<2.1.0,>=2.0.0 in /usr/local/lib/python3.7/dist-packages (from ipython->ipython-autotime) (2.0.10)\n",
            "Requirement already satisfied: traitlets>=4.2 in /usr/local/lib/python3.7/dist-packages (from ipython->ipython-autotime) (5.1.1)\n",
            "Requirement already satisfied: pygments in /usr/local/lib/python3.7/dist-packages (from ipython->ipython-autotime) (2.6.1)\n",
            "Requirement already satisfied: backcall in /usr/local/lib/python3.7/dist-packages (from ipython->ipython-autotime) (0.2.0)\n",
            "Requirement already satisfied: pickleshare in /usr/local/lib/python3.7/dist-packages (from ipython->ipython-autotime) (0.7.5)\n",
            "Collecting jedi>=0.10\n",
            "  Downloading jedi-0.18.1-py2.py3-none-any.whl (1.6 MB)\n",
            "\u001b[K     |████████████████████████████████| 1.6 MB 4.2 MB/s \n",
            "\u001b[?25hRequirement already satisfied: parso<0.9.0,>=0.8.0 in /usr/local/lib/python3.7/dist-packages (from jedi>=0.10->ipython->ipython-autotime) (0.8.3)\n",
            "Requirement already satisfied: wcwidth in /usr/local/lib/python3.7/dist-packages (from prompt-toolkit<2.1.0,>=2.0.0->ipython->ipython-autotime) (0.2.5)\n",
            "Requirement already satisfied: six>=1.9.0 in /usr/local/lib/python3.7/dist-packages (from prompt-toolkit<2.1.0,>=2.0.0->ipython->ipython-autotime) (1.15.0)\n",
            "Requirement already satisfied: ptyprocess>=0.5 in /usr/local/lib/python3.7/dist-packages (from pexpect->ipython->ipython-autotime) (0.7.0)\n",
            "Installing collected packages: jedi, ipython-autotime\n",
            "Successfully installed ipython-autotime-0.3.1 jedi-0.18.1\n",
            "time: 457 µs (started: 2022-08-30 17:17:15 +00:00)\n"
          ]
        }
      ]
    },
    {
      "cell_type": "code",
      "execution_count": null,
      "metadata": {
        "id": "OFl6W2M1D1tv",
        "colab": {
          "base_uri": "https://localhost:8080/"
        },
        "outputId": "b06e7456-7262-4fbe-df27-c8c5bd7fcdd4"
      },
      "outputs": [
        {
          "output_type": "stream",
          "name": "stdout",
          "text": [
            "time: 242 ms (started: 2022-08-30 17:17:15 +00:00)\n"
          ]
        }
      ],
      "source": [
        "import pandas as pd"
      ]
    },
    {
      "cell_type": "code",
      "source": [
        "from google.colab import drive\n",
        "drive.mount('/content/drive', force_remount=True)\n",
        "DATA_DIR = '/content/drive/My Drive/FraudTransformer'"
      ],
      "metadata": {
        "colab": {
          "base_uri": "https://localhost:8080/"
        },
        "id": "IOAYzeNdECWo",
        "outputId": "e82f53c4-f239-4130-da28-c98cc0911734"
      },
      "execution_count": null,
      "outputs": [
        {
          "output_type": "stream",
          "name": "stdout",
          "text": [
            "Mounted at /content/drive\n",
            "time: 18 s (started: 2022-08-30 17:17:15 +00:00)\n"
          ]
        }
      ]
    },
    {
      "cell_type": "code",
      "source": [
        "data_path = f'{DATA_DIR}/fe_banking_login_20201201_20210531.csv'"
      ],
      "metadata": {
        "id": "81IG9dYtEKWH",
        "colab": {
          "base_uri": "https://localhost:8080/"
        },
        "outputId": "0f5602cf-02f7-4157-ebc8-add01e5f2661"
      },
      "execution_count": null,
      "outputs": [
        {
          "output_type": "stream",
          "name": "stdout",
          "text": [
            "time: 563 µs (started: 2022-08-30 17:17:33 +00:00)\n"
          ]
        }
      ]
    },
    {
      "cell_type": "code",
      "source": [
        "feature_path = f'{DATA_DIR}/modified_coef_final4th.csv'"
      ],
      "metadata": {
        "id": "xBQyixg8EQ0K",
        "colab": {
          "base_uri": "https://localhost:8080/"
        },
        "outputId": "4f06dc56-01ea-4738-b895-8065ec2697ba"
      },
      "execution_count": null,
      "outputs": [
        {
          "output_type": "stream",
          "name": "stdout",
          "text": [
            "time: 685 µs (started: 2022-08-30 17:17:33 +00:00)\n"
          ]
        }
      ]
    },
    {
      "cell_type": "code",
      "source": [
        "raw_data = pd.read_csv(data_path)"
      ],
      "metadata": {
        "id": "S0OMrqzbETIE",
        "colab": {
          "base_uri": "https://localhost:8080/"
        },
        "outputId": "8a259ea1-2308-4baa-bc8e-0dd6b33aab9d"
      },
      "execution_count": null,
      "outputs": [
        {
          "output_type": "stream",
          "name": "stdout",
          "text": [
            "time: 11 s (started: 2022-08-30 17:17:33 +00:00)\n"
          ]
        }
      ]
    },
    {
      "cell_type": "code",
      "source": [
        "feature_list = pd.read_csv(feature_path)"
      ],
      "metadata": {
        "id": "d54VijKHEXuW",
        "colab": {
          "base_uri": "https://localhost:8080/"
        },
        "outputId": "b83cdf3c-97e2-406f-ef87-a2842e4f2d90"
      },
      "execution_count": null,
      "outputs": [
        {
          "output_type": "stream",
          "name": "stdout",
          "text": [
            "time: 519 ms (started: 2022-08-30 17:17:44 +00:00)\n"
          ]
        }
      ]
    },
    {
      "cell_type": "code",
      "source": [
        "features = feature_list[\"Unnamed: 0\"].astype(\"str\").tolist()"
      ],
      "metadata": {
        "id": "atp3AswOFDYF",
        "colab": {
          "base_uri": "https://localhost:8080/"
        },
        "outputId": "04fd555a-5eaa-4e40-ffd7-14343c418a6f"
      },
      "execution_count": null,
      "outputs": [
        {
          "output_type": "stream",
          "name": "stdout",
          "text": [
            "time: 12.4 ms (started: 2022-08-30 17:17:45 +00:00)\n"
          ]
        }
      ]
    },
    {
      "cell_type": "code",
      "source": [
        "selected_data = raw_data[features+['frd', 'eval']]"
      ],
      "metadata": {
        "id": "R8QobAEJEe-I",
        "colab": {
          "base_uri": "https://localhost:8080/"
        },
        "outputId": "5e9d7d95-fb86-4fb5-c284-4c4968325068"
      },
      "execution_count": null,
      "outputs": [
        {
          "output_type": "stream",
          "name": "stdout",
          "text": [
            "time: 84.1 ms (started: 2022-08-30 17:17:45 +00:00)\n"
          ]
        }
      ]
    },
    {
      "cell_type": "code",
      "source": [
        "selected_data.rename({'tmxrc_Possible VPN or Tunnel': 'tmxrc_Possible_VPN_or_Tunnel'}, axis=1, inplace=True)"
      ],
      "metadata": {
        "colab": {
          "base_uri": "https://localhost:8080/"
        },
        "id": "3ZJ_t87WwzRM",
        "outputId": "ca704356-ead0-4e5a-90ac-928f88e37189"
      },
      "execution_count": null,
      "outputs": [
        {
          "output_type": "stream",
          "name": "stdout",
          "text": [
            "time: 5.84 ms (started: 2022-08-30 17:17:45 +00:00)\n"
          ]
        },
        {
          "output_type": "stream",
          "name": "stderr",
          "text": [
            "/usr/local/lib/python3.7/dist-packages/pandas/core/frame.py:5047: SettingWithCopyWarning: \n",
            "A value is trying to be set on a copy of a slice from a DataFrame\n",
            "\n",
            "See the caveats in the documentation: https://pandas.pydata.org/pandas-docs/stable/user_guide/indexing.html#returning-a-view-versus-a-copy\n",
            "  errors=errors,\n"
          ]
        }
      ]
    },
    {
      "cell_type": "code",
      "source": [
        "features[29] = 'tmxrc_Possible_VPN_or_Tunnel'"
      ],
      "metadata": {
        "id": "lJOrYrCpxe4U",
        "colab": {
          "base_uri": "https://localhost:8080/"
        },
        "outputId": "5d2234d7-7eab-428c-87c9-5de2e888059d"
      },
      "execution_count": null,
      "outputs": [
        {
          "output_type": "stream",
          "name": "stdout",
          "text": [
            "time: 670 µs (started: 2022-08-30 17:17:45 +00:00)\n"
          ]
        }
      ]
    },
    {
      "cell_type": "code",
      "source": [
        "selected_data.apply(pd.Series.value_counts)"
      ],
      "metadata": {
        "colab": {
          "base_uri": "https://localhost:8080/",
          "height": 221
        },
        "id": "_7ohSP6cFSvY",
        "outputId": "bbb7318b-750d-46cd-8c3e-91447627f987"
      },
      "execution_count": null,
      "outputs": [
        {
          "output_type": "execute_result",
          "data": {
            "text/plain": [
              "   tmxrc_Aggregator  tmxrc_ACC_EMAIL_LCL_AGE_GT_3MTHS  \\\n",
              "0            915124                            738032   \n",
              "1             19651                            196743   \n",
              "\n",
              "   tmxrc_ACC_LOGIN_SMART_ID_LCL_PAIR_AGE_GT_2MTHS  \\\n",
              "0                                          858212   \n",
              "1                                           76563   \n",
              "\n",
              "   tmxrc_ACC_LOGIN_SMART_ID_LCL_PAIR_AGE_GT_MTH  \\\n",
              "0                                        828697   \n",
              "1                                        106078   \n",
              "\n",
              "   tmxrc_SMART_ID_LCL_AGE_GT_3MTHS  \\\n",
              "0                           409576   \n",
              "1                           525199   \n",
              "\n",
              "   tmxrc_ACC_EMAIL_SMART_ID_LCL_PAIR_AGE_GT_3MTHS  \\\n",
              "0                                          852116   \n",
              "1                                           82659   \n",
              "\n",
              "   tmxrc_ACC_EMAIL_LCL_AGE_GT_MTH  \\\n",
              "0                          925615   \n",
              "1                            9160   \n",
              "\n",
              "   tmxrc_AGENT_PUBLICKEY_HASH_LCL_AGE_GT_3MTHS  \\\n",
              "0                                       665783   \n",
              "1                                       268992   \n",
              "\n",
              "   tmxrc_ACC_LOGIN_SMART_ID_LCL_PAIR_AGE_GT_2WKS  \\\n",
              "0                                         872812   \n",
              "1                                          61963   \n",
              "\n",
              "   tmxrc_AGENT_PUBLICKEY_HASH_LCL_AGE_GT_MTH  ...  \\\n",
              "0                                     852589  ...   \n",
              "1                                      82186  ...   \n",
              "\n",
              "   tmxrc_ACC_EMAIL_GBL_AGE_LT_DY  tmxrc_ACC_NUM_SMART_ID_LCL_PAIR_AGE_LT_DY  \\\n",
              "0                         931852                                     929281   \n",
              "1                           2923                                       5494   \n",
              "\n",
              "   tmxrc_Jailbreak_or_Root  tmxrc_Proxy_Anonymous  sumrc_Level_1_Link_Reject  \\\n",
              "0                   929089                 913852                     906871   \n",
              "1                     5686                  20923                      27904   \n",
              "\n",
              "   tmxrc_Rejected_ExactID_Month  tmxrc_PotentialVM_UA_Android_OS_Win  \\\n",
              "0                        906677                               931257   \n",
              "1                         28098                                 3518   \n",
              "\n",
              "   tmxrc_Phones_per_ExactID_Week_High     frd    eval  \n",
              "0                              930973  801345  749142  \n",
              "1                                3802  133430  185633  \n",
              "\n",
              "[2 rows x 47 columns]"
            ],
            "text/html": [
              "\n",
              "  <div id=\"df-adb2d4dd-3d14-42a8-80bf-90663a68e89b\">\n",
              "    <div class=\"colab-df-container\">\n",
              "      <div>\n",
              "<style scoped>\n",
              "    .dataframe tbody tr th:only-of-type {\n",
              "        vertical-align: middle;\n",
              "    }\n",
              "\n",
              "    .dataframe tbody tr th {\n",
              "        vertical-align: top;\n",
              "    }\n",
              "\n",
              "    .dataframe thead th {\n",
              "        text-align: right;\n",
              "    }\n",
              "</style>\n",
              "<table border=\"1\" class=\"dataframe\">\n",
              "  <thead>\n",
              "    <tr style=\"text-align: right;\">\n",
              "      <th></th>\n",
              "      <th>tmxrc_Aggregator</th>\n",
              "      <th>tmxrc_ACC_EMAIL_LCL_AGE_GT_3MTHS</th>\n",
              "      <th>tmxrc_ACC_LOGIN_SMART_ID_LCL_PAIR_AGE_GT_2MTHS</th>\n",
              "      <th>tmxrc_ACC_LOGIN_SMART_ID_LCL_PAIR_AGE_GT_MTH</th>\n",
              "      <th>tmxrc_SMART_ID_LCL_AGE_GT_3MTHS</th>\n",
              "      <th>tmxrc_ACC_EMAIL_SMART_ID_LCL_PAIR_AGE_GT_3MTHS</th>\n",
              "      <th>tmxrc_ACC_EMAIL_LCL_AGE_GT_MTH</th>\n",
              "      <th>tmxrc_AGENT_PUBLICKEY_HASH_LCL_AGE_GT_3MTHS</th>\n",
              "      <th>tmxrc_ACC_LOGIN_SMART_ID_LCL_PAIR_AGE_GT_2WKS</th>\n",
              "      <th>tmxrc_AGENT_PUBLICKEY_HASH_LCL_AGE_GT_MTH</th>\n",
              "      <th>...</th>\n",
              "      <th>tmxrc_ACC_EMAIL_GBL_AGE_LT_DY</th>\n",
              "      <th>tmxrc_ACC_NUM_SMART_ID_LCL_PAIR_AGE_LT_DY</th>\n",
              "      <th>tmxrc_Jailbreak_or_Root</th>\n",
              "      <th>tmxrc_Proxy_Anonymous</th>\n",
              "      <th>sumrc_Level_1_Link_Reject</th>\n",
              "      <th>tmxrc_Rejected_ExactID_Month</th>\n",
              "      <th>tmxrc_PotentialVM_UA_Android_OS_Win</th>\n",
              "      <th>tmxrc_Phones_per_ExactID_Week_High</th>\n",
              "      <th>frd</th>\n",
              "      <th>eval</th>\n",
              "    </tr>\n",
              "  </thead>\n",
              "  <tbody>\n",
              "    <tr>\n",
              "      <th>0</th>\n",
              "      <td>915124</td>\n",
              "      <td>738032</td>\n",
              "      <td>858212</td>\n",
              "      <td>828697</td>\n",
              "      <td>409576</td>\n",
              "      <td>852116</td>\n",
              "      <td>925615</td>\n",
              "      <td>665783</td>\n",
              "      <td>872812</td>\n",
              "      <td>852589</td>\n",
              "      <td>...</td>\n",
              "      <td>931852</td>\n",
              "      <td>929281</td>\n",
              "      <td>929089</td>\n",
              "      <td>913852</td>\n",
              "      <td>906871</td>\n",
              "      <td>906677</td>\n",
              "      <td>931257</td>\n",
              "      <td>930973</td>\n",
              "      <td>801345</td>\n",
              "      <td>749142</td>\n",
              "    </tr>\n",
              "    <tr>\n",
              "      <th>1</th>\n",
              "      <td>19651</td>\n",
              "      <td>196743</td>\n",
              "      <td>76563</td>\n",
              "      <td>106078</td>\n",
              "      <td>525199</td>\n",
              "      <td>82659</td>\n",
              "      <td>9160</td>\n",
              "      <td>268992</td>\n",
              "      <td>61963</td>\n",
              "      <td>82186</td>\n",
              "      <td>...</td>\n",
              "      <td>2923</td>\n",
              "      <td>5494</td>\n",
              "      <td>5686</td>\n",
              "      <td>20923</td>\n",
              "      <td>27904</td>\n",
              "      <td>28098</td>\n",
              "      <td>3518</td>\n",
              "      <td>3802</td>\n",
              "      <td>133430</td>\n",
              "      <td>185633</td>\n",
              "    </tr>\n",
              "  </tbody>\n",
              "</table>\n",
              "<p>2 rows × 47 columns</p>\n",
              "</div>\n",
              "      <button class=\"colab-df-convert\" onclick=\"convertToInteractive('df-adb2d4dd-3d14-42a8-80bf-90663a68e89b')\"\n",
              "              title=\"Convert this dataframe to an interactive table.\"\n",
              "              style=\"display:none;\">\n",
              "        \n",
              "  <svg xmlns=\"http://www.w3.org/2000/svg\" height=\"24px\"viewBox=\"0 0 24 24\"\n",
              "       width=\"24px\">\n",
              "    <path d=\"M0 0h24v24H0V0z\" fill=\"none\"/>\n",
              "    <path d=\"M18.56 5.44l.94 2.06.94-2.06 2.06-.94-2.06-.94-.94-2.06-.94 2.06-2.06.94zm-11 1L8.5 8.5l.94-2.06 2.06-.94-2.06-.94L8.5 2.5l-.94 2.06-2.06.94zm10 10l.94 2.06.94-2.06 2.06-.94-2.06-.94-.94-2.06-.94 2.06-2.06.94z\"/><path d=\"M17.41 7.96l-1.37-1.37c-.4-.4-.92-.59-1.43-.59-.52 0-1.04.2-1.43.59L10.3 9.45l-7.72 7.72c-.78.78-.78 2.05 0 2.83L4 21.41c.39.39.9.59 1.41.59.51 0 1.02-.2 1.41-.59l7.78-7.78 2.81-2.81c.8-.78.8-2.07 0-2.86zM5.41 20L4 18.59l7.72-7.72 1.47 1.35L5.41 20z\"/>\n",
              "  </svg>\n",
              "      </button>\n",
              "      \n",
              "  <style>\n",
              "    .colab-df-container {\n",
              "      display:flex;\n",
              "      flex-wrap:wrap;\n",
              "      gap: 12px;\n",
              "    }\n",
              "\n",
              "    .colab-df-convert {\n",
              "      background-color: #E8F0FE;\n",
              "      border: none;\n",
              "      border-radius: 50%;\n",
              "      cursor: pointer;\n",
              "      display: none;\n",
              "      fill: #1967D2;\n",
              "      height: 32px;\n",
              "      padding: 0 0 0 0;\n",
              "      width: 32px;\n",
              "    }\n",
              "\n",
              "    .colab-df-convert:hover {\n",
              "      background-color: #E2EBFA;\n",
              "      box-shadow: 0px 1px 2px rgba(60, 64, 67, 0.3), 0px 1px 3px 1px rgba(60, 64, 67, 0.15);\n",
              "      fill: #174EA6;\n",
              "    }\n",
              "\n",
              "    [theme=dark] .colab-df-convert {\n",
              "      background-color: #3B4455;\n",
              "      fill: #D2E3FC;\n",
              "    }\n",
              "\n",
              "    [theme=dark] .colab-df-convert:hover {\n",
              "      background-color: #434B5C;\n",
              "      box-shadow: 0px 1px 3px 1px rgba(0, 0, 0, 0.15);\n",
              "      filter: drop-shadow(0px 1px 2px rgba(0, 0, 0, 0.3));\n",
              "      fill: #FFFFFF;\n",
              "    }\n",
              "  </style>\n",
              "\n",
              "      <script>\n",
              "        const buttonEl =\n",
              "          document.querySelector('#df-adb2d4dd-3d14-42a8-80bf-90663a68e89b button.colab-df-convert');\n",
              "        buttonEl.style.display =\n",
              "          google.colab.kernel.accessAllowed ? 'block' : 'none';\n",
              "\n",
              "        async function convertToInteractive(key) {\n",
              "          const element = document.querySelector('#df-adb2d4dd-3d14-42a8-80bf-90663a68e89b');\n",
              "          const dataTable =\n",
              "            await google.colab.kernel.invokeFunction('convertToInteractive',\n",
              "                                                     [key], {});\n",
              "          if (!dataTable) return;\n",
              "\n",
              "          const docLinkHtml = 'Like what you see? Visit the ' +\n",
              "            '<a target=\"_blank\" href=https://colab.research.google.com/notebooks/data_table.ipynb>data table notebook</a>'\n",
              "            + ' to learn more about interactive tables.';\n",
              "          element.innerHTML = '';\n",
              "          dataTable['output_type'] = 'display_data';\n",
              "          await google.colab.output.renderOutput(dataTable, element);\n",
              "          const docLink = document.createElement('div');\n",
              "          docLink.innerHTML = docLinkHtml;\n",
              "          element.appendChild(docLink);\n",
              "        }\n",
              "      </script>\n",
              "    </div>\n",
              "  </div>\n",
              "  "
            ]
          },
          "metadata": {},
          "execution_count": 12
        },
        {
          "output_type": "stream",
          "name": "stdout",
          "text": [
            "time: 238 ms (started: 2022-08-30 17:17:45 +00:00)\n"
          ]
        }
      ]
    },
    {
      "cell_type": "markdown",
      "source": [
        "#Set Vocabulary"
      ],
      "metadata": {
        "id": "g6yLRGtpFjjL"
      }
    },
    {
      "cell_type": "code",
      "source": [
        "vocab_file = \"vocab.txt\"\n",
        "## do not rerun this code chunk"
      ],
      "metadata": {
        "id": "OQA1qAPFFlzl",
        "colab": {
          "base_uri": "https://localhost:8080/"
        },
        "outputId": "8165a4bb-6f7a-4b9c-f5f3-09c5d5490e8c"
      },
      "execution_count": null,
      "outputs": [
        {
          "output_type": "stream",
          "name": "stdout",
          "text": [
            "time: 515 µs (started: 2022-08-30 17:19:55 +00:00)\n"
          ]
        }
      ]
    },
    {
      "cell_type": "code",
      "source": [
        "vocab =['[UNK]', '[SEP]', '[PAD]', '[CLS]', '[MASK]','[BOS]','[EOS]']\n",
        "for feature in features:\n",
        "  vocab.append(feature+\"_0\")\n",
        "  vocab.append(feature+\"_1\")\n",
        "## do not rerun this code chunk"
      ],
      "metadata": {
        "id": "3l9yxjknHqC6",
        "colab": {
          "base_uri": "https://localhost:8080/"
        },
        "outputId": "69caedf1-ecf8-4dd7-9e4f-1a368a3b4245"
      },
      "execution_count": null,
      "outputs": [
        {
          "output_type": "stream",
          "name": "stdout",
          "text": [
            "time: 908 µs (started: 2022-08-30 17:19:55 +00:00)\n"
          ]
        }
      ]
    },
    {
      "cell_type": "code",
      "source": [
        "vocab"
      ],
      "metadata": {
        "id": "mPvEse8-IfUz",
        "colab": {
          "base_uri": "https://localhost:8080/"
        },
        "outputId": "be00a074-deab-463c-96f4-3f324fff6c52"
      },
      "execution_count": null,
      "outputs": [
        {
          "output_type": "execute_result",
          "data": {
            "text/plain": [
              "['[UNK]',\n",
              " '[SEP]',\n",
              " '[PAD]',\n",
              " '[CLS]',\n",
              " '[MASK]',\n",
              " '[BOS]',\n",
              " '[EOS]',\n",
              " 'tmxrc_Aggregator_0',\n",
              " 'tmxrc_Aggregator_1',\n",
              " 'tmxrc_ACC_EMAIL_LCL_AGE_GT_3MTHS_0',\n",
              " 'tmxrc_ACC_EMAIL_LCL_AGE_GT_3MTHS_1',\n",
              " 'tmxrc_ACC_LOGIN_SMART_ID_LCL_PAIR_AGE_GT_2MTHS_0',\n",
              " 'tmxrc_ACC_LOGIN_SMART_ID_LCL_PAIR_AGE_GT_2MTHS_1',\n",
              " 'tmxrc_ACC_LOGIN_SMART_ID_LCL_PAIR_AGE_GT_MTH_0',\n",
              " 'tmxrc_ACC_LOGIN_SMART_ID_LCL_PAIR_AGE_GT_MTH_1',\n",
              " 'tmxrc_SMART_ID_LCL_AGE_GT_3MTHS_0',\n",
              " 'tmxrc_SMART_ID_LCL_AGE_GT_3MTHS_1',\n",
              " 'tmxrc_ACC_EMAIL_SMART_ID_LCL_PAIR_AGE_GT_3MTHS_0',\n",
              " 'tmxrc_ACC_EMAIL_SMART_ID_LCL_PAIR_AGE_GT_3MTHS_1',\n",
              " 'tmxrc_ACC_EMAIL_LCL_AGE_GT_MTH_0',\n",
              " 'tmxrc_ACC_EMAIL_LCL_AGE_GT_MTH_1',\n",
              " 'tmxrc_AGENT_PUBLICKEY_HASH_LCL_AGE_GT_3MTHS_0',\n",
              " 'tmxrc_AGENT_PUBLICKEY_HASH_LCL_AGE_GT_3MTHS_1',\n",
              " 'tmxrc_ACC_LOGIN_SMART_ID_LCL_PAIR_AGE_GT_2WKS_0',\n",
              " 'tmxrc_ACC_LOGIN_SMART_ID_LCL_PAIR_AGE_GT_2WKS_1',\n",
              " 'tmxrc_AGENT_PUBLICKEY_HASH_LCL_AGE_GT_MTH_0',\n",
              " 'tmxrc_AGENT_PUBLICKEY_HASH_LCL_AGE_GT_MTH_1',\n",
              " 'tmxrc_ACC_EMAIL_SMART_ID_LCL_PAIR_AGE_GT_2MTHS_0',\n",
              " 'tmxrc_ACC_EMAIL_SMART_ID_LCL_PAIR_AGE_GT_2MTHS_1',\n",
              " 'tmxrc_ACC_NAME_LCL_AGE_GT_3MTHS_0',\n",
              " 'tmxrc_ACC_NAME_LCL_AGE_GT_3MTHS_1',\n",
              " 'tmxrc_ACC_EMAIL_SMART_ID_GBL_PAIR_AGE_GT_2MTHS_0',\n",
              " 'tmxrc_ACC_EMAIL_SMART_ID_GBL_PAIR_AGE_GT_2MTHS_1',\n",
              " 'tmxrc_SMART_ID_LCL_AGE_GT_2WKS_0',\n",
              " 'tmxrc_SMART_ID_LCL_AGE_GT_2WKS_1',\n",
              " 'tmxrc_DIG_ID_GBL_AGE_GT_3MTHS_0',\n",
              " 'tmxrc_DIG_ID_GBL_AGE_GT_3MTHS_1',\n",
              " 'tmxrc_DIG_ID_LCL_AGE_GT_3MTHS_0',\n",
              " 'tmxrc_DIG_ID_LCL_AGE_GT_3MTHS_1',\n",
              " 'tmxrc_DIG_ID_LCL_AGE_LT_DY_0',\n",
              " 'tmxrc_DIG_ID_LCL_AGE_LT_DY_1',\n",
              " 'tmxrc_AGENT_PUBLICKEY_HASH_LCL_AGE_LT_DY_0',\n",
              " 'tmxrc_AGENT_PUBLICKEY_HASH_LCL_AGE_LT_DY_1',\n",
              " 'tmxrc_SMART_ID_GBL_AGE_LT_DY_0',\n",
              " 'tmxrc_SMART_ID_GBL_AGE_LT_DY_1',\n",
              " 'tmxrc_ACC_EMAIL_SMART_ID_LCL_PAIR_AGE_LT_DY_0',\n",
              " 'tmxrc_ACC_EMAIL_SMART_ID_LCL_PAIR_AGE_LT_DY_1',\n",
              " 'tmxrc_ACC_LOGIN_EXACT_ID_LCL_PAIR_AGE_LT_DY_0',\n",
              " 'tmxrc_ACC_LOGIN_EXACT_ID_LCL_PAIR_AGE_LT_DY_1',\n",
              " 'tmxrc_ExactID_Vel_per_Hour_High_0',\n",
              " 'tmxrc_ExactID_Vel_per_Hour_High_1',\n",
              " 'tmxrc_ACC_LOGIN_LCL_AGE_LT_HR_0',\n",
              " 'tmxrc_ACC_LOGIN_LCL_AGE_LT_HR_1',\n",
              " 'tmxrc_ACC_EMAIL_SMART_ID_LCL_PAIR_AGE_LT_HR_0',\n",
              " 'tmxrc_ACC_EMAIL_SMART_ID_LCL_PAIR_AGE_LT_HR_1',\n",
              " 'tmxrc_ExactID_Dist_per_Hour_High_0',\n",
              " 'tmxrc_ExactID_Dist_per_Hour_High_1',\n",
              " 'tmxrc_Login_Dist_per_Day_High_0',\n",
              " 'tmxrc_Login_Dist_per_Day_High_1',\n",
              " 'tmxrc_TZ_Geo_Mismatch_0',\n",
              " 'tmxrc_TZ_Geo_Mismatch_1',\n",
              " 'tmxrc_Geo_Lang_Mismatch_0',\n",
              " 'tmxrc_Geo_Lang_Mismatch_1',\n",
              " 'tmxrc_Rejected_TrueIP_Month_0',\n",
              " 'tmxrc_Rejected_TrueIP_Month_1',\n",
              " 'tmxrc_Possible_VPN_or_Tunnel_0',\n",
              " 'tmxrc_Possible_VPN_or_Tunnel_1',\n",
              " 'tmxrc_ACC_LOGIN_SMART_ID_LCL_PAIR_LAST_TXN_1MIN_0',\n",
              " 'tmxrc_ACC_LOGIN_SMART_ID_LCL_PAIR_LAST_TXN_1MIN_1',\n",
              " 'tmxrc_Email_Dist_per_Hour_High_0',\n",
              " 'tmxrc_Email_Dist_per_Hour_High_1',\n",
              " 'tmxrc_Rejected_InputIP_Year_0',\n",
              " 'tmxrc_Rejected_InputIP_Year_1',\n",
              " 'tmxrc_Rejected_InputIP_Month_0',\n",
              " 'tmxrc_Rejected_InputIP_Month_1',\n",
              " 'tmxrc_Rejected_Email_Month_0',\n",
              " 'tmxrc_Rejected_Email_Month_1',\n",
              " 'tmxrc_ACC_NUM_SMART_ID_LCL_PAIR_LAST_TXN_15MIN_0',\n",
              " 'tmxrc_ACC_NUM_SMART_ID_LCL_PAIR_LAST_TXN_15MIN_1',\n",
              " 'tmxrc_TMX_email_persona_anomaly_0',\n",
              " 'tmxrc_TMX_email_persona_anomaly_1',\n",
              " 'tmxrc_ACC_EMAIL_GBL_AGE_LT_DY_0',\n",
              " 'tmxrc_ACC_EMAIL_GBL_AGE_LT_DY_1',\n",
              " 'tmxrc_ACC_NUM_SMART_ID_LCL_PAIR_AGE_LT_DY_0',\n",
              " 'tmxrc_ACC_NUM_SMART_ID_LCL_PAIR_AGE_LT_DY_1',\n",
              " 'tmxrc_Jailbreak_or_Root_0',\n",
              " 'tmxrc_Jailbreak_or_Root_1',\n",
              " 'tmxrc_Proxy_Anonymous_0',\n",
              " 'tmxrc_Proxy_Anonymous_1',\n",
              " 'sumrc_Level_1_Link_Reject_0',\n",
              " 'sumrc_Level_1_Link_Reject_1',\n",
              " 'tmxrc_Rejected_ExactID_Month_0',\n",
              " 'tmxrc_Rejected_ExactID_Month_1',\n",
              " 'tmxrc_PotentialVM_UA_Android_OS_Win_0',\n",
              " 'tmxrc_PotentialVM_UA_Android_OS_Win_1',\n",
              " 'tmxrc_Phones_per_ExactID_Week_High_0',\n",
              " 'tmxrc_Phones_per_ExactID_Week_High_1']"
            ]
          },
          "metadata": {},
          "execution_count": 15
        },
        {
          "output_type": "stream",
          "name": "stdout",
          "text": [
            "time: 4.04 ms (started: 2022-08-30 17:19:55 +00:00)\n"
          ]
        }
      ]
    },
    {
      "cell_type": "code",
      "source": [
        "with open(vocab_file, 'w') as vocab_fp:\n",
        "  vocab_fp.write(\"\\n\".join(vocab))\n",
        "## now the vocabulary is saved as vocab.txt"
      ],
      "metadata": {
        "id": "66lYVUIFHpCm",
        "colab": {
          "base_uri": "https://localhost:8080/"
        },
        "outputId": "c7511a3a-c3da-4bb0-ae04-cae0385958ab"
      },
      "execution_count": null,
      "outputs": [
        {
          "output_type": "stream",
          "name": "stdout",
          "text": [
            "time: 1.48 ms (started: 2022-08-30 17:19:55 +00:00)\n"
          ]
        }
      ]
    },
    {
      "cell_type": "markdown",
      "source": [
        "# Set Tokenizer"
      ],
      "metadata": {
        "id": "HrInMmsRFqR7"
      }
    },
    {
      "cell_type": "code",
      "source": [
        "!pip install transformers"
      ],
      "metadata": {
        "colab": {
          "base_uri": "https://localhost:8080/"
        },
        "id": "-Dn1MYhjI8Zc",
        "outputId": "521798d9-7e3d-4ca8-b59f-1e19639b23b0"
      },
      "execution_count": null,
      "outputs": [
        {
          "output_type": "stream",
          "name": "stdout",
          "text": [
            "Looking in indexes: https://pypi.org/simple, https://us-python.pkg.dev/colab-wheels/public/simple/\n",
            "Collecting transformers\n",
            "  Downloading transformers-4.21.2-py3-none-any.whl (4.7 MB)\n",
            "\u001b[K     |████████████████████████████████| 4.7 MB 4.1 MB/s \n",
            "\u001b[?25hRequirement already satisfied: pyyaml>=5.1 in /usr/local/lib/python3.7/dist-packages (from transformers) (6.0)\n",
            "Collecting tokenizers!=0.11.3,<0.13,>=0.11.1\n",
            "  Downloading tokenizers-0.12.1-cp37-cp37m-manylinux_2_12_x86_64.manylinux2010_x86_64.whl (6.6 MB)\n",
            "\u001b[K     |████████████████████████████████| 6.6 MB 39.9 MB/s \n",
            "\u001b[?25hRequirement already satisfied: tqdm>=4.27 in /usr/local/lib/python3.7/dist-packages (from transformers) (4.64.0)\n",
            "Requirement already satisfied: filelock in /usr/local/lib/python3.7/dist-packages (from transformers) (3.8.0)\n",
            "Collecting huggingface-hub<1.0,>=0.1.0\n",
            "  Downloading huggingface_hub-0.9.1-py3-none-any.whl (120 kB)\n",
            "\u001b[K     |████████████████████████████████| 120 kB 101.1 MB/s \n",
            "\u001b[?25hRequirement already satisfied: numpy>=1.17 in /usr/local/lib/python3.7/dist-packages (from transformers) (1.21.6)\n",
            "Requirement already satisfied: packaging>=20.0 in /usr/local/lib/python3.7/dist-packages (from transformers) (21.3)\n",
            "Requirement already satisfied: requests in /usr/local/lib/python3.7/dist-packages (from transformers) (2.23.0)\n",
            "Requirement already satisfied: importlib-metadata in /usr/local/lib/python3.7/dist-packages (from transformers) (4.12.0)\n",
            "Requirement already satisfied: regex!=2019.12.17 in /usr/local/lib/python3.7/dist-packages (from transformers) (2022.6.2)\n",
            "Requirement already satisfied: typing-extensions>=3.7.4.3 in /usr/local/lib/python3.7/dist-packages (from huggingface-hub<1.0,>=0.1.0->transformers) (4.1.1)\n",
            "Requirement already satisfied: pyparsing!=3.0.5,>=2.0.2 in /usr/local/lib/python3.7/dist-packages (from packaging>=20.0->transformers) (3.0.9)\n",
            "Requirement already satisfied: zipp>=0.5 in /usr/local/lib/python3.7/dist-packages (from importlib-metadata->transformers) (3.8.1)\n",
            "Requirement already satisfied: idna<3,>=2.5 in /usr/local/lib/python3.7/dist-packages (from requests->transformers) (2.10)\n",
            "Requirement already satisfied: chardet<4,>=3.0.2 in /usr/local/lib/python3.7/dist-packages (from requests->transformers) (3.0.4)\n",
            "Requirement already satisfied: urllib3!=1.25.0,!=1.25.1,<1.26,>=1.21.1 in /usr/local/lib/python3.7/dist-packages (from requests->transformers) (1.24.3)\n",
            "Requirement already satisfied: certifi>=2017.4.17 in /usr/local/lib/python3.7/dist-packages (from requests->transformers) (2022.6.15)\n",
            "Installing collected packages: tokenizers, huggingface-hub, transformers\n",
            "Successfully installed huggingface-hub-0.9.1 tokenizers-0.12.1 transformers-4.21.2\n",
            "time: 8.7 s (started: 2022-08-30 17:20:05 +00:00)\n"
          ]
        }
      ]
    },
    {
      "cell_type": "code",
      "source": [
        "from transformers import BertTokenizer"
      ],
      "metadata": {
        "id": "8rX4C0VZI5U1",
        "colab": {
          "base_uri": "https://localhost:8080/"
        },
        "outputId": "1ae78100-0b4b-42a8-8eff-6012766055f6"
      },
      "execution_count": null,
      "outputs": [
        {
          "output_type": "stream",
          "name": "stdout",
          "text": [
            "time: 238 ms (started: 2022-08-30 17:20:14 +00:00)\n"
          ]
        }
      ]
    },
    {
      "cell_type": "code",
      "source": [
        "special_tokens_dict = {\"unk_token\": \"[UNK]\", \n",
        "                       \"sep_token\": \"[SEP]\", \n",
        "                       \"pad_token\": \"[PAD]\", \n",
        "                       \"cls_token\": \"[CLS]\", \n",
        "                       \"mask_token\": \"[MASK]\",\n",
        "                       \"eos_token\": \"[EOS]\",\n",
        "                       \"bos_token\": \"[BOS]\"}"
      ],
      "metadata": {
        "id": "hpP3cF3FFpw2",
        "colab": {
          "base_uri": "https://localhost:8080/"
        },
        "outputId": "531fdf13-3c86-4034-ea1c-3e87bcd4d730"
      },
      "execution_count": null,
      "outputs": [
        {
          "output_type": "stream",
          "name": "stdout",
          "text": [
            "time: 892 µs (started: 2022-08-30 17:20:14 +00:00)\n"
          ]
        }
      ]
    },
    {
      "cell_type": "code",
      "source": [
        "tokenizer = BertTokenizer(vocab_file,do_lower_case=False, do_basic_tokenize = False)"
      ],
      "metadata": {
        "id": "ecTQ9XgRJGLy",
        "colab": {
          "base_uri": "https://localhost:8080/"
        },
        "outputId": "de646ab2-a984-4e44-81c5-4b3a9cbcda06"
      },
      "execution_count": null,
      "outputs": [
        {
          "output_type": "stream",
          "name": "stdout",
          "text": [
            "time: 921 µs (started: 2022-08-30 17:20:14 +00:00)\n"
          ]
        }
      ]
    },
    {
      "cell_type": "code",
      "source": [
        "tokenizer.add_special_tokens(special_tokens_dict)"
      ],
      "metadata": {
        "id": "a4V9VyBtJLEx"
      },
      "execution_count": null,
      "outputs": []
    },
    {
      "cell_type": "code",
      "source": [
        "tokenized = tokenizer(\"tmxrc_Aggregator_0 tmxrc_Aggregator_1 tmxrc_Possible_VPN_or_Tunnel_0\")"
      ],
      "metadata": {
        "id": "SB1MIP5YJQ2S",
        "colab": {
          "base_uri": "https://localhost:8080/"
        },
        "outputId": "27981639-53c2-4962-c981-b7b5d4a7cc58"
      },
      "execution_count": null,
      "outputs": [
        {
          "output_type": "stream",
          "name": "stdout",
          "text": [
            "time: 883 µs (started: 2022-08-30 17:20:14 +00:00)\n"
          ]
        }
      ]
    },
    {
      "cell_type": "code",
      "source": [
        "tokenized"
      ],
      "metadata": {
        "colab": {
          "base_uri": "https://localhost:8080/"
        },
        "id": "gOkpa0tJKNMw",
        "outputId": "6561f32c-5f18-4533-a5a8-9f63986a105e"
      },
      "execution_count": null,
      "outputs": [
        {
          "output_type": "execute_result",
          "data": {
            "text/plain": [
              "{'input_ids': [3, 7, 8, 65, 1], 'token_type_ids': [0, 0, 0, 0, 0], 'attention_mask': [1, 1, 1, 1, 1]}"
            ]
          },
          "metadata": {},
          "execution_count": 23
        },
        {
          "output_type": "stream",
          "name": "stdout",
          "text": [
            "time: 3.05 ms (started: 2022-08-30 17:20:19 +00:00)\n"
          ]
        }
      ]
    },
    {
      "cell_type": "markdown",
      "source": [
        "# Transform Data"
      ],
      "metadata": {
        "id": "ADA4jPuyFnAh"
      }
    },
    {
      "cell_type": "code",
      "source": [
        "selected_data.shape"
      ],
      "metadata": {
        "colab": {
          "base_uri": "https://localhost:8080/"
        },
        "id": "PlOs_74-vH8_",
        "outputId": "a10cf0a7-4590-4617-ea49-1f2d9acf6400"
      },
      "execution_count": null,
      "outputs": [
        {
          "output_type": "execute_result",
          "data": {
            "text/plain": [
              "(934775, 47)"
            ]
          },
          "metadata": {},
          "execution_count": 24
        },
        {
          "output_type": "stream",
          "name": "stdout",
          "text": [
            "time: 4.06 ms (started: 2022-08-30 17:20:46 +00:00)\n"
          ]
        }
      ]
    },
    {
      "cell_type": "code",
      "source": [
        "train_data = selected_data[selected_data['eval'] == False].iloc[:,0:46]"
      ],
      "metadata": {
        "id": "T5-0LFPQzwjB",
        "colab": {
          "base_uri": "https://localhost:8080/"
        },
        "outputId": "8c2c9359-5dda-4e44-e43e-8d58c9449553"
      },
      "execution_count": null,
      "outputs": [
        {
          "output_type": "stream",
          "name": "stdout",
          "text": [
            "time: 160 ms (started: 2022-08-30 17:20:47 +00:00)\n"
          ]
        }
      ]
    },
    {
      "cell_type": "code",
      "source": [
        "test_data = selected_data[selected_data['eval'] == True].iloc[:,0:46]"
      ],
      "metadata": {
        "id": "OnemSM8yxMM3",
        "colab": {
          "base_uri": "https://localhost:8080/"
        },
        "outputId": "7cee6430-8a57-4b9b-c92f-c54d46a88e66"
      },
      "execution_count": null,
      "outputs": [
        {
          "output_type": "stream",
          "name": "stdout",
          "text": [
            "time: 46.7 ms (started: 2022-08-30 17:20:53 +00:00)\n"
          ]
        }
      ]
    },
    {
      "cell_type": "code",
      "source": [
        "train_data_features = train_data.iloc[:,0:45]"
      ],
      "metadata": {
        "id": "2TRd-4AnFsNO",
        "colab": {
          "base_uri": "https://localhost:8080/"
        },
        "outputId": "c7c9bdfa-c55f-43e3-8b0c-aca1cfe1b6e4"
      },
      "execution_count": null,
      "outputs": [
        {
          "output_type": "stream",
          "name": "stdout",
          "text": [
            "time: 778 µs (started: 2022-08-30 17:20:58 +00:00)\n"
          ]
        }
      ]
    },
    {
      "cell_type": "code",
      "source": [
        "train_data_labels = train_data.iloc[:,45]"
      ],
      "metadata": {
        "id": "RkMyXYGwuYtm",
        "colab": {
          "base_uri": "https://localhost:8080/"
        },
        "outputId": "d15c33de-b26b-4bdb-bce9-45cd9196f613"
      },
      "execution_count": null,
      "outputs": [
        {
          "output_type": "stream",
          "name": "stdout",
          "text": [
            "time: 876 µs (started: 2022-08-30 17:20:59 +00:00)\n"
          ]
        }
      ]
    },
    {
      "cell_type": "code",
      "source": [
        "!pip install datasets"
      ],
      "metadata": {
        "id": "CPDco0puBOzP",
        "colab": {
          "base_uri": "https://localhost:8080/",
          "height": 1000
        },
        "outputId": "f00dea5d-d792-4556-fe9a-b09365eb69a6"
      },
      "execution_count": null,
      "outputs": [
        {
          "output_type": "stream",
          "name": "stdout",
          "text": [
            "Looking in indexes: https://pypi.org/simple, https://us-python.pkg.dev/colab-wheels/public/simple/\n",
            "Collecting datasets\n",
            "  Downloading datasets-2.4.0-py3-none-any.whl (365 kB)\n",
            "\u001b[K     |████████████████████████████████| 365 kB 4.1 MB/s \n",
            "\u001b[?25hRequirement already satisfied: pandas in /usr/local/lib/python3.7/dist-packages (from datasets) (1.3.5)\n",
            "Requirement already satisfied: requests>=2.19.0 in /usr/local/lib/python3.7/dist-packages (from datasets) (2.23.0)\n",
            "Requirement already satisfied: pyarrow>=6.0.0 in /usr/local/lib/python3.7/dist-packages (from datasets) (6.0.1)\n",
            "Requirement already satisfied: tqdm>=4.62.1 in /usr/local/lib/python3.7/dist-packages (from datasets) (4.64.0)\n",
            "Collecting multiprocess\n",
            "  Downloading multiprocess-0.70.13-py37-none-any.whl (115 kB)\n",
            "\u001b[K     |████████████████████████████████| 115 kB 77.7 MB/s \n",
            "\u001b[?25hRequirement already satisfied: numpy>=1.17 in /usr/local/lib/python3.7/dist-packages (from datasets) (1.21.6)\n",
            "Requirement already satisfied: huggingface-hub<1.0.0,>=0.1.0 in /usr/local/lib/python3.7/dist-packages (from datasets) (0.9.1)\n",
            "Requirement already satisfied: packaging in /usr/local/lib/python3.7/dist-packages (from datasets) (21.3)\n",
            "Requirement already satisfied: aiohttp in /usr/local/lib/python3.7/dist-packages (from datasets) (3.8.1)\n",
            "Requirement already satisfied: importlib-metadata in /usr/local/lib/python3.7/dist-packages (from datasets) (4.12.0)\n",
            "Requirement already satisfied: fsspec[http]>=2021.11.1 in /usr/local/lib/python3.7/dist-packages (from datasets) (2022.7.1)\n",
            "Collecting xxhash\n",
            "  Downloading xxhash-3.0.0-cp37-cp37m-manylinux_2_17_x86_64.manylinux2014_x86_64.whl (212 kB)\n",
            "\u001b[K     |████████████████████████████████| 212 kB 75.9 MB/s \n",
            "\u001b[?25hRequirement already satisfied: dill<0.3.6 in /usr/local/lib/python3.7/dist-packages (from datasets) (0.3.5.1)\n",
            "Collecting responses<0.19\n",
            "  Downloading responses-0.18.0-py3-none-any.whl (38 kB)\n",
            "Requirement already satisfied: filelock in /usr/local/lib/python3.7/dist-packages (from huggingface-hub<1.0.0,>=0.1.0->datasets) (3.8.0)\n",
            "Requirement already satisfied: typing-extensions>=3.7.4.3 in /usr/local/lib/python3.7/dist-packages (from huggingface-hub<1.0.0,>=0.1.0->datasets) (4.1.1)\n",
            "Requirement already satisfied: pyyaml>=5.1 in /usr/local/lib/python3.7/dist-packages (from huggingface-hub<1.0.0,>=0.1.0->datasets) (6.0)\n",
            "Requirement already satisfied: pyparsing!=3.0.5,>=2.0.2 in /usr/local/lib/python3.7/dist-packages (from packaging->datasets) (3.0.9)\n",
            "Requirement already satisfied: certifi>=2017.4.17 in /usr/local/lib/python3.7/dist-packages (from requests>=2.19.0->datasets) (2022.6.15)\n",
            "Requirement already satisfied: chardet<4,>=3.0.2 in /usr/local/lib/python3.7/dist-packages (from requests>=2.19.0->datasets) (3.0.4)\n",
            "Requirement already satisfied: urllib3!=1.25.0,!=1.25.1,<1.26,>=1.21.1 in /usr/local/lib/python3.7/dist-packages (from requests>=2.19.0->datasets) (1.24.3)\n",
            "Requirement already satisfied: idna<3,>=2.5 in /usr/local/lib/python3.7/dist-packages (from requests>=2.19.0->datasets) (2.10)\n",
            "Collecting urllib3!=1.25.0,!=1.25.1,<1.26,>=1.21.1\n",
            "  Downloading urllib3-1.25.11-py2.py3-none-any.whl (127 kB)\n",
            "\u001b[K     |████████████████████████████████| 127 kB 88.5 MB/s \n",
            "\u001b[?25hRequirement already satisfied: asynctest==0.13.0 in /usr/local/lib/python3.7/dist-packages (from aiohttp->datasets) (0.13.0)\n",
            "Requirement already satisfied: aiosignal>=1.1.2 in /usr/local/lib/python3.7/dist-packages (from aiohttp->datasets) (1.2.0)\n",
            "Requirement already satisfied: async-timeout<5.0,>=4.0.0a3 in /usr/local/lib/python3.7/dist-packages (from aiohttp->datasets) (4.0.2)\n",
            "Requirement already satisfied: multidict<7.0,>=4.5 in /usr/local/lib/python3.7/dist-packages (from aiohttp->datasets) (6.0.2)\n",
            "Requirement already satisfied: yarl<2.0,>=1.0 in /usr/local/lib/python3.7/dist-packages (from aiohttp->datasets) (1.8.1)\n",
            "Requirement already satisfied: frozenlist>=1.1.1 in /usr/local/lib/python3.7/dist-packages (from aiohttp->datasets) (1.3.1)\n",
            "Requirement already satisfied: charset-normalizer<3.0,>=2.0 in /usr/local/lib/python3.7/dist-packages (from aiohttp->datasets) (2.1.1)\n",
            "Requirement already satisfied: attrs>=17.3.0 in /usr/local/lib/python3.7/dist-packages (from aiohttp->datasets) (22.1.0)\n",
            "Requirement already satisfied: zipp>=0.5 in /usr/local/lib/python3.7/dist-packages (from importlib-metadata->datasets) (3.8.1)\n",
            "Requirement already satisfied: pytz>=2017.3 in /usr/local/lib/python3.7/dist-packages (from pandas->datasets) (2022.2.1)\n",
            "Requirement already satisfied: python-dateutil>=2.7.3 in /usr/local/lib/python3.7/dist-packages (from pandas->datasets) (2.8.2)\n",
            "Requirement already satisfied: six>=1.5 in /usr/local/lib/python3.7/dist-packages (from python-dateutil>=2.7.3->pandas->datasets) (1.15.0)\n",
            "Installing collected packages: urllib3, xxhash, responses, multiprocess, datasets\n",
            "  Attempting uninstall: urllib3\n",
            "    Found existing installation: urllib3 1.24.3\n",
            "    Uninstalling urllib3-1.24.3:\n",
            "      Successfully uninstalled urllib3-1.24.3\n",
            "Successfully installed datasets-2.4.0 multiprocess-0.70.13 responses-0.18.0 urllib3-1.25.11 xxhash-3.0.0\n"
          ]
        },
        {
          "output_type": "display_data",
          "data": {
            "application/vnd.colab-display-data+json": {
              "pip_warning": {
                "packages": [
                  "urllib3"
                ]
              }
            }
          },
          "metadata": {}
        },
        {
          "output_type": "stream",
          "name": "stdout",
          "text": [
            "time: 5.97 s (started: 2022-08-30 17:21:01 +00:00)\n"
          ]
        }
      ]
    },
    {
      "cell_type": "code",
      "source": [
        "from datasets import Dataset"
      ],
      "metadata": {
        "id": "FtSc1-p0BRXU",
        "colab": {
          "base_uri": "https://localhost:8080/"
        },
        "outputId": "68988a1f-1326-48ab-b1a7-9070ce78a9de"
      },
      "execution_count": null,
      "outputs": [
        {
          "output_type": "stream",
          "name": "stdout",
          "text": [
            "time: 322 ms (started: 2022-08-30 17:21:07 +00:00)\n"
          ]
        }
      ]
    },
    {
      "cell_type": "markdown",
      "source": [
        "# Preprocessing Fast"
      ],
      "metadata": {
        "id": "yPszZMph2xgW"
      }
    },
    {
      "cell_type": "code",
      "source": [
        "vocab_dict = tokenizer.get_vocab()"
      ],
      "metadata": {
        "id": "Gq9_4vEY4Vwz",
        "colab": {
          "base_uri": "https://localhost:8080/"
        },
        "outputId": "b9b06fb0-03e2-4c8e-a1f5-7a91704a0b5e"
      },
      "execution_count": null,
      "outputs": [
        {
          "output_type": "stream",
          "name": "stdout",
          "text": [
            "time: 859 µs (started: 2022-08-30 17:21:16 +00:00)\n"
          ]
        }
      ]
    },
    {
      "cell_type": "code",
      "source": [
        "vocab_dict"
      ],
      "metadata": {
        "colab": {
          "base_uri": "https://localhost:8080/"
        },
        "id": "-jXdNoeEMxPp",
        "outputId": "e0ba6818-8625-4630-fae3-8abd49784e48"
      },
      "execution_count": null,
      "outputs": [
        {
          "output_type": "execute_result",
          "data": {
            "text/plain": [
              "{'[UNK]': 0,\n",
              " '[SEP]': 1,\n",
              " '[PAD]': 2,\n",
              " '[CLS]': 3,\n",
              " '[MASK]': 4,\n",
              " '[BOS]': 5,\n",
              " '[EOS]': 6,\n",
              " 'tmxrc_Aggregator_0': 7,\n",
              " 'tmxrc_Aggregator_1': 8,\n",
              " 'tmxrc_ACC_EMAIL_LCL_AGE_GT_3MTHS_0': 9,\n",
              " 'tmxrc_ACC_EMAIL_LCL_AGE_GT_3MTHS_1': 10,\n",
              " 'tmxrc_ACC_LOGIN_SMART_ID_LCL_PAIR_AGE_GT_2MTHS_0': 11,\n",
              " 'tmxrc_ACC_LOGIN_SMART_ID_LCL_PAIR_AGE_GT_2MTHS_1': 12,\n",
              " 'tmxrc_ACC_LOGIN_SMART_ID_LCL_PAIR_AGE_GT_MTH_0': 13,\n",
              " 'tmxrc_ACC_LOGIN_SMART_ID_LCL_PAIR_AGE_GT_MTH_1': 14,\n",
              " 'tmxrc_SMART_ID_LCL_AGE_GT_3MTHS_0': 15,\n",
              " 'tmxrc_SMART_ID_LCL_AGE_GT_3MTHS_1': 16,\n",
              " 'tmxrc_ACC_EMAIL_SMART_ID_LCL_PAIR_AGE_GT_3MTHS_0': 17,\n",
              " 'tmxrc_ACC_EMAIL_SMART_ID_LCL_PAIR_AGE_GT_3MTHS_1': 18,\n",
              " 'tmxrc_ACC_EMAIL_LCL_AGE_GT_MTH_0': 19,\n",
              " 'tmxrc_ACC_EMAIL_LCL_AGE_GT_MTH_1': 20,\n",
              " 'tmxrc_AGENT_PUBLICKEY_HASH_LCL_AGE_GT_3MTHS_0': 21,\n",
              " 'tmxrc_AGENT_PUBLICKEY_HASH_LCL_AGE_GT_3MTHS_1': 22,\n",
              " 'tmxrc_ACC_LOGIN_SMART_ID_LCL_PAIR_AGE_GT_2WKS_0': 23,\n",
              " 'tmxrc_ACC_LOGIN_SMART_ID_LCL_PAIR_AGE_GT_2WKS_1': 24,\n",
              " 'tmxrc_AGENT_PUBLICKEY_HASH_LCL_AGE_GT_MTH_0': 25,\n",
              " 'tmxrc_AGENT_PUBLICKEY_HASH_LCL_AGE_GT_MTH_1': 26,\n",
              " 'tmxrc_ACC_EMAIL_SMART_ID_LCL_PAIR_AGE_GT_2MTHS_0': 27,\n",
              " 'tmxrc_ACC_EMAIL_SMART_ID_LCL_PAIR_AGE_GT_2MTHS_1': 28,\n",
              " 'tmxrc_ACC_NAME_LCL_AGE_GT_3MTHS_0': 29,\n",
              " 'tmxrc_ACC_NAME_LCL_AGE_GT_3MTHS_1': 30,\n",
              " 'tmxrc_ACC_EMAIL_SMART_ID_GBL_PAIR_AGE_GT_2MTHS_0': 31,\n",
              " 'tmxrc_ACC_EMAIL_SMART_ID_GBL_PAIR_AGE_GT_2MTHS_1': 32,\n",
              " 'tmxrc_SMART_ID_LCL_AGE_GT_2WKS_0': 33,\n",
              " 'tmxrc_SMART_ID_LCL_AGE_GT_2WKS_1': 34,\n",
              " 'tmxrc_DIG_ID_GBL_AGE_GT_3MTHS_0': 35,\n",
              " 'tmxrc_DIG_ID_GBL_AGE_GT_3MTHS_1': 36,\n",
              " 'tmxrc_DIG_ID_LCL_AGE_GT_3MTHS_0': 37,\n",
              " 'tmxrc_DIG_ID_LCL_AGE_GT_3MTHS_1': 38,\n",
              " 'tmxrc_DIG_ID_LCL_AGE_LT_DY_0': 39,\n",
              " 'tmxrc_DIG_ID_LCL_AGE_LT_DY_1': 40,\n",
              " 'tmxrc_AGENT_PUBLICKEY_HASH_LCL_AGE_LT_DY_0': 41,\n",
              " 'tmxrc_AGENT_PUBLICKEY_HASH_LCL_AGE_LT_DY_1': 42,\n",
              " 'tmxrc_SMART_ID_GBL_AGE_LT_DY_0': 43,\n",
              " 'tmxrc_SMART_ID_GBL_AGE_LT_DY_1': 44,\n",
              " 'tmxrc_ACC_EMAIL_SMART_ID_LCL_PAIR_AGE_LT_DY_0': 45,\n",
              " 'tmxrc_ACC_EMAIL_SMART_ID_LCL_PAIR_AGE_LT_DY_1': 46,\n",
              " 'tmxrc_ACC_LOGIN_EXACT_ID_LCL_PAIR_AGE_LT_DY_0': 47,\n",
              " 'tmxrc_ACC_LOGIN_EXACT_ID_LCL_PAIR_AGE_LT_DY_1': 48,\n",
              " 'tmxrc_ExactID_Vel_per_Hour_High_0': 49,\n",
              " 'tmxrc_ExactID_Vel_per_Hour_High_1': 50,\n",
              " 'tmxrc_ACC_LOGIN_LCL_AGE_LT_HR_0': 51,\n",
              " 'tmxrc_ACC_LOGIN_LCL_AGE_LT_HR_1': 52,\n",
              " 'tmxrc_ACC_EMAIL_SMART_ID_LCL_PAIR_AGE_LT_HR_0': 53,\n",
              " 'tmxrc_ACC_EMAIL_SMART_ID_LCL_PAIR_AGE_LT_HR_1': 54,\n",
              " 'tmxrc_ExactID_Dist_per_Hour_High_0': 55,\n",
              " 'tmxrc_ExactID_Dist_per_Hour_High_1': 56,\n",
              " 'tmxrc_Login_Dist_per_Day_High_0': 57,\n",
              " 'tmxrc_Login_Dist_per_Day_High_1': 58,\n",
              " 'tmxrc_TZ_Geo_Mismatch_0': 59,\n",
              " 'tmxrc_TZ_Geo_Mismatch_1': 60,\n",
              " 'tmxrc_Geo_Lang_Mismatch_0': 61,\n",
              " 'tmxrc_Geo_Lang_Mismatch_1': 62,\n",
              " 'tmxrc_Rejected_TrueIP_Month_0': 63,\n",
              " 'tmxrc_Rejected_TrueIP_Month_1': 64,\n",
              " 'tmxrc_Possible_VPN_or_Tunnel_0': 65,\n",
              " 'tmxrc_Possible_VPN_or_Tunnel_1': 66,\n",
              " 'tmxrc_ACC_LOGIN_SMART_ID_LCL_PAIR_LAST_TXN_1MIN_0': 67,\n",
              " 'tmxrc_ACC_LOGIN_SMART_ID_LCL_PAIR_LAST_TXN_1MIN_1': 68,\n",
              " 'tmxrc_Email_Dist_per_Hour_High_0': 69,\n",
              " 'tmxrc_Email_Dist_per_Hour_High_1': 70,\n",
              " 'tmxrc_Rejected_InputIP_Year_0': 71,\n",
              " 'tmxrc_Rejected_InputIP_Year_1': 72,\n",
              " 'tmxrc_Rejected_InputIP_Month_0': 73,\n",
              " 'tmxrc_Rejected_InputIP_Month_1': 74,\n",
              " 'tmxrc_Rejected_Email_Month_0': 75,\n",
              " 'tmxrc_Rejected_Email_Month_1': 76,\n",
              " 'tmxrc_ACC_NUM_SMART_ID_LCL_PAIR_LAST_TXN_15MIN_0': 77,\n",
              " 'tmxrc_ACC_NUM_SMART_ID_LCL_PAIR_LAST_TXN_15MIN_1': 78,\n",
              " 'tmxrc_TMX_email_persona_anomaly_0': 79,\n",
              " 'tmxrc_TMX_email_persona_anomaly_1': 80,\n",
              " 'tmxrc_ACC_EMAIL_GBL_AGE_LT_DY_0': 81,\n",
              " 'tmxrc_ACC_EMAIL_GBL_AGE_LT_DY_1': 82,\n",
              " 'tmxrc_ACC_NUM_SMART_ID_LCL_PAIR_AGE_LT_DY_0': 83,\n",
              " 'tmxrc_ACC_NUM_SMART_ID_LCL_PAIR_AGE_LT_DY_1': 84,\n",
              " 'tmxrc_Jailbreak_or_Root_0': 85,\n",
              " 'tmxrc_Jailbreak_or_Root_1': 86,\n",
              " 'tmxrc_Proxy_Anonymous_0': 87,\n",
              " 'tmxrc_Proxy_Anonymous_1': 88,\n",
              " 'sumrc_Level_1_Link_Reject_0': 89,\n",
              " 'sumrc_Level_1_Link_Reject_1': 90,\n",
              " 'tmxrc_Rejected_ExactID_Month_0': 91,\n",
              " 'tmxrc_Rejected_ExactID_Month_1': 92,\n",
              " 'tmxrc_PotentialVM_UA_Android_OS_Win_0': 93,\n",
              " 'tmxrc_PotentialVM_UA_Android_OS_Win_1': 94,\n",
              " 'tmxrc_Phones_per_ExactID_Week_High_0': 95,\n",
              " 'tmxrc_Phones_per_ExactID_Week_High_1': 96}"
            ]
          },
          "metadata": {},
          "execution_count": 32
        },
        {
          "output_type": "stream",
          "name": "stdout",
          "text": [
            "time: 4.75 ms (started: 2022-08-30 17:21:18 +00:00)\n"
          ]
        }
      ]
    },
    {
      "cell_type": "code",
      "source": [
        "# #need better implementation here\n",
        "# for column in fast_df_features:\n",
        "#   for idx, val in enumerate(fast_df_features[column]):\n",
        "#     fast_df_features[column].iloc[idx] = vocab_dict.get(column + \"_\" + str(val),vocab_dict['[UNK]'])"
      ],
      "metadata": {
        "colab": {
          "base_uri": "https://localhost:8080/"
        },
        "id": "h1mPRS_2ZHry",
        "outputId": "ebd3d6cd-78f8-45d4-8998-323675bb7e74"
      },
      "execution_count": null,
      "outputs": [
        {
          "output_type": "stream",
          "name": "stdout",
          "text": [
            "time: 48.3 ms (started: 2022-08-25 19:14:31 +00:00)\n"
          ]
        }
      ]
    },
    {
      "cell_type": "code",
      "source": [
        "# # is this better?\n",
        "# for column in fast_df_features:\n",
        "#   fast_df_features[column] = fast_df_features[column].map(lambda x:column + \"_\" + str(x))\n",
        "#   fast_df_features[column] = fast_df_features[column].map(lambda x: vocab_dict.get(x, vocab_dict['[UNK]']))"
      ],
      "metadata": {
        "colab": {
          "base_uri": "https://localhost:8080/"
        },
        "id": "97yF-Jb9j2bM",
        "outputId": "4755fb07-7b86-448b-bd00-fb6ef3c6722c"
      },
      "execution_count": null,
      "outputs": [
        {
          "output_type": "stream",
          "name": "stdout",
          "text": [
            "time: 27.8 ms (started: 2022-08-25 19:58:12 +00:00)\n"
          ]
        }
      ]
    },
    {
      "cell_type": "code",
      "source": [
        "# # how about this?\n",
        "# for column in fast_df_features:\n",
        "#   fast_df_features.loc[:,column] = fast_df_features.loc[:,column].map(lambda x:column + \"_\" + str(x))\n",
        "#   fast_df_features.loc[:,column] = fast_df_features.loc[:,column].map(lambda x: vocab_dict.get(x, vocab_dict['[UNK]']))"
      ],
      "metadata": {
        "colab": {
          "base_uri": "https://localhost:8080/"
        },
        "id": "jhbtywdJ5BmV",
        "outputId": "ea4af9b1-026b-47b7-bc93-1a74bc93c4a3"
      },
      "execution_count": null,
      "outputs": [
        {
          "output_type": "stream",
          "name": "stdout",
          "text": [
            "time: 52.4 ms (started: 2022-08-25 21:27:22 +00:00)\n"
          ]
        }
      ]
    },
    {
      "cell_type": "code",
      "source": [
        "# # use this one for final implementation\n",
        "# for column in train_data_features:\n",
        "#   train_data_features[column] = train_data_features[column].map(lambda x:column + \"_\" + str(x))\n",
        "#   train_data_features[column] = train_data_features[column].map(lambda x: vocab_dict.get(x, vocab_dict['[UNK]']))"
      ],
      "metadata": {
        "id": "Ua_GvLKJl0DR"
      },
      "execution_count": null,
      "outputs": []
    },
    {
      "cell_type": "code",
      "source": [
        "# # using loc instead\n",
        "# for column in train_data_features:\n",
        "#   train_data_features.loc[:,column] = train_data_features.loc[:,column].map(lambda x:column + \"_\" + str(x))\n",
        "#   train_data_features.loc[:,column] = train_data_features.loc[:,column].map(lambda x: vocab_dict.get(x, vocab_dict['[UNK]']))"
      ],
      "metadata": {
        "colab": {
          "base_uri": "https://localhost:8080/"
        },
        "id": "2IMA2TWx55po",
        "outputId": "dd4b20bb-213b-424a-e37a-ca8508ad3a0d"
      },
      "execution_count": null,
      "outputs": [
        {
          "output_type": "stream",
          "name": "stderr",
          "text": [
            "/usr/local/lib/python3.7/dist-packages/pandas/core/indexing.py:1773: SettingWithCopyWarning: \n",
            "A value is trying to be set on a copy of a slice from a DataFrame.\n",
            "Try using .loc[row_indexer,col_indexer] = value instead\n",
            "\n",
            "See the caveats in the documentation: https://pandas.pydata.org/pandas-docs/stable/user_guide/indexing.html#returning-a-view-versus-a-copy\n",
            "  self._setitem_single_column(ilocs[0], value, pi)\n"
          ]
        },
        {
          "output_type": "stream",
          "name": "stdout",
          "text": [
            "time: 28.9 s (started: 2022-08-25 21:29:10 +00:00)\n"
          ]
        }
      ]
    },
    {
      "cell_type": "code",
      "source": [
        "test_data_features = test_data.iloc[:,0:45]\n",
        "test_data_labels = test_data.iloc[:,45]"
      ],
      "metadata": {
        "id": "o6hle2vLA9gc",
        "colab": {
          "base_uri": "https://localhost:8080/"
        },
        "outputId": "41770ecb-de29-41da-c1ef-4d8d35b9dc7d"
      },
      "execution_count": null,
      "outputs": [
        {
          "output_type": "stream",
          "name": "stdout",
          "text": [
            "time: 1.12 ms (started: 2022-08-30 17:22:15 +00:00)\n"
          ]
        }
      ]
    },
    {
      "cell_type": "code",
      "source": [
        "# use this one for final implementation\n",
        "for column in test_data_features:\n",
        "  test_data_features[column] = test_data_features[column].map(lambda x:column + \"_\" + str(x))\n",
        "  test_data_features[column] = test_data_features[column].map(lambda x: vocab_dict.get(x, vocab_dict['[UNK]']))"
      ],
      "metadata": {
        "colab": {
          "base_uri": "https://localhost:8080/"
        },
        "id": "sprGS4w8rK7x",
        "outputId": "3ee58a23-9bc2-4db1-d483-b9d52d3f25f1"
      },
      "execution_count": null,
      "outputs": [
        {
          "output_type": "stream",
          "name": "stderr",
          "text": [
            "/usr/local/lib/python3.7/dist-packages/ipykernel_launcher.py:3: SettingWithCopyWarning: \n",
            "A value is trying to be set on a copy of a slice from a DataFrame.\n",
            "Try using .loc[row_indexer,col_indexer] = value instead\n",
            "\n",
            "See the caveats in the documentation: https://pandas.pydata.org/pandas-docs/stable/user_guide/indexing.html#returning-a-view-versus-a-copy\n",
            "  This is separate from the ipykernel package so we can avoid doing imports until\n",
            "/usr/local/lib/python3.7/dist-packages/ipykernel_launcher.py:4: SettingWithCopyWarning: \n",
            "A value is trying to be set on a copy of a slice from a DataFrame.\n",
            "Try using .loc[row_indexer,col_indexer] = value instead\n",
            "\n",
            "See the caveats in the documentation: https://pandas.pydata.org/pandas-docs/stable/user_guide/indexing.html#returning-a-view-versus-a-copy\n",
            "  after removing the cwd from sys.path.\n"
          ]
        },
        {
          "output_type": "stream",
          "name": "stdout",
          "text": [
            "time: 7.14 s (started: 2022-08-30 21:11:31 +00:00)\n"
          ]
        }
      ]
    },
    {
      "cell_type": "code",
      "source": [
        "input_initial = test_data_features.to_numpy().tolist()"
      ],
      "metadata": {
        "colab": {
          "base_uri": "https://localhost:8080/"
        },
        "id": "Cj0u2Wshl7eP",
        "outputId": "d457b2e5-73d8-420e-9a05-6748bd9d9a65"
      },
      "execution_count": null,
      "outputs": [
        {
          "output_type": "stream",
          "name": "stdout",
          "text": [
            "time: 753 ms (started: 2022-08-30 21:11:44 +00:00)\n"
          ]
        }
      ]
    },
    {
      "cell_type": "code",
      "source": [
        "input = [[3]+x+[1] for x in input_initial]"
      ],
      "metadata": {
        "colab": {
          "base_uri": "https://localhost:8080/"
        },
        "id": "A-SBch0YmJzU",
        "outputId": "4fd47efe-0a35-45c3-de10-49254d83a7e3"
      },
      "execution_count": null,
      "outputs": [
        {
          "output_type": "stream",
          "name": "stdout",
          "text": [
            "time: 174 ms (started: 2022-08-30 21:12:52 +00:00)\n"
          ]
        }
      ]
    },
    {
      "cell_type": "code",
      "source": [
        "my_dict = {'input_ids': input, \n",
        "           'labels': test_data_labels.to_list(), \n",
        "           'token_type_ids': [[0]*(len(test_data_features.columns)+2)]*len(test_data_features),\n",
        "           'attention_mask': [[1]*(len(test_data_features.columns)+2)]*len(test_data_features)}"
      ],
      "metadata": {
        "colab": {
          "base_uri": "https://localhost:8080/"
        },
        "id": "yGiEgyA_XG1d",
        "outputId": "2439908a-622d-4d29-bf5d-6eb2117662d5"
      },
      "execution_count": null,
      "outputs": [
        {
          "output_type": "stream",
          "name": "stdout",
          "text": [
            "time: 3.25 ms (started: 2022-08-30 21:13:51 +00:00)\n"
          ]
        }
      ]
    },
    {
      "cell_type": "code",
      "source": [
        "test_df = Dataset.from_dict(my_dict)"
      ],
      "metadata": {
        "colab": {
          "base_uri": "https://localhost:8080/"
        },
        "id": "FcozPtcAcnmp",
        "outputId": "d5993537-7de1-4110-b27b-2aaa8ffbdfcc"
      },
      "execution_count": null,
      "outputs": [
        {
          "output_type": "stream",
          "name": "stdout",
          "text": [
            "time: 2.38 s (started: 2022-08-30 21:13:56 +00:00)\n"
          ]
        }
      ]
    },
    {
      "cell_type": "code",
      "source": [
        "import torch\n",
        "device = torch.device(\"cuda\" if torch.cuda.is_available() else \"cpu\")"
      ],
      "metadata": {
        "colab": {
          "base_uri": "https://localhost:8080/"
        },
        "id": "qWNgoO2b0aEo",
        "outputId": "6d925910-7508-4a0a-9864-239d9b495768"
      },
      "execution_count": null,
      "outputs": [
        {
          "output_type": "stream",
          "name": "stdout",
          "text": [
            "time: 758 µs (started: 2022-08-30 21:14:01 +00:00)\n"
          ]
        }
      ]
    },
    {
      "cell_type": "code",
      "source": [
        "test_df = test_df.with_format(\"torch\", device=device)"
      ],
      "metadata": {
        "colab": {
          "base_uri": "https://localhost:8080/"
        },
        "id": "dhzQ4Qu40b16",
        "outputId": "1c9f9f28-7b79-4fe9-8c50-8d94908dbf53"
      },
      "execution_count": null,
      "outputs": [
        {
          "output_type": "stream",
          "name": "stdout",
          "text": [
            "time: 2.25 ms (started: 2022-08-30 21:14:04 +00:00)\n"
          ]
        }
      ]
    },
    {
      "cell_type": "code",
      "source": [
        "test_df[0]"
      ],
      "metadata": {
        "colab": {
          "base_uri": "https://localhost:8080/"
        },
        "id": "-CkzxYqR0mCy",
        "outputId": "e24e0941-a3a0-46b2-c8ab-c8037d218392"
      },
      "execution_count": null,
      "outputs": [
        {
          "output_type": "execute_result",
          "data": {
            "text/plain": [
              "{'input_ids': tensor([ 3,  7,  9, 11, 13, 15, 17, 19, 21, 23, 25, 27, 29, 31, 33, 35, 37, 39,\n",
              "         41, 43, 45, 47, 49, 51, 53, 55, 57, 59, 61, 63, 65, 68, 69, 71, 73, 75,\n",
              "         77, 79, 81, 83, 85, 87, 89, 91, 93, 95,  1], device='cuda:0'),\n",
              " 'labels': tensor(1, device='cuda:0'),\n",
              " 'token_type_ids': tensor([0, 0, 0, 0, 0, 0, 0, 0, 0, 0, 0, 0, 0, 0, 0, 0, 0, 0, 0, 0, 0, 0, 0, 0,\n",
              "         0, 0, 0, 0, 0, 0, 0, 0, 0, 0, 0, 0, 0, 0, 0, 0, 0, 0, 0, 0, 0, 0, 0],\n",
              "        device='cuda:0'),\n",
              " 'attention_mask': tensor([1, 1, 1, 1, 1, 1, 1, 1, 1, 1, 1, 1, 1, 1, 1, 1, 1, 1, 1, 1, 1, 1, 1, 1,\n",
              "         1, 1, 1, 1, 1, 1, 1, 1, 1, 1, 1, 1, 1, 1, 1, 1, 1, 1, 1, 1, 1, 1, 1],\n",
              "        device='cuda:0')}"
            ]
          },
          "metadata": {},
          "execution_count": 120
        },
        {
          "output_type": "stream",
          "name": "stdout",
          "text": [
            "time: 7.2 ms (started: 2022-08-30 21:14:06 +00:00)\n"
          ]
        }
      ]
    },
    {
      "cell_type": "code",
      "source": [
        "# test_data_features = test_data.iloc[:,0:45]\n",
        "# test_data_labels = test_data.iloc[:,45]\n",
        "# x = test_data_features.to_string(header=False,\n",
        "#                   index=False,\n",
        "#                   index_names=False).split('\\n')\n",
        "# vals = [' '.join(ele.split()) for ele in x]\n",
        "\n",
        "# for index in range(0,len(vals)):\n",
        "#   val = vals[index]\n",
        "#   val = list(val)\n",
        "#   for i in range(0,len(val),2):\n",
        "#     val[i] = features[i//2] + \"_\" + val[i]\n",
        "#   val = \"\".join(val)\n",
        "#   vals[index] = val\n",
        "\n",
        "# def tokenize_function(examples):\n",
        "#     return tokenizer(examples[\"text\"])\n",
        "    \n",
        "# my_dict = {'text': vals, 'labels': test_data_labels.to_list()}\n",
        "# test_df_text = Dataset.from_dict(my_dict)\n",
        "# tokenized_test_df = test_df_text.map(tokenize_function, batched=True)"
      ],
      "metadata": {
        "id": "VPasiWF5IeLj"
      },
      "execution_count": null,
      "outputs": []
    },
    {
      "cell_type": "code",
      "source": [
        "# tokenized_test_df= tokenized_test_df.remove_columns([\"text\"]) "
      ],
      "metadata": {
        "id": "qtRgstMoJ4jS"
      },
      "execution_count": null,
      "outputs": []
    },
    {
      "cell_type": "code",
      "source": [
        "#tokenized_test_df.set_format(\"torch\")"
      ],
      "metadata": {
        "id": "FCRh9vwhKD3Q"
      },
      "execution_count": null,
      "outputs": []
    },
    {
      "cell_type": "code",
      "source": [
        "#tokenized_test_df[0]"
      ],
      "metadata": {
        "id": "bbmYD5PdKHu4"
      },
      "execution_count": null,
      "outputs": []
    },
    {
      "cell_type": "markdown",
      "source": [
        "# Predict"
      ],
      "metadata": {
        "id": "u38uOJSMB0uh"
      }
    },
    {
      "cell_type": "code",
      "source": [
        "from transformers import BertForSequenceClassification"
      ],
      "metadata": {
        "colab": {
          "base_uri": "https://localhost:8080/"
        },
        "id": "OWcIAjH3xxsa",
        "outputId": "1c12e3f0-654a-4685-b67c-d879c92ccee9"
      },
      "execution_count": null,
      "outputs": [
        {
          "output_type": "stream",
          "name": "stdout",
          "text": [
            "time: 2.09 s (started: 2022-08-30 17:23:13 +00:00)\n"
          ]
        }
      ]
    },
    {
      "cell_type": "code",
      "source": [
        "finetunemodel = BertForSequenceClassification.from_pretrained('/content/drive/MyDrive/checkpoint-98325-finetuned', num_labels=2).to(\"cuda\")"
      ],
      "metadata": {
        "id": "xyy-MsLOYM2J",
        "colab": {
          "base_uri": "https://localhost:8080/"
        },
        "outputId": "e938853e-c31c-4283-c2d5-5d4554067148"
      },
      "execution_count": null,
      "outputs": [
        {
          "output_type": "stream",
          "name": "stdout",
          "text": [
            "time: 121 ms (started: 2022-08-30 18:01:28 +00:00)\n"
          ]
        }
      ]
    },
    {
      "cell_type": "code",
      "source": [
        "finetunemodel.eval()"
      ],
      "metadata": {
        "id": "FBPeehs5Yio_"
      },
      "execution_count": null,
      "outputs": []
    },
    {
      "cell_type": "code",
      "source": [
        "y_pred = finetunemodel(**test_df[0:18])"
      ],
      "metadata": {
        "colab": {
          "base_uri": "https://localhost:8080/"
        },
        "id": "jp5zTOHnx7yg",
        "outputId": "1965ba78-73eb-4551-8314-fa2832527279"
      },
      "execution_count": null,
      "outputs": [
        {
          "output_type": "stream",
          "name": "stdout",
          "text": [
            "time: 16.1 ms (started: 2022-08-30 22:07:32 +00:00)\n"
          ]
        }
      ]
    },
    {
      "cell_type": "code",
      "source": [
        "from torch.utils.data import TensorDataset, DataLoader, SequentialSampler"
      ],
      "metadata": {
        "colab": {
          "base_uri": "https://localhost:8080/"
        },
        "id": "HYpB9Xyjzkf0",
        "outputId": "f29abf93-7a34-42b3-e1e0-5aae93f68406"
      },
      "execution_count": null,
      "outputs": [
        {
          "output_type": "stream",
          "name": "stdout",
          "text": [
            "time: 741 µs (started: 2022-08-30 22:10:31 +00:00)\n"
          ]
        }
      ]
    },
    {
      "cell_type": "code",
      "source": [
        "val_data = TensorDataset(test_df['input_ids'], test_df['attention_mask'], test_df['labels'])"
      ],
      "metadata": {
        "colab": {
          "base_uri": "https://localhost:8080/"
        },
        "id": "73fsgkE1zl6r",
        "outputId": "a1a34caa-cdf2-44ad-86be-cc87dcfe2211"
      },
      "execution_count": null,
      "outputs": [
        {
          "output_type": "stream",
          "name": "stdout",
          "text": [
            "time: 507 ms (started: 2022-08-30 22:11:43 +00:00)\n"
          ]
        }
      ]
    },
    {
      "cell_type": "code",
      "source": [
        "val_sampler = SequentialSampler(val_data)"
      ],
      "metadata": {
        "colab": {
          "base_uri": "https://localhost:8080/"
        },
        "id": "XexYaFlJzyIc",
        "outputId": "1c6fb1ed-0b77-41d8-a0eb-7771464598ac"
      },
      "execution_count": null,
      "outputs": [
        {
          "output_type": "stream",
          "name": "stdout",
          "text": [
            "time: 474 µs (started: 2022-08-30 22:12:07 +00:00)\n"
          ]
        }
      ]
    },
    {
      "cell_type": "code",
      "source": [
        "val_dataloader = DataLoader(val_data, sampler=val_sampler, batch_size=32)"
      ],
      "metadata": {
        "colab": {
          "base_uri": "https://localhost:8080/"
        },
        "id": "MfpaxzZzz_tb",
        "outputId": "c61d0ca2-9691-490b-d9cd-d31bfd3fcc01"
      },
      "execution_count": null,
      "outputs": [
        {
          "output_type": "stream",
          "name": "stdout",
          "text": [
            "time: 718 µs (started: 2022-08-30 22:12:24 +00:00)\n"
          ]
        }
      ]
    },
    {
      "cell_type": "code",
      "source": [
        "import torch.nn.functional as F\n",
        "\n",
        "def bert_predict(model, test_dataloader):\n",
        "    \"\"\"Perform a forward pass on the trained BERT model to predict probabilities\n",
        "    on the test set.\n",
        "    \"\"\"\n",
        "    # Put the model into the evaluation mode. The dropout layers are disabled during\n",
        "    # the test time.\n",
        "    model.eval()\n",
        "\n",
        "    all_logits = []\n",
        "\n",
        "    # For each batch in our test set...\n",
        "    for batch in test_dataloader:\n",
        "        # Load batch to GPU\n",
        "        b_input_ids, b_attn_mask = tuple(t.to(device) for t in batch)[:2]\n",
        "\n",
        "        # Compute logits\n",
        "        with torch.no_grad():\n",
        "            logits = model(b_input_ids, b_attn_mask)['logits']\n",
        "        all_logits.append(logits)\n",
        "    \n",
        "    # Concatenate logits from each batch\n",
        "    all_logits = torch.cat(all_logits, dim=0)\n",
        "\n",
        "    # Apply softmax to calculate probabilities\n",
        "    probs = F.softmax(all_logits, dim=1).cpu().numpy()\n",
        "\n",
        "    return probs"
      ],
      "metadata": {
        "colab": {
          "base_uri": "https://localhost:8080/"
        },
        "id": "en2mDRle0B7I",
        "outputId": "c55293ed-026c-4044-fdd6-f075cf3a5692"
      },
      "execution_count": null,
      "outputs": [
        {
          "output_type": "stream",
          "name": "stdout",
          "text": [
            "time: 1.45 ms (started: 2022-08-30 22:24:33 +00:00)\n"
          ]
        }
      ]
    },
    {
      "cell_type": "code",
      "source": [
        "probs = bert_predict(finetunemodel, val_dataloader)"
      ],
      "metadata": {
        "colab": {
          "base_uri": "https://localhost:8080/"
        },
        "id": "2yQlpdDG0MuR",
        "outputId": "78a0cd60-ab2a-4443-9c6f-e49333fab84f"
      },
      "execution_count": null,
      "outputs": [
        {
          "output_type": "stream",
          "name": "stdout",
          "text": [
            "time: 29.6 s (started: 2022-08-30 22:24:36 +00:00)\n"
          ]
        }
      ]
    },
    {
      "cell_type": "code",
      "source": [
        "probs"
      ],
      "metadata": {
        "colab": {
          "base_uri": "https://localhost:8080/"
        },
        "id": "JWBzoJgv2swL",
        "outputId": "ceb665d9-71fd-4a93-acb5-9e5c3fe9a6bf"
      },
      "execution_count": null,
      "outputs": [
        {
          "output_type": "execute_result",
          "data": {
            "text/plain": [
              "array([[0.5710345 , 0.4289655 ],\n",
              "       [0.60643727, 0.39356267],\n",
              "       [0.22306672, 0.7769333 ],\n",
              "       ...,\n",
              "       [0.99456704, 0.00543295],\n",
              "       [0.99456704, 0.00543295],\n",
              "       [0.99273115, 0.00726889]], dtype=float32)"
            ]
          },
          "metadata": {},
          "execution_count": 178
        },
        {
          "output_type": "stream",
          "name": "stdout",
          "text": [
            "time: 4.19 ms (started: 2022-08-30 22:25:11 +00:00)\n"
          ]
        }
      ]
    },
    {
      "cell_type": "code",
      "source": [
        "from sklearn.metrics import roc_auc_score"
      ],
      "metadata": {
        "colab": {
          "base_uri": "https://localhost:8080/"
        },
        "outputId": "cfd4055b-fc2d-4f6a-9e98-23221a135f68",
        "id": "-Ye8xdiE3J_E"
      },
      "execution_count": null,
      "outputs": [
        {
          "output_type": "stream",
          "name": "stdout",
          "text": [
            "time: 651 µs (started: 2022-08-30 22:26:11 +00:00)\n"
          ]
        }
      ]
    },
    {
      "cell_type": "code",
      "source": [
        "import numpy as np\n",
        "y_true = np.array(test_data.iloc[:,45])\n",
        "y_scores = probs[:,1]"
      ],
      "metadata": {
        "colab": {
          "base_uri": "https://localhost:8080/"
        },
        "id": "lTwozGRw3V2e",
        "outputId": "ad604458-a745-4a1f-d597-8f1c4a8a4629"
      },
      "execution_count": null,
      "outputs": [
        {
          "output_type": "stream",
          "name": "stdout",
          "text": [
            "time: 2.32 ms (started: 2022-08-30 22:27:43 +00:00)\n"
          ]
        }
      ]
    },
    {
      "cell_type": "code",
      "source": [
        "roc_auc_score(y_true, y_scores)"
      ],
      "metadata": {
        "colab": {
          "base_uri": "https://localhost:8080/"
        },
        "outputId": "ffb23326-34cd-4a23-8199-b96271123876",
        "id": "sahQIbLe3J_F"
      },
      "execution_count": null,
      "outputs": [
        {
          "output_type": "execute_result",
          "data": {
            "text/plain": [
              "0.8844057283404523"
            ]
          },
          "metadata": {},
          "execution_count": 183
        },
        {
          "output_type": "stream",
          "name": "stdout",
          "text": [
            "time: 46.5 ms (started: 2022-08-30 22:28:03 +00:00)\n"
          ]
        }
      ]
    },
    {
      "cell_type": "markdown",
      "source": [
        "# XGBoost"
      ],
      "metadata": {
        "id": "UbE20vG5sJGw"
      }
    },
    {
      "cell_type": "code",
      "source": [
        "!pip install xgboost"
      ],
      "metadata": {
        "colab": {
          "base_uri": "https://localhost:8080/"
        },
        "id": "AA0M9CeesLS_",
        "outputId": "ea5292a9-294c-411e-eee3-42377fd1db37"
      },
      "execution_count": null,
      "outputs": [
        {
          "output_type": "stream",
          "name": "stdout",
          "text": [
            "Looking in indexes: https://pypi.org/simple, https://us-python.pkg.dev/colab-wheels/public/simple/\n",
            "Requirement already satisfied: xgboost in /usr/local/lib/python3.7/dist-packages (0.90)\n",
            "Requirement already satisfied: scipy in /usr/local/lib/python3.7/dist-packages (from xgboost) (1.7.3)\n",
            "Requirement already satisfied: numpy in /usr/local/lib/python3.7/dist-packages (from xgboost) (1.21.6)\n",
            "time: 3.1 s (started: 2022-08-30 21:39:36 +00:00)\n"
          ]
        }
      ]
    },
    {
      "cell_type": "code",
      "source": [
        "from xgboost import XGBClassifier"
      ],
      "metadata": {
        "colab": {
          "base_uri": "https://localhost:8080/"
        },
        "id": "N8rwN-_KsiP2",
        "outputId": "871886cb-89fa-4645-ad07-1579e51e77d9"
      },
      "execution_count": null,
      "outputs": [
        {
          "output_type": "stream",
          "name": "stdout",
          "text": [
            "time: 75.6 ms (started: 2022-08-30 21:40:04 +00:00)\n"
          ]
        }
      ]
    },
    {
      "cell_type": "code",
      "source": [
        "model = XGBClassifier()\n",
        "model.fit(train_data_features, train_data_labels)"
      ],
      "metadata": {
        "colab": {
          "base_uri": "https://localhost:8080/"
        },
        "id": "RI26HB0Fs0_N",
        "outputId": "3fd4d63f-d199-4b89-d619-a5be6be50f15"
      },
      "execution_count": null,
      "outputs": [
        {
          "output_type": "execute_result",
          "data": {
            "text/plain": [
              "XGBClassifier()"
            ]
          },
          "metadata": {},
          "execution_count": 126
        },
        {
          "output_type": "stream",
          "name": "stdout",
          "text": [
            "time: 1min 10s (started: 2022-08-30 21:41:27 +00:00)\n"
          ]
        }
      ]
    },
    {
      "cell_type": "code",
      "source": [
        "X_test = test_data.iloc[:,0:45]\n",
        "y_test = test_data.iloc[:,45]"
      ],
      "metadata": {
        "colab": {
          "base_uri": "https://localhost:8080/"
        },
        "id": "DfUMVZlxs9WG",
        "outputId": "87361fdc-f762-4478-d540-469e96e00c34"
      },
      "execution_count": null,
      "outputs": [
        {
          "output_type": "stream",
          "name": "stdout",
          "text": [
            "time: 1.15 ms (started: 2022-08-30 21:43:45 +00:00)\n"
          ]
        }
      ]
    },
    {
      "cell_type": "code",
      "source": [
        "y_pred = model.predict_proba(X_test)"
      ],
      "metadata": {
        "colab": {
          "base_uri": "https://localhost:8080/"
        },
        "id": "H7uXF249tg4P",
        "outputId": "d6caa73b-176f-402d-8aea-26b8df7cbd88"
      },
      "execution_count": null,
      "outputs": [
        {
          "output_type": "stream",
          "name": "stdout",
          "text": [
            "time: 329 ms (started: 2022-08-30 21:46:32 +00:00)\n"
          ]
        }
      ]
    },
    {
      "cell_type": "code",
      "source": [
        "y_scores = y_pred[:, 1]"
      ],
      "metadata": {
        "colab": {
          "base_uri": "https://localhost:8080/"
        },
        "id": "u042vafvuHu_",
        "outputId": "974315ad-7945-4afc-a1d9-0868d4d6eba8"
      },
      "execution_count": null,
      "outputs": [
        {
          "output_type": "stream",
          "name": "stdout",
          "text": [
            "time: 510 µs (started: 2022-08-30 21:47:31 +00:00)\n"
          ]
        }
      ]
    },
    {
      "cell_type": "code",
      "source": [
        "y_scores"
      ],
      "metadata": {
        "colab": {
          "base_uri": "https://localhost:8080/"
        },
        "id": "2qXtBIfNtho9",
        "outputId": "17d1d741-81ce-4831-e7ce-cf00f5a07595"
      },
      "execution_count": null,
      "outputs": [
        {
          "output_type": "execute_result",
          "data": {
            "text/plain": [
              "array([0.32238477, 0.2407574 , 0.6565904 , ..., 0.15303338, 0.15303338,\n",
              "       0.15303338], dtype=float32)"
            ]
          },
          "metadata": {},
          "execution_count": 134
        },
        {
          "output_type": "stream",
          "name": "stdout",
          "text": [
            "time: 3.98 ms (started: 2022-08-30 21:47:38 +00:00)\n"
          ]
        }
      ]
    },
    {
      "cell_type": "code",
      "source": [
        "y_true = np.array(y_test)"
      ],
      "metadata": {
        "colab": {
          "base_uri": "https://localhost:8080/"
        },
        "id": "VnpEKYepuaTL",
        "outputId": "b8d72122-34ce-4e0e-efef-fd9e87d8e1c3"
      },
      "execution_count": null,
      "outputs": [
        {
          "output_type": "stream",
          "name": "stdout",
          "text": [
            "time: 1.1 ms (started: 2022-08-30 21:48:15 +00:00)\n"
          ]
        }
      ]
    },
    {
      "cell_type": "code",
      "source": [
        "y_true"
      ],
      "metadata": {
        "colab": {
          "base_uri": "https://localhost:8080/"
        },
        "id": "XDko9zoSuful",
        "outputId": "2e3fc120-42b8-46b3-c003-ff2a14965084"
      },
      "execution_count": null,
      "outputs": [
        {
          "output_type": "execute_result",
          "data": {
            "text/plain": [
              "array([1, 1, 1, ..., 0, 0, 0])"
            ]
          },
          "metadata": {},
          "execution_count": 136
        },
        {
          "output_type": "stream",
          "name": "stdout",
          "text": [
            "time: 3.14 ms (started: 2022-08-30 21:48:20 +00:00)\n"
          ]
        }
      ]
    },
    {
      "cell_type": "code",
      "source": [
        "from sklearn.metrics import roc_auc_score"
      ],
      "metadata": {
        "colab": {
          "base_uri": "https://localhost:8080/"
        },
        "id": "UsxWjoDhu_lr",
        "outputId": "ea355346-26be-4592-9bfd-37cb70d09425"
      },
      "execution_count": null,
      "outputs": [
        {
          "output_type": "stream",
          "name": "stdout",
          "text": [
            "time: 765 µs (started: 2022-08-30 21:50:29 +00:00)\n"
          ]
        }
      ]
    },
    {
      "cell_type": "code",
      "source": [
        "roc_auc_score(y_true, y_scores)"
      ],
      "metadata": {
        "colab": {
          "base_uri": "https://localhost:8080/"
        },
        "id": "pUXJGFThvAad",
        "outputId": "a631c47f-b73a-4238-922f-447e139f3391"
      },
      "execution_count": null,
      "outputs": [
        {
          "output_type": "execute_result",
          "data": {
            "text/plain": [
              "0.8068778444893652"
            ]
          },
          "metadata": {},
          "execution_count": 138
        },
        {
          "output_type": "stream",
          "name": "stdout",
          "text": [
            "time: 44.1 ms (started: 2022-08-30 21:50:51 +00:00)\n"
          ]
        }
      ]
    },
    {
      "cell_type": "markdown",
      "source": [
        "# CatBoost"
      ],
      "metadata": {
        "id": "6nEL8Ai_vVQu"
      }
    },
    {
      "cell_type": "code",
      "source": [
        "!pip install catboost"
      ],
      "metadata": {
        "colab": {
          "base_uri": "https://localhost:8080/"
        },
        "id": "BPnZccAAvWUQ",
        "outputId": "ee00a5da-5f9f-4bd9-991d-10d705eb401f"
      },
      "execution_count": null,
      "outputs": [
        {
          "output_type": "stream",
          "name": "stdout",
          "text": [
            "Looking in indexes: https://pypi.org/simple, https://us-python.pkg.dev/colab-wheels/public/simple/\n",
            "Collecting catboost\n",
            "  Downloading catboost-1.0.6-cp37-none-manylinux1_x86_64.whl (76.6 MB)\n",
            "\u001b[K     |████████████████████████████████| 76.6 MB 81.8 MB/s \n",
            "\u001b[?25hRequirement already satisfied: graphviz in /usr/local/lib/python3.7/dist-packages (from catboost) (0.10.1)\n",
            "Requirement already satisfied: scipy in /usr/local/lib/python3.7/dist-packages (from catboost) (1.7.3)\n",
            "Requirement already satisfied: pandas>=0.24.0 in /usr/local/lib/python3.7/dist-packages (from catboost) (1.3.5)\n",
            "Requirement already satisfied: plotly in /usr/local/lib/python3.7/dist-packages (from catboost) (5.5.0)\n",
            "Requirement already satisfied: six in /usr/local/lib/python3.7/dist-packages (from catboost) (1.15.0)\n",
            "Requirement already satisfied: numpy>=1.16.0 in /usr/local/lib/python3.7/dist-packages (from catboost) (1.21.6)\n",
            "Requirement already satisfied: matplotlib in /usr/local/lib/python3.7/dist-packages (from catboost) (3.2.2)\n",
            "Requirement already satisfied: python-dateutil>=2.7.3 in /usr/local/lib/python3.7/dist-packages (from pandas>=0.24.0->catboost) (2.8.2)\n",
            "Requirement already satisfied: pytz>=2017.3 in /usr/local/lib/python3.7/dist-packages (from pandas>=0.24.0->catboost) (2022.2.1)\n",
            "Requirement already satisfied: cycler>=0.10 in /usr/local/lib/python3.7/dist-packages (from matplotlib->catboost) (0.11.0)\n",
            "Requirement already satisfied: pyparsing!=2.0.4,!=2.1.2,!=2.1.6,>=2.0.1 in /usr/local/lib/python3.7/dist-packages (from matplotlib->catboost) (3.0.9)\n",
            "Requirement already satisfied: kiwisolver>=1.0.1 in /usr/local/lib/python3.7/dist-packages (from matplotlib->catboost) (1.4.4)\n",
            "Requirement already satisfied: typing-extensions in /usr/local/lib/python3.7/dist-packages (from kiwisolver>=1.0.1->matplotlib->catboost) (4.1.1)\n",
            "Requirement already satisfied: tenacity>=6.2.0 in /usr/local/lib/python3.7/dist-packages (from plotly->catboost) (8.0.1)\n",
            "Installing collected packages: catboost\n",
            "Successfully installed catboost-1.0.6\n",
            "time: 10.9 s (started: 2022-08-30 21:56:03 +00:00)\n"
          ]
        }
      ]
    },
    {
      "cell_type": "code",
      "source": [
        "from catboost import CatBoostClassifier"
      ],
      "metadata": {
        "colab": {
          "base_uri": "https://localhost:8080/"
        },
        "id": "Gmllrhm4vwUL",
        "outputId": "568971aa-91d3-4896-efec-0389f26d29ed"
      },
      "execution_count": null,
      "outputs": [
        {
          "output_type": "stream",
          "name": "stdout",
          "text": [
            "time: 22.5 ms (started: 2022-08-30 21:56:17 +00:00)\n"
          ]
        }
      ]
    },
    {
      "cell_type": "code",
      "source": [
        "clf = CatBoostClassifier()"
      ],
      "metadata": {
        "colab": {
          "base_uri": "https://localhost:8080/"
        },
        "id": "5r4Egbotvy01",
        "outputId": "b0b9a493-dfec-4eec-937a-5fde11b36ba9"
      },
      "execution_count": null,
      "outputs": [
        {
          "output_type": "stream",
          "name": "stdout",
          "text": [
            "time: 791 µs (started: 2022-08-30 21:57:10 +00:00)\n"
          ]
        }
      ]
    },
    {
      "cell_type": "code",
      "source": [
        "clf.fit(train_data_features, train_data_labels)"
      ],
      "metadata": {
        "id": "ge82MrfUxYzD"
      },
      "execution_count": null,
      "outputs": []
    },
    {
      "cell_type": "code",
      "source": [
        "X_test = test_data.iloc[:,0:45]\n",
        "y_test = test_data.iloc[:,45]"
      ],
      "metadata": {
        "colab": {
          "base_uri": "https://localhost:8080/"
        },
        "outputId": "b6ec0573-c915-4b82-d4fa-56f51f8f7bc8",
        "id": "IFN9m1Fux8bT"
      },
      "execution_count": null,
      "outputs": [
        {
          "output_type": "stream",
          "name": "stdout",
          "text": [
            "time: 1.2 ms (started: 2022-08-30 22:03:27 +00:00)\n"
          ]
        }
      ]
    },
    {
      "cell_type": "code",
      "source": [
        "y_pred = clf.predict_proba(X_test)"
      ],
      "metadata": {
        "colab": {
          "base_uri": "https://localhost:8080/"
        },
        "outputId": "e64986a1-e071-4e14-fbd0-93d2d61e8401",
        "id": "FUhvSMwrx8bV"
      },
      "execution_count": null,
      "outputs": [
        {
          "output_type": "stream",
          "name": "stdout",
          "text": [
            "time: 129 ms (started: 2022-08-30 22:03:35 +00:00)\n"
          ]
        }
      ]
    },
    {
      "cell_type": "code",
      "source": [
        "y_scores = y_pred[:, 1]"
      ],
      "metadata": {
        "colab": {
          "base_uri": "https://localhost:8080/"
        },
        "outputId": "d02f175e-fd13-4249-f88c-66c40f7f19b7",
        "id": "buLvza9Tx8bW"
      },
      "execution_count": null,
      "outputs": [
        {
          "output_type": "stream",
          "name": "stdout",
          "text": [
            "time: 798 µs (started: 2022-08-30 22:03:49 +00:00)\n"
          ]
        }
      ]
    },
    {
      "cell_type": "code",
      "source": [
        "y_true = np.array(y_test)"
      ],
      "metadata": {
        "colab": {
          "base_uri": "https://localhost:8080/"
        },
        "outputId": "f219e31e-7c1f-4c73-b4af-6a91907c5952",
        "id": "vtOekYxJx8bW"
      },
      "execution_count": null,
      "outputs": [
        {
          "output_type": "stream",
          "name": "stdout",
          "text": [
            "time: 1.21 ms (started: 2022-08-30 22:03:51 +00:00)\n"
          ]
        }
      ]
    },
    {
      "cell_type": "code",
      "source": [
        "from sklearn.metrics import roc_auc_score"
      ],
      "metadata": {
        "colab": {
          "base_uri": "https://localhost:8080/"
        },
        "outputId": "71ed48b9-faf8-4663-aa62-fa551975b4ee",
        "id": "8e70RRUex8bX"
      },
      "execution_count": null,
      "outputs": [
        {
          "output_type": "stream",
          "name": "stdout",
          "text": [
            "time: 666 µs (started: 2022-08-30 22:03:53 +00:00)\n"
          ]
        }
      ]
    },
    {
      "cell_type": "code",
      "source": [
        "roc_auc_score(y_true, y_scores)"
      ],
      "metadata": {
        "colab": {
          "base_uri": "https://localhost:8080/"
        },
        "outputId": "483e9cfa-8801-4141-818b-8e9df7895d6c",
        "id": "8JdyIUdpx8bX"
      },
      "execution_count": null,
      "outputs": [
        {
          "output_type": "execute_result",
          "data": {
            "text/plain": [
              "0.8030712122120683"
            ]
          },
          "metadata": {},
          "execution_count": 151
        },
        {
          "output_type": "stream",
          "name": "stdout",
          "text": [
            "time: 43.2 ms (started: 2022-08-30 22:03:55 +00:00)\n"
          ]
        }
      ]
    }
  ]
}