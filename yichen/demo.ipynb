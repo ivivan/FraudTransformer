{
  "nbformat": 4,
  "nbformat_minor": 0,
  "metadata": {
    "colab": {
      "provenance": [],
      "collapsed_sections": [
        "IW9o6sI-evyB"
      ],
      "machine_shape": "hm"
    },
    "kernelspec": {
      "name": "python3",
      "display_name": "Python 3"
    },
    "language_info": {
      "name": "python"
    },
    "accelerator": "GPU",
    "gpuClass": "standard",
    "widgets": {
      "application/vnd.jupyter.widget-state+json": {
        "e454c51085b348a4852ef03fbe4d1c98": {
          "model_module": "@jupyter-widgets/controls",
          "model_name": "HBoxModel",
          "model_module_version": "1.5.0",
          "state": {
            "_dom_classes": [],
            "_model_module": "@jupyter-widgets/controls",
            "_model_module_version": "1.5.0",
            "_model_name": "HBoxModel",
            "_view_count": null,
            "_view_module": "@jupyter-widgets/controls",
            "_view_module_version": "1.5.0",
            "_view_name": "HBoxView",
            "box_style": "",
            "children": [
              "IPY_MODEL_8cb8357677af4b61a79d680b95967891",
              "IPY_MODEL_dff1ab3f8c8d4eb1b356967483783a2b",
              "IPY_MODEL_89fd9c476b8345eb80b6d9fa27a976e6"
            ],
            "layout": "IPY_MODEL_e562827dbd2b41b694d392ce6b973558"
          }
        },
        "8cb8357677af4b61a79d680b95967891": {
          "model_module": "@jupyter-widgets/controls",
          "model_name": "HTMLModel",
          "model_module_version": "1.5.0",
          "state": {
            "_dom_classes": [],
            "_model_module": "@jupyter-widgets/controls",
            "_model_module_version": "1.5.0",
            "_model_name": "HTMLModel",
            "_view_count": null,
            "_view_module": "@jupyter-widgets/controls",
            "_view_module_version": "1.5.0",
            "_view_name": "HTMLView",
            "description": "",
            "description_tooltip": null,
            "layout": "IPY_MODEL_bb863af9ffa94c2f85af033bf70595c1",
            "placeholder": "​",
            "style": "IPY_MODEL_9bb24ccf5ac1499ba6d2e66e28a5185c",
            "value": " 75%"
          }
        },
        "dff1ab3f8c8d4eb1b356967483783a2b": {
          "model_module": "@jupyter-widgets/controls",
          "model_name": "FloatProgressModel",
          "model_module_version": "1.5.0",
          "state": {
            "_dom_classes": [],
            "_model_module": "@jupyter-widgets/controls",
            "_model_module_version": "1.5.0",
            "_model_name": "FloatProgressModel",
            "_view_count": null,
            "_view_module": "@jupyter-widgets/controls",
            "_view_module_version": "1.5.0",
            "_view_name": "ProgressView",
            "bar_style": "",
            "description": "",
            "description_tooltip": null,
            "layout": "IPY_MODEL_a977face26434bd982122d1886586b05",
            "max": 498,
            "min": 0,
            "orientation": "horizontal",
            "style": "IPY_MODEL_8cbc76515c4b49888c62d66a9c0dcfcb",
            "value": 498
          }
        },
        "89fd9c476b8345eb80b6d9fa27a976e6": {
          "model_module": "@jupyter-widgets/controls",
          "model_name": "HTMLModel",
          "model_module_version": "1.5.0",
          "state": {
            "_dom_classes": [],
            "_model_module": "@jupyter-widgets/controls",
            "_model_module_version": "1.5.0",
            "_model_name": "HTMLModel",
            "_view_count": null,
            "_view_module": "@jupyter-widgets/controls",
            "_view_module_version": "1.5.0",
            "_view_name": "HTMLView",
            "description": "",
            "description_tooltip": null,
            "layout": "IPY_MODEL_534d3033e6be4a83999e6f05cd377610",
            "placeholder": "​",
            "style": "IPY_MODEL_d93b7bbb0bc44e32a17e9f37da36a13d",
            "value": " 374/498 [00:00&lt;00:00, 2913.06it/s]"
          }
        },
        "e562827dbd2b41b694d392ce6b973558": {
          "model_module": "@jupyter-widgets/base",
          "model_name": "LayoutModel",
          "model_module_version": "1.2.0",
          "state": {
            "_model_module": "@jupyter-widgets/base",
            "_model_module_version": "1.2.0",
            "_model_name": "LayoutModel",
            "_view_count": null,
            "_view_module": "@jupyter-widgets/base",
            "_view_module_version": "1.2.0",
            "_view_name": "LayoutView",
            "align_content": null,
            "align_items": null,
            "align_self": null,
            "border": null,
            "bottom": null,
            "display": null,
            "flex": null,
            "flex_flow": null,
            "grid_area": null,
            "grid_auto_columns": null,
            "grid_auto_flow": null,
            "grid_auto_rows": null,
            "grid_column": null,
            "grid_gap": null,
            "grid_row": null,
            "grid_template_areas": null,
            "grid_template_columns": null,
            "grid_template_rows": null,
            "height": null,
            "justify_content": null,
            "justify_items": null,
            "left": null,
            "margin": null,
            "max_height": null,
            "max_width": null,
            "min_height": null,
            "min_width": null,
            "object_fit": null,
            "object_position": null,
            "order": null,
            "overflow": null,
            "overflow_x": null,
            "overflow_y": null,
            "padding": null,
            "right": null,
            "top": null,
            "visibility": null,
            "width": null
          }
        },
        "bb863af9ffa94c2f85af033bf70595c1": {
          "model_module": "@jupyter-widgets/base",
          "model_name": "LayoutModel",
          "model_module_version": "1.2.0",
          "state": {
            "_model_module": "@jupyter-widgets/base",
            "_model_module_version": "1.2.0",
            "_model_name": "LayoutModel",
            "_view_count": null,
            "_view_module": "@jupyter-widgets/base",
            "_view_module_version": "1.2.0",
            "_view_name": "LayoutView",
            "align_content": null,
            "align_items": null,
            "align_self": null,
            "border": null,
            "bottom": null,
            "display": null,
            "flex": null,
            "flex_flow": null,
            "grid_area": null,
            "grid_auto_columns": null,
            "grid_auto_flow": null,
            "grid_auto_rows": null,
            "grid_column": null,
            "grid_gap": null,
            "grid_row": null,
            "grid_template_areas": null,
            "grid_template_columns": null,
            "grid_template_rows": null,
            "height": null,
            "justify_content": null,
            "justify_items": null,
            "left": null,
            "margin": null,
            "max_height": null,
            "max_width": null,
            "min_height": null,
            "min_width": null,
            "object_fit": null,
            "object_position": null,
            "order": null,
            "overflow": null,
            "overflow_x": null,
            "overflow_y": null,
            "padding": null,
            "right": null,
            "top": null,
            "visibility": null,
            "width": null
          }
        },
        "9bb24ccf5ac1499ba6d2e66e28a5185c": {
          "model_module": "@jupyter-widgets/controls",
          "model_name": "DescriptionStyleModel",
          "model_module_version": "1.5.0",
          "state": {
            "_model_module": "@jupyter-widgets/controls",
            "_model_module_version": "1.5.0",
            "_model_name": "DescriptionStyleModel",
            "_view_count": null,
            "_view_module": "@jupyter-widgets/base",
            "_view_module_version": "1.2.0",
            "_view_name": "StyleView",
            "description_width": ""
          }
        },
        "a977face26434bd982122d1886586b05": {
          "model_module": "@jupyter-widgets/base",
          "model_name": "LayoutModel",
          "model_module_version": "1.2.0",
          "state": {
            "_model_module": "@jupyter-widgets/base",
            "_model_module_version": "1.2.0",
            "_model_name": "LayoutModel",
            "_view_count": null,
            "_view_module": "@jupyter-widgets/base",
            "_view_module_version": "1.2.0",
            "_view_name": "LayoutView",
            "align_content": null,
            "align_items": null,
            "align_self": null,
            "border": null,
            "bottom": null,
            "display": null,
            "flex": null,
            "flex_flow": null,
            "grid_area": null,
            "grid_auto_columns": null,
            "grid_auto_flow": null,
            "grid_auto_rows": null,
            "grid_column": null,
            "grid_gap": null,
            "grid_row": null,
            "grid_template_areas": null,
            "grid_template_columns": null,
            "grid_template_rows": null,
            "height": null,
            "justify_content": null,
            "justify_items": null,
            "left": null,
            "margin": null,
            "max_height": null,
            "max_width": null,
            "min_height": null,
            "min_width": null,
            "object_fit": null,
            "object_position": null,
            "order": null,
            "overflow": null,
            "overflow_x": null,
            "overflow_y": null,
            "padding": null,
            "right": null,
            "top": null,
            "visibility": null,
            "width": null
          }
        },
        "8cbc76515c4b49888c62d66a9c0dcfcb": {
          "model_module": "@jupyter-widgets/controls",
          "model_name": "ProgressStyleModel",
          "model_module_version": "1.5.0",
          "state": {
            "_model_module": "@jupyter-widgets/controls",
            "_model_module_version": "1.5.0",
            "_model_name": "ProgressStyleModel",
            "_view_count": null,
            "_view_module": "@jupyter-widgets/base",
            "_view_module_version": "1.2.0",
            "_view_name": "StyleView",
            "bar_color": null,
            "description_width": ""
          }
        },
        "534d3033e6be4a83999e6f05cd377610": {
          "model_module": "@jupyter-widgets/base",
          "model_name": "LayoutModel",
          "model_module_version": "1.2.0",
          "state": {
            "_model_module": "@jupyter-widgets/base",
            "_model_module_version": "1.2.0",
            "_model_name": "LayoutModel",
            "_view_count": null,
            "_view_module": "@jupyter-widgets/base",
            "_view_module_version": "1.2.0",
            "_view_name": "LayoutView",
            "align_content": null,
            "align_items": null,
            "align_self": null,
            "border": null,
            "bottom": null,
            "display": null,
            "flex": null,
            "flex_flow": null,
            "grid_area": null,
            "grid_auto_columns": null,
            "grid_auto_flow": null,
            "grid_auto_rows": null,
            "grid_column": null,
            "grid_gap": null,
            "grid_row": null,
            "grid_template_areas": null,
            "grid_template_columns": null,
            "grid_template_rows": null,
            "height": null,
            "justify_content": null,
            "justify_items": null,
            "left": null,
            "margin": null,
            "max_height": null,
            "max_width": null,
            "min_height": null,
            "min_width": null,
            "object_fit": null,
            "object_position": null,
            "order": null,
            "overflow": null,
            "overflow_x": null,
            "overflow_y": null,
            "padding": null,
            "right": null,
            "top": null,
            "visibility": null,
            "width": null
          }
        },
        "d93b7bbb0bc44e32a17e9f37da36a13d": {
          "model_module": "@jupyter-widgets/controls",
          "model_name": "DescriptionStyleModel",
          "model_module_version": "1.5.0",
          "state": {
            "_model_module": "@jupyter-widgets/controls",
            "_model_module_version": "1.5.0",
            "_model_name": "DescriptionStyleModel",
            "_view_count": null,
            "_view_module": "@jupyter-widgets/base",
            "_view_module_version": "1.2.0",
            "_view_name": "StyleView",
            "description_width": ""
          }
        }
      }
    }
  },
  "cells": [
    {
      "cell_type": "markdown",
      "source": [
        "# Load Data"
      ],
      "metadata": {
        "id": "zCaqE4Lndfup"
      }
    },
    {
      "cell_type": "code",
      "execution_count": null,
      "metadata": {
        "id": "OFl6W2M1D1tv"
      },
      "outputs": [],
      "source": [
        "import pandas as pd"
      ]
    },
    {
      "cell_type": "code",
      "source": [
        "from google.colab import drive\n",
        "drive.mount('/content/drive', force_remount=True)\n",
        "DATA_DIR = '/content/drive/My Drive/FraudTransformer'"
      ],
      "metadata": {
        "colab": {
          "base_uri": "https://localhost:8080/"
        },
        "id": "IOAYzeNdECWo",
        "outputId": "3408bcc3-222d-484b-e888-23353effabc3"
      },
      "execution_count": null,
      "outputs": [
        {
          "output_type": "stream",
          "name": "stdout",
          "text": [
            "Mounted at /content/drive\n"
          ]
        }
      ]
    },
    {
      "cell_type": "code",
      "source": [
        "data_path = f'{DATA_DIR}/fe_banking_login_20201201_20210531.csv'"
      ],
      "metadata": {
        "id": "81IG9dYtEKWH"
      },
      "execution_count": null,
      "outputs": []
    },
    {
      "cell_type": "code",
      "source": [
        "feature_path = f'{DATA_DIR}/modified_coef_final4th.csv'"
      ],
      "metadata": {
        "id": "xBQyixg8EQ0K"
      },
      "execution_count": null,
      "outputs": []
    },
    {
      "cell_type": "code",
      "source": [
        "raw_data = pd.read_csv(data_path)"
      ],
      "metadata": {
        "id": "S0OMrqzbETIE"
      },
      "execution_count": null,
      "outputs": []
    },
    {
      "cell_type": "code",
      "source": [
        "feature_list = pd.read_csv(feature_path)"
      ],
      "metadata": {
        "id": "d54VijKHEXuW"
      },
      "execution_count": null,
      "outputs": []
    },
    {
      "cell_type": "code",
      "source": [
        "features = feature_list[\"Unnamed: 0\"].astype(\"str\").tolist()"
      ],
      "metadata": {
        "id": "atp3AswOFDYF"
      },
      "execution_count": null,
      "outputs": []
    },
    {
      "cell_type": "code",
      "source": [
        "selected_data = raw_data[features+['frd', 'eval']]"
      ],
      "metadata": {
        "id": "R8QobAEJEe-I"
      },
      "execution_count": null,
      "outputs": []
    },
    {
      "cell_type": "code",
      "source": [
        "selected_data.rename({'tmxrc_Possible VPN or Tunnel': 'tmxrc_Possible_VPN_or_Tunnel'}, axis=1, inplace=True)"
      ],
      "metadata": {
        "colab": {
          "base_uri": "https://localhost:8080/"
        },
        "id": "3ZJ_t87WwzRM",
        "outputId": "35591533-c2d1-4c0d-84a4-ad4b8b21160b"
      },
      "execution_count": null,
      "outputs": [
        {
          "output_type": "stream",
          "name": "stderr",
          "text": [
            "/usr/local/lib/python3.7/dist-packages/pandas/core/frame.py:5047: SettingWithCopyWarning: \n",
            "A value is trying to be set on a copy of a slice from a DataFrame\n",
            "\n",
            "See the caveats in the documentation: https://pandas.pydata.org/pandas-docs/stable/user_guide/indexing.html#returning-a-view-versus-a-copy\n",
            "  errors=errors,\n"
          ]
        }
      ]
    },
    {
      "cell_type": "code",
      "source": [
        "features[29] = 'tmxrc_Possible_VPN_or_Tunnel'"
      ],
      "metadata": {
        "id": "lJOrYrCpxe4U"
      },
      "execution_count": null,
      "outputs": []
    },
    {
      "cell_type": "code",
      "source": [
        "selected_data.apply(pd.Series.value_counts)"
      ],
      "metadata": {
        "colab": {
          "base_uri": "https://localhost:8080/",
          "height": 204
        },
        "id": "_7ohSP6cFSvY",
        "outputId": "948c2153-e4b3-43d0-c157-f14ff142c9e6"
      },
      "execution_count": null,
      "outputs": [
        {
          "output_type": "execute_result",
          "data": {
            "text/plain": [
              "   tmxrc_Aggregator  tmxrc_ACC_EMAIL_LCL_AGE_GT_3MTHS  \\\n",
              "0            915124                            738032   \n",
              "1             19651                            196743   \n",
              "\n",
              "   tmxrc_ACC_LOGIN_SMART_ID_LCL_PAIR_AGE_GT_2MTHS  \\\n",
              "0                                          858212   \n",
              "1                                           76563   \n",
              "\n",
              "   tmxrc_ACC_LOGIN_SMART_ID_LCL_PAIR_AGE_GT_MTH  \\\n",
              "0                                        828697   \n",
              "1                                        106078   \n",
              "\n",
              "   tmxrc_SMART_ID_LCL_AGE_GT_3MTHS  \\\n",
              "0                           409576   \n",
              "1                           525199   \n",
              "\n",
              "   tmxrc_ACC_EMAIL_SMART_ID_LCL_PAIR_AGE_GT_3MTHS  \\\n",
              "0                                          852116   \n",
              "1                                           82659   \n",
              "\n",
              "   tmxrc_ACC_EMAIL_LCL_AGE_GT_MTH  \\\n",
              "0                          925615   \n",
              "1                            9160   \n",
              "\n",
              "   tmxrc_AGENT_PUBLICKEY_HASH_LCL_AGE_GT_3MTHS  \\\n",
              "0                                       665783   \n",
              "1                                       268992   \n",
              "\n",
              "   tmxrc_ACC_LOGIN_SMART_ID_LCL_PAIR_AGE_GT_2WKS  \\\n",
              "0                                         872812   \n",
              "1                                          61963   \n",
              "\n",
              "   tmxrc_AGENT_PUBLICKEY_HASH_LCL_AGE_GT_MTH  ...  \\\n",
              "0                                     852589  ...   \n",
              "1                                      82186  ...   \n",
              "\n",
              "   tmxrc_ACC_EMAIL_GBL_AGE_LT_DY  tmxrc_ACC_NUM_SMART_ID_LCL_PAIR_AGE_LT_DY  \\\n",
              "0                         931852                                     929281   \n",
              "1                           2923                                       5494   \n",
              "\n",
              "   tmxrc_Jailbreak_or_Root  tmxrc_Proxy_Anonymous  sumrc_Level_1_Link_Reject  \\\n",
              "0                   929089                 913852                     906871   \n",
              "1                     5686                  20923                      27904   \n",
              "\n",
              "   tmxrc_Rejected_ExactID_Month  tmxrc_PotentialVM_UA_Android_OS_Win  \\\n",
              "0                        906677                               931257   \n",
              "1                         28098                                 3518   \n",
              "\n",
              "   tmxrc_Phones_per_ExactID_Week_High     frd    eval  \n",
              "0                              930973  801345  749142  \n",
              "1                                3802  133430  185633  \n",
              "\n",
              "[2 rows x 47 columns]"
            ],
            "text/html": [
              "\n",
              "  <div id=\"df-ff0aa038-d22e-4131-8133-e95b27a0c659\">\n",
              "    <div class=\"colab-df-container\">\n",
              "      <div>\n",
              "<style scoped>\n",
              "    .dataframe tbody tr th:only-of-type {\n",
              "        vertical-align: middle;\n",
              "    }\n",
              "\n",
              "    .dataframe tbody tr th {\n",
              "        vertical-align: top;\n",
              "    }\n",
              "\n",
              "    .dataframe thead th {\n",
              "        text-align: right;\n",
              "    }\n",
              "</style>\n",
              "<table border=\"1\" class=\"dataframe\">\n",
              "  <thead>\n",
              "    <tr style=\"text-align: right;\">\n",
              "      <th></th>\n",
              "      <th>tmxrc_Aggregator</th>\n",
              "      <th>tmxrc_ACC_EMAIL_LCL_AGE_GT_3MTHS</th>\n",
              "      <th>tmxrc_ACC_LOGIN_SMART_ID_LCL_PAIR_AGE_GT_2MTHS</th>\n",
              "      <th>tmxrc_ACC_LOGIN_SMART_ID_LCL_PAIR_AGE_GT_MTH</th>\n",
              "      <th>tmxrc_SMART_ID_LCL_AGE_GT_3MTHS</th>\n",
              "      <th>tmxrc_ACC_EMAIL_SMART_ID_LCL_PAIR_AGE_GT_3MTHS</th>\n",
              "      <th>tmxrc_ACC_EMAIL_LCL_AGE_GT_MTH</th>\n",
              "      <th>tmxrc_AGENT_PUBLICKEY_HASH_LCL_AGE_GT_3MTHS</th>\n",
              "      <th>tmxrc_ACC_LOGIN_SMART_ID_LCL_PAIR_AGE_GT_2WKS</th>\n",
              "      <th>tmxrc_AGENT_PUBLICKEY_HASH_LCL_AGE_GT_MTH</th>\n",
              "      <th>...</th>\n",
              "      <th>tmxrc_ACC_EMAIL_GBL_AGE_LT_DY</th>\n",
              "      <th>tmxrc_ACC_NUM_SMART_ID_LCL_PAIR_AGE_LT_DY</th>\n",
              "      <th>tmxrc_Jailbreak_or_Root</th>\n",
              "      <th>tmxrc_Proxy_Anonymous</th>\n",
              "      <th>sumrc_Level_1_Link_Reject</th>\n",
              "      <th>tmxrc_Rejected_ExactID_Month</th>\n",
              "      <th>tmxrc_PotentialVM_UA_Android_OS_Win</th>\n",
              "      <th>tmxrc_Phones_per_ExactID_Week_High</th>\n",
              "      <th>frd</th>\n",
              "      <th>eval</th>\n",
              "    </tr>\n",
              "  </thead>\n",
              "  <tbody>\n",
              "    <tr>\n",
              "      <th>0</th>\n",
              "      <td>915124</td>\n",
              "      <td>738032</td>\n",
              "      <td>858212</td>\n",
              "      <td>828697</td>\n",
              "      <td>409576</td>\n",
              "      <td>852116</td>\n",
              "      <td>925615</td>\n",
              "      <td>665783</td>\n",
              "      <td>872812</td>\n",
              "      <td>852589</td>\n",
              "      <td>...</td>\n",
              "      <td>931852</td>\n",
              "      <td>929281</td>\n",
              "      <td>929089</td>\n",
              "      <td>913852</td>\n",
              "      <td>906871</td>\n",
              "      <td>906677</td>\n",
              "      <td>931257</td>\n",
              "      <td>930973</td>\n",
              "      <td>801345</td>\n",
              "      <td>749142</td>\n",
              "    </tr>\n",
              "    <tr>\n",
              "      <th>1</th>\n",
              "      <td>19651</td>\n",
              "      <td>196743</td>\n",
              "      <td>76563</td>\n",
              "      <td>106078</td>\n",
              "      <td>525199</td>\n",
              "      <td>82659</td>\n",
              "      <td>9160</td>\n",
              "      <td>268992</td>\n",
              "      <td>61963</td>\n",
              "      <td>82186</td>\n",
              "      <td>...</td>\n",
              "      <td>2923</td>\n",
              "      <td>5494</td>\n",
              "      <td>5686</td>\n",
              "      <td>20923</td>\n",
              "      <td>27904</td>\n",
              "      <td>28098</td>\n",
              "      <td>3518</td>\n",
              "      <td>3802</td>\n",
              "      <td>133430</td>\n",
              "      <td>185633</td>\n",
              "    </tr>\n",
              "  </tbody>\n",
              "</table>\n",
              "<p>2 rows × 47 columns</p>\n",
              "</div>\n",
              "      <button class=\"colab-df-convert\" onclick=\"convertToInteractive('df-ff0aa038-d22e-4131-8133-e95b27a0c659')\"\n",
              "              title=\"Convert this dataframe to an interactive table.\"\n",
              "              style=\"display:none;\">\n",
              "        \n",
              "  <svg xmlns=\"http://www.w3.org/2000/svg\" height=\"24px\"viewBox=\"0 0 24 24\"\n",
              "       width=\"24px\">\n",
              "    <path d=\"M0 0h24v24H0V0z\" fill=\"none\"/>\n",
              "    <path d=\"M18.56 5.44l.94 2.06.94-2.06 2.06-.94-2.06-.94-.94-2.06-.94 2.06-2.06.94zm-11 1L8.5 8.5l.94-2.06 2.06-.94-2.06-.94L8.5 2.5l-.94 2.06-2.06.94zm10 10l.94 2.06.94-2.06 2.06-.94-2.06-.94-.94-2.06-.94 2.06-2.06.94z\"/><path d=\"M17.41 7.96l-1.37-1.37c-.4-.4-.92-.59-1.43-.59-.52 0-1.04.2-1.43.59L10.3 9.45l-7.72 7.72c-.78.78-.78 2.05 0 2.83L4 21.41c.39.39.9.59 1.41.59.51 0 1.02-.2 1.41-.59l7.78-7.78 2.81-2.81c.8-.78.8-2.07 0-2.86zM5.41 20L4 18.59l7.72-7.72 1.47 1.35L5.41 20z\"/>\n",
              "  </svg>\n",
              "      </button>\n",
              "      \n",
              "  <style>\n",
              "    .colab-df-container {\n",
              "      display:flex;\n",
              "      flex-wrap:wrap;\n",
              "      gap: 12px;\n",
              "    }\n",
              "\n",
              "    .colab-df-convert {\n",
              "      background-color: #E8F0FE;\n",
              "      border: none;\n",
              "      border-radius: 50%;\n",
              "      cursor: pointer;\n",
              "      display: none;\n",
              "      fill: #1967D2;\n",
              "      height: 32px;\n",
              "      padding: 0 0 0 0;\n",
              "      width: 32px;\n",
              "    }\n",
              "\n",
              "    .colab-df-convert:hover {\n",
              "      background-color: #E2EBFA;\n",
              "      box-shadow: 0px 1px 2px rgba(60, 64, 67, 0.3), 0px 1px 3px 1px rgba(60, 64, 67, 0.15);\n",
              "      fill: #174EA6;\n",
              "    }\n",
              "\n",
              "    [theme=dark] .colab-df-convert {\n",
              "      background-color: #3B4455;\n",
              "      fill: #D2E3FC;\n",
              "    }\n",
              "\n",
              "    [theme=dark] .colab-df-convert:hover {\n",
              "      background-color: #434B5C;\n",
              "      box-shadow: 0px 1px 3px 1px rgba(0, 0, 0, 0.15);\n",
              "      filter: drop-shadow(0px 1px 2px rgba(0, 0, 0, 0.3));\n",
              "      fill: #FFFFFF;\n",
              "    }\n",
              "  </style>\n",
              "\n",
              "      <script>\n",
              "        const buttonEl =\n",
              "          document.querySelector('#df-ff0aa038-d22e-4131-8133-e95b27a0c659 button.colab-df-convert');\n",
              "        buttonEl.style.display =\n",
              "          google.colab.kernel.accessAllowed ? 'block' : 'none';\n",
              "\n",
              "        async function convertToInteractive(key) {\n",
              "          const element = document.querySelector('#df-ff0aa038-d22e-4131-8133-e95b27a0c659');\n",
              "          const dataTable =\n",
              "            await google.colab.kernel.invokeFunction('convertToInteractive',\n",
              "                                                     [key], {});\n",
              "          if (!dataTable) return;\n",
              "\n",
              "          const docLinkHtml = 'Like what you see? Visit the ' +\n",
              "            '<a target=\"_blank\" href=https://colab.research.google.com/notebooks/data_table.ipynb>data table notebook</a>'\n",
              "            + ' to learn more about interactive tables.';\n",
              "          element.innerHTML = '';\n",
              "          dataTable['output_type'] = 'display_data';\n",
              "          await google.colab.output.renderOutput(dataTable, element);\n",
              "          const docLink = document.createElement('div');\n",
              "          docLink.innerHTML = docLinkHtml;\n",
              "          element.appendChild(docLink);\n",
              "        }\n",
              "      </script>\n",
              "    </div>\n",
              "  </div>\n",
              "  "
            ]
          },
          "metadata": {},
          "execution_count": 11
        }
      ]
    },
    {
      "cell_type": "code",
      "source": [
        "selected_data.iloc[0]"
      ],
      "metadata": {
        "colab": {
          "base_uri": "https://localhost:8080/"
        },
        "id": "X7a-fRdMshj8",
        "outputId": "5d701cca-5930-4c73-e54c-0957bb58f48f"
      },
      "execution_count": null,
      "outputs": [
        {
          "output_type": "execute_result",
          "data": {
            "text/plain": [
              "tmxrc_Aggregator                                      0\n",
              "tmxrc_ACC_EMAIL_LCL_AGE_GT_3MTHS                      0\n",
              "tmxrc_ACC_LOGIN_SMART_ID_LCL_PAIR_AGE_GT_2MTHS        0\n",
              "tmxrc_ACC_LOGIN_SMART_ID_LCL_PAIR_AGE_GT_MTH          0\n",
              "tmxrc_SMART_ID_LCL_AGE_GT_3MTHS                       0\n",
              "tmxrc_ACC_EMAIL_SMART_ID_LCL_PAIR_AGE_GT_3MTHS        0\n",
              "tmxrc_ACC_EMAIL_LCL_AGE_GT_MTH                        0\n",
              "tmxrc_AGENT_PUBLICKEY_HASH_LCL_AGE_GT_3MTHS           0\n",
              "tmxrc_ACC_LOGIN_SMART_ID_LCL_PAIR_AGE_GT_2WKS         0\n",
              "tmxrc_AGENT_PUBLICKEY_HASH_LCL_AGE_GT_MTH             0\n",
              "tmxrc_ACC_EMAIL_SMART_ID_LCL_PAIR_AGE_GT_2MTHS        0\n",
              "tmxrc_ACC_NAME_LCL_AGE_GT_3MTHS                       0\n",
              "tmxrc_ACC_EMAIL_SMART_ID_GBL_PAIR_AGE_GT_2MTHS        0\n",
              "tmxrc_SMART_ID_LCL_AGE_GT_2WKS                        0\n",
              "tmxrc_DIG_ID_GBL_AGE_GT_3MTHS                         0\n",
              "tmxrc_DIG_ID_LCL_AGE_GT_3MTHS                         0\n",
              "tmxrc_DIG_ID_LCL_AGE_LT_DY                            0\n",
              "tmxrc_AGENT_PUBLICKEY_HASH_LCL_AGE_LT_DY              0\n",
              "tmxrc_SMART_ID_GBL_AGE_LT_DY                          0\n",
              "tmxrc_ACC_EMAIL_SMART_ID_LCL_PAIR_AGE_LT_DY           0\n",
              "tmxrc_ACC_LOGIN_EXACT_ID_LCL_PAIR_AGE_LT_DY           0\n",
              "tmxrc_ExactID_Vel_per_Hour_High                       0\n",
              "tmxrc_ACC_LOGIN_LCL_AGE_LT_HR                         0\n",
              "tmxrc_ACC_EMAIL_SMART_ID_LCL_PAIR_AGE_LT_HR           0\n",
              "tmxrc_ExactID_Dist_per_Hour_High                      0\n",
              "tmxrc_Login_Dist_per_Day_High                         0\n",
              "tmxrc_TZ_Geo_Mismatch                                 0\n",
              "tmxrc_Geo_Lang_Mismatch                               0\n",
              "tmxrc_Rejected_TrueIP_Month                           0\n",
              "tmxrc_Possible_VPN_or_Tunnel                          0\n",
              "tmxrc_ACC_LOGIN_SMART_ID_LCL_PAIR_LAST_TXN_1MIN       1\n",
              "tmxrc_Email_Dist_per_Hour_High                        0\n",
              "tmxrc_Rejected_InputIP_Year                           0\n",
              "tmxrc_Rejected_InputIP_Month                          0\n",
              "tmxrc_Rejected_Email_Month                            0\n",
              "tmxrc_ACC_NUM_SMART_ID_LCL_PAIR_LAST_TXN_15MIN        0\n",
              "tmxrc_TMX_email_persona_anomaly                       0\n",
              "tmxrc_ACC_EMAIL_GBL_AGE_LT_DY                         0\n",
              "tmxrc_ACC_NUM_SMART_ID_LCL_PAIR_AGE_LT_DY             0\n",
              "tmxrc_Jailbreak_or_Root                               0\n",
              "tmxrc_Proxy_Anonymous                                 0\n",
              "sumrc_Level_1_Link_Reject                             0\n",
              "tmxrc_Rejected_ExactID_Month                          0\n",
              "tmxrc_PotentialVM_UA_Android_OS_Win                   0\n",
              "tmxrc_Phones_per_ExactID_Week_High                    0\n",
              "frd                                                   1\n",
              "eval                                               True\n",
              "Name: 0, dtype: object"
            ]
          },
          "metadata": {},
          "execution_count": 12
        }
      ]
    },
    {
      "cell_type": "code",
      "source": [
        "test_data = selected_data[selected_data['eval'] == True].iloc[:,0:46]"
      ],
      "metadata": {
        "id": "v0809LH80k1r"
      },
      "execution_count": null,
      "outputs": []
    },
    {
      "cell_type": "markdown",
      "source": [
        "# Set Vocabulary and Tokenizer"
      ],
      "metadata": {
        "id": "-scFSmS3eGVd"
      }
    },
    {
      "cell_type": "code",
      "source": [
        "vocab_file = \"vocab.txt\"\n",
        "## do not rerun this code chunk"
      ],
      "metadata": {
        "id": "OQA1qAPFFlzl"
      },
      "execution_count": null,
      "outputs": []
    },
    {
      "cell_type": "code",
      "source": [
        "vocab =['[UNK]', '[SEP]', '[PAD]', '[CLS]', '[MASK]','[BOS]','[EOS]']\n",
        "for feature in features:\n",
        "  vocab.append(feature+\"_0\")\n",
        "  vocab.append(feature+\"_1\")\n",
        "## do not rerun this code chunk"
      ],
      "metadata": {
        "id": "3l9yxjknHqC6"
      },
      "execution_count": null,
      "outputs": []
    },
    {
      "cell_type": "code",
      "source": [
        "with open(vocab_file, 'w') as vocab_fp:\n",
        "  vocab_fp.write(\"\\n\".join(vocab))\n",
        "## now the vocabulary is saved as vocab.txt"
      ],
      "metadata": {
        "id": "66lYVUIFHpCm"
      },
      "execution_count": null,
      "outputs": []
    },
    {
      "cell_type": "code",
      "source": [
        "!pip install transformers"
      ],
      "metadata": {
        "colab": {
          "base_uri": "https://localhost:8080/"
        },
        "id": "-Dn1MYhjI8Zc",
        "outputId": "72f397e6-3834-4bbd-aeba-2a64feb897c5"
      },
      "execution_count": null,
      "outputs": [
        {
          "output_type": "stream",
          "name": "stdout",
          "text": [
            "Looking in indexes: https://pypi.org/simple, https://us-python.pkg.dev/colab-wheels/public/simple/\n",
            "Collecting transformers\n",
            "  Downloading transformers-4.21.3-py3-none-any.whl (4.7 MB)\n",
            "\u001b[K     |████████████████████████████████| 4.7 MB 8.9 MB/s \n",
            "\u001b[?25hRequirement already satisfied: requests in /usr/local/lib/python3.7/dist-packages (from transformers) (2.23.0)\n",
            "Requirement already satisfied: packaging>=20.0 in /usr/local/lib/python3.7/dist-packages (from transformers) (21.3)\n",
            "Requirement already satisfied: pyyaml>=5.1 in /usr/local/lib/python3.7/dist-packages (from transformers) (6.0)\n",
            "Collecting tokenizers!=0.11.3,<0.13,>=0.11.1\n",
            "  Downloading tokenizers-0.12.1-cp37-cp37m-manylinux_2_12_x86_64.manylinux2010_x86_64.whl (6.6 MB)\n",
            "\u001b[K     |████████████████████████████████| 6.6 MB 70.0 MB/s \n",
            "\u001b[?25hRequirement already satisfied: numpy>=1.17 in /usr/local/lib/python3.7/dist-packages (from transformers) (1.21.6)\n",
            "Requirement already satisfied: tqdm>=4.27 in /usr/local/lib/python3.7/dist-packages (from transformers) (4.64.0)\n",
            "Requirement already satisfied: importlib-metadata in /usr/local/lib/python3.7/dist-packages (from transformers) (4.12.0)\n",
            "Requirement already satisfied: filelock in /usr/local/lib/python3.7/dist-packages (from transformers) (3.8.0)\n",
            "Requirement already satisfied: regex!=2019.12.17 in /usr/local/lib/python3.7/dist-packages (from transformers) (2022.6.2)\n",
            "Collecting huggingface-hub<1.0,>=0.1.0\n",
            "  Downloading huggingface_hub-0.9.1-py3-none-any.whl (120 kB)\n",
            "\u001b[K     |████████████████████████████████| 120 kB 76.2 MB/s \n",
            "\u001b[?25hRequirement already satisfied: typing-extensions>=3.7.4.3 in /usr/local/lib/python3.7/dist-packages (from huggingface-hub<1.0,>=0.1.0->transformers) (4.1.1)\n",
            "Requirement already satisfied: pyparsing!=3.0.5,>=2.0.2 in /usr/local/lib/python3.7/dist-packages (from packaging>=20.0->transformers) (3.0.9)\n",
            "Requirement already satisfied: zipp>=0.5 in /usr/local/lib/python3.7/dist-packages (from importlib-metadata->transformers) (3.8.1)\n",
            "Requirement already satisfied: chardet<4,>=3.0.2 in /usr/local/lib/python3.7/dist-packages (from requests->transformers) (3.0.4)\n",
            "Requirement already satisfied: certifi>=2017.4.17 in /usr/local/lib/python3.7/dist-packages (from requests->transformers) (2022.6.15)\n",
            "Requirement already satisfied: urllib3!=1.25.0,!=1.25.1,<1.26,>=1.21.1 in /usr/local/lib/python3.7/dist-packages (from requests->transformers) (1.24.3)\n",
            "Requirement already satisfied: idna<3,>=2.5 in /usr/local/lib/python3.7/dist-packages (from requests->transformers) (2.10)\n",
            "Installing collected packages: tokenizers, huggingface-hub, transformers\n",
            "Successfully installed huggingface-hub-0.9.1 tokenizers-0.12.1 transformers-4.21.3\n"
          ]
        }
      ]
    },
    {
      "cell_type": "code",
      "source": [
        "from transformers import BertTokenizer"
      ],
      "metadata": {
        "id": "8rX4C0VZI5U1"
      },
      "execution_count": null,
      "outputs": []
    },
    {
      "cell_type": "code",
      "source": [
        "special_tokens_dict = {\"unk_token\": \"[UNK]\", \n",
        "                       \"sep_token\": \"[SEP]\", \n",
        "                       \"pad_token\": \"[PAD]\", \n",
        "                       \"cls_token\": \"[CLS]\", \n",
        "                       \"mask_token\": \"[MASK]\",\n",
        "                       \"eos_token\": \"[EOS]\",\n",
        "                       \"bos_token\": \"[BOS]\"}"
      ],
      "metadata": {
        "id": "hpP3cF3FFpw2"
      },
      "execution_count": null,
      "outputs": []
    },
    {
      "cell_type": "code",
      "source": [
        "tokenizer = BertTokenizer(vocab_file,do_lower_case=False, do_basic_tokenize = False)"
      ],
      "metadata": {
        "id": "ecTQ9XgRJGLy"
      },
      "execution_count": null,
      "outputs": []
    },
    {
      "cell_type": "code",
      "source": [
        "tokenizer.add_special_tokens(special_tokens_dict)"
      ],
      "metadata": {
        "colab": {
          "base_uri": "https://localhost:8080/"
        },
        "id": "a4V9VyBtJLEx",
        "outputId": "1271eca7-1ae7-4aa1-e3c9-780e384e30ac"
      },
      "execution_count": null,
      "outputs": [
        {
          "output_type": "execute_result",
          "data": {
            "text/plain": [
              "0"
            ]
          },
          "metadata": {},
          "execution_count": 21
        }
      ]
    },
    {
      "cell_type": "markdown",
      "source": [
        "# Load Model"
      ],
      "metadata": {
        "id": "IW9o6sI-evyB"
      }
    },
    {
      "cell_type": "code",
      "source": [
        "!pip install shap"
      ],
      "metadata": {
        "colab": {
          "base_uri": "https://localhost:8080/"
        },
        "id": "qNlKiRJCLxaA",
        "outputId": "d5e8b74b-01a9-43fe-cbc6-5ea91fd0f522"
      },
      "execution_count": null,
      "outputs": [
        {
          "output_type": "stream",
          "name": "stdout",
          "text": [
            "Looking in indexes: https://pypi.org/simple, https://us-python.pkg.dev/colab-wheels/public/simple/\n",
            "Collecting shap\n",
            "  Downloading shap-0.41.0-cp37-cp37m-manylinux_2_12_x86_64.manylinux2010_x86_64.whl (569 kB)\n",
            "\u001b[K     |████████████████████████████████| 569 kB 5.2 MB/s \n",
            "\u001b[?25hRequirement already satisfied: pandas in /usr/local/lib/python3.7/dist-packages (from shap) (1.3.5)\n",
            "Requirement already satisfied: cloudpickle in /usr/local/lib/python3.7/dist-packages (from shap) (1.5.0)\n",
            "Requirement already satisfied: tqdm>4.25.0 in /usr/local/lib/python3.7/dist-packages (from shap) (4.64.0)\n",
            "Requirement already satisfied: numba in /usr/local/lib/python3.7/dist-packages (from shap) (0.56.0)\n",
            "Requirement already satisfied: scipy in /usr/local/lib/python3.7/dist-packages (from shap) (1.7.3)\n",
            "Collecting slicer==0.0.7\n",
            "  Downloading slicer-0.0.7-py3-none-any.whl (14 kB)\n",
            "Requirement already satisfied: packaging>20.9 in /usr/local/lib/python3.7/dist-packages (from shap) (21.3)\n",
            "Requirement already satisfied: scikit-learn in /usr/local/lib/python3.7/dist-packages (from shap) (1.0.2)\n",
            "Requirement already satisfied: numpy in /usr/local/lib/python3.7/dist-packages (from shap) (1.21.6)\n",
            "Requirement already satisfied: pyparsing!=3.0.5,>=2.0.2 in /usr/local/lib/python3.7/dist-packages (from packaging>20.9->shap) (3.0.9)\n",
            "Requirement already satisfied: importlib-metadata in /usr/local/lib/python3.7/dist-packages (from numba->shap) (4.12.0)\n",
            "Requirement already satisfied: llvmlite<0.40,>=0.39.0dev0 in /usr/local/lib/python3.7/dist-packages (from numba->shap) (0.39.0)\n",
            "Requirement already satisfied: setuptools in /usr/local/lib/python3.7/dist-packages (from numba->shap) (57.4.0)\n",
            "Requirement already satisfied: typing-extensions>=3.6.4 in /usr/local/lib/python3.7/dist-packages (from importlib-metadata->numba->shap) (4.1.1)\n",
            "Requirement already satisfied: zipp>=0.5 in /usr/local/lib/python3.7/dist-packages (from importlib-metadata->numba->shap) (3.8.1)\n",
            "Requirement already satisfied: pytz>=2017.3 in /usr/local/lib/python3.7/dist-packages (from pandas->shap) (2022.2.1)\n",
            "Requirement already satisfied: python-dateutil>=2.7.3 in /usr/local/lib/python3.7/dist-packages (from pandas->shap) (2.8.2)\n",
            "Requirement already satisfied: six>=1.5 in /usr/local/lib/python3.7/dist-packages (from python-dateutil>=2.7.3->pandas->shap) (1.15.0)\n",
            "Requirement already satisfied: joblib>=0.11 in /usr/local/lib/python3.7/dist-packages (from scikit-learn->shap) (1.1.0)\n",
            "Requirement already satisfied: threadpoolctl>=2.0.0 in /usr/local/lib/python3.7/dist-packages (from scikit-learn->shap) (3.1.0)\n",
            "Installing collected packages: slicer, shap\n",
            "Successfully installed shap-0.41.0 slicer-0.0.7\n"
          ]
        }
      ]
    },
    {
      "cell_type": "code",
      "source": [
        "!pip install datasets"
      ],
      "metadata": {
        "colab": {
          "base_uri": "https://localhost:8080/",
          "height": 1000
        },
        "id": "7fEaDGgxfS8w",
        "outputId": "b0a7211b-b98a-42b0-b17c-580d53b0cfd2"
      },
      "execution_count": null,
      "outputs": [
        {
          "output_type": "stream",
          "name": "stdout",
          "text": [
            "Looking in indexes: https://pypi.org/simple, https://us-python.pkg.dev/colab-wheels/public/simple/\n",
            "Collecting datasets\n",
            "  Downloading datasets-2.4.0-py3-none-any.whl (365 kB)\n",
            "\u001b[K     |████████████████████████████████| 365 kB 5.1 MB/s \n",
            "\u001b[?25hRequirement already satisfied: dill<0.3.6 in /usr/local/lib/python3.7/dist-packages (from datasets) (0.3.5.1)\n",
            "Collecting multiprocess\n",
            "  Downloading multiprocess-0.70.13-py37-none-any.whl (115 kB)\n",
            "\u001b[K     |████████████████████████████████| 115 kB 59.3 MB/s \n",
            "\u001b[?25hRequirement already satisfied: packaging in /usr/local/lib/python3.7/dist-packages (from datasets) (21.3)\n",
            "Requirement already satisfied: tqdm>=4.62.1 in /usr/local/lib/python3.7/dist-packages (from datasets) (4.64.0)\n",
            "Requirement already satisfied: requests>=2.19.0 in /usr/local/lib/python3.7/dist-packages (from datasets) (2.23.0)\n",
            "Requirement already satisfied: aiohttp in /usr/local/lib/python3.7/dist-packages (from datasets) (3.8.1)\n",
            "Requirement already satisfied: fsspec[http]>=2021.11.1 in /usr/local/lib/python3.7/dist-packages (from datasets) (2022.8.1)\n",
            "Collecting xxhash\n",
            "  Downloading xxhash-3.0.0-cp37-cp37m-manylinux_2_17_x86_64.manylinux2014_x86_64.whl (212 kB)\n",
            "\u001b[K     |████████████████████████████████| 212 kB 59.9 MB/s \n",
            "\u001b[?25hRequirement already satisfied: pandas in /usr/local/lib/python3.7/dist-packages (from datasets) (1.3.5)\n",
            "Requirement already satisfied: numpy>=1.17 in /usr/local/lib/python3.7/dist-packages (from datasets) (1.21.6)\n",
            "Requirement already satisfied: huggingface-hub<1.0.0,>=0.1.0 in /usr/local/lib/python3.7/dist-packages (from datasets) (0.9.1)\n",
            "Requirement already satisfied: importlib-metadata in /usr/local/lib/python3.7/dist-packages (from datasets) (4.12.0)\n",
            "Requirement already satisfied: pyarrow>=6.0.0 in /usr/local/lib/python3.7/dist-packages (from datasets) (6.0.1)\n",
            "Collecting responses<0.19\n",
            "  Downloading responses-0.18.0-py3-none-any.whl (38 kB)\n",
            "Requirement already satisfied: asynctest==0.13.0 in /usr/local/lib/python3.7/dist-packages (from aiohttp->datasets) (0.13.0)\n",
            "Requirement already satisfied: async-timeout<5.0,>=4.0.0a3 in /usr/local/lib/python3.7/dist-packages (from aiohttp->datasets) (4.0.2)\n",
            "Requirement already satisfied: multidict<7.0,>=4.5 in /usr/local/lib/python3.7/dist-packages (from aiohttp->datasets) (6.0.2)\n",
            "Requirement already satisfied: yarl<2.0,>=1.0 in /usr/local/lib/python3.7/dist-packages (from aiohttp->datasets) (1.8.1)\n",
            "Requirement already satisfied: attrs>=17.3.0 in /usr/local/lib/python3.7/dist-packages (from aiohttp->datasets) (22.1.0)\n",
            "Requirement already satisfied: aiosignal>=1.1.2 in /usr/local/lib/python3.7/dist-packages (from aiohttp->datasets) (1.2.0)\n",
            "Requirement already satisfied: frozenlist>=1.1.1 in /usr/local/lib/python3.7/dist-packages (from aiohttp->datasets) (1.3.1)\n",
            "Requirement already satisfied: charset-normalizer<3.0,>=2.0 in /usr/local/lib/python3.7/dist-packages (from aiohttp->datasets) (2.1.1)\n",
            "Requirement already satisfied: typing-extensions>=3.7.4 in /usr/local/lib/python3.7/dist-packages (from aiohttp->datasets) (4.1.1)\n",
            "Requirement already satisfied: pyyaml>=5.1 in /usr/local/lib/python3.7/dist-packages (from huggingface-hub<1.0.0,>=0.1.0->datasets) (6.0)\n",
            "Requirement already satisfied: filelock in /usr/local/lib/python3.7/dist-packages (from huggingface-hub<1.0.0,>=0.1.0->datasets) (3.8.0)\n",
            "Requirement already satisfied: pyparsing!=3.0.5,>=2.0.2 in /usr/local/lib/python3.7/dist-packages (from packaging->datasets) (3.0.9)\n",
            "Requirement already satisfied: urllib3!=1.25.0,!=1.25.1,<1.26,>=1.21.1 in /usr/local/lib/python3.7/dist-packages (from requests>=2.19.0->datasets) (1.24.3)\n",
            "Requirement already satisfied: certifi>=2017.4.17 in /usr/local/lib/python3.7/dist-packages (from requests>=2.19.0->datasets) (2022.6.15)\n",
            "Requirement already satisfied: chardet<4,>=3.0.2 in /usr/local/lib/python3.7/dist-packages (from requests>=2.19.0->datasets) (3.0.4)\n",
            "Requirement already satisfied: idna<3,>=2.5 in /usr/local/lib/python3.7/dist-packages (from requests>=2.19.0->datasets) (2.10)\n",
            "Collecting urllib3!=1.25.0,!=1.25.1,<1.26,>=1.21.1\n",
            "  Downloading urllib3-1.25.11-py2.py3-none-any.whl (127 kB)\n",
            "\u001b[K     |████████████████████████████████| 127 kB 48.2 MB/s \n",
            "\u001b[?25hRequirement already satisfied: zipp>=0.5 in /usr/local/lib/python3.7/dist-packages (from importlib-metadata->datasets) (3.8.1)\n",
            "Requirement already satisfied: pytz>=2017.3 in /usr/local/lib/python3.7/dist-packages (from pandas->datasets) (2022.2.1)\n",
            "Requirement already satisfied: python-dateutil>=2.7.3 in /usr/local/lib/python3.7/dist-packages (from pandas->datasets) (2.8.2)\n",
            "Requirement already satisfied: six>=1.5 in /usr/local/lib/python3.7/dist-packages (from python-dateutil>=2.7.3->pandas->datasets) (1.15.0)\n",
            "Installing collected packages: urllib3, xxhash, responses, multiprocess, datasets\n",
            "  Attempting uninstall: urllib3\n",
            "    Found existing installation: urllib3 1.24.3\n",
            "    Uninstalling urllib3-1.24.3:\n",
            "      Successfully uninstalled urllib3-1.24.3\n",
            "Successfully installed datasets-2.4.0 multiprocess-0.70.13 responses-0.18.0 urllib3-1.25.11 xxhash-3.0.0\n"
          ]
        },
        {
          "output_type": "display_data",
          "data": {
            "application/vnd.colab-display-data+json": {
              "pip_warning": {
                "packages": [
                  "urllib3"
                ]
              }
            }
          },
          "metadata": {}
        }
      ]
    },
    {
      "cell_type": "code",
      "source": [
        "from transformers import BertForSequenceClassification"
      ],
      "metadata": {
        "id": "L9PO_4C8MdJt"
      },
      "execution_count": null,
      "outputs": []
    },
    {
      "cell_type": "code",
      "source": [
        "finetunemodel = BertForSequenceClassification.from_pretrained('/content/drive/MyDrive/checkpoint-98325-finetuned', num_labels=2)"
      ],
      "metadata": {
        "id": "t1mduFFgMTVY"
      },
      "execution_count": null,
      "outputs": []
    },
    {
      "cell_type": "code",
      "source": [
        "import transformers\n",
        "import datasets\n",
        "import shap\n",
        "import numpy as np"
      ],
      "metadata": {
        "id": "ifmQb35eZDiN"
      },
      "execution_count": null,
      "outputs": []
    },
    {
      "cell_type": "code",
      "source": [
        "classifier = transformers.pipeline(\"sentiment-analysis\", model=finetunemodel, tokenizer=tokenizer, return_all_scores=True)"
      ],
      "metadata": {
        "colab": {
          "base_uri": "https://localhost:8080/"
        },
        "id": "_IOqPI_yZcYl",
        "outputId": "4aa1388e-2e24-4d00-c734-11cbc841c180"
      },
      "execution_count": null,
      "outputs": [
        {
          "output_type": "stream",
          "name": "stderr",
          "text": [
            "`return_all_scores` is now deprecated, use `top_k=1` if you want similar functionnality\n"
          ]
        }
      ]
    },
    {
      "cell_type": "code",
      "source": [
        "# define the explainer\n",
        "explainer = shap.Explainer(classifier)"
      ],
      "metadata": {
        "id": "PDJEYps7Zfl4"
      },
      "execution_count": null,
      "outputs": []
    },
    {
      "cell_type": "markdown",
      "source": [
        "# Streamlit"
      ],
      "metadata": {
        "id": "GDtLSjSZdRQW"
      }
    },
    {
      "cell_type": "code",
      "source": [
        "!pip -q install streamlit\n",
        "!pip install pyngrok==4.1.1"
      ],
      "metadata": {
        "colab": {
          "base_uri": "https://localhost:8080/"
        },
        "id": "_cw_YWf5dTu9",
        "outputId": "6db005fd-519c-49fc-81f5-4e8050885663"
      },
      "execution_count": null,
      "outputs": [
        {
          "output_type": "stream",
          "name": "stdout",
          "text": [
            "\u001b[K     |████████████████████████████████| 9.1 MB 7.0 MB/s \n",
            "\u001b[K     |████████████████████████████████| 235 kB 78.5 MB/s \n",
            "\u001b[K     |████████████████████████████████| 164 kB 90.0 MB/s \n",
            "\u001b[K     |████████████████████████████████| 4.7 MB 48.1 MB/s \n",
            "\u001b[K     |████████████████████████████████| 78 kB 8.3 MB/s \n",
            "\u001b[K     |████████████████████████████████| 181 kB 89.6 MB/s \n",
            "\u001b[K     |████████████████████████████████| 63 kB 734 kB/s \n",
            "\u001b[K     |████████████████████████████████| 51 kB 7.7 MB/s \n",
            "\u001b[?25h  Building wheel for validators (setup.py) ... \u001b[?25l\u001b[?25hdone\n",
            "Looking in indexes: https://pypi.org/simple, https://us-python.pkg.dev/colab-wheels/public/simple/\n",
            "Collecting pyngrok==4.1.1\n",
            "  Downloading pyngrok-4.1.1.tar.gz (18 kB)\n",
            "Requirement already satisfied: future in /usr/local/lib/python3.7/dist-packages (from pyngrok==4.1.1) (0.16.0)\n",
            "Requirement already satisfied: PyYAML in /usr/local/lib/python3.7/dist-packages (from pyngrok==4.1.1) (6.0)\n",
            "Building wheels for collected packages: pyngrok\n",
            "  Building wheel for pyngrok (setup.py) ... \u001b[?25l\u001b[?25hdone\n",
            "  Created wheel for pyngrok: filename=pyngrok-4.1.1-py3-none-any.whl size=15983 sha256=2e7b89c082b363b514ed1f3b4b9273944b7e2b4840401aed31a9a6583bf3aa9d\n",
            "  Stored in directory: /root/.cache/pip/wheels/b1/d9/12/045a042fee3127dc40ba6f5df2798aa2df38c414bf533ca765\n",
            "Successfully built pyngrok\n",
            "Installing collected packages: pyngrok\n",
            "Successfully installed pyngrok-4.1.1\n"
          ]
        }
      ]
    },
    {
      "cell_type": "code",
      "source": [
        "!ngrok authtoken 2DDjAAwoRbDxWnRkNabUZGjYWmy_4t1tcU9DFoqpyqYycXfgf"
      ],
      "metadata": {
        "colab": {
          "base_uri": "https://localhost:8080/"
        },
        "id": "OF_O80pXdWC4",
        "outputId": "11d0f540-a5f9-4f79-d8a3-4d1e4a709c3c"
      },
      "execution_count": null,
      "outputs": [
        {
          "output_type": "stream",
          "name": "stdout",
          "text": [
            "Authtoken saved to configuration file: /root/.ngrok2/ngrok.yml\n"
          ]
        }
      ]
    },
    {
      "cell_type": "code",
      "source": [
        "!pip install datasets"
      ],
      "metadata": {
        "colab": {
          "base_uri": "https://localhost:8080/",
          "height": 1000
        },
        "id": "0wwS6aLISYRU",
        "outputId": "771475e8-36f4-496b-b698-3f0e2ff38613"
      },
      "execution_count": null,
      "outputs": [
        {
          "output_type": "stream",
          "name": "stdout",
          "text": [
            "Looking in indexes: https://pypi.org/simple, https://us-python.pkg.dev/colab-wheels/public/simple/\n",
            "Collecting datasets\n",
            "  Downloading datasets-2.4.0-py3-none-any.whl (365 kB)\n",
            "\u001b[K     |████████████████████████████████| 365 kB 7.6 MB/s \n",
            "\u001b[?25hCollecting xxhash\n",
            "  Downloading xxhash-3.0.0-cp37-cp37m-manylinux_2_17_x86_64.manylinux2014_x86_64.whl (212 kB)\n",
            "\u001b[K     |████████████████████████████████| 212 kB 73.6 MB/s \n",
            "\u001b[?25hRequirement already satisfied: requests>=2.19.0 in /usr/local/lib/python3.7/dist-packages (from datasets) (2.23.0)\n",
            "Requirement already satisfied: tqdm>=4.62.1 in /usr/local/lib/python3.7/dist-packages (from datasets) (4.64.0)\n",
            "Requirement already satisfied: numpy>=1.17 in /usr/local/lib/python3.7/dist-packages (from datasets) (1.21.6)\n",
            "Requirement already satisfied: fsspec[http]>=2021.11.1 in /usr/local/lib/python3.7/dist-packages (from datasets) (2022.8.1)\n",
            "Requirement already satisfied: huggingface-hub<1.0.0,>=0.1.0 in /usr/local/lib/python3.7/dist-packages (from datasets) (0.9.1)\n",
            "Requirement already satisfied: aiohttp in /usr/local/lib/python3.7/dist-packages (from datasets) (3.8.1)\n",
            "Requirement already satisfied: pyarrow>=6.0.0 in /usr/local/lib/python3.7/dist-packages (from datasets) (6.0.1)\n",
            "Collecting multiprocess\n",
            "  Downloading multiprocess-0.70.13-py37-none-any.whl (115 kB)\n",
            "\u001b[K     |████████████████████████████████| 115 kB 70.1 MB/s \n",
            "\u001b[?25hRequirement already satisfied: importlib-metadata in /usr/local/lib/python3.7/dist-packages (from datasets) (4.12.0)\n",
            "Requirement already satisfied: packaging in /usr/local/lib/python3.7/dist-packages (from datasets) (21.3)\n",
            "Collecting responses<0.19\n",
            "  Downloading responses-0.18.0-py3-none-any.whl (38 kB)\n",
            "Requirement already satisfied: dill<0.3.6 in /usr/local/lib/python3.7/dist-packages (from datasets) (0.3.5.1)\n",
            "Requirement already satisfied: pandas in /usr/local/lib/python3.7/dist-packages (from datasets) (1.3.5)\n",
            "Requirement already satisfied: async-timeout<5.0,>=4.0.0a3 in /usr/local/lib/python3.7/dist-packages (from aiohttp->datasets) (4.0.2)\n",
            "Requirement already satisfied: asynctest==0.13.0 in /usr/local/lib/python3.7/dist-packages (from aiohttp->datasets) (0.13.0)\n",
            "Requirement already satisfied: frozenlist>=1.1.1 in /usr/local/lib/python3.7/dist-packages (from aiohttp->datasets) (1.3.1)\n",
            "Requirement already satisfied: charset-normalizer<3.0,>=2.0 in /usr/local/lib/python3.7/dist-packages (from aiohttp->datasets) (2.1.1)\n",
            "Requirement already satisfied: aiosignal>=1.1.2 in /usr/local/lib/python3.7/dist-packages (from aiohttp->datasets) (1.2.0)\n",
            "Requirement already satisfied: attrs>=17.3.0 in /usr/local/lib/python3.7/dist-packages (from aiohttp->datasets) (22.1.0)\n",
            "Requirement already satisfied: yarl<2.0,>=1.0 in /usr/local/lib/python3.7/dist-packages (from aiohttp->datasets) (1.8.1)\n",
            "Requirement already satisfied: multidict<7.0,>=4.5 in /usr/local/lib/python3.7/dist-packages (from aiohttp->datasets) (6.0.2)\n",
            "Requirement already satisfied: typing-extensions>=3.7.4 in /usr/local/lib/python3.7/dist-packages (from aiohttp->datasets) (4.1.1)\n",
            "Requirement already satisfied: pyyaml>=5.1 in /usr/local/lib/python3.7/dist-packages (from huggingface-hub<1.0.0,>=0.1.0->datasets) (6.0)\n",
            "Requirement already satisfied: filelock in /usr/local/lib/python3.7/dist-packages (from huggingface-hub<1.0.0,>=0.1.0->datasets) (3.8.0)\n",
            "Requirement already satisfied: pyparsing!=3.0.5,>=2.0.2 in /usr/local/lib/python3.7/dist-packages (from packaging->datasets) (3.0.9)\n",
            "Requirement already satisfied: certifi>=2017.4.17 in /usr/local/lib/python3.7/dist-packages (from requests>=2.19.0->datasets) (2022.6.15)\n",
            "Requirement already satisfied: chardet<4,>=3.0.2 in /usr/local/lib/python3.7/dist-packages (from requests>=2.19.0->datasets) (3.0.4)\n",
            "Requirement already satisfied: idna<3,>=2.5 in /usr/local/lib/python3.7/dist-packages (from requests>=2.19.0->datasets) (2.10)\n",
            "Requirement already satisfied: urllib3!=1.25.0,!=1.25.1,<1.26,>=1.21.1 in /usr/local/lib/python3.7/dist-packages (from requests>=2.19.0->datasets) (1.24.3)\n",
            "Collecting urllib3!=1.25.0,!=1.25.1,<1.26,>=1.21.1\n",
            "  Downloading urllib3-1.25.11-py2.py3-none-any.whl (127 kB)\n",
            "\u001b[K     |████████████████████████████████| 127 kB 88.8 MB/s \n",
            "\u001b[?25hRequirement already satisfied: zipp>=0.5 in /usr/local/lib/python3.7/dist-packages (from importlib-metadata->datasets) (3.8.1)\n",
            "Requirement already satisfied: python-dateutil>=2.7.3 in /usr/local/lib/python3.7/dist-packages (from pandas->datasets) (2.8.2)\n",
            "Requirement already satisfied: pytz>=2017.3 in /usr/local/lib/python3.7/dist-packages (from pandas->datasets) (2022.2.1)\n",
            "Requirement already satisfied: six>=1.5 in /usr/local/lib/python3.7/dist-packages (from python-dateutil>=2.7.3->pandas->datasets) (1.15.0)\n",
            "Installing collected packages: urllib3, xxhash, responses, multiprocess, datasets\n",
            "  Attempting uninstall: urllib3\n",
            "    Found existing installation: urllib3 1.24.3\n",
            "    Uninstalling urllib3-1.24.3:\n",
            "      Successfully uninstalled urllib3-1.24.3\n",
            "Successfully installed datasets-2.4.0 multiprocess-0.70.13 responses-0.18.0 urllib3-1.25.11 xxhash-3.0.0\n"
          ]
        },
        {
          "output_type": "display_data",
          "data": {
            "application/vnd.colab-display-data+json": {
              "pip_warning": {
                "packages": [
                  "urllib3"
                ]
              }
            }
          },
          "metadata": {}
        }
      ]
    },
    {
      "cell_type": "code",
      "source": [
        "!pip install evaluate"
      ],
      "metadata": {
        "colab": {
          "base_uri": "https://localhost:8080/"
        },
        "id": "dDE_frPyTTLt",
        "outputId": "1743d48b-cb6c-48fc-873d-942a34b76daa"
      },
      "execution_count": null,
      "outputs": [
        {
          "output_type": "stream",
          "name": "stdout",
          "text": [
            "Looking in indexes: https://pypi.org/simple, https://us-python.pkg.dev/colab-wheels/public/simple/\n",
            "Collecting evaluate\n",
            "  Downloading evaluate-0.2.2-py3-none-any.whl (69 kB)\n",
            "\u001b[?25l\r\u001b[K     |████▊                           | 10 kB 34.5 MB/s eta 0:00:01\r\u001b[K     |█████████▍                      | 20 kB 13.6 MB/s eta 0:00:01\r\u001b[K     |██████████████                  | 30 kB 18.9 MB/s eta 0:00:01\r\u001b[K     |██████████████████▉             | 40 kB 8.2 MB/s eta 0:00:01\r\u001b[K     |███████████████████████▌        | 51 kB 7.7 MB/s eta 0:00:01\r\u001b[K     |████████████████████████████▏   | 61 kB 9.1 MB/s eta 0:00:01\r\u001b[K     |████████████████████████████████| 69 kB 5.3 MB/s \n",
            "\u001b[?25hRequirement already satisfied: dill in /usr/local/lib/python3.7/dist-packages (from evaluate) (0.3.5.1)\n",
            "Requirement already satisfied: tqdm>=4.62.1 in /usr/local/lib/python3.7/dist-packages (from evaluate) (4.64.0)\n",
            "Requirement already satisfied: numpy>=1.17 in /usr/local/lib/python3.7/dist-packages (from evaluate) (1.21.6)\n",
            "Requirement already satisfied: importlib-metadata in /usr/local/lib/python3.7/dist-packages (from evaluate) (4.12.0)\n",
            "Requirement already satisfied: pandas in /usr/local/lib/python3.7/dist-packages (from evaluate) (1.3.5)\n",
            "Requirement already satisfied: xxhash in /usr/local/lib/python3.7/dist-packages (from evaluate) (3.0.0)\n",
            "Requirement already satisfied: fsspec[http]>=2021.05.0 in /usr/local/lib/python3.7/dist-packages (from evaluate) (2022.8.1)\n",
            "Requirement already satisfied: packaging in /usr/local/lib/python3.7/dist-packages (from evaluate) (21.3)\n",
            "Requirement already satisfied: requests>=2.19.0 in /usr/local/lib/python3.7/dist-packages (from evaluate) (2.23.0)\n",
            "Requirement already satisfied: huggingface-hub>=0.7.0 in /usr/local/lib/python3.7/dist-packages (from evaluate) (0.9.1)\n",
            "Requirement already satisfied: responses<0.19 in /usr/local/lib/python3.7/dist-packages (from evaluate) (0.18.0)\n",
            "Requirement already satisfied: datasets>=2.0.0 in /usr/local/lib/python3.7/dist-packages (from evaluate) (2.4.0)\n",
            "Requirement already satisfied: multiprocess in /usr/local/lib/python3.7/dist-packages (from evaluate) (0.70.13)\n",
            "Requirement already satisfied: pyarrow>=6.0.0 in /usr/local/lib/python3.7/dist-packages (from datasets>=2.0.0->evaluate) (6.0.1)\n",
            "Requirement already satisfied: aiohttp in /usr/local/lib/python3.7/dist-packages (from datasets>=2.0.0->evaluate) (3.8.1)\n",
            "Requirement already satisfied: multidict<7.0,>=4.5 in /usr/local/lib/python3.7/dist-packages (from aiohttp->datasets>=2.0.0->evaluate) (6.0.2)\n",
            "Requirement already satisfied: yarl<2.0,>=1.0 in /usr/local/lib/python3.7/dist-packages (from aiohttp->datasets>=2.0.0->evaluate) (1.8.1)\n",
            "Requirement already satisfied: charset-normalizer<3.0,>=2.0 in /usr/local/lib/python3.7/dist-packages (from aiohttp->datasets>=2.0.0->evaluate) (2.1.1)\n",
            "Requirement already satisfied: frozenlist>=1.1.1 in /usr/local/lib/python3.7/dist-packages (from aiohttp->datasets>=2.0.0->evaluate) (1.3.1)\n",
            "Requirement already satisfied: typing-extensions>=3.7.4 in /usr/local/lib/python3.7/dist-packages (from aiohttp->datasets>=2.0.0->evaluate) (4.1.1)\n",
            "Requirement already satisfied: async-timeout<5.0,>=4.0.0a3 in /usr/local/lib/python3.7/dist-packages (from aiohttp->datasets>=2.0.0->evaluate) (4.0.2)\n",
            "Requirement already satisfied: aiosignal>=1.1.2 in /usr/local/lib/python3.7/dist-packages (from aiohttp->datasets>=2.0.0->evaluate) (1.2.0)\n",
            "Requirement already satisfied: attrs>=17.3.0 in /usr/local/lib/python3.7/dist-packages (from aiohttp->datasets>=2.0.0->evaluate) (22.1.0)\n",
            "Requirement already satisfied: asynctest==0.13.0 in /usr/local/lib/python3.7/dist-packages (from aiohttp->datasets>=2.0.0->evaluate) (0.13.0)\n",
            "Requirement already satisfied: filelock in /usr/local/lib/python3.7/dist-packages (from huggingface-hub>=0.7.0->evaluate) (3.8.0)\n",
            "Requirement already satisfied: pyyaml>=5.1 in /usr/local/lib/python3.7/dist-packages (from huggingface-hub>=0.7.0->evaluate) (6.0)\n",
            "Requirement already satisfied: pyparsing!=3.0.5,>=2.0.2 in /usr/local/lib/python3.7/dist-packages (from packaging->evaluate) (3.0.9)\n",
            "Requirement already satisfied: idna<3,>=2.5 in /usr/local/lib/python3.7/dist-packages (from requests>=2.19.0->evaluate) (2.10)\n",
            "Requirement already satisfied: urllib3!=1.25.0,!=1.25.1,<1.26,>=1.21.1 in /usr/local/lib/python3.7/dist-packages (from requests>=2.19.0->evaluate) (1.25.11)\n",
            "Requirement already satisfied: chardet<4,>=3.0.2 in /usr/local/lib/python3.7/dist-packages (from requests>=2.19.0->evaluate) (3.0.4)\n",
            "Requirement already satisfied: certifi>=2017.4.17 in /usr/local/lib/python3.7/dist-packages (from requests>=2.19.0->evaluate) (2022.6.15)\n",
            "Requirement already satisfied: zipp>=0.5 in /usr/local/lib/python3.7/dist-packages (from importlib-metadata->evaluate) (3.8.1)\n",
            "Requirement already satisfied: python-dateutil>=2.7.3 in /usr/local/lib/python3.7/dist-packages (from pandas->evaluate) (2.8.2)\n",
            "Requirement already satisfied: pytz>=2017.3 in /usr/local/lib/python3.7/dist-packages (from pandas->evaluate) (2022.2.1)\n",
            "Requirement already satisfied: six>=1.5 in /usr/local/lib/python3.7/dist-packages (from python-dateutil>=2.7.3->pandas->evaluate) (1.15.0)\n",
            "Installing collected packages: evaluate\n",
            "Successfully installed evaluate-0.2.2\n"
          ]
        }
      ]
    },
    {
      "cell_type": "code",
      "source": [
        "!pip install shap"
      ],
      "metadata": {
        "colab": {
          "base_uri": "https://localhost:8080/"
        },
        "id": "ex2O5bAKAKRl",
        "outputId": "3e2f4025-c8cf-4b8e-a1ac-3c2f7b57da39"
      },
      "execution_count": null,
      "outputs": [
        {
          "output_type": "stream",
          "name": "stdout",
          "text": [
            "Looking in indexes: https://pypi.org/simple, https://us-python.pkg.dev/colab-wheels/public/simple/\n",
            "Collecting shap\n",
            "  Downloading shap-0.41.0-cp37-cp37m-manylinux_2_12_x86_64.manylinux2010_x86_64.whl (569 kB)\n",
            "\u001b[K     |████████████████████████████████| 569 kB 7.4 MB/s \n",
            "\u001b[?25hRequirement already satisfied: cloudpickle in /usr/local/lib/python3.7/dist-packages (from shap) (1.5.0)\n",
            "Requirement already satisfied: scipy in /usr/local/lib/python3.7/dist-packages (from shap) (1.7.3)\n",
            "Collecting slicer==0.0.7\n",
            "  Downloading slicer-0.0.7-py3-none-any.whl (14 kB)\n",
            "Requirement already satisfied: numpy in /usr/local/lib/python3.7/dist-packages (from shap) (1.21.6)\n",
            "Requirement already satisfied: packaging>20.9 in /usr/local/lib/python3.7/dist-packages (from shap) (21.3)\n",
            "Requirement already satisfied: numba in /usr/local/lib/python3.7/dist-packages (from shap) (0.56.0)\n",
            "Requirement already satisfied: pandas in /usr/local/lib/python3.7/dist-packages (from shap) (1.3.5)\n",
            "Requirement already satisfied: tqdm>4.25.0 in /usr/local/lib/python3.7/dist-packages (from shap) (4.64.0)\n",
            "Requirement already satisfied: scikit-learn in /usr/local/lib/python3.7/dist-packages (from shap) (1.0.2)\n",
            "Requirement already satisfied: pyparsing!=3.0.5,>=2.0.2 in /usr/local/lib/python3.7/dist-packages (from packaging>20.9->shap) (3.0.9)\n",
            "Requirement already satisfied: setuptools in /usr/local/lib/python3.7/dist-packages (from numba->shap) (57.4.0)\n",
            "Requirement already satisfied: importlib-metadata in /usr/local/lib/python3.7/dist-packages (from numba->shap) (4.12.0)\n",
            "Requirement already satisfied: llvmlite<0.40,>=0.39.0dev0 in /usr/local/lib/python3.7/dist-packages (from numba->shap) (0.39.0)\n",
            "Requirement already satisfied: zipp>=0.5 in /usr/local/lib/python3.7/dist-packages (from importlib-metadata->numba->shap) (3.8.1)\n",
            "Requirement already satisfied: typing-extensions>=3.6.4 in /usr/local/lib/python3.7/dist-packages (from importlib-metadata->numba->shap) (4.1.1)\n",
            "Requirement already satisfied: pytz>=2017.3 in /usr/local/lib/python3.7/dist-packages (from pandas->shap) (2022.2.1)\n",
            "Requirement already satisfied: python-dateutil>=2.7.3 in /usr/local/lib/python3.7/dist-packages (from pandas->shap) (2.8.2)\n",
            "Requirement already satisfied: six>=1.5 in /usr/local/lib/python3.7/dist-packages (from python-dateutil>=2.7.3->pandas->shap) (1.15.0)\n",
            "Requirement already satisfied: threadpoolctl>=2.0.0 in /usr/local/lib/python3.7/dist-packages (from scikit-learn->shap) (3.1.0)\n",
            "Requirement already satisfied: joblib>=0.11 in /usr/local/lib/python3.7/dist-packages (from scikit-learn->shap) (1.1.0)\n",
            "Installing collected packages: slicer, shap\n",
            "Successfully installed shap-0.41.0 slicer-0.0.7\n"
          ]
        }
      ]
    },
    {
      "cell_type": "code",
      "source": [
        "%%writefile app.py\n",
        "import streamlit as st\n",
        "\n",
        "def intro():\n",
        "    import streamlit as st\n",
        "\n",
        "    st.write(\"# Fraud Detection with Deep Learning\")\n",
        "    st.sidebar.success(\"Select a demo above.\")\n",
        "\n",
        "    st.markdown(\n",
        "        \"\"\"This app uses BERT from the Hugging Face library library to detect frauds.\n",
        "    \"\"\"\n",
        "    )\n",
        "\n",
        "def single_demo():\n",
        "  import numpy as np\n",
        "  import pandas as pd\n",
        "  import transformers\n",
        "  from matplotlib import pyplot as plt\n",
        "  import shap\n",
        "  from transformers import BertForSequenceClassification\n",
        "  from transformers import BertTokenizer\n",
        "  import streamlit.components.v1 as components\n",
        "  from IPython.core.interactiveshell import InteractiveShell\n",
        "  from IPython.utils import capture\n",
        "\n",
        "  # Load Data\n",
        "  DATA_DIR = '/content/drive/My Drive/FraudTransformer'\n",
        "  data_path = f'{DATA_DIR}/fe_banking_login_20201201_20210531.csv'\n",
        "  feature_path = f'{DATA_DIR}/modified_coef_final4th.csv'\n",
        "  raw_data = pd.read_csv(data_path)\n",
        "  feature_list = pd.read_csv(feature_path)\n",
        "  features = feature_list[\"Unnamed: 0\"].astype(\"str\").tolist()\n",
        "  selected_data = raw_data[features+['frd', 'eval']]\n",
        "  selected_data.rename({'tmxrc_Possible VPN or Tunnel': 'tmxrc_Possible_VPN_or_Tunnel'}, axis=1, inplace=True)\n",
        "  features[29] = 'tmxrc_Possible_VPN_or_Tunnel'\n",
        "  test_data = selected_data[selected_data['eval'] == True].iloc[:,0:46]\n",
        "\n",
        "  # Set Tokenizer\n",
        "  vocab_file = \"vocab.txt\"\n",
        "  special_tokens_dict = {\"unk_token\": \"[UNK]\", \n",
        "                        \"sep_token\": \"[SEP]\", \n",
        "                        \"pad_token\": \"[PAD]\", \n",
        "                        \"cls_token\": \"[CLS]\", \n",
        "                        \"mask_token\": \"[MASK]\",\n",
        "                        \"eos_token\": \"[EOS]\",\n",
        "                        \"bos_token\": \"[BOS]\"}\n",
        "  tokenizer = BertTokenizer(vocab_file,do_lower_case=False, do_basic_tokenize = False)\n",
        "  tokenizer.add_special_tokens(special_tokens_dict)\n",
        "\n",
        "  # Load Model\n",
        "  finetunemodel = BertForSequenceClassification.from_pretrained('/content/drive/MyDrive/checkpoint-98325-finetuned', num_labels=2)\n",
        "  classifier = transformers.pipeline(\"sentiment-analysis\", model=finetunemodel, tokenizer=tokenizer, return_all_scores=True)\n",
        "  explainer = shap.Explainer(classifier)\n",
        "\n",
        "  def st_plot_text_shap(shap_val, height=None):\n",
        "      InteractiveShell().instance()\n",
        "      with capture.capture_output() as cap: \n",
        "          shap.plots.text(shap_val[:,:,\"LABEL_1\"])\n",
        "      components.html(cap.outputs[0].data['text/html'], height=height, scrolling=True)\n",
        "\n",
        "  st.markdown(f'# {list(page_names_to_funcs.keys())[1]}')\n",
        "\n",
        "  # Promt Input\n",
        "  st.markdown(\"Now select a row from the test set\")\n",
        "  max_row = len(test_data)-1\n",
        "  index= st.number_input(\n",
        "              \"Pick up a row\", min_value=0, max_value=max_row, step=1, value=0, key='singleinput')\n",
        "  input_list = test_data.iloc[index]\n",
        "  input_df = test_data.iloc[[index]]\n",
        "  show_row = st.button(\"Show selected row\")\n",
        "  if show_row:\n",
        "    st.text(\"Your input is:\")\n",
        "    st.dataframe(input_df)\n",
        "\n",
        "  st.subheader(\"Fraud Classification\")\n",
        "  run_model = st.button(\"Run BERT model\")\n",
        "  if run_model:\n",
        "    input_list = test_data.iloc[index]\n",
        "    test_data_features = input_list[0:45]\n",
        "    test_data_labels = input_list[45]\n",
        "    x = test_data_features.to_string(header=False).split('\\n')\n",
        "    vals = ['_'.join(ele.split()) for ele in x]\n",
        "    val = \" \".join(vals)\n",
        "    st.text('{}'.format(classifier(val)))\n",
        "    st.text('{}'.format(input_list[45]))\n",
        "\n",
        "    st.subheader(\"SHAP values plot\")\n",
        "    shap_values = explainer([val])\n",
        "    st_plot_text_shap(shap_values)\n",
        "\n",
        "def dataset_demo():\n",
        "  import numpy as np\n",
        "  import pandas as pd\n",
        "  import transformers\n",
        "  from transformers import BertForSequenceClassification\n",
        "  from transformers import BertTokenizer\n",
        "  from transformers import pipeline\n",
        "  from datasets import Dataset\n",
        "  import torch\n",
        "  \n",
        "  st.write('Now upload your own fraud detection dataset with, of course, the same format')\n",
        "  uploaded_file = st.file_uploader(\n",
        "        \"Choose a CSV file\", type=\"csv\")\n",
        "  if uploaded_file is not None:\n",
        "    run_model = st.button(\"Run ML model\")\n",
        "    if run_model:\n",
        "      test_data = pd.read_csv(uploaded_file)\n",
        "      DATA_DIR = '/content/drive/My Drive/FraudTransformer'\n",
        "      feature_path = f'{DATA_DIR}/modified_coef_final4th.csv'\n",
        "      feature_list = pd.read_csv(feature_path)\n",
        "      features = feature_list[\"Unnamed: 0\"].astype(\"str\").tolist()\n",
        "      features[29] = 'tmxrc_Possible_VPN_or_Tunnel'\n",
        "\n",
        "      vocab_file = \"vocab.txt\"\n",
        "      special_tokens_dict = {\"unk_token\": \"[UNK]\", \n",
        "                            \"sep_token\": \"[SEP]\", \n",
        "                            \"pad_token\": \"[PAD]\", \n",
        "                            \"cls_token\": \"[CLS]\", \n",
        "                            \"mask_token\": \"[MASK]\",\n",
        "                            \"eos_token\": \"[EOS]\",\n",
        "                            \"bos_token\": \"[BOS]\"}\n",
        "      tokenizer = BertTokenizer(vocab_file,do_lower_case=False, do_basic_tokenize = False)\n",
        "      tokenizer.add_special_tokens(special_tokens_dict)\n",
        "\n",
        "      test_data_features = test_data.iloc[:,0:45]\n",
        "      test_data_labels = test_data.iloc[:,45]\n",
        "      vocab_dict = tokenizer.get_vocab()\n",
        "\n",
        "      for column in test_data_features:\n",
        "        test_data_features[column] = test_data_features[column].map(lambda x:column + \"_\" + str(x))\n",
        "        test_data_features[column] = test_data_features[column].map(lambda x: vocab_dict.get(x, vocab_dict['[UNK]']))\n",
        "      input_initial = test_data_features.to_numpy().tolist()\n",
        "      input = [[3]+x+[1] for x in input_initial]\n",
        "      my_dict = {'input_ids': input, \n",
        "           'labels': test_data_labels.to_list(), \n",
        "           'token_type_ids': [[0]*(len(test_data_features.columns)+2)]*len(test_data_features),\n",
        "           'attention_mask': [[1]*(len(test_data_features.columns)+2)]*len(test_data_features)}\n",
        "      test_df = Dataset.from_dict(my_dict)\n",
        "      device = torch.device(\"cuda\" if torch.cuda.is_available() else \"cpu\")\n",
        "      test_df = test_df.with_format(\"torch\", device=device)\n",
        "      finetunemodel = BertForSequenceClassification.from_pretrained('/content/drive/MyDrive/checkpoint-98325-finetuned', num_labels=2).to(\"cuda\")\n",
        "      finetunemodel.eval()\n",
        "      from torch.utils.data import TensorDataset, DataLoader, SequentialSampler\n",
        "      val_data = TensorDataset(test_df['input_ids'], test_df['attention_mask'], test_df['labels'])\n",
        "      val_sampler = SequentialSampler(val_data)\n",
        "      val_dataloader = DataLoader(val_data, sampler=val_sampler, batch_size=32)\n",
        "      import torch.nn.functional as F\n",
        "      def bert_predict(model, test_dataloader):\n",
        "          \"\"\"Perform a forward pass on the trained BERT model to predict probabilities\n",
        "          on the test set.\n",
        "          \"\"\"\n",
        "          # Put the model into the evaluation mode. The dropout layers are disabled during\n",
        "          # the test time.\n",
        "          model.eval()\n",
        "\n",
        "          all_logits = []\n",
        "\n",
        "          # For each batch in our test set...\n",
        "          for batch in test_dataloader:\n",
        "              # Load batch to GPU\n",
        "              b_input_ids, b_attn_mask = tuple(t.to(device) for t in batch)[:2]\n",
        "\n",
        "              # Compute logits\n",
        "              with torch.no_grad():\n",
        "                  logits = model(b_input_ids, b_attn_mask)['logits']\n",
        "              all_logits.append(logits)\n",
        "          \n",
        "          # Concatenate logits from each batch\n",
        "          all_logits = torch.cat(all_logits, dim=0)\n",
        "\n",
        "          # Apply softmax to calculate probabilities\n",
        "          probs = F.softmax(all_logits, dim=1).cpu().numpy()\n",
        "\n",
        "          return probs\n",
        "      probs = bert_predict(finetunemodel, val_dataloader)\n",
        "      from sklearn.metrics import roc_auc_score\n",
        "      import numpy as np\n",
        "      y_true = np.array(test_data.iloc[:,45])\n",
        "      y_scores = probs[:,1]\n",
        "      st.text('{}'.format(roc_auc_score(y_true, y_scores)))\n",
        "\n",
        "\n",
        "page_names_to_funcs = {\n",
        "    \"—\": intro,\n",
        "    \"Single Demo\": single_demo,\n",
        "    \"Dataset Demo\": dataset_demo\n",
        "}\n",
        "\n",
        "demo_name = st.sidebar.selectbox(\"Choose a demo\", page_names_to_funcs.keys())\n",
        "page_names_to_funcs[demo_name]()"
      ],
      "metadata": {
        "colab": {
          "base_uri": "https://localhost:8080/"
        },
        "id": "8Eo0GCzq-lqj",
        "outputId": "e49ece05-0f43-4830-f5bf-b8c7c701e675"
      },
      "execution_count": null,
      "outputs": [
        {
          "output_type": "stream",
          "name": "stdout",
          "text": [
            "Overwriting app.py\n"
          ]
        }
      ]
    },
    {
      "cell_type": "code",
      "source": [
        "from pyngrok import ngrok\n",
        "public_url = ngrok.connect(port='80')\n",
        "print (public_url)\n",
        "!streamlit run --server.port 80 app.py >/dev/null"
      ],
      "metadata": {
        "colab": {
          "base_uri": "https://localhost:8080/"
        },
        "id": "4aAJtbqlf1Pz",
        "outputId": "a92743c1-5f18-4f08-a7db-d382fd24a74c"
      },
      "execution_count": null,
      "outputs": [
        {
          "output_type": "stream",
          "name": "stdout",
          "text": [
            "http://8847-34-83-10-82.ngrok.io\n",
            "2022-09-08 17:02:02.125 INFO    numexpr.utils: NumExpr defaulting to 4 threads.\n",
            "tcmalloc: large alloc 1346076672 bytes == 0xb1db4000 @  0x7fc2f19001e7 0x7fc2ee4f00ce 0x7fc2ee546cf5 0x7fc2ee546f4f 0x7fc2ee5e9673 0x5936cc 0x548c51 0x5127f1 0x593dd7 0x5118f8 0x549576 0x593fce 0x548ae9 0x5127f1 0x593dd7 0x5118f8 0x549576 0x593fce 0x548ae9 0x5127f1 0x549e0e 0x593fce 0x548ae9 0x5127f1 0x549e0e 0x593fce 0x548ae9 0x5127f1 0x549e0e 0x4bca8a 0x532b86\n",
            "\n",
            "A value is trying to be set on a copy of a slice from a DataFrame\n",
            "\n",
            "See the caveats in the documentation: https://pandas.pydata.org/pandas-docs/stable/user_guide/indexing.html#returning-a-view-versus-a-copy\n",
            "`return_all_scores` is now deprecated, use `top_k=1` if you want similar functionnality\n",
            "tcmalloc: large alloc 1346076672 bytes == 0x122b18000 @  0x7fc2f19001e7 0x7fc2ee4f00ce 0x7fc2ee546cf5 0x7fc2ee546f4f 0x7fc2ee5e9673 0x5936cc 0x548c51 0x5127f1 0x593dd7 0x5118f8 0x549576 0x593fce 0x548ae9 0x5127f1 0x593dd7 0x5118f8 0x549576 0x593fce 0x548ae9 0x5127f1 0x549e0e 0x593fce 0x548ae9 0x5127f1 0x549e0e 0x593fce 0x548ae9 0x5127f1 0x549e0e 0x4bca8a 0x532b86\n"
          ]
        }
      ]
    },
    {
      "cell_type": "markdown",
      "source": [
        "# Testing"
      ],
      "metadata": {
        "id": "In8KSNYGbOlG"
      }
    },
    {
      "cell_type": "code",
      "source": [
        "import numpy as np\n",
        "import pandas as pd\n",
        "import streamlit as st\n",
        "import transformers\n",
        "import datasets\n",
        "from matplotlib import pyplot as plt\n",
        "import matplotlib\n",
        "from datasets import Dataset\n",
        "import shap\n",
        "from transformers import BertForSequenceClassification\n",
        "from transformers import BertTokenizer\n",
        "import streamlit.components.v1 as components\n",
        "from IPython.core.interactiveshell import InteractiveShell\n",
        "from IPython.utils import capture\n",
        "\n",
        "# Load Data\n",
        "DATA_DIR = '/content/drive/My Drive/FraudTransformer'\n",
        "data_path = f'{DATA_DIR}/fe_banking_login_20201201_20210531.csv'\n",
        "feature_path = f'{DATA_DIR}/modified_coef_final4th.csv'\n",
        "raw_data = pd.read_csv(data_path)\n",
        "feature_list = pd.read_csv(feature_path)\n",
        "features = feature_list[\"Unnamed: 0\"].astype(\"str\").tolist()\n",
        "selected_data = raw_data[features+['frd', 'eval']]\n",
        "selected_data.rename({'tmxrc_Possible VPN or Tunnel': 'tmxrc_Possible_VPN_or_Tunnel'}, axis=1, inplace=True)\n",
        "features[29] = 'tmxrc_Possible_VPN_or_Tunnel'\n",
        "test_data = selected_data[selected_data['eval'] == True].iloc[:,0:46]\n",
        "\n",
        "\n",
        "# Set Tokenizer\n",
        "vocab_file = \"vocab.txt\"\n",
        "special_tokens_dict = {\"unk_token\": \"[UNK]\", \n",
        "                       \"sep_token\": \"[SEP]\", \n",
        "                       \"pad_token\": \"[PAD]\", \n",
        "                       \"cls_token\": \"[CLS]\", \n",
        "                       \"mask_token\": \"[MASK]\",\n",
        "                       \"eos_token\": \"[EOS]\",\n",
        "                       \"bos_token\": \"[BOS]\"}\n",
        "tokenizer = BertTokenizer(vocab_file,do_lower_case=False, do_basic_tokenize = False)\n",
        "tokenizer.add_special_tokens(special_tokens_dict)\n",
        "\n",
        "# Load Model\n",
        "finetunemodel = BertForSequenceClassification.from_pretrained('/content/drive/MyDrive/checkpoint-98325-finetuned', num_labels=2)\n",
        "classifier = transformers.pipeline(\"sentiment-analysis\", model=finetunemodel, tokenizer=tokenizer, return_all_scores=True)\n",
        "explainer = shap.Explainer(classifier)\n"
      ],
      "metadata": {
        "id": "KRP9pIACZE26"
      },
      "execution_count": null,
      "outputs": []
    },
    {
      "cell_type": "code",
      "source": [
        "index = 0\n",
        "input_list = test_data.iloc[index]\n",
        "input_df = test_data.iloc[[index]]\n",
        "test_data_features = input_list[0:45]\n",
        "test_data_labels = input_list[45]\n",
        "x = test_data_features.to_string(header=False).split('\\n')\n",
        "vals = ['_'.join(ele.split()) for ele in x]\n",
        "val = \" \".join(vals)\n",
        "\n",
        "shap_values = explainer([val])\n"
      ],
      "metadata": {
        "colab": {
          "base_uri": "https://localhost:8080/",
          "height": 17,
          "referenced_widgets": [
            "e454c51085b348a4852ef03fbe4d1c98",
            "8cb8357677af4b61a79d680b95967891",
            "dff1ab3f8c8d4eb1b356967483783a2b",
            "89fd9c476b8345eb80b6d9fa27a976e6",
            "e562827dbd2b41b694d392ce6b973558",
            "bb863af9ffa94c2f85af033bf70595c1",
            "9bb24ccf5ac1499ba6d2e66e28a5185c",
            "a977face26434bd982122d1886586b05",
            "8cbc76515c4b49888c62d66a9c0dcfcb",
            "534d3033e6be4a83999e6f05cd377610",
            "d93b7bbb0bc44e32a17e9f37da36a13d"
          ]
        },
        "id": "BABigFPOZVxl",
        "outputId": "b9ac2206-9c50-4ee7-b69c-10aaf76fe23b"
      },
      "execution_count": null,
      "outputs": [
        {
          "output_type": "display_data",
          "data": {
            "text/plain": [
              "  0%|          | 0/498 [00:00<?, ?it/s]"
            ],
            "application/vnd.jupyter.widget-view+json": {
              "version_major": 2,
              "version_minor": 0,
              "model_id": "e454c51085b348a4852ef03fbe4d1c98"
            }
          },
          "metadata": {}
        }
      ]
    },
    {
      "cell_type": "code",
      "source": [
        "shap.plots.text(shap_values[:,:,\"LABEL_1\"])"
      ],
      "metadata": {
        "colab": {
          "base_uri": "https://localhost:8080/",
          "height": 447
        },
        "id": "-Hs3T1GYZkzl",
        "outputId": "801b040d-36c0-420e-e493-09839bd51ba8"
      },
      "execution_count": null,
      "outputs": [
        {
          "output_type": "display_data",
          "data": {
            "text/plain": [
              "<IPython.core.display.HTML object>"
            ],
            "text/html": [
              "\n",
              "    <br>\n",
              "    <hr style=\"height: 1px; background-color: #fff; border: none; margin-top: 18px; margin-bottom: 18px; border-top: 1px dashed #ccc;\"\">\n",
              "    <div align=\"center\" style=\"margin-top: -35px;\"><div style=\"display: inline-block; background: #fff; padding: 5px; color: #999; font-family: monospace\">[0]</div>\n",
              "    </div>\n",
              "                <svg width=\"100%\" height=\"80px\"><line x1=\"0\" y1=\"33\" x2=\"100%\" y2=\"33\" style=\"stroke:rgb(150,150,150);stroke-width:1\" /><line x1=\"49.142527468029776%\" y1=\"33\" x2=\"49.142527468029776%\" y2=\"37\" style=\"stroke:rgb(150,150,150);stroke-width:1\" /><text x=\"49.142527468029776%\" y=\"27\" font-size=\"12px\" fill=\"rgb(120,120,120)\" dominant-baseline=\"bottom\" text-anchor=\"middle\">0.3</text><line x1=\"35.405058956769075%\" y1=\"33\" x2=\"35.405058956769075%\" y2=\"37\" style=\"stroke:rgb(150,150,150);stroke-width:1\" /><text x=\"35.405058956769075%\" y=\"27\" font-size=\"12px\" fill=\"rgb(120,120,120)\" dominant-baseline=\"bottom\" text-anchor=\"middle\">0.2</text><line x1=\"21.667590445508385%\" y1=\"33\" x2=\"21.667590445508385%\" y2=\"37\" style=\"stroke:rgb(150,150,150);stroke-width:1\" /><text x=\"21.667590445508385%\" y=\"27\" font-size=\"12px\" fill=\"rgb(120,120,120)\" dominant-baseline=\"bottom\" text-anchor=\"middle\">0.1</text><line x1=\"7.930121934247683%\" y1=\"33\" x2=\"7.930121934247683%\" y2=\"37\" style=\"stroke:rgb(150,150,150);stroke-width:1\" /><text x=\"7.930121934247683%\" y=\"27\" font-size=\"12px\" fill=\"rgb(120,120,120)\" dominant-baseline=\"bottom\" text-anchor=\"middle\">-5.55112e-17</text><line x1=\"62.87999597929048%\" y1=\"33\" x2=\"62.87999597929048%\" y2=\"37\" style=\"stroke:rgb(150,150,150);stroke-width:1\" /><text x=\"62.87999597929048%\" y=\"27\" font-size=\"12px\" fill=\"rgb(120,120,120)\" dominant-baseline=\"bottom\" text-anchor=\"middle\">0.4</text><line x1=\"76.61746449055117%\" y1=\"33\" x2=\"76.61746449055117%\" y2=\"37\" style=\"stroke:rgb(150,150,150);stroke-width:1\" /><text x=\"76.61746449055117%\" y=\"27\" font-size=\"12px\" fill=\"rgb(120,120,120)\" dominant-baseline=\"bottom\" text-anchor=\"middle\">0.5</text><line x1=\"90.35493300181189%\" y1=\"33\" x2=\"90.35493300181189%\" y2=\"37\" style=\"stroke:rgb(150,150,150);stroke-width:1\" /><text x=\"90.35493300181189%\" y=\"27\" font-size=\"12px\" fill=\"rgb(120,120,120)\" dominant-baseline=\"bottom\" text-anchor=\"middle\">0.6</text><line x1=\"33.140874977501085%\" y1=\"33\" x2=\"33.140874977501085%\" y2=\"37\" style=\"stroke:rgb(150,150,150);stroke-width:1\" /><text x=\"33.140874977501085%\" y=\"27\" font-size=\"13px\" style=\"stroke:#ffffff;stroke-width:8px;\" fill=\"rgb(255,255,255)\" dominant-baseline=\"bottom\" text-anchor=\"middle\">0.183518</text><text x=\"33.140874977501085%\" y=\"27\" font-size=\"12px\" fill=\"rgb(120,120,120)\" dominant-baseline=\"bottom\" text-anchor=\"middle\">0.183518</text><text x=\"33.140874977501085%\" y=\"10\" font-size=\"12px\" fill=\"rgb(120,120,120)\" dominant-baseline=\"bottom\" text-anchor=\"middle\">base value</text><line x1=\"66.85912364875206%\" y1=\"33\" x2=\"66.85912364875206%\" y2=\"37\" style=\"stroke:rgb(150,150,150);stroke-width:1\" /><text x=\"66.85912364875206%\" y=\"27\" font-size=\"13px\" style=\"stroke:#ffffff;stroke-width:8px;\" font-weight=\"bold\" fill=\"rgb(255,255,255)\" dominant-baseline=\"bottom\" text-anchor=\"middle\">0.428966</text><text x=\"66.85912364875206%\" y=\"27\" font-size=\"13px\" font-weight=\"bold\" fill=\"rgb(0,0,0)\" dominant-baseline=\"bottom\" text-anchor=\"middle\">0.428966</text><text x=\"66.85912364875206%\" y=\"10\" font-size=\"12px\" fill=\"rgb(120,120,120)\" dominant-baseline=\"bottom\" text-anchor=\"middle\">f<tspan baseline-shift=\"sub\" font-size=\"8px\">LABEL_1</tspan>(inputs)</text><rect x=\"8.33333321885443%\" width=\"58.525790429897626%\" y=\"40\" height=\"18\" style=\"fill:rgb(255.0, 0.0, 81.08083606031792); stroke-width:0; stroke:rgb(0,0,0)\" /><line x1=\"44.62435376748732%\" x2=\"66.85912364875206%\" y1=\"60\" y2=\"60\" id=\"_fb_uinfdupaumkolsbxzlgv_ind_13\" style=\"stroke:rgb(255.0, 0.0, 81.08083606031792);stroke-width:2; opacity: 0\"/><text x=\"55.74173870811969%\" y=\"71\" font-size=\"12px\" id=\"_fs_uinfdupaumkolsbxzlgv_ind_13\" fill=\"rgb(255.0, 0.0, 81.08083606031792)\" style=\"opacity: 0\" dominant-baseline=\"middle\" text-anchor=\"middle\">0.162</text><svg x=\"44.62435376748732%\" y=\"40\" height=\"20\" width=\"22.23476988126474%\">  <svg x=\"0\" y=\"0\" width=\"100%\" height=\"100%\">    <text x=\"50%\" y=\"9\" font-size=\"12px\" fill=\"rgb(255,255,255)\" dominant-baseline=\"middle\" text-anchor=\"middle\">tmxrc_DIG_ID_GBL_AGE_GT_3MTHS_0</text>  </svg></svg><line x1=\"32.394116367541%\" x2=\"44.62435376748732%\" y1=\"60\" y2=\"60\" id=\"_fb_uinfdupaumkolsbxzlgv_ind_27\" style=\"stroke:rgb(255.0, 0.0, 81.08083606031792);stroke-width:2; opacity: 0\"/><text x=\"38.50923506751416%\" y=\"71\" font-size=\"12px\" id=\"_fs_uinfdupaumkolsbxzlgv_ind_27\" fill=\"rgb(255.0, 0.0, 81.08083606031792)\" style=\"opacity: 0\" dominant-baseline=\"middle\" text-anchor=\"middle\">0.089</text><svg x=\"32.394116367541%\" y=\"40\" height=\"20\" width=\"12.230237399946319%\">  <svg x=\"0\" y=\"0\" width=\"100%\" height=\"100%\">    <text x=\"50%\" y=\"9\" font-size=\"12px\" fill=\"rgb(255,255,255)\" dominant-baseline=\"middle\" text-anchor=\"middle\">tmxrc_ACC_LOGIN_SMART_ID_LCL_PAIR_LAST_TXN_1MIN_1</text>  </svg></svg><line x1=\"21.691068722404502%\" x2=\"32.394116367541%\" y1=\"60\" y2=\"60\" id=\"_fb_uinfdupaumkolsbxzlgv_ind_14\" style=\"stroke:rgb(255.0, 0.0, 81.08083606031792);stroke-width:2; opacity: 0\"/><text x=\"27.042592544972752%\" y=\"71\" font-size=\"12px\" id=\"_fs_uinfdupaumkolsbxzlgv_ind_14\" fill=\"rgb(255.0, 0.0, 81.08083606031792)\" style=\"opacity: 0\" dominant-baseline=\"middle\" text-anchor=\"middle\">0.078</text><svg x=\"21.691068722404502%\" y=\"40\" height=\"20\" width=\"10.7030476451365%\">  <svg x=\"0\" y=\"0\" width=\"100%\" height=\"100%\">    <text x=\"50%\" y=\"9\" font-size=\"12px\" fill=\"rgb(255,255,255)\" dominant-baseline=\"middle\" text-anchor=\"middle\">tmxrc_DIG_ID_LCL_AGE_GT_3MTHS_0</text>  </svg></svg><line x1=\"17.18722575107939%\" x2=\"21.691068722404502%\" y1=\"60\" y2=\"60\" id=\"_fb_uinfdupaumkolsbxzlgv_ind_5\" style=\"stroke:rgb(255.0, 0.0, 81.08083606031792);stroke-width:2; opacity: 0\"/><text x=\"19.439147236741945%\" y=\"71\" font-size=\"12px\" id=\"_fs_uinfdupaumkolsbxzlgv_ind_5\" fill=\"rgb(255.0, 0.0, 81.08083606031792)\" style=\"opacity: 0\" dominant-baseline=\"middle\" text-anchor=\"middle\">0.033</text><svg x=\"17.18722575107939%\" y=\"40\" height=\"20\" width=\"4.503842971325113%\">  <svg x=\"0\" y=\"0\" width=\"100%\" height=\"100%\">    <text x=\"50%\" y=\"9\" font-size=\"12px\" fill=\"rgb(255,255,255)\" dominant-baseline=\"middle\" text-anchor=\"middle\">tmxrc_SMART_ID_LCL_AGE_GT_3MTHS_0</text>  </svg></svg><line x1=\"14.76946885663126%\" x2=\"17.18722575107939%\" y1=\"60\" y2=\"60\" id=\"_fb_uinfdupaumkolsbxzlgv_ind_4\" style=\"stroke:rgb(255.0, 0.0, 81.08083606031792);stroke-width:2; opacity: 0\"/><text x=\"15.978347303855324%\" y=\"71\" font-size=\"12px\" id=\"_fs_uinfdupaumkolsbxzlgv_ind_4\" fill=\"rgb(255.0, 0.0, 81.08083606031792)\" style=\"opacity: 0\" dominant-baseline=\"middle\" text-anchor=\"middle\">0.018</text><svg x=\"14.76946885663126%\" y=\"40\" height=\"20\" width=\"2.4177568944481287%\">  <svg x=\"0\" y=\"0\" width=\"100%\" height=\"100%\">    <text x=\"50%\" y=\"9\" font-size=\"12px\" fill=\"rgb(255,255,255)\" dominant-baseline=\"middle\" text-anchor=\"middle\">tmxrc_ACC_LOGIN_SMART_ID_LCL_PAIR_AGE_GT_MTH_0</text>  </svg></svg><line x1=\"12.625920254598197%\" x2=\"14.76946885663126%\" y1=\"60\" y2=\"60\" id=\"_fb_uinfdupaumkolsbxzlgv_ind_8\" style=\"stroke:rgb(255.0, 0.0, 81.08083606031792);stroke-width:2; opacity: 0\"/><text x=\"13.697694555614728%\" y=\"71\" font-size=\"12px\" id=\"_fs_uinfdupaumkolsbxzlgv_ind_8\" fill=\"rgb(255.0, 0.0, 81.08083606031792)\" style=\"opacity: 0\" dominant-baseline=\"middle\" text-anchor=\"middle\">0.016</text><svg x=\"12.625920254598197%\" y=\"40\" height=\"20\" width=\"2.1435486020330625%\">  <svg x=\"0\" y=\"0\" width=\"100%\" height=\"100%\">    <text x=\"50%\" y=\"9\" font-size=\"12px\" fill=\"rgb(255,255,255)\" dominant-baseline=\"middle\" text-anchor=\"middle\">tmxrc_ACC_LOGIN_SMART_ID_LCL_PAIR_AGE_GT_2WKS_0</text>  </svg></svg><line x1=\"11.452624056837003%\" x2=\"12.625920254598197%\" y1=\"60\" y2=\"60\" id=\"_fb_uinfdupaumkolsbxzlgv_ind_18\" style=\"stroke:rgb(255.0, 0.0, 81.08083606031792);stroke-width:2; opacity: 0\"/><text x=\"12.039272155717601%\" y=\"71\" font-size=\"12px\" id=\"_fs_uinfdupaumkolsbxzlgv_ind_18\" fill=\"rgb(255.0, 0.0, 81.08083606031792)\" style=\"opacity: 0\" dominant-baseline=\"middle\" text-anchor=\"middle\">0.009</text><svg x=\"11.452624056837003%\" y=\"40\" height=\"20\" width=\"1.1732961977611946%\">  <svg x=\"0\" y=\"0\" width=\"100%\" height=\"100%\">    <text x=\"50%\" y=\"9\" font-size=\"12px\" fill=\"rgb(255,255,255)\" dominant-baseline=\"middle\" text-anchor=\"middle\">tmxrc_ExactID_Vel_per_Hour_High_0</text>  </svg></svg><line x1=\"10.706164570936922%\" x2=\"11.452624056837003%\" y1=\"60\" y2=\"60\" id=\"_fb_uinfdupaumkolsbxzlgv_ind_3\" style=\"stroke:rgb(255.0, 0.0, 81.08083606031792);stroke-width:2; opacity: 0\"/><text x=\"11.079394313886961%\" y=\"71\" font-size=\"12px\" id=\"_fs_uinfdupaumkolsbxzlgv_ind_3\" fill=\"rgb(255.0, 0.0, 81.08083606031792)\" style=\"opacity: 0\" dominant-baseline=\"middle\" text-anchor=\"middle\">0.005</text><svg x=\"10.706164570936922%\" y=\"40\" height=\"20\" width=\"0.7464594859000808%\">  <svg x=\"0\" y=\"0\" width=\"100%\" height=\"100%\">    <text x=\"50%\" y=\"9\" font-size=\"12px\" fill=\"rgb(255,255,255)\" dominant-baseline=\"middle\" text-anchor=\"middle\">tmxrc_ACC_LOGIN_SMART_ID_LCL_PAIR_AGE_GT_2MTHS_0</text>  </svg></svg><line x1=\"10.147274997712431%\" x2=\"10.706164570936922%\" y1=\"60\" y2=\"60\" id=\"_fb_uinfdupaumkolsbxzlgv_ind_12\" style=\"stroke:rgb(255.0, 0.0, 81.08083606031792);stroke-width:2; opacity: 0\"/><text x=\"10.426719784324677%\" y=\"71\" font-size=\"12px\" id=\"_fs_uinfdupaumkolsbxzlgv_ind_12\" fill=\"rgb(255.0, 0.0, 81.08083606031792)\" style=\"opacity: 0\" dominant-baseline=\"middle\" text-anchor=\"middle\">0.004</text><svg x=\"10.147274997712431%\" y=\"40\" height=\"20\" width=\"0.5588895732244907%\">  <svg x=\"0\" y=\"0\" width=\"100%\" height=\"100%\">    <text x=\"50%\" y=\"9\" font-size=\"12px\" fill=\"rgb(255,255,255)\" dominant-baseline=\"middle\" text-anchor=\"middle\">tmxrc_SMART_ID_LCL_AGE_GT_2WKS_0</text>  </svg></svg><line x1=\"9.689278319500135%\" x2=\"10.147274997712431%\" y1=\"60\" y2=\"60\" id=\"_fb_uinfdupaumkolsbxzlgv_ind_6\" style=\"stroke:rgb(255.0, 0.0, 81.08083606031792);stroke-width:2; opacity: 0\"/><text x=\"9.918276658606283%\" y=\"71\" font-size=\"12px\" id=\"_fs_uinfdupaumkolsbxzlgv_ind_6\" fill=\"rgb(255.0, 0.0, 81.08083606031792)\" style=\"opacity: 0\" dominant-baseline=\"middle\" text-anchor=\"middle\">0.003</text><svg x=\"9.689278319500135%\" y=\"40\" height=\"20\" width=\"0.4579966782122966%\">  <svg x=\"0\" y=\"0\" width=\"100%\" height=\"100%\">    <text x=\"50%\" y=\"9\" font-size=\"12px\" fill=\"rgb(255,255,255)\" dominant-baseline=\"middle\" text-anchor=\"middle\">tmxrc_ACC_EMAIL_SMART_ID_LCL_PAIR_AGE_GT_3MTHS_0 tmxrc_ACC_EMAIL_LCL_AGE_GT_MTH_0</text>  </svg></svg><line x1=\"9.284817939261083%\" x2=\"9.689278319500135%\" y1=\"60\" y2=\"60\" id=\"_fb_uinfdupaumkolsbxzlgv_ind_10\" style=\"stroke:rgb(255.0, 0.0, 81.08083606031792);stroke-width:2; opacity: 0\"/><text x=\"9.487048129380609%\" y=\"71\" font-size=\"12px\" id=\"_fs_uinfdupaumkolsbxzlgv_ind_10\" fill=\"rgb(255.0, 0.0, 81.08083606031792)\" style=\"opacity: 0\" dominant-baseline=\"middle\" text-anchor=\"middle\">0.003</text><svg x=\"9.284817939261083%\" y=\"40\" height=\"20\" width=\"0.4044603802390512%\">  <svg x=\"0\" y=\"0\" width=\"100%\" height=\"100%\">    <text x=\"50%\" y=\"9\" font-size=\"12px\" fill=\"rgb(255,255,255)\" dominant-baseline=\"middle\" text-anchor=\"middle\">tmxrc_ACC_NAME_LCL_AGE_GT_3MTHS_0</text>  </svg></svg><line x1=\"8.891118092893239%\" x2=\"9.284817939261083%\" y1=\"60\" y2=\"60\" id=\"_fb_uinfdupaumkolsbxzlgv_ind_2\" style=\"stroke:rgb(255.0, 0.0, 81.08083606031792);stroke-width:2; opacity: 0\"/><text x=\"9.087968016077161%\" y=\"71\" font-size=\"12px\" id=\"_fs_uinfdupaumkolsbxzlgv_ind_2\" fill=\"rgb(255.0, 0.0, 81.08083606031792)\" style=\"opacity: 0\" dominant-baseline=\"middle\" text-anchor=\"middle\">0.003</text><svg x=\"8.891118092893239%\" y=\"40\" height=\"20\" width=\"0.39369984636784494%\">  <svg x=\"0\" y=\"0\" width=\"100%\" height=\"100%\">    <text x=\"50%\" y=\"9\" font-size=\"12px\" fill=\"rgb(255,255,255)\" dominant-baseline=\"middle\" text-anchor=\"middle\">tmxrc_ACC_EMAIL_LCL_AGE_GT_3MTHS_0</text>  </svg></svg><line x1=\"8.595165285271776%\" x2=\"8.891118092893239%\" y1=\"60\" y2=\"60\" id=\"_fb_uinfdupaumkolsbxzlgv_ind_11\" style=\"stroke:rgb(255.0, 0.0, 81.08083606031792);stroke-width:2; opacity: 0\"/><text x=\"8.743141689082506%\" y=\"71\" font-size=\"12px\" id=\"_fs_uinfdupaumkolsbxzlgv_ind_11\" fill=\"rgb(255.0, 0.0, 81.08083606031792)\" style=\"opacity: 0\" dominant-baseline=\"middle\" text-anchor=\"middle\">0.002</text><svg x=\"8.595165285271776%\" y=\"40\" height=\"20\" width=\"0.2959528076214628%\">  <svg x=\"0\" y=\"0\" width=\"100%\" height=\"100%\">    <text x=\"50%\" y=\"9\" font-size=\"12px\" fill=\"rgb(255,255,255)\" dominant-baseline=\"middle\" text-anchor=\"middle\">tmxrc_ACC_EMAIL_SMART_ID_GBL_PAIR_AGE_GT_2MTHS_0</text>  </svg></svg><line x1=\"8.413383576685481%\" x2=\"8.595165285271776%\" y1=\"60\" y2=\"60\" id=\"_fb_uinfdupaumkolsbxzlgv_ind_7\" style=\"stroke:rgb(255.0, 0.0, 81.08083606031792);stroke-width:2; opacity: 0\"/><text x=\"8.50427443097863%\" y=\"71\" font-size=\"12px\" id=\"_fs_uinfdupaumkolsbxzlgv_ind_7\" fill=\"rgb(255.0, 0.0, 81.08083606031792)\" style=\"opacity: 0\" dominant-baseline=\"middle\" text-anchor=\"middle\">0.001</text><svg x=\"8.413383576685481%\" y=\"40\" height=\"20\" width=\"0.1817817085862945%\">  <svg x=\"0\" y=\"0\" width=\"100%\" height=\"100%\">    <text x=\"50%\" y=\"9\" font-size=\"12px\" fill=\"rgb(255,255,255)\" dominant-baseline=\"middle\" text-anchor=\"middle\">tmxrc_AGENT_PUBLICKEY_HASH_LCL_AGE_GT_3MTHS_0</text>  </svg></svg><line x1=\"8.33333321885443%\" x2=\"8.413383576685481%\" y1=\"60\" y2=\"60\" id=\"_fb_uinfdupaumkolsbxzlgv_ind_9\" style=\"stroke:rgb(255.0, 0.0, 81.08083606031792);stroke-width:2; opacity: 0\"/><text x=\"8.373358397769955%\" y=\"71\" font-size=\"12px\" id=\"_fs_uinfdupaumkolsbxzlgv_ind_9\" fill=\"rgb(255.0, 0.0, 81.08083606031792)\" style=\"opacity: 0\" dominant-baseline=\"middle\" text-anchor=\"middle\">0.001</text><svg x=\"8.33333321885443%\" y=\"40\" height=\"20\" width=\"0.08005035783105185%\">  <svg x=\"0\" y=\"0\" width=\"100%\" height=\"100%\">    <text x=\"50%\" y=\"9\" font-size=\"12px\" fill=\"rgb(255,255,255)\" dominant-baseline=\"middle\" text-anchor=\"middle\">tmxrc_AGENT_PUBLICKEY_HASH_LCL_AGE_GT_MTH_0 tmxrc_ACC_EMAIL_SMART_ID_LCL_PAIR_AGE_GT_2MTHS_0</text>  </svg></svg><g transform=\"translate(0,0)\">  <svg x=\"44.62435376748732%\" y=\"40\" height=\"18\" overflow=\"visible\" width=\"30\">    <path d=\"M 0 -9 l 6 18 L 0 25\" fill=\"none\" style=\"stroke:rgb(255.0, 0.0, 81.08083606031792);stroke-width:2\" />  </svg></g><g transform=\"translate(2,0)\">  <svg x=\"44.62435376748732%\" y=\"40\" height=\"18\" overflow=\"visible\" width=\"30\">    <path d=\"M 0 -9 l 6 18 L 0 25\" fill=\"none\" style=\"stroke:rgb(255.0, 0.0, 81.08083606031792);stroke-width:2\" />  </svg></g><g transform=\"translate(4,0)\">  <svg x=\"44.62435376748732%\" y=\"40\" height=\"18\" overflow=\"visible\" width=\"30\">    <path d=\"M 0 -9 l 6 18 L 0 25\" fill=\"none\" style=\"stroke:rgb(255.0, 0.0, 81.08083606031792);stroke-width:2\" />  </svg></g><g transform=\"translate(6,0)\">  <svg x=\"44.62435376748732%\" y=\"40\" height=\"18\" overflow=\"visible\" width=\"30\">    <path d=\"M 0 -9 l 6 18 L 0 25\" fill=\"none\" style=\"stroke:rgb(255.0, 0.0, 81.08083606031792);stroke-width:2\" />  </svg></g><g transform=\"translate(-8,0)\">  <svg x=\"44.62435376748732%\" y=\"40\" height=\"18\" overflow=\"visible\" width=\"30\">    <path d=\"M 0 -9 l 6 18 L 0 25\" fill=\"none\" style=\"stroke:rgb(255.0, 0.0, 81.08083606031792);stroke-width:2\" />  </svg></g><g transform=\"translate(-6,0)\">  <svg x=\"44.62435376748732%\" y=\"40\" height=\"18\" overflow=\"visible\" width=\"30\">    <path d=\"M 0 -9 l 6 18 L 0 25\" fill=\"none\" style=\"stroke:rgb(255.0, 0.0, 81.08083606031792);stroke-width:2\" />  </svg></g><g transform=\"translate(-4,0)\">  <svg x=\"44.62435376748732%\" y=\"40\" height=\"18\" overflow=\"visible\" width=\"30\">    <path d=\"M 0 -9 l 6 18 L 0 25\" fill=\"none\" style=\"stroke:rgb(255.0, 0.0, 81.08083606031792);stroke-width:2\" />  </svg></g><g transform=\"translate(-2,0)\">  <svg x=\"44.62435376748732%\" y=\"40\" height=\"18\" overflow=\"visible\" width=\"30\">    <path d=\"M 0 -9 l 6 18 L 0 25\" fill=\"none\" style=\"stroke:rgb(255.0, 0.0, 81.08083606031792);stroke-width:2\" />  </svg></g><g transform=\"translate(0,0)\">  <svg x=\"32.394116367541%\" y=\"40\" height=\"18\" overflow=\"visible\" width=\"30\">    <path d=\"M 0 -9 l 6 18 L 0 25\" fill=\"none\" style=\"stroke:rgb(255.0, 0.0, 81.08083606031792);stroke-width:2\" />  </svg></g><g transform=\"translate(2,0)\">  <svg x=\"32.394116367541%\" y=\"40\" height=\"18\" overflow=\"visible\" width=\"30\">    <path d=\"M 0 -9 l 6 18 L 0 25\" fill=\"none\" style=\"stroke:rgb(255.0, 0.0, 81.08083606031792);stroke-width:2\" />  </svg></g><g transform=\"translate(4,0)\">  <svg x=\"32.394116367541%\" y=\"40\" height=\"18\" overflow=\"visible\" width=\"30\">    <path d=\"M 0 -9 l 6 18 L 0 25\" fill=\"none\" style=\"stroke:rgb(255.0, 0.0, 81.08083606031792);stroke-width:2\" />  </svg></g><g transform=\"translate(6,0)\">  <svg x=\"32.394116367541%\" y=\"40\" height=\"18\" overflow=\"visible\" width=\"30\">    <path d=\"M 0 -9 l 6 18 L 0 25\" fill=\"none\" style=\"stroke:rgb(255.0, 0.0, 81.08083606031792);stroke-width:2\" />  </svg></g><g transform=\"translate(-8,0)\">  <svg x=\"32.394116367541%\" y=\"40\" height=\"18\" overflow=\"visible\" width=\"30\">    <path d=\"M 0 -9 l 6 18 L 0 25\" fill=\"none\" style=\"stroke:rgb(255.0, 0.0, 81.08083606031792);stroke-width:2\" />  </svg></g><g transform=\"translate(-6,0)\">  <svg x=\"32.394116367541%\" y=\"40\" height=\"18\" overflow=\"visible\" width=\"30\">    <path d=\"M 0 -9 l 6 18 L 0 25\" fill=\"none\" style=\"stroke:rgb(255.0, 0.0, 81.08083606031792);stroke-width:2\" />  </svg></g><g transform=\"translate(-4,0)\">  <svg x=\"32.394116367541%\" y=\"40\" height=\"18\" overflow=\"visible\" width=\"30\">    <path d=\"M 0 -9 l 6 18 L 0 25\" fill=\"none\" style=\"stroke:rgb(255.0, 0.0, 81.08083606031792);stroke-width:2\" />  </svg></g><g transform=\"translate(-2,0)\">  <svg x=\"32.394116367541%\" y=\"40\" height=\"18\" overflow=\"visible\" width=\"30\">    <path d=\"M 0 -9 l 6 18 L 0 25\" fill=\"none\" style=\"stroke:rgb(255.0, 0.0, 81.08083606031792);stroke-width:2\" />  </svg></g><g transform=\"translate(0,0)\">  <svg x=\"21.691068722404502%\" y=\"40\" height=\"18\" overflow=\"visible\" width=\"30\">    <path d=\"M 0 -9 l 6 18 L 0 25\" fill=\"none\" style=\"stroke:rgb(255.0, 0.0, 81.08083606031792);stroke-width:2\" />  </svg></g><g transform=\"translate(2,0)\">  <svg x=\"21.691068722404502%\" y=\"40\" height=\"18\" overflow=\"visible\" width=\"30\">    <path d=\"M 0 -9 l 6 18 L 0 25\" fill=\"none\" style=\"stroke:rgb(255.0, 0.0, 81.08083606031792);stroke-width:2\" />  </svg></g><g transform=\"translate(4,0)\">  <svg x=\"21.691068722404502%\" y=\"40\" height=\"18\" overflow=\"visible\" width=\"30\">    <path d=\"M 0 -9 l 6 18 L 0 25\" fill=\"none\" style=\"stroke:rgb(255.0, 0.0, 81.08083606031792);stroke-width:2\" />  </svg></g><g transform=\"translate(6,0)\">  <svg x=\"21.691068722404502%\" y=\"40\" height=\"18\" overflow=\"visible\" width=\"30\">    <path d=\"M 0 -9 l 6 18 L 0 25\" fill=\"none\" style=\"stroke:rgb(255.0, 0.0, 81.08083606031792);stroke-width:2\" />  </svg></g><g transform=\"translate(-8,0)\">  <svg x=\"21.691068722404502%\" y=\"40\" height=\"18\" overflow=\"visible\" width=\"30\">    <path d=\"M 0 -9 l 6 18 L 0 25\" fill=\"none\" style=\"stroke:rgb(255.0, 0.0, 81.08083606031792);stroke-width:2\" />  </svg></g><g transform=\"translate(-6,0)\">  <svg x=\"21.691068722404502%\" y=\"40\" height=\"18\" overflow=\"visible\" width=\"30\">    <path d=\"M 0 -9 l 6 18 L 0 25\" fill=\"none\" style=\"stroke:rgb(255.0, 0.0, 81.08083606031792);stroke-width:2\" />  </svg></g><g transform=\"translate(-4,0)\">  <svg x=\"21.691068722404502%\" y=\"40\" height=\"18\" overflow=\"visible\" width=\"30\">    <path d=\"M 0 -9 l 6 18 L 0 25\" fill=\"none\" style=\"stroke:rgb(255.0, 0.0, 81.08083606031792);stroke-width:2\" />  </svg></g><g transform=\"translate(-2,0)\">  <svg x=\"21.691068722404502%\" y=\"40\" height=\"18\" overflow=\"visible\" width=\"30\">    <path d=\"M 0 -9 l 6 18 L 0 25\" fill=\"none\" style=\"stroke:rgb(255.0, 0.0, 81.08083606031792);stroke-width:2\" />  </svg></g><g transform=\"translate(0,0)\">  <svg x=\"17.18722575107939%\" y=\"40\" height=\"18\" overflow=\"visible\" width=\"30\">    <path d=\"M 0 -9 l 6 18 L 0 25\" fill=\"none\" style=\"stroke:rgb(255.0, 0.0, 81.08083606031792);stroke-width:2\" />  </svg></g><g transform=\"translate(2,0)\">  <svg x=\"17.18722575107939%\" y=\"40\" height=\"18\" overflow=\"visible\" width=\"30\">    <path d=\"M 0 -9 l 6 18 L 0 25\" fill=\"none\" style=\"stroke:rgb(255.0, 0.0, 81.08083606031792);stroke-width:2\" />  </svg></g><g transform=\"translate(4,0)\">  <svg x=\"17.18722575107939%\" y=\"40\" height=\"18\" overflow=\"visible\" width=\"30\">    <path d=\"M 0 -9 l 6 18 L 0 25\" fill=\"none\" style=\"stroke:rgb(255.0, 0.0, 81.08083606031792);stroke-width:2\" />  </svg></g><g transform=\"translate(6,0)\">  <svg x=\"17.18722575107939%\" y=\"40\" height=\"18\" overflow=\"visible\" width=\"30\">    <path d=\"M 0 -9 l 6 18 L 0 25\" fill=\"none\" style=\"stroke:rgb(255.0, 0.0, 81.08083606031792);stroke-width:2\" />  </svg></g><g transform=\"translate(-8,0)\">  <svg x=\"17.18722575107939%\" y=\"40\" height=\"18\" overflow=\"visible\" width=\"30\">    <path d=\"M 0 -9 l 6 18 L 0 25\" fill=\"none\" style=\"stroke:rgb(255.0, 0.0, 81.08083606031792);stroke-width:2\" />  </svg></g><g transform=\"translate(-6,0)\">  <svg x=\"17.18722575107939%\" y=\"40\" height=\"18\" overflow=\"visible\" width=\"30\">    <path d=\"M 0 -9 l 6 18 L 0 25\" fill=\"none\" style=\"stroke:rgb(255.0, 0.0, 81.08083606031792);stroke-width:2\" />  </svg></g><g transform=\"translate(-4,0)\">  <svg x=\"17.18722575107939%\" y=\"40\" height=\"18\" overflow=\"visible\" width=\"30\">    <path d=\"M 0 -9 l 6 18 L 0 25\" fill=\"none\" style=\"stroke:rgb(255.0, 0.0, 81.08083606031792);stroke-width:2\" />  </svg></g><g transform=\"translate(-2,0)\">  <svg x=\"17.18722575107939%\" y=\"40\" height=\"18\" overflow=\"visible\" width=\"30\">    <path d=\"M 0 -9 l 6 18 L 0 25\" fill=\"none\" style=\"stroke:rgb(255.0, 0.0, 81.08083606031792);stroke-width:2\" />  </svg></g><g transform=\"translate(0,0)\">  <svg x=\"14.76946885663126%\" y=\"40\" height=\"18\" overflow=\"visible\" width=\"30\">    <path d=\"M 0 -9 l 6 18 L 0 25\" fill=\"none\" style=\"stroke:rgb(255.0, 0.0, 81.08083606031792);stroke-width:2\" />  </svg></g><g transform=\"translate(2,0)\">  <svg x=\"14.76946885663126%\" y=\"40\" height=\"18\" overflow=\"visible\" width=\"30\">    <path d=\"M 0 -9 l 6 18 L 0 25\" fill=\"none\" style=\"stroke:rgb(255.0, 0.0, 81.08083606031792);stroke-width:2\" />  </svg></g><g transform=\"translate(4,0)\">  <svg x=\"14.76946885663126%\" y=\"40\" height=\"18\" overflow=\"visible\" width=\"30\">    <path d=\"M 0 -9 l 6 18 L 0 25\" fill=\"none\" style=\"stroke:rgb(255.0, 0.0, 81.08083606031792);stroke-width:2\" />  </svg></g><g transform=\"translate(6,0)\">  <svg x=\"14.76946885663126%\" y=\"40\" height=\"18\" overflow=\"visible\" width=\"30\">    <path d=\"M 0 -9 l 6 18 L 0 25\" fill=\"none\" style=\"stroke:rgb(255.0, 0.0, 81.08083606031792);stroke-width:2\" />  </svg></g><g transform=\"translate(-8,0)\">  <svg x=\"14.76946885663126%\" y=\"40\" height=\"18\" overflow=\"visible\" width=\"30\">    <path d=\"M 0 -9 l 6 18 L 0 25\" fill=\"none\" style=\"stroke:rgb(255.0, 0.0, 81.08083606031792);stroke-width:2\" />  </svg></g><g transform=\"translate(-6,0)\">  <svg x=\"14.76946885663126%\" y=\"40\" height=\"18\" overflow=\"visible\" width=\"30\">    <path d=\"M 0 -9 l 6 18 L 0 25\" fill=\"none\" style=\"stroke:rgb(255.0, 0.0, 81.08083606031792);stroke-width:2\" />  </svg></g><g transform=\"translate(-4,0)\">  <svg x=\"14.76946885663126%\" y=\"40\" height=\"18\" overflow=\"visible\" width=\"30\">    <path d=\"M 0 -9 l 6 18 L 0 25\" fill=\"none\" style=\"stroke:rgb(255.0, 0.0, 81.08083606031792);stroke-width:2\" />  </svg></g><g transform=\"translate(-2,0)\">  <svg x=\"14.76946885663126%\" y=\"40\" height=\"18\" overflow=\"visible\" width=\"30\">    <path d=\"M 0 -9 l 6 18 L 0 25\" fill=\"none\" style=\"stroke:rgb(255.0, 0.0, 81.08083606031792);stroke-width:2\" />  </svg></g><g transform=\"translate(0,0)\">  <svg x=\"12.625920254598197%\" y=\"40\" height=\"18\" overflow=\"visible\" width=\"30\">    <path d=\"M 0 -9 l 6 18 L 0 25\" fill=\"none\" style=\"stroke:rgb(255.0, 0.0, 81.08083606031792);stroke-width:2\" />  </svg></g><g transform=\"translate(2,0)\">  <svg x=\"12.625920254598197%\" y=\"40\" height=\"18\" overflow=\"visible\" width=\"30\">    <path d=\"M 0 -9 l 6 18 L 0 25\" fill=\"none\" style=\"stroke:rgb(255.0, 0.0, 81.08083606031792);stroke-width:2\" />  </svg></g><g transform=\"translate(4,0)\">  <svg x=\"12.625920254598197%\" y=\"40\" height=\"18\" overflow=\"visible\" width=\"30\">    <path d=\"M 0 -9 l 6 18 L 0 25\" fill=\"none\" style=\"stroke:rgb(255.0, 0.0, 81.08083606031792);stroke-width:2\" />  </svg></g><g transform=\"translate(6,0)\">  <svg x=\"12.625920254598197%\" y=\"40\" height=\"18\" overflow=\"visible\" width=\"30\">    <path d=\"M 0 -9 l 6 18 L 0 25\" fill=\"none\" style=\"stroke:rgb(255.0, 0.0, 81.08083606031792);stroke-width:2\" />  </svg></g><g transform=\"translate(-8,0)\">  <svg x=\"12.625920254598197%\" y=\"40\" height=\"18\" overflow=\"visible\" width=\"30\">    <path d=\"M 0 -9 l 6 18 L 0 25\" fill=\"none\" style=\"stroke:rgb(255.0, 0.0, 81.08083606031792);stroke-width:2\" />  </svg></g><g transform=\"translate(-6,0)\">  <svg x=\"12.625920254598197%\" y=\"40\" height=\"18\" overflow=\"visible\" width=\"30\">    <path d=\"M 0 -9 l 6 18 L 0 25\" fill=\"none\" style=\"stroke:rgb(255.0, 0.0, 81.08083606031792);stroke-width:2\" />  </svg></g><g transform=\"translate(-4,0)\">  <svg x=\"12.625920254598197%\" y=\"40\" height=\"18\" overflow=\"visible\" width=\"30\">    <path d=\"M 0 -9 l 6 18 L 0 25\" fill=\"none\" style=\"stroke:rgb(255.0, 0.0, 81.08083606031792);stroke-width:2\" />  </svg></g><g transform=\"translate(-2,0)\">  <svg x=\"12.625920254598197%\" y=\"40\" height=\"18\" overflow=\"visible\" width=\"30\">    <path d=\"M 0 -9 l 6 18 L 0 25\" fill=\"none\" style=\"stroke:rgb(255.0, 0.0, 81.08083606031792);stroke-width:2\" />  </svg></g><g transform=\"translate(0,0)\">  <svg x=\"11.452624056837003%\" y=\"40\" height=\"18\" overflow=\"visible\" width=\"30\">    <path d=\"M 0 -9 l 6 18 L 0 25\" fill=\"none\" style=\"stroke:rgb(255.0, 0.0, 81.08083606031792);stroke-width:2\" />  </svg></g><g transform=\"translate(2,0)\">  <svg x=\"11.452624056837003%\" y=\"40\" height=\"18\" overflow=\"visible\" width=\"30\">    <path d=\"M 0 -9 l 6 18 L 0 25\" fill=\"none\" style=\"stroke:rgb(255.0, 0.0, 81.08083606031792);stroke-width:2\" />  </svg></g><g transform=\"translate(4,0)\">  <svg x=\"11.452624056837003%\" y=\"40\" height=\"18\" overflow=\"visible\" width=\"30\">    <path d=\"M 0 -9 l 6 18 L 0 25\" fill=\"none\" style=\"stroke:rgb(255.0, 0.0, 81.08083606031792);stroke-width:2\" />  </svg></g><g transform=\"translate(6,0)\">  <svg x=\"11.452624056837003%\" y=\"40\" height=\"18\" overflow=\"visible\" width=\"30\">    <path d=\"M 0 -9 l 6 18 L 0 25\" fill=\"none\" style=\"stroke:rgb(255.0, 0.0, 81.08083606031792);stroke-width:2\" />  </svg></g><g transform=\"translate(-8,0)\">  <svg x=\"11.452624056837003%\" y=\"40\" height=\"18\" overflow=\"visible\" width=\"30\">    <path d=\"M 0 -9 l 6 18 L 0 25\" fill=\"none\" style=\"stroke:rgb(255.0, 0.0, 81.08083606031792);stroke-width:2\" />  </svg></g><g transform=\"translate(-6,0)\">  <svg x=\"11.452624056837003%\" y=\"40\" height=\"18\" overflow=\"visible\" width=\"30\">    <path d=\"M 0 -9 l 6 18 L 0 25\" fill=\"none\" style=\"stroke:rgb(255.0, 0.0, 81.08083606031792);stroke-width:2\" />  </svg></g><g transform=\"translate(-4,0)\">  <svg x=\"11.452624056837003%\" y=\"40\" height=\"18\" overflow=\"visible\" width=\"30\">    <path d=\"M 0 -9 l 6 18 L 0 25\" fill=\"none\" style=\"stroke:rgb(255.0, 0.0, 81.08083606031792);stroke-width:2\" />  </svg></g><g transform=\"translate(-2,0)\">  <svg x=\"11.452624056837003%\" y=\"40\" height=\"18\" overflow=\"visible\" width=\"30\">    <path d=\"M 0 -9 l 6 18 L 0 25\" fill=\"none\" style=\"stroke:rgb(255.0, 0.0, 81.08083606031792);stroke-width:2\" />  </svg></g><g transform=\"translate(0,0)\">  <svg x=\"10.706164570936922%\" y=\"40\" height=\"18\" overflow=\"visible\" width=\"30\">    <path d=\"M 0 -9 l 6 18 L 0 25\" fill=\"none\" style=\"stroke:rgb(255.0, 0.0, 81.08083606031792);stroke-width:2\" />  </svg></g><g transform=\"translate(2,0)\">  <svg x=\"10.706164570936922%\" y=\"40\" height=\"18\" overflow=\"visible\" width=\"30\">    <path d=\"M 0 -9 l 6 18 L 0 25\" fill=\"none\" style=\"stroke:rgb(255.0, 0.0, 81.08083606031792);stroke-width:2\" />  </svg></g><g transform=\"translate(4,0)\">  <svg x=\"10.706164570936922%\" y=\"40\" height=\"18\" overflow=\"visible\" width=\"30\">    <path d=\"M 0 -9 l 6 18 L 0 25\" fill=\"none\" style=\"stroke:rgb(255.0, 0.0, 81.08083606031792);stroke-width:2\" />  </svg></g><g transform=\"translate(6,0)\">  <svg x=\"10.706164570936922%\" y=\"40\" height=\"18\" overflow=\"visible\" width=\"30\">    <path d=\"M 0 -9 l 6 18 L 0 25\" fill=\"none\" style=\"stroke:rgb(255.0, 0.0, 81.08083606031792);stroke-width:2\" />  </svg></g><g transform=\"translate(-8,0)\">  <svg x=\"10.706164570936922%\" y=\"40\" height=\"18\" overflow=\"visible\" width=\"30\">    <path d=\"M 0 -9 l 6 18 L 0 25\" fill=\"none\" style=\"stroke:rgb(255.0, 0.0, 81.08083606031792);stroke-width:2\" />  </svg></g><g transform=\"translate(-6,0)\">  <svg x=\"10.706164570936922%\" y=\"40\" height=\"18\" overflow=\"visible\" width=\"30\">    <path d=\"M 0 -9 l 6 18 L 0 25\" fill=\"none\" style=\"stroke:rgb(255.0, 0.0, 81.08083606031792);stroke-width:2\" />  </svg></g><g transform=\"translate(-4,0)\">  <svg x=\"10.706164570936922%\" y=\"40\" height=\"18\" overflow=\"visible\" width=\"30\">    <path d=\"M 0 -9 l 6 18 L 0 25\" fill=\"none\" style=\"stroke:rgb(255.0, 0.0, 81.08083606031792);stroke-width:2\" />  </svg></g><g transform=\"translate(-2,0)\">  <svg x=\"10.706164570936922%\" y=\"40\" height=\"18\" overflow=\"visible\" width=\"30\">    <path d=\"M 0 -9 l 6 18 L 0 25\" fill=\"none\" style=\"stroke:rgb(255.0, 0.0, 81.08083606031792);stroke-width:2\" />  </svg></g><g transform=\"translate(0,0)\">  <svg x=\"10.147274997712431%\" y=\"40\" height=\"18\" overflow=\"visible\" width=\"30\">    <path d=\"M 0 -9 l 6 18 L 0 25\" fill=\"none\" style=\"stroke:rgb(255.0, 0.0, 81.08083606031792);stroke-width:2\" />  </svg></g><g transform=\"translate(2,0)\">  <svg x=\"10.147274997712431%\" y=\"40\" height=\"18\" overflow=\"visible\" width=\"30\">    <path d=\"M 0 -9 l 6 18 L 0 25\" fill=\"none\" style=\"stroke:rgb(255.0, 0.0, 81.08083606031792);stroke-width:2\" />  </svg></g><g transform=\"translate(4,0)\">  <svg x=\"10.147274997712431%\" y=\"40\" height=\"18\" overflow=\"visible\" width=\"30\">    <path d=\"M 0 -9 l 6 18 L 0 25\" fill=\"none\" style=\"stroke:rgb(255.0, 0.0, 81.08083606031792);stroke-width:2\" />  </svg></g><g transform=\"translate(6,0)\">  <svg x=\"10.147274997712431%\" y=\"40\" height=\"18\" overflow=\"visible\" width=\"30\">    <path d=\"M 0 -9 l 6 18 L 0 25\" fill=\"none\" style=\"stroke:rgb(255.0, 0.0, 81.08083606031792);stroke-width:2\" />  </svg></g><g transform=\"translate(-8,0)\">  <svg x=\"10.147274997712431%\" y=\"40\" height=\"18\" overflow=\"visible\" width=\"30\">    <path d=\"M 0 -9 l 6 18 L 0 25\" fill=\"none\" style=\"stroke:rgb(255.0, 0.0, 81.08083606031792);stroke-width:2\" />  </svg></g><g transform=\"translate(-6,0)\">  <svg x=\"10.147274997712431%\" y=\"40\" height=\"18\" overflow=\"visible\" width=\"30\">    <path d=\"M 0 -9 l 6 18 L 0 25\" fill=\"none\" style=\"stroke:rgb(255.0, 0.0, 81.08083606031792);stroke-width:2\" />  </svg></g><g transform=\"translate(-4,0)\">  <svg x=\"10.147274997712431%\" y=\"40\" height=\"18\" overflow=\"visible\" width=\"30\">    <path d=\"M 0 -9 l 6 18 L 0 25\" fill=\"none\" style=\"stroke:rgb(255.0, 0.0, 81.08083606031792);stroke-width:2\" />  </svg></g><g transform=\"translate(-2,0)\">  <svg x=\"10.147274997712431%\" y=\"40\" height=\"18\" overflow=\"visible\" width=\"30\">    <path d=\"M 0 -9 l 6 18 L 0 25\" fill=\"none\" style=\"stroke:rgb(255.0, 0.0, 81.08083606031792);stroke-width:2\" />  </svg></g><g transform=\"translate(0,0)\">  <svg x=\"9.689278319500135%\" y=\"40\" height=\"18\" overflow=\"visible\" width=\"30\">    <path d=\"M 0 -9 l 6 18 L 0 25\" fill=\"none\" style=\"stroke:rgb(255.0, 0.0, 81.08083606031792);stroke-width:2\" />  </svg></g><g transform=\"translate(2,0)\">  <svg x=\"9.689278319500135%\" y=\"40\" height=\"18\" overflow=\"visible\" width=\"30\">    <path d=\"M 0 -9 l 6 18 L 0 25\" fill=\"none\" style=\"stroke:rgb(255.0, 0.0, 81.08083606031792);stroke-width:2\" />  </svg></g><g transform=\"translate(4,0)\">  <svg x=\"9.689278319500135%\" y=\"40\" height=\"18\" overflow=\"visible\" width=\"30\">    <path d=\"M 0 -9 l 6 18 L 0 25\" fill=\"none\" style=\"stroke:rgb(255.0, 0.0, 81.08083606031792);stroke-width:2\" />  </svg></g><g transform=\"translate(6,0)\">  <svg x=\"9.689278319500135%\" y=\"40\" height=\"18\" overflow=\"visible\" width=\"30\">    <path d=\"M 0 -9 l 6 18 L 0 25\" fill=\"none\" style=\"stroke:rgb(255.0, 0.0, 81.08083606031792);stroke-width:2\" />  </svg></g><g transform=\"translate(-8,0)\">  <svg x=\"9.689278319500135%\" y=\"40\" height=\"18\" overflow=\"visible\" width=\"30\">    <path d=\"M 0 -9 l 6 18 L 0 25\" fill=\"none\" style=\"stroke:rgb(255.0, 0.0, 81.08083606031792);stroke-width:2\" />  </svg></g><g transform=\"translate(-6,0)\">  <svg x=\"9.689278319500135%\" y=\"40\" height=\"18\" overflow=\"visible\" width=\"30\">    <path d=\"M 0 -9 l 6 18 L 0 25\" fill=\"none\" style=\"stroke:rgb(255.0, 0.0, 81.08083606031792);stroke-width:2\" />  </svg></g><g transform=\"translate(-4,0)\">  <svg x=\"9.689278319500135%\" y=\"40\" height=\"18\" overflow=\"visible\" width=\"30\">    <path d=\"M 0 -9 l 6 18 L 0 25\" fill=\"none\" style=\"stroke:rgb(255.0, 0.0, 81.08083606031792);stroke-width:2\" />  </svg></g><g transform=\"translate(-2,0)\">  <svg x=\"9.689278319500135%\" y=\"40\" height=\"18\" overflow=\"visible\" width=\"30\">    <path d=\"M 0 -9 l 6 18 L 0 25\" fill=\"none\" style=\"stroke:rgb(255.0, 0.0, 81.08083606031792);stroke-width:2\" />  </svg></g><g transform=\"translate(0,0)\">  <svg x=\"9.284817939261083%\" y=\"40\" height=\"18\" overflow=\"visible\" width=\"30\">    <path d=\"M 0 -9 l 6 18 L 0 25\" fill=\"none\" style=\"stroke:rgb(255.0, 0.0, 81.08083606031792);stroke-width:2\" />  </svg></g><g transform=\"translate(2,0)\">  <svg x=\"9.284817939261083%\" y=\"40\" height=\"18\" overflow=\"visible\" width=\"30\">    <path d=\"M 0 -9 l 6 18 L 0 25\" fill=\"none\" style=\"stroke:rgb(255.0, 0.0, 81.08083606031792);stroke-width:2\" />  </svg></g><g transform=\"translate(4,0)\">  <svg x=\"9.284817939261083%\" y=\"40\" height=\"18\" overflow=\"visible\" width=\"30\">    <path d=\"M 0 -9 l 6 18 L 0 25\" fill=\"none\" style=\"stroke:rgb(255.0, 0.0, 81.08083606031792);stroke-width:2\" />  </svg></g><g transform=\"translate(6,0)\">  <svg x=\"9.284817939261083%\" y=\"40\" height=\"18\" overflow=\"visible\" width=\"30\">    <path d=\"M 0 -9 l 6 18 L 0 25\" fill=\"none\" style=\"stroke:rgb(255.0, 0.0, 81.08083606031792);stroke-width:2\" />  </svg></g><g transform=\"translate(-8,0)\">  <svg x=\"9.284817939261083%\" y=\"40\" height=\"18\" overflow=\"visible\" width=\"30\">    <path d=\"M 0 -9 l 6 18 L 0 25\" fill=\"none\" style=\"stroke:rgb(255.0, 0.0, 81.08083606031792);stroke-width:2\" />  </svg></g><g transform=\"translate(-6,0)\">  <svg x=\"9.284817939261083%\" y=\"40\" height=\"18\" overflow=\"visible\" width=\"30\">    <path d=\"M 0 -9 l 6 18 L 0 25\" fill=\"none\" style=\"stroke:rgb(255.0, 0.0, 81.08083606031792);stroke-width:2\" />  </svg></g><g transform=\"translate(-4,0)\">  <svg x=\"9.284817939261083%\" y=\"40\" height=\"18\" overflow=\"visible\" width=\"30\">    <path d=\"M 0 -9 l 6 18 L 0 25\" fill=\"none\" style=\"stroke:rgb(255.0, 0.0, 81.08083606031792);stroke-width:2\" />  </svg></g><g transform=\"translate(-2,0)\">  <svg x=\"9.284817939261083%\" y=\"40\" height=\"18\" overflow=\"visible\" width=\"30\">    <path d=\"M 0 -9 l 6 18 L 0 25\" fill=\"none\" style=\"stroke:rgb(255.0, 0.0, 81.08083606031792);stroke-width:2\" />  </svg></g><g transform=\"translate(0,0)\">  <svg x=\"8.891118092893239%\" y=\"40\" height=\"18\" overflow=\"visible\" width=\"30\">    <path d=\"M 0 -9 l 6 18 L 0 25\" fill=\"none\" style=\"stroke:rgb(255.0, 0.0, 81.08083606031792);stroke-width:2\" />  </svg></g><g transform=\"translate(2,0)\">  <svg x=\"8.891118092893239%\" y=\"40\" height=\"18\" overflow=\"visible\" width=\"30\">    <path d=\"M 0 -9 l 6 18 L 0 25\" fill=\"none\" style=\"stroke:rgb(255.0, 0.0, 81.08083606031792);stroke-width:2\" />  </svg></g><g transform=\"translate(4,0)\">  <svg x=\"8.891118092893239%\" y=\"40\" height=\"18\" overflow=\"visible\" width=\"30\">    <path d=\"M 0 -9 l 6 18 L 0 25\" fill=\"none\" style=\"stroke:rgb(255.0, 0.0, 81.08083606031792);stroke-width:2\" />  </svg></g><g transform=\"translate(6,0)\">  <svg x=\"8.891118092893239%\" y=\"40\" height=\"18\" overflow=\"visible\" width=\"30\">    <path d=\"M 0 -9 l 6 18 L 0 25\" fill=\"none\" style=\"stroke:rgb(255.0, 0.0, 81.08083606031792);stroke-width:2\" />  </svg></g><g transform=\"translate(-8,0)\">  <svg x=\"8.891118092893239%\" y=\"40\" height=\"18\" overflow=\"visible\" width=\"30\">    <path d=\"M 0 -9 l 6 18 L 0 25\" fill=\"none\" style=\"stroke:rgb(255.0, 0.0, 81.08083606031792);stroke-width:2\" />  </svg></g><g transform=\"translate(-6,0)\">  <svg x=\"8.891118092893239%\" y=\"40\" height=\"18\" overflow=\"visible\" width=\"30\">    <path d=\"M 0 -9 l 6 18 L 0 25\" fill=\"none\" style=\"stroke:rgb(255.0, 0.0, 81.08083606031792);stroke-width:2\" />  </svg></g><g transform=\"translate(-4,0)\">  <svg x=\"8.891118092893239%\" y=\"40\" height=\"18\" overflow=\"visible\" width=\"30\">    <path d=\"M 0 -9 l 6 18 L 0 25\" fill=\"none\" style=\"stroke:rgb(255.0, 0.0, 81.08083606031792);stroke-width:2\" />  </svg></g><g transform=\"translate(-2,0)\">  <svg x=\"8.891118092893239%\" y=\"40\" height=\"18\" overflow=\"visible\" width=\"30\">    <path d=\"M 0 -9 l 6 18 L 0 25\" fill=\"none\" style=\"stroke:rgb(255.0, 0.0, 81.08083606031792);stroke-width:2\" />  </svg></g><g transform=\"translate(0,0)\">  <svg x=\"8.595165285271776%\" y=\"40\" height=\"18\" overflow=\"visible\" width=\"30\">    <path d=\"M 0 -9 l 6 18 L 0 25\" fill=\"none\" style=\"stroke:rgb(255.0, 0.0, 81.08083606031792);stroke-width:2\" />  </svg></g><g transform=\"translate(2,0)\">  <svg x=\"8.595165285271776%\" y=\"40\" height=\"18\" overflow=\"visible\" width=\"30\">    <path d=\"M 0 -9 l 6 18 L 0 25\" fill=\"none\" style=\"stroke:rgb(255.0, 0.0, 81.08083606031792);stroke-width:2\" />  </svg></g><g transform=\"translate(4,0)\">  <svg x=\"8.595165285271776%\" y=\"40\" height=\"18\" overflow=\"visible\" width=\"30\">    <path d=\"M 0 -9 l 6 18 L 0 25\" fill=\"none\" style=\"stroke:rgb(255.0, 0.0, 81.08083606031792);stroke-width:2\" />  </svg></g><g transform=\"translate(6,0)\">  <svg x=\"8.595165285271776%\" y=\"40\" height=\"18\" overflow=\"visible\" width=\"30\">    <path d=\"M 0 -9 l 6 18 L 0 25\" fill=\"none\" style=\"stroke:rgb(255.0, 0.0, 81.08083606031792);stroke-width:2\" />  </svg></g><g transform=\"translate(-8,0)\">  <svg x=\"8.595165285271776%\" y=\"40\" height=\"18\" overflow=\"visible\" width=\"30\">    <path d=\"M 0 -9 l 6 18 L 0 25\" fill=\"none\" style=\"stroke:rgb(255.0, 0.0, 81.08083606031792);stroke-width:2\" />  </svg></g><g transform=\"translate(-6,0)\">  <svg x=\"8.595165285271776%\" y=\"40\" height=\"18\" overflow=\"visible\" width=\"30\">    <path d=\"M 0 -9 l 6 18 L 0 25\" fill=\"none\" style=\"stroke:rgb(255.0, 0.0, 81.08083606031792);stroke-width:2\" />  </svg></g><g transform=\"translate(-4,0)\">  <svg x=\"8.595165285271776%\" y=\"40\" height=\"18\" overflow=\"visible\" width=\"30\">    <path d=\"M 0 -9 l 6 18 L 0 25\" fill=\"none\" style=\"stroke:rgb(255.0, 0.0, 81.08083606031792);stroke-width:2\" />  </svg></g><g transform=\"translate(-2,0)\">  <svg x=\"8.595165285271776%\" y=\"40\" height=\"18\" overflow=\"visible\" width=\"30\">    <path d=\"M 0 -9 l 6 18 L 0 25\" fill=\"none\" style=\"stroke:rgb(255.0, 0.0, 81.08083606031792);stroke-width:2\" />  </svg></g><g transform=\"translate(0,0)\">  <svg x=\"8.413383576685481%\" y=\"40\" height=\"18\" overflow=\"visible\" width=\"30\">    <path d=\"M 0 -9 l 6 18 L 0 25\" fill=\"none\" style=\"stroke:rgb(255.0, 0.0, 81.08083606031792);stroke-width:2\" />  </svg></g><g transform=\"translate(2,0)\">  <svg x=\"8.413383576685481%\" y=\"40\" height=\"18\" overflow=\"visible\" width=\"30\">    <path d=\"M 0 -9 l 6 18 L 0 25\" fill=\"none\" style=\"stroke:rgb(255.0, 0.0, 81.08083606031792);stroke-width:2\" />  </svg></g><g transform=\"translate(4,0)\">  <svg x=\"8.413383576685481%\" y=\"40\" height=\"18\" overflow=\"visible\" width=\"30\">    <path d=\"M 0 -9 l 6 18 L 0 25\" fill=\"none\" style=\"stroke:rgb(255.0, 0.0, 81.08083606031792);stroke-width:2\" />  </svg></g><g transform=\"translate(6,0)\">  <svg x=\"8.413383576685481%\" y=\"40\" height=\"18\" overflow=\"visible\" width=\"30\">    <path d=\"M 0 -9 l 6 18 L 0 25\" fill=\"none\" style=\"stroke:rgb(255.0, 0.0, 81.08083606031792);stroke-width:2\" />  </svg></g><g transform=\"translate(-8,0)\">  <svg x=\"8.413383576685481%\" y=\"40\" height=\"18\" overflow=\"visible\" width=\"30\">    <path d=\"M 0 -9 l 6 18 L 0 25\" fill=\"none\" style=\"stroke:rgb(255.0, 0.0, 81.08083606031792);stroke-width:2\" />  </svg></g><g transform=\"translate(-6,0)\">  <svg x=\"8.413383576685481%\" y=\"40\" height=\"18\" overflow=\"visible\" width=\"30\">    <path d=\"M 0 -9 l 6 18 L 0 25\" fill=\"none\" style=\"stroke:rgb(255.0, 0.0, 81.08083606031792);stroke-width:2\" />  </svg></g><g transform=\"translate(-4,0)\">  <svg x=\"8.413383576685481%\" y=\"40\" height=\"18\" overflow=\"visible\" width=\"30\">    <path d=\"M 0 -9 l 6 18 L 0 25\" fill=\"none\" style=\"stroke:rgb(255.0, 0.0, 81.08083606031792);stroke-width:2\" />  </svg></g><g transform=\"translate(-2,0)\">  <svg x=\"8.413383576685481%\" y=\"40\" height=\"18\" overflow=\"visible\" width=\"30\">    <path d=\"M 0 -9 l 6 18 L 0 25\" fill=\"none\" style=\"stroke:rgb(255.0, 0.0, 81.08083606031792);stroke-width:2\" />  </svg></g><rect transform=\"translate(-8,0)\" x=\"66.85912364875206%\" y=\"40\" width=\"8\" height=\"18\" style=\"fill:rgb(255.0, 0.0, 81.08083606031792)\"/><g transform=\"translate(-11.5,0)\">  <svg x=\"8.33333321885443%\" y=\"40\" height=\"18\" overflow=\"visible\" width=\"30\">    <path d=\"M 10 -9 l 6 18 L 10 25 L 0 25 L 0 -9\" fill=\"#ffffff\" style=\"stroke:rgb(255,255,255);stroke-width:2\" />  </svg></g><g transform=\"translate(-1.5,0)\">  <svg x=\"66.85912364875206%\" y=\"40\" height=\"18\" overflow=\"visible\" width=\"30\">    <path d=\"M 0 -9 l 6 18 L 0 25\" fill=\"none\" style=\"stroke:rgb(255, 195, 213);stroke-width:2\" />  </svg></g><rect x=\"44.62435376748732%\" y=\"40\" height=\"20\" width=\"22.23476988126474%\"      onmouseover=\"document.getElementById('_tp_uinfdupaumkolsbxzlgv_ind_13').style.textDecoration = 'underline';document.getElementById('_fs_uinfdupaumkolsbxzlgv_ind_13').style.opacity = 1;document.getElementById('_fb_uinfdupaumkolsbxzlgv_ind_13').style.opacity = 1;\"      onmouseout=\"document.getElementById('_tp_uinfdupaumkolsbxzlgv_ind_13').style.textDecoration = 'none';document.getElementById('_fs_uinfdupaumkolsbxzlgv_ind_13').style.opacity = 0;document.getElementById('_fb_uinfdupaumkolsbxzlgv_ind_13').style.opacity = 0;\" style=\"fill:rgb(0,0,0,0)\" /><g transform=\"translate(-1.5,0)\">  <svg x=\"44.62435376748732%\" y=\"40\" height=\"18\" overflow=\"visible\" width=\"30\">    <path d=\"M 0 -9 l 6 18 L 0 25\" fill=\"none\" style=\"stroke:rgb(255, 195, 213);stroke-width:2\" />  </svg></g><rect x=\"32.394116367541%\" y=\"40\" height=\"20\" width=\"12.230237399946319%\"      onmouseover=\"document.getElementById('_tp_uinfdupaumkolsbxzlgv_ind_27').style.textDecoration = 'underline';document.getElementById('_fs_uinfdupaumkolsbxzlgv_ind_27').style.opacity = 1;document.getElementById('_fb_uinfdupaumkolsbxzlgv_ind_27').style.opacity = 1;\"      onmouseout=\"document.getElementById('_tp_uinfdupaumkolsbxzlgv_ind_27').style.textDecoration = 'none';document.getElementById('_fs_uinfdupaumkolsbxzlgv_ind_27').style.opacity = 0;document.getElementById('_fb_uinfdupaumkolsbxzlgv_ind_27').style.opacity = 0;\" style=\"fill:rgb(0,0,0,0)\" /><g transform=\"translate(-1.5,0)\">  <svg x=\"32.394116367541%\" y=\"40\" height=\"18\" overflow=\"visible\" width=\"30\">    <path d=\"M 0 -9 l 6 18 L 0 25\" fill=\"none\" style=\"stroke:rgb(255, 195, 213);stroke-width:2\" />  </svg></g><rect x=\"21.691068722404502%\" y=\"40\" height=\"20\" width=\"10.7030476451365%\"      onmouseover=\"document.getElementById('_tp_uinfdupaumkolsbxzlgv_ind_14').style.textDecoration = 'underline';document.getElementById('_fs_uinfdupaumkolsbxzlgv_ind_14').style.opacity = 1;document.getElementById('_fb_uinfdupaumkolsbxzlgv_ind_14').style.opacity = 1;\"      onmouseout=\"document.getElementById('_tp_uinfdupaumkolsbxzlgv_ind_14').style.textDecoration = 'none';document.getElementById('_fs_uinfdupaumkolsbxzlgv_ind_14').style.opacity = 0;document.getElementById('_fb_uinfdupaumkolsbxzlgv_ind_14').style.opacity = 0;\" style=\"fill:rgb(0,0,0,0)\" /><g transform=\"translate(-1.5,0)\">  <svg x=\"21.691068722404502%\" y=\"40\" height=\"18\" overflow=\"visible\" width=\"30\">    <path d=\"M 0 -9 l 6 18 L 0 25\" fill=\"none\" style=\"stroke:rgb(255, 195, 213);stroke-width:2\" />  </svg></g><rect x=\"17.18722575107939%\" y=\"40\" height=\"20\" width=\"4.503842971325113%\"      onmouseover=\"document.getElementById('_tp_uinfdupaumkolsbxzlgv_ind_5').style.textDecoration = 'underline';document.getElementById('_fs_uinfdupaumkolsbxzlgv_ind_5').style.opacity = 1;document.getElementById('_fb_uinfdupaumkolsbxzlgv_ind_5').style.opacity = 1;\"      onmouseout=\"document.getElementById('_tp_uinfdupaumkolsbxzlgv_ind_5').style.textDecoration = 'none';document.getElementById('_fs_uinfdupaumkolsbxzlgv_ind_5').style.opacity = 0;document.getElementById('_fb_uinfdupaumkolsbxzlgv_ind_5').style.opacity = 0;\" style=\"fill:rgb(0,0,0,0)\" /><g transform=\"translate(-1.5,0)\">  <svg x=\"17.18722575107939%\" y=\"40\" height=\"18\" overflow=\"visible\" width=\"30\">    <path d=\"M 0 -9 l 6 18 L 0 25\" fill=\"none\" style=\"stroke:rgb(255, 195, 213);stroke-width:2\" />  </svg></g><rect x=\"14.76946885663126%\" y=\"40\" height=\"20\" width=\"2.4177568944481287%\"      onmouseover=\"document.getElementById('_tp_uinfdupaumkolsbxzlgv_ind_4').style.textDecoration = 'underline';document.getElementById('_fs_uinfdupaumkolsbxzlgv_ind_4').style.opacity = 1;document.getElementById('_fb_uinfdupaumkolsbxzlgv_ind_4').style.opacity = 1;\"      onmouseout=\"document.getElementById('_tp_uinfdupaumkolsbxzlgv_ind_4').style.textDecoration = 'none';document.getElementById('_fs_uinfdupaumkolsbxzlgv_ind_4').style.opacity = 0;document.getElementById('_fb_uinfdupaumkolsbxzlgv_ind_4').style.opacity = 0;\" style=\"fill:rgb(0,0,0,0)\" /><g transform=\"translate(-1.5,0)\">  <svg x=\"14.76946885663126%\" y=\"40\" height=\"18\" overflow=\"visible\" width=\"30\">    <path d=\"M 0 -9 l 6 18 L 0 25\" fill=\"none\" style=\"stroke:rgb(255, 195, 213);stroke-width:2\" />  </svg></g><rect x=\"12.625920254598197%\" y=\"40\" height=\"20\" width=\"2.1435486020330625%\"      onmouseover=\"document.getElementById('_tp_uinfdupaumkolsbxzlgv_ind_8').style.textDecoration = 'underline';document.getElementById('_fs_uinfdupaumkolsbxzlgv_ind_8').style.opacity = 1;document.getElementById('_fb_uinfdupaumkolsbxzlgv_ind_8').style.opacity = 1;\"      onmouseout=\"document.getElementById('_tp_uinfdupaumkolsbxzlgv_ind_8').style.textDecoration = 'none';document.getElementById('_fs_uinfdupaumkolsbxzlgv_ind_8').style.opacity = 0;document.getElementById('_fb_uinfdupaumkolsbxzlgv_ind_8').style.opacity = 0;\" style=\"fill:rgb(0,0,0,0)\" /><g transform=\"translate(-1.5,0)\">  <svg x=\"12.625920254598197%\" y=\"40\" height=\"18\" overflow=\"visible\" width=\"30\">    <path d=\"M 0 -9 l 6 18 L 0 25\" fill=\"none\" style=\"stroke:rgb(255, 195, 213);stroke-width:2\" />  </svg></g><rect x=\"11.452624056837003%\" y=\"40\" height=\"20\" width=\"1.1732961977611946%\"      onmouseover=\"document.getElementById('_tp_uinfdupaumkolsbxzlgv_ind_18').style.textDecoration = 'underline';document.getElementById('_fs_uinfdupaumkolsbxzlgv_ind_18').style.opacity = 1;document.getElementById('_fb_uinfdupaumkolsbxzlgv_ind_18').style.opacity = 1;\"      onmouseout=\"document.getElementById('_tp_uinfdupaumkolsbxzlgv_ind_18').style.textDecoration = 'none';document.getElementById('_fs_uinfdupaumkolsbxzlgv_ind_18').style.opacity = 0;document.getElementById('_fb_uinfdupaumkolsbxzlgv_ind_18').style.opacity = 0;\" style=\"fill:rgb(0,0,0,0)\" /><g transform=\"translate(-1.5,0)\">  <svg x=\"11.452624056837003%\" y=\"40\" height=\"18\" overflow=\"visible\" width=\"30\">    <path d=\"M 0 -9 l 6 18 L 0 25\" fill=\"none\" style=\"stroke:rgb(255, 195, 213);stroke-width:2\" />  </svg></g><rect x=\"10.706164570936922%\" y=\"40\" height=\"20\" width=\"0.7464594859000808%\"      onmouseover=\"document.getElementById('_tp_uinfdupaumkolsbxzlgv_ind_3').style.textDecoration = 'underline';document.getElementById('_fs_uinfdupaumkolsbxzlgv_ind_3').style.opacity = 1;document.getElementById('_fb_uinfdupaumkolsbxzlgv_ind_3').style.opacity = 1;\"      onmouseout=\"document.getElementById('_tp_uinfdupaumkolsbxzlgv_ind_3').style.textDecoration = 'none';document.getElementById('_fs_uinfdupaumkolsbxzlgv_ind_3').style.opacity = 0;document.getElementById('_fb_uinfdupaumkolsbxzlgv_ind_3').style.opacity = 0;\" style=\"fill:rgb(0,0,0,0)\" /><g transform=\"translate(-1.5,0)\">  <svg x=\"10.706164570936922%\" y=\"40\" height=\"18\" overflow=\"visible\" width=\"30\">    <path d=\"M 0 -9 l 6 18 L 0 25\" fill=\"none\" style=\"stroke:rgb(255, 195, 213);stroke-width:2\" />  </svg></g><rect x=\"10.147274997712431%\" y=\"40\" height=\"20\" width=\"0.5588895732244907%\"      onmouseover=\"document.getElementById('_tp_uinfdupaumkolsbxzlgv_ind_12').style.textDecoration = 'underline';document.getElementById('_fs_uinfdupaumkolsbxzlgv_ind_12').style.opacity = 1;document.getElementById('_fb_uinfdupaumkolsbxzlgv_ind_12').style.opacity = 1;\"      onmouseout=\"document.getElementById('_tp_uinfdupaumkolsbxzlgv_ind_12').style.textDecoration = 'none';document.getElementById('_fs_uinfdupaumkolsbxzlgv_ind_12').style.opacity = 0;document.getElementById('_fb_uinfdupaumkolsbxzlgv_ind_12').style.opacity = 0;\" style=\"fill:rgb(0,0,0,0)\" /><g transform=\"translate(-1.5,0)\">  <svg x=\"10.147274997712431%\" y=\"40\" height=\"18\" overflow=\"visible\" width=\"30\">    <path d=\"M 0 -9 l 6 18 L 0 25\" fill=\"none\" style=\"stroke:rgb(255, 195, 213);stroke-width:2\" />  </svg></g><rect x=\"9.689278319500135%\" y=\"40\" height=\"20\" width=\"0.4579966782122966%\"      onmouseover=\"document.getElementById('_tp_uinfdupaumkolsbxzlgv_ind_6').style.textDecoration = 'underline';document.getElementById('_fs_uinfdupaumkolsbxzlgv_ind_6').style.opacity = 1;document.getElementById('_fb_uinfdupaumkolsbxzlgv_ind_6').style.opacity = 1;\"      onmouseout=\"document.getElementById('_tp_uinfdupaumkolsbxzlgv_ind_6').style.textDecoration = 'none';document.getElementById('_fs_uinfdupaumkolsbxzlgv_ind_6').style.opacity = 0;document.getElementById('_fb_uinfdupaumkolsbxzlgv_ind_6').style.opacity = 0;\" style=\"fill:rgb(0,0,0,0)\" /><g transform=\"translate(-1.5,0)\">  <svg x=\"9.689278319500135%\" y=\"40\" height=\"18\" overflow=\"visible\" width=\"30\">    <path d=\"M 0 -9 l 6 18 L 0 25\" fill=\"none\" style=\"stroke:rgb(255, 195, 213);stroke-width:2\" />  </svg></g><rect x=\"9.284817939261083%\" y=\"40\" height=\"20\" width=\"0.4044603802390512%\"      onmouseover=\"document.getElementById('_tp_uinfdupaumkolsbxzlgv_ind_10').style.textDecoration = 'underline';document.getElementById('_fs_uinfdupaumkolsbxzlgv_ind_10').style.opacity = 1;document.getElementById('_fb_uinfdupaumkolsbxzlgv_ind_10').style.opacity = 1;\"      onmouseout=\"document.getElementById('_tp_uinfdupaumkolsbxzlgv_ind_10').style.textDecoration = 'none';document.getElementById('_fs_uinfdupaumkolsbxzlgv_ind_10').style.opacity = 0;document.getElementById('_fb_uinfdupaumkolsbxzlgv_ind_10').style.opacity = 0;\" style=\"fill:rgb(0,0,0,0)\" /><g transform=\"translate(-1.5,0)\">  <svg x=\"9.284817939261083%\" y=\"40\" height=\"18\" overflow=\"visible\" width=\"30\">    <path d=\"M 0 -9 l 6 18 L 0 25\" fill=\"none\" style=\"stroke:rgb(255, 195, 213);stroke-width:2\" />  </svg></g><rect x=\"8.891118092893239%\" y=\"40\" height=\"20\" width=\"0.39369984636784494%\"      onmouseover=\"document.getElementById('_tp_uinfdupaumkolsbxzlgv_ind_2').style.textDecoration = 'underline';document.getElementById('_fs_uinfdupaumkolsbxzlgv_ind_2').style.opacity = 1;document.getElementById('_fb_uinfdupaumkolsbxzlgv_ind_2').style.opacity = 1;\"      onmouseout=\"document.getElementById('_tp_uinfdupaumkolsbxzlgv_ind_2').style.textDecoration = 'none';document.getElementById('_fs_uinfdupaumkolsbxzlgv_ind_2').style.opacity = 0;document.getElementById('_fb_uinfdupaumkolsbxzlgv_ind_2').style.opacity = 0;\" style=\"fill:rgb(0,0,0,0)\" /><g transform=\"translate(-1.5,0)\">  <svg x=\"8.891118092893239%\" y=\"40\" height=\"18\" overflow=\"visible\" width=\"30\">    <path d=\"M 0 -9 l 6 18 L 0 25\" fill=\"none\" style=\"stroke:rgb(255, 195, 213);stroke-width:2\" />  </svg></g><rect x=\"8.595165285271776%\" y=\"40\" height=\"20\" width=\"0.2959528076214628%\"      onmouseover=\"document.getElementById('_tp_uinfdupaumkolsbxzlgv_ind_11').style.textDecoration = 'underline';document.getElementById('_fs_uinfdupaumkolsbxzlgv_ind_11').style.opacity = 1;document.getElementById('_fb_uinfdupaumkolsbxzlgv_ind_11').style.opacity = 1;\"      onmouseout=\"document.getElementById('_tp_uinfdupaumkolsbxzlgv_ind_11').style.textDecoration = 'none';document.getElementById('_fs_uinfdupaumkolsbxzlgv_ind_11').style.opacity = 0;document.getElementById('_fb_uinfdupaumkolsbxzlgv_ind_11').style.opacity = 0;\" style=\"fill:rgb(0,0,0,0)\" /><g transform=\"translate(-1.5,0)\">  <svg x=\"8.595165285271776%\" y=\"40\" height=\"18\" overflow=\"visible\" width=\"30\">    <path d=\"M 0 -9 l 6 18 L 0 25\" fill=\"none\" style=\"stroke:rgb(255, 195, 213);stroke-width:2\" />  </svg></g><rect x=\"8.413383576685481%\" y=\"40\" height=\"20\" width=\"0.1817817085862945%\"      onmouseover=\"document.getElementById('_tp_uinfdupaumkolsbxzlgv_ind_7').style.textDecoration = 'underline';document.getElementById('_fs_uinfdupaumkolsbxzlgv_ind_7').style.opacity = 1;document.getElementById('_fb_uinfdupaumkolsbxzlgv_ind_7').style.opacity = 1;\"      onmouseout=\"document.getElementById('_tp_uinfdupaumkolsbxzlgv_ind_7').style.textDecoration = 'none';document.getElementById('_fs_uinfdupaumkolsbxzlgv_ind_7').style.opacity = 0;document.getElementById('_fb_uinfdupaumkolsbxzlgv_ind_7').style.opacity = 0;\" style=\"fill:rgb(0,0,0,0)\" /><rect x=\"8.33333321885443%\" y=\"40\" height=\"20\" width=\"0.08005035783105185%\"      onmouseover=\"document.getElementById('_tp_uinfdupaumkolsbxzlgv_ind_9').style.textDecoration = 'underline';document.getElementById('_fs_uinfdupaumkolsbxzlgv_ind_9').style.opacity = 1;document.getElementById('_fb_uinfdupaumkolsbxzlgv_ind_9').style.opacity = 1;\"      onmouseout=\"document.getElementById('_tp_uinfdupaumkolsbxzlgv_ind_9').style.textDecoration = 'none';document.getElementById('_fs_uinfdupaumkolsbxzlgv_ind_9').style.opacity = 0;document.getElementById('_fb_uinfdupaumkolsbxzlgv_ind_9').style.opacity = 0;\" style=\"fill:rgb(0,0,0,0)\" /><rect x=\"66.85912364875206%\" width=\"24.807541758646657%\" y=\"40\" height=\"18\" style=\"fill:rgb(0.0, 138.56128015770727, 250.76166088685727); stroke-width:0; stroke:rgb(0,0,0)\" /><line x1=\"66.85912364875206%\" x2=\"72.09234918311887%\" y1=\"60\" y2=\"60\" id=\"_fb_uinfdupaumkolsbxzlgv_ind_25\" style=\"stroke:rgb(0.0, 138.56128015770727, 250.76166088685727);stroke-width:2; opacity: 0\"/><text x=\"69.47573641593547%\" y=\"71\" font-size=\"12px\" fill=\"rgb(0.0, 138.56128015770727, 250.76166088685727)\" id=\"_fs_uinfdupaumkolsbxzlgv_ind_25\" style=\"opacity: 0\" dominant-baseline=\"middle\" text-anchor=\"middle\">-0.038</text><svg x=\"66.85912364875206%\" y=\"40\" height=\"20\" width=\"5.2332255343668095%\">  <svg x=\"0\" y=\"0\" width=\"100%\" height=\"100%\">    <text x=\"50%\" y=\"9\" font-size=\"12px\" fill=\"rgb(255,255,255)\" dominant-baseline=\"middle\" text-anchor=\"middle\">tmxrc_Rejected_TrueIP_Month_0</text>  </svg></svg><line x1=\"72.09234918311887%\" x2=\"74.82747604954027%\" y1=\"60\" y2=\"60\" id=\"_fb_uinfdupaumkolsbxzlgv_ind_39\" style=\"stroke:rgb(0.0, 138.56128015770727, 250.76166088685727);stroke-width:2; opacity: 0\"/><text x=\"73.45991261632958%\" y=\"71\" font-size=\"12px\" fill=\"rgb(0.0, 138.56128015770727, 250.76166088685727)\" id=\"_fs_uinfdupaumkolsbxzlgv_ind_39\" style=\"opacity: 0\" dominant-baseline=\"middle\" text-anchor=\"middle\">-0.02</text><svg x=\"72.09234918311887%\" y=\"40\" height=\"20\" width=\"2.735126866421396%\">  <svg x=\"0\" y=\"0\" width=\"100%\" height=\"100%\">    <text x=\"50%\" y=\"9\" font-size=\"12px\" fill=\"rgb(255,255,255)\" dominant-baseline=\"middle\" text-anchor=\"middle\">tmxrc_Rejected_ExactID_Month_0</text>  </svg></svg><line x1=\"74.82747604954027%\" x2=\"76.5728324908567%\" y1=\"60\" y2=\"60\" id=\"_fb_uinfdupaumkolsbxzlgv_ind_31\" style=\"stroke:rgb(0.0, 138.56128015770727, 250.76166088685727);stroke-width:2; opacity: 0\"/><text x=\"75.70015427019848%\" y=\"71\" font-size=\"12px\" fill=\"rgb(0.0, 138.56128015770727, 250.76166088685727)\" id=\"_fs_uinfdupaumkolsbxzlgv_ind_31\" style=\"opacity: 0\" dominant-baseline=\"middle\" text-anchor=\"middle\">-0.013</text><svg x=\"74.82747604954027%\" y=\"40\" height=\"20\" width=\"1.7453564413164315%\">  <svg x=\"0\" y=\"0\" width=\"100%\" height=\"100%\">    <text x=\"50%\" y=\"9\" font-size=\"12px\" fill=\"rgb(255,255,255)\" dominant-baseline=\"middle\" text-anchor=\"middle\">tmxrc_Rejected_Email_Month_0</text>  </svg></svg><line x1=\"76.5728324908567%\" x2=\"78.10073071422181%\" y1=\"60\" y2=\"60\" id=\"_fb_uinfdupaumkolsbxzlgv_ind_26\" style=\"stroke:rgb(0.0, 138.56128015770727, 250.76166088685727);stroke-width:2; opacity: 0\"/><text x=\"77.33678160253925%\" y=\"71\" font-size=\"12px\" fill=\"rgb(0.0, 138.56128015770727, 250.76166088685727)\" id=\"_fs_uinfdupaumkolsbxzlgv_ind_26\" style=\"opacity: 0\" dominant-baseline=\"middle\" text-anchor=\"middle\">-0.011</text><svg x=\"76.5728324908567%\" y=\"40\" height=\"20\" width=\"1.5278982233651135%\">  <svg x=\"0\" y=\"0\" width=\"100%\" height=\"100%\">    <text x=\"50%\" y=\"9\" font-size=\"12px\" fill=\"rgb(255,255,255)\" dominant-baseline=\"middle\" text-anchor=\"middle\">tmxrc_Possible_VPN_or_Tunnel_0</text>  </svg></svg><line x1=\"78.10073071422181%\" x2=\"79.28518258899337%\" y1=\"60\" y2=\"60\" id=\"_fb_uinfdupaumkolsbxzlgv_ind_30\" style=\"stroke:rgb(0.0, 138.56128015770727, 250.76166088685727);stroke-width:2; opacity: 0\"/><text x=\"78.69295665160759%\" y=\"71\" font-size=\"12px\" fill=\"rgb(0.0, 138.56128015770727, 250.76166088685727)\" id=\"_fs_uinfdupaumkolsbxzlgv_ind_30\" style=\"opacity: 0\" dominant-baseline=\"middle\" text-anchor=\"middle\">-0.009</text><svg x=\"78.10073071422181%\" y=\"40\" height=\"20\" width=\"1.184451874771554%\">  <svg x=\"0\" y=\"0\" width=\"100%\" height=\"100%\">    <text x=\"50%\" y=\"9\" font-size=\"12px\" fill=\"rgb(255,255,255)\" dominant-baseline=\"middle\" text-anchor=\"middle\">tmxrc_Rejected_InputIP_Month_0</text>  </svg></svg><line x1=\"79.28518258899337%\" x2=\"80.3769006316769%\" y1=\"60\" y2=\"60\" id=\"_fb_uinfdupaumkolsbxzlgv_ind_38\" style=\"stroke:rgb(0.0, 138.56128015770727, 250.76166088685727);stroke-width:2; opacity: 0\"/><text x=\"79.83104161033513%\" y=\"71\" font-size=\"12px\" fill=\"rgb(0.0, 138.56128015770727, 250.76166088685727)\" id=\"_fs_uinfdupaumkolsbxzlgv_ind_38\" style=\"opacity: 0\" dominant-baseline=\"middle\" text-anchor=\"middle\">-0.008</text><svg x=\"79.28518258899337%\" y=\"40\" height=\"20\" width=\"1.0917180426835387%\">  <svg x=\"0\" y=\"0\" width=\"100%\" height=\"100%\">    <text x=\"50%\" y=\"9\" font-size=\"12px\" fill=\"rgb(255,255,255)\" dominant-baseline=\"middle\" text-anchor=\"middle\">sumrc_Level_1_Link_Reject_0</text>  </svg></svg><line x1=\"80.3769006316769%\" x2=\"81.32557573851244%\" y1=\"60\" y2=\"60\" id=\"_fb_uinfdupaumkolsbxzlgv_ind_37\" style=\"stroke:rgb(0.0, 138.56128015770727, 250.76166088685727);stroke-width:2; opacity: 0\"/><text x=\"80.85123818509467%\" y=\"71\" font-size=\"12px\" fill=\"rgb(0.0, 138.56128015770727, 250.76166088685727)\" id=\"_fs_uinfdupaumkolsbxzlgv_ind_37\" style=\"opacity: 0\" dominant-baseline=\"middle\" text-anchor=\"middle\">-0.007</text><svg x=\"80.3769006316769%\" y=\"40\" height=\"20\" width=\"0.9486751068355375%\">  <svg x=\"0\" y=\"0\" width=\"100%\" height=\"100%\">    <text x=\"50%\" y=\"9\" font-size=\"12px\" fill=\"rgb(255,255,255)\" dominant-baseline=\"middle\" text-anchor=\"middle\">tmxrc_Proxy_Anonymous_0</text>  </svg></svg><line x1=\"81.32557573851244%\" x2=\"82.2604313105772%\" y1=\"60\" y2=\"60\" id=\"_fb_uinfdupaumkolsbxzlgv_ind_40\" style=\"stroke:rgb(0.0, 138.56128015770727, 250.76166088685727);stroke-width:2; opacity: 0\"/><text x=\"81.79300352454482%\" y=\"71\" font-size=\"12px\" fill=\"rgb(0.0, 138.56128015770727, 250.76166088685727)\" id=\"_fs_uinfdupaumkolsbxzlgv_ind_40\" style=\"opacity: 0\" dominant-baseline=\"middle\" text-anchor=\"middle\">-0.007</text><svg x=\"81.32557573851244%\" y=\"40\" height=\"20\" width=\"0.9348555720647624%\">  <svg x=\"0\" y=\"0\" width=\"100%\" height=\"100%\">    <text x=\"50%\" y=\"9\" font-size=\"12px\" fill=\"rgb(255,255,255)\" dominant-baseline=\"middle\" text-anchor=\"middle\">tmxrc_PotentialVM_UA_Android_OS_Win_0</text>  </svg></svg><line x1=\"82.2604313105772%\" x2=\"83.1496161528993%\" y1=\"60\" y2=\"60\" id=\"_fb_uinfdupaumkolsbxzlgv_ind_23\" style=\"stroke:rgb(0.0, 138.56128015770727, 250.76166088685727);stroke-width:2; opacity: 0\"/><text x=\"82.70502373173825%\" y=\"71\" font-size=\"12px\" fill=\"rgb(0.0, 138.56128015770727, 250.76166088685727)\" id=\"_fs_uinfdupaumkolsbxzlgv_ind_23\" style=\"opacity: 0\" dominant-baseline=\"middle\" text-anchor=\"middle\">-0.006</text><svg x=\"82.2604313105772%\" y=\"40\" height=\"20\" width=\"0.8891848423220949%\">  <svg x=\"0\" y=\"0\" width=\"100%\" height=\"100%\">    <text x=\"50%\" y=\"9\" font-size=\"12px\" fill=\"rgb(255,255,255)\" dominant-baseline=\"middle\" text-anchor=\"middle\">tmxrc_TZ_Geo_Mismatch_0</text>  </svg></svg><line x1=\"83.1496161528993%\" x2=\"83.96641295670737%\" y1=\"60\" y2=\"60\" id=\"_fb_uinfdupaumkolsbxzlgv_ind_35\" style=\"stroke:rgb(0.0, 138.56128015770727, 250.76166088685727);stroke-width:2; opacity: 0\"/><text x=\"83.55801455480334%\" y=\"71\" font-size=\"12px\" fill=\"rgb(0.0, 138.56128015770727, 250.76166088685727)\" id=\"_fs_uinfdupaumkolsbxzlgv_ind_35\" style=\"opacity: 0\" dominant-baseline=\"middle\" text-anchor=\"middle\">-0.006</text><svg x=\"83.1496161528993%\" y=\"40\" height=\"20\" width=\"0.8167968038080744%\">  <svg x=\"0\" y=\"0\" width=\"100%\" height=\"100%\">    <text x=\"50%\" y=\"9\" font-size=\"12px\" fill=\"rgb(255,255,255)\" dominant-baseline=\"middle\" text-anchor=\"middle\">tmxrc_ACC_NUM_SMART_ID_LCL_PAIR_AGE_LT_DY_0</text>  </svg></svg><line x1=\"83.96641295670737%\" x2=\"84.76086168767301%\" y1=\"60\" y2=\"60\" id=\"_fb_uinfdupaumkolsbxzlgv_ind_34\" style=\"stroke:rgb(0.0, 138.56128015770727, 250.76166088685727);stroke-width:2; opacity: 0\"/><text x=\"84.36363732219019%\" y=\"71\" font-size=\"12px\" fill=\"rgb(0.0, 138.56128015770727, 250.76166088685727)\" id=\"_fs_uinfdupaumkolsbxzlgv_ind_34\" style=\"opacity: 0\" dominant-baseline=\"middle\" text-anchor=\"middle\">-0.006</text><svg x=\"83.96641295670737%\" y=\"40\" height=\"20\" width=\"0.794448730965641%\">  <svg x=\"0\" y=\"0\" width=\"100%\" height=\"100%\">    <text x=\"50%\" y=\"9\" font-size=\"12px\" fill=\"rgb(255,255,255)\" dominant-baseline=\"middle\" text-anchor=\"middle\">tmxrc_ACC_EMAIL_GBL_AGE_LT_DY_0</text>  </svg></svg><line x1=\"84.76086168767301%\" x2=\"85.50413981391694%\" y1=\"60\" y2=\"60\" id=\"_fb_uinfdupaumkolsbxzlgv_ind_1\" style=\"stroke:rgb(0.0, 138.56128015770727, 250.76166088685727);stroke-width:2; opacity: 0\"/><text x=\"85.13250075079497%\" y=\"71\" font-size=\"12px\" fill=\"rgb(0.0, 138.56128015770727, 250.76166088685727)\" id=\"_fs_uinfdupaumkolsbxzlgv_ind_1\" style=\"opacity: 0\" dominant-baseline=\"middle\" text-anchor=\"middle\">-0.005</text><svg x=\"84.76086168767301%\" y=\"40\" height=\"20\" width=\"0.7432781262439221%\">  <svg x=\"0\" y=\"0\" width=\"100%\" height=\"100%\">    <text x=\"50%\" y=\"9\" font-size=\"12px\" fill=\"rgb(255,255,255)\" dominant-baseline=\"middle\" text-anchor=\"middle\">tmxrc_Aggregator_0</text>  </svg></svg><line x1=\"85.50413981391694%\" x2=\"86.22673345703686%\" y1=\"60\" y2=\"60\" id=\"_fb_uinfdupaumkolsbxzlgv_ind_33\" style=\"stroke:rgb(0.0, 138.56128015770727, 250.76166088685727);stroke-width:2; opacity: 0\"/><text x=\"85.8654366354769%\" y=\"71\" font-size=\"12px\" fill=\"rgb(0.0, 138.56128015770727, 250.76166088685727)\" id=\"_fs_uinfdupaumkolsbxzlgv_ind_33\" style=\"opacity: 0\" dominant-baseline=\"middle\" text-anchor=\"middle\">-0.005</text><svg x=\"85.50413981391694%\" y=\"40\" height=\"20\" width=\"0.7225936431199216%\">  <svg x=\"0\" y=\"0\" width=\"100%\" height=\"100%\">    <text x=\"50%\" y=\"9\" font-size=\"12px\" fill=\"rgb(255,255,255)\" dominant-baseline=\"middle\" text-anchor=\"middle\">tmxrc_TMX_email_persona_anomaly_0</text>  </svg></svg><line x1=\"86.22673345703686%\" x2=\"86.93461195238298%\" y1=\"60\" y2=\"60\" id=\"_fb_uinfdupaumkolsbxzlgv_ind_41\" style=\"stroke:rgb(0.0, 138.56128015770727, 250.76166088685727);stroke-width:2; opacity: 0\"/><text x=\"86.58067270470991%\" y=\"71\" font-size=\"12px\" fill=\"rgb(0.0, 138.56128015770727, 250.76166088685727)\" id=\"_fs_uinfdupaumkolsbxzlgv_ind_41\" style=\"opacity: 0\" dominant-baseline=\"middle\" text-anchor=\"middle\">-0.005</text><svg x=\"86.22673345703686%\" y=\"40\" height=\"20\" width=\"0.7078784953461223%\">  <svg x=\"0\" y=\"0\" width=\"100%\" height=\"100%\">    <text x=\"50%\" y=\"9\" font-size=\"12px\" fill=\"rgb(255,255,255)\" dominant-baseline=\"middle\" text-anchor=\"middle\">tmxrc_Phones_per_ExactID_Week_High_0</text>  </svg></svg><line x1=\"86.93461195238298%\" x2=\"87.57643746147099%\" y1=\"60\" y2=\"60\" id=\"_fb_uinfdupaumkolsbxzlgv_ind_24\" style=\"stroke:rgb(0.0, 138.56128015770727, 250.76166088685727);stroke-width:2; opacity: 0\"/><text x=\"87.25552470692699%\" y=\"71\" font-size=\"12px\" fill=\"rgb(0.0, 138.56128015770727, 250.76166088685727)\" id=\"_fs_uinfdupaumkolsbxzlgv_ind_24\" style=\"opacity: 0\" dominant-baseline=\"middle\" text-anchor=\"middle\">-0.005</text><svg x=\"86.93461195238298%\" y=\"40\" height=\"20\" width=\"0.6418255090880081%\">  <svg x=\"0\" y=\"0\" width=\"100%\" height=\"100%\">    <text x=\"50%\" y=\"9\" font-size=\"12px\" fill=\"rgb(255,255,255)\" dominant-baseline=\"middle\" text-anchor=\"middle\">tmxrc_Geo_Lang_Mismatch_0</text>  </svg></svg><line x1=\"87.57643746147099%\" x2=\"88.16113025910529%\" y1=\"60\" y2=\"60\" id=\"_fb_uinfdupaumkolsbxzlgv_ind_20\" style=\"stroke:rgb(0.0, 138.56128015770727, 250.76166088685727);stroke-width:2; opacity: 0\"/><text x=\"87.86878386028815%\" y=\"71\" font-size=\"12px\" fill=\"rgb(0.0, 138.56128015770727, 250.76166088685727)\" id=\"_fs_uinfdupaumkolsbxzlgv_ind_20\" style=\"opacity: 0\" dominant-baseline=\"middle\" text-anchor=\"middle\">-0.004</text><svg x=\"87.57643746147099%\" y=\"40\" height=\"20\" width=\"0.5846927976343039%\">  <svg x=\"0\" y=\"0\" width=\"100%\" height=\"100%\">    <text x=\"50%\" y=\"9\" font-size=\"12px\" fill=\"rgb(255,255,255)\" dominant-baseline=\"middle\" text-anchor=\"middle\">tmxrc_ACC_EMAIL_SMART_ID_LCL_PAIR_AGE_LT_HR_0</text>  </svg></svg><line x1=\"88.16113025910529%\" x2=\"88.73937717633275%\" y1=\"60\" y2=\"60\" id=\"_fb_uinfdupaumkolsbxzlgv_ind_22\" style=\"stroke:rgb(0.0, 138.56128015770727, 250.76166088685727);stroke-width:2; opacity: 0\"/><text x=\"88.45025371771902%\" y=\"71\" font-size=\"12px\" fill=\"rgb(0.0, 138.56128015770727, 250.76166088685727)\" id=\"_fs_uinfdupaumkolsbxzlgv_ind_22\" style=\"opacity: 0\" dominant-baseline=\"middle\" text-anchor=\"middle\">-0.004</text><svg x=\"88.16113025910529%\" y=\"40\" height=\"20\" width=\"0.5782469172274602%\">  <svg x=\"0\" y=\"0\" width=\"100%\" height=\"100%\">    <text x=\"50%\" y=\"9\" font-size=\"12px\" fill=\"rgb(255,255,255)\" dominant-baseline=\"middle\" text-anchor=\"middle\">tmxrc_Login_Dist_per_Day_High_0</text>  </svg></svg><line x1=\"88.73937717633275%\" x2=\"89.25195932568086%\" y1=\"60\" y2=\"60\" id=\"_fb_uinfdupaumkolsbxzlgv_ind_21\" style=\"stroke:rgb(0.0, 138.56128015770727, 250.76166088685727);stroke-width:2; opacity: 0\"/><text x=\"88.9956682510068%\" y=\"71\" font-size=\"12px\" fill=\"rgb(0.0, 138.56128015770727, 250.76166088685727)\" id=\"_fs_uinfdupaumkolsbxzlgv_ind_21\" style=\"opacity: 0\" dominant-baseline=\"middle\" text-anchor=\"middle\">-0.004</text><svg x=\"88.73937717633275%\" y=\"40\" height=\"20\" width=\"0.5125821493481055%\">  <svg x=\"0\" y=\"0\" width=\"100%\" height=\"100%\">    <text x=\"50%\" y=\"9\" font-size=\"12px\" fill=\"rgb(255,255,255)\" dominant-baseline=\"middle\" text-anchor=\"middle\">tmxrc_ExactID_Dist_per_Hour_High_0</text>  </svg></svg><line x1=\"89.25195932568086%\" x2=\"89.76046437442965%\" y1=\"60\" y2=\"60\" id=\"_fb_uinfdupaumkolsbxzlgv_ind_17\" style=\"stroke:rgb(0.0, 138.56128015770727, 250.76166088685727);stroke-width:2; opacity: 0\"/><text x=\"89.50621185005525%\" y=\"71\" font-size=\"12px\" fill=\"rgb(0.0, 138.56128015770727, 250.76166088685727)\" id=\"_fs_uinfdupaumkolsbxzlgv_ind_17\" style=\"opacity: 0\" dominant-baseline=\"middle\" text-anchor=\"middle\">-0.004</text><svg x=\"89.25195932568086%\" y=\"40\" height=\"20\" width=\"0.5085050487487877%\">  <svg x=\"0\" y=\"0\" width=\"100%\" height=\"100%\">    <text x=\"50%\" y=\"9\" font-size=\"12px\" fill=\"rgb(255,255,255)\" dominant-baseline=\"middle\" text-anchor=\"middle\">tmxrc_ACC_EMAIL_SMART_ID_LCL_PAIR_AGE_LT_DY_0 tmxrc_ACC_LOGIN_EXACT_ID_LCL_PAIR_AGE_LT_DY_0</text>  </svg></svg><line x1=\"89.76046437442965%\" x2=\"90.15838456638214%\" y1=\"60\" y2=\"60\" id=\"_fb_uinfdupaumkolsbxzlgv_ind_32\" style=\"stroke:rgb(0.0, 138.56128015770727, 250.76166088685727);stroke-width:2; opacity: 0\"/><text x=\"89.95942447040589%\" y=\"71\" font-size=\"12px\" fill=\"rgb(0.0, 138.56128015770727, 250.76166088685727)\" id=\"_fs_uinfdupaumkolsbxzlgv_ind_32\" style=\"opacity: 0\" dominant-baseline=\"middle\" text-anchor=\"middle\">-0.003</text><svg x=\"89.76046437442965%\" y=\"40\" height=\"20\" width=\"0.39792019195249395%\">  <svg x=\"0\" y=\"0\" width=\"100%\" height=\"100%\">    <text x=\"50%\" y=\"9\" font-size=\"12px\" fill=\"rgb(255,255,255)\" dominant-baseline=\"middle\" text-anchor=\"middle\">tmxrc_ACC_NUM_SMART_ID_LCL_PAIR_LAST_TXN_15MIN_0</text>  </svg></svg><line x1=\"90.15838456638214%\" x2=\"90.50485476432033%\" y1=\"60\" y2=\"60\" id=\"_fb_uinfdupaumkolsbxzlgv_ind_16\" style=\"stroke:rgb(0.0, 138.56128015770727, 250.76166088685727);stroke-width:2; opacity: 0\"/><text x=\"90.33161966535124%\" y=\"71\" font-size=\"12px\" fill=\"rgb(0.0, 138.56128015770727, 250.76166088685727)\" id=\"_fs_uinfdupaumkolsbxzlgv_ind_16\" style=\"opacity: 0\" dominant-baseline=\"middle\" text-anchor=\"middle\">-0.003</text><svg x=\"90.15838456638214%\" y=\"40\" height=\"20\" width=\"0.34647019793818856%\">  <svg x=\"0\" y=\"0\" width=\"100%\" height=\"100%\">    <text x=\"50%\" y=\"9\" font-size=\"12px\" fill=\"rgb(255,255,255)\" dominant-baseline=\"middle\" text-anchor=\"middle\">tmxrc_AGENT_PUBLICKEY_HASH_LCL_AGE_LT_DY_0 tmxrc_SMART_ID_GBL_AGE_LT_DY_0</text>  </svg></svg><line x1=\"90.50485476432033%\" x2=\"90.83871615706894%\" y1=\"60\" y2=\"60\" id=\"_fb_uinfdupaumkolsbxzlgv_ind_29\" style=\"stroke:rgb(0.0, 138.56128015770727, 250.76166088685727);stroke-width:2; opacity: 0\"/><text x=\"90.67178546069464%\" y=\"71\" font-size=\"12px\" fill=\"rgb(0.0, 138.56128015770727, 250.76166088685727)\" id=\"_fs_uinfdupaumkolsbxzlgv_ind_29\" style=\"opacity: 0\" dominant-baseline=\"middle\" text-anchor=\"middle\">-0.002</text><svg x=\"90.50485476432033%\" y=\"40\" height=\"20\" width=\"0.3338613927486165%\">  <svg x=\"0\" y=\"0\" width=\"100%\" height=\"100%\">    <text x=\"50%\" y=\"9\" font-size=\"12px\" fill=\"rgb(255,255,255)\" dominant-baseline=\"middle\" text-anchor=\"middle\">tmxrc_Rejected_InputIP_Year_0</text>  </svg></svg><line x1=\"90.83871615706894%\" x2=\"91.1333838858922%\" y1=\"60\" y2=\"60\" id=\"_fb_uinfdupaumkolsbxzlgv_ind_36\" style=\"stroke:rgb(0.0, 138.56128015770727, 250.76166088685727);stroke-width:2; opacity: 0\"/><text x=\"90.98605002148057%\" y=\"71\" font-size=\"12px\" fill=\"rgb(0.0, 138.56128015770727, 250.76166088685727)\" id=\"_fs_uinfdupaumkolsbxzlgv_ind_36\" style=\"opacity: 0\" dominant-baseline=\"middle\" text-anchor=\"middle\">-0.002</text><svg x=\"90.83871615706894%\" y=\"40\" height=\"20\" width=\"0.2946677288232564%\">  <svg x=\"0\" y=\"0\" width=\"100%\" height=\"100%\">    <text x=\"50%\" y=\"9\" font-size=\"12px\" fill=\"rgb(255,255,255)\" dominant-baseline=\"middle\" text-anchor=\"middle\">tmxrc_Jailbreak_or_Root_0</text>  </svg></svg><line x1=\"91.1333838858922%\" x2=\"91.41839696347627%\" y1=\"60\" y2=\"60\" id=\"_fb_uinfdupaumkolsbxzlgv_ind_28\" style=\"stroke:rgb(0.0, 138.56128015770727, 250.76166088685727);stroke-width:2; opacity: 0\"/><text x=\"91.27589042468423%\" y=\"71\" font-size=\"12px\" fill=\"rgb(0.0, 138.56128015770727, 250.76166088685727)\" id=\"_fs_uinfdupaumkolsbxzlgv_ind_28\" style=\"opacity: 0\" dominant-baseline=\"middle\" text-anchor=\"middle\">-0.002</text><svg x=\"91.1333838858922%\" y=\"40\" height=\"20\" width=\"0.28501307758406824%\">  <svg x=\"0\" y=\"0\" width=\"100%\" height=\"100%\">    <text x=\"50%\" y=\"9\" font-size=\"12px\" fill=\"rgb(255,255,255)\" dominant-baseline=\"middle\" text-anchor=\"middle\">tmxrc_Email_Dist_per_Hour_High_0</text>  </svg></svg><line x1=\"91.41839696347627%\" x2=\"91.54288374849699%\" y1=\"60\" y2=\"60\" id=\"_fb_uinfdupaumkolsbxzlgv_ind_42\" style=\"stroke:rgb(0.0, 138.56128015770727, 250.76166088685727);stroke-width:2; opacity: 0\"/><text x=\"91.48064035598662%\" y=\"71\" font-size=\"12px\" fill=\"rgb(0.0, 138.56128015770727, 250.76166088685727)\" id=\"_fs_uinfdupaumkolsbxzlgv_ind_42\" style=\"opacity: 0\" dominant-baseline=\"middle\" text-anchor=\"middle\">-0.001</text><svg x=\"91.41839696347627%\" y=\"40\" height=\"20\" width=\"0.12448678502072141%\">  <svg x=\"0\" y=\"0\" width=\"100%\" height=\"100%\">    <text x=\"50%\" y=\"9\" font-size=\"12px\" fill=\"rgb(255,255,255)\" dominant-baseline=\"middle\" text-anchor=\"middle\"></text>  </svg></svg><line x1=\"91.54288374849699%\" x2=\"91.6497249007204%\" y1=\"60\" y2=\"60\" id=\"_fb_uinfdupaumkolsbxzlgv_ind_0\" style=\"stroke:rgb(0.0, 138.56128015770727, 250.76166088685727);stroke-width:2; opacity: 0\"/><text x=\"91.5963043246087%\" y=\"71\" font-size=\"12px\" fill=\"rgb(0.0, 138.56128015770727, 250.76166088685727)\" id=\"_fs_uinfdupaumkolsbxzlgv_ind_0\" style=\"opacity: 0\" dominant-baseline=\"middle\" text-anchor=\"middle\">-0.001</text><svg x=\"91.54288374849699%\" y=\"40\" height=\"20\" width=\"0.10684115222341006%\">  <svg x=\"0\" y=\"0\" width=\"100%\" height=\"100%\">    <text x=\"50%\" y=\"9\" font-size=\"12px\" fill=\"rgb(255,255,255)\" dominant-baseline=\"middle\" text-anchor=\"middle\"></text>  </svg></svg><line x1=\"91.6497249007204%\" x2=\"91.66301513111705%\" y1=\"60\" y2=\"60\" id=\"_fb_uinfdupaumkolsbxzlgv_ind_15\" style=\"stroke:rgb(0.0, 138.56128015770727, 250.76166088685727);stroke-width:2; opacity: 0\"/><text x=\"91.65637001591872%\" y=\"71\" font-size=\"12px\" fill=\"rgb(0.0, 138.56128015770727, 250.76166088685727)\" id=\"_fs_uinfdupaumkolsbxzlgv_ind_15\" style=\"opacity: 0\" dominant-baseline=\"middle\" text-anchor=\"middle\">-0.0</text><svg x=\"91.6497249007204%\" y=\"40\" height=\"20\" width=\"0.013290230396648894%\">  <svg x=\"0\" y=\"0\" width=\"100%\" height=\"100%\">    <text x=\"50%\" y=\"9\" font-size=\"12px\" fill=\"rgb(255,255,255)\" dominant-baseline=\"middle\" text-anchor=\"middle\">tmxrc_DIG_ID_LCL_AGE_LT_DY_0</text>  </svg></svg><line x1=\"91.66301513111705%\" x2=\"91.66666540739871%\" y1=\"60\" y2=\"60\" id=\"_fb_uinfdupaumkolsbxzlgv_ind_19\" style=\"stroke:rgb(0.0, 138.56128015770727, 250.76166088685727);stroke-width:2; opacity: 0\"/><text x=\"91.66484026925788%\" y=\"71\" font-size=\"12px\" fill=\"rgb(0.0, 138.56128015770727, 250.76166088685727)\" id=\"_fs_uinfdupaumkolsbxzlgv_ind_19\" style=\"opacity: 0\" dominant-baseline=\"middle\" text-anchor=\"middle\">-0.0</text><svg x=\"91.66301513111705%\" y=\"40\" height=\"20\" width=\"0.0036502762816610357%\">  <svg x=\"0\" y=\"0\" width=\"100%\" height=\"100%\">    <text x=\"50%\" y=\"9\" font-size=\"12px\" fill=\"rgb(255,255,255)\" dominant-baseline=\"middle\" text-anchor=\"middle\">tmxrc_ACC_LOGIN_LCL_AGE_LT_HR_0</text>  </svg></svg><g transform=\"translate(-8,0)\">  <svg x=\"72.09234918311887%\" y=\"40\" height=\"18\" overflow=\"visible\" width=\"30\">    <path d=\"M 8 -9 l -6 18 L 8 25\" fill=\"none\" style=\"stroke:rgb(0.0, 138.56128015770727, 250.76166088685727);stroke-width:2\" />  </svg></g><g transform=\"translate(-10,0)\">  <svg x=\"72.09234918311887%\" y=\"40\" height=\"18\" overflow=\"visible\" width=\"30\">    <path d=\"M 8 -9 l -6 18 L 8 25\" fill=\"none\" style=\"stroke:rgb(0.0, 138.56128015770727, 250.76166088685727);stroke-width:2\" />  </svg></g><g transform=\"translate(-12,0)\">  <svg x=\"72.09234918311887%\" y=\"40\" height=\"18\" overflow=\"visible\" width=\"30\">    <path d=\"M 8 -9 l -6 18 L 8 25\" fill=\"none\" style=\"stroke:rgb(0.0, 138.56128015770727, 250.76166088685727);stroke-width:2\" />  </svg></g><g transform=\"translate(-14,0)\">  <svg x=\"72.09234918311887%\" y=\"40\" height=\"18\" overflow=\"visible\" width=\"30\">    <path d=\"M 8 -9 l -6 18 L 8 25\" fill=\"none\" style=\"stroke:rgb(0.0, 138.56128015770727, 250.76166088685727);stroke-width:2\" />  </svg></g><g transform=\"translate(2,0)\">  <svg x=\"72.09234918311887%\" y=\"40\" height=\"18\" overflow=\"visible\" width=\"30\">    <path d=\"M 8 -9 l -6 18 L 8 25\" fill=\"none\" style=\"stroke:rgb(0.0, 138.56128015770727, 250.76166088685727);stroke-width:2\" />  </svg></g><g transform=\"translate(0,0)\">  <svg x=\"72.09234918311887%\" y=\"40\" height=\"18\" overflow=\"visible\" width=\"30\">    <path d=\"M 8 -9 l -6 18 L 8 25\" fill=\"none\" style=\"stroke:rgb(0.0, 138.56128015770727, 250.76166088685727);stroke-width:2\" />  </svg></g><g transform=\"translate(-2,0)\">  <svg x=\"72.09234918311887%\" y=\"40\" height=\"18\" overflow=\"visible\" width=\"30\">    <path d=\"M 8 -9 l -6 18 L 8 25\" fill=\"none\" style=\"stroke:rgb(0.0, 138.56128015770727, 250.76166088685727);stroke-width:2\" />  </svg></g><g transform=\"translate(-4,0)\">  <svg x=\"72.09234918311887%\" y=\"40\" height=\"18\" overflow=\"visible\" width=\"30\">    <path d=\"M 8 -9 l -6 18 L 8 25\" fill=\"none\" style=\"stroke:rgb(0.0, 138.56128015770727, 250.76166088685727);stroke-width:2\" />  </svg></g><g transform=\"translate(-8,0)\">  <svg x=\"74.82747604954027%\" y=\"40\" height=\"18\" overflow=\"visible\" width=\"30\">    <path d=\"M 8 -9 l -6 18 L 8 25\" fill=\"none\" style=\"stroke:rgb(0.0, 138.56128015770727, 250.76166088685727);stroke-width:2\" />  </svg></g><g transform=\"translate(-10,0)\">  <svg x=\"74.82747604954027%\" y=\"40\" height=\"18\" overflow=\"visible\" width=\"30\">    <path d=\"M 8 -9 l -6 18 L 8 25\" fill=\"none\" style=\"stroke:rgb(0.0, 138.56128015770727, 250.76166088685727);stroke-width:2\" />  </svg></g><g transform=\"translate(-12,0)\">  <svg x=\"74.82747604954027%\" y=\"40\" height=\"18\" overflow=\"visible\" width=\"30\">    <path d=\"M 8 -9 l -6 18 L 8 25\" fill=\"none\" style=\"stroke:rgb(0.0, 138.56128015770727, 250.76166088685727);stroke-width:2\" />  </svg></g><g transform=\"translate(-14,0)\">  <svg x=\"74.82747604954027%\" y=\"40\" height=\"18\" overflow=\"visible\" width=\"30\">    <path d=\"M 8 -9 l -6 18 L 8 25\" fill=\"none\" style=\"stroke:rgb(0.0, 138.56128015770727, 250.76166088685727);stroke-width:2\" />  </svg></g><g transform=\"translate(2,0)\">  <svg x=\"74.82747604954027%\" y=\"40\" height=\"18\" overflow=\"visible\" width=\"30\">    <path d=\"M 8 -9 l -6 18 L 8 25\" fill=\"none\" style=\"stroke:rgb(0.0, 138.56128015770727, 250.76166088685727);stroke-width:2\" />  </svg></g><g transform=\"translate(0,0)\">  <svg x=\"74.82747604954027%\" y=\"40\" height=\"18\" overflow=\"visible\" width=\"30\">    <path d=\"M 8 -9 l -6 18 L 8 25\" fill=\"none\" style=\"stroke:rgb(0.0, 138.56128015770727, 250.76166088685727);stroke-width:2\" />  </svg></g><g transform=\"translate(-2,0)\">  <svg x=\"74.82747604954027%\" y=\"40\" height=\"18\" overflow=\"visible\" width=\"30\">    <path d=\"M 8 -9 l -6 18 L 8 25\" fill=\"none\" style=\"stroke:rgb(0.0, 138.56128015770727, 250.76166088685727);stroke-width:2\" />  </svg></g><g transform=\"translate(-4,0)\">  <svg x=\"74.82747604954027%\" y=\"40\" height=\"18\" overflow=\"visible\" width=\"30\">    <path d=\"M 8 -9 l -6 18 L 8 25\" fill=\"none\" style=\"stroke:rgb(0.0, 138.56128015770727, 250.76166088685727);stroke-width:2\" />  </svg></g><g transform=\"translate(-8,0)\">  <svg x=\"76.5728324908567%\" y=\"40\" height=\"18\" overflow=\"visible\" width=\"30\">    <path d=\"M 8 -9 l -6 18 L 8 25\" fill=\"none\" style=\"stroke:rgb(0.0, 138.56128015770727, 250.76166088685727);stroke-width:2\" />  </svg></g><g transform=\"translate(-10,0)\">  <svg x=\"76.5728324908567%\" y=\"40\" height=\"18\" overflow=\"visible\" width=\"30\">    <path d=\"M 8 -9 l -6 18 L 8 25\" fill=\"none\" style=\"stroke:rgb(0.0, 138.56128015770727, 250.76166088685727);stroke-width:2\" />  </svg></g><g transform=\"translate(-12,0)\">  <svg x=\"76.5728324908567%\" y=\"40\" height=\"18\" overflow=\"visible\" width=\"30\">    <path d=\"M 8 -9 l -6 18 L 8 25\" fill=\"none\" style=\"stroke:rgb(0.0, 138.56128015770727, 250.76166088685727);stroke-width:2\" />  </svg></g><g transform=\"translate(-14,0)\">  <svg x=\"76.5728324908567%\" y=\"40\" height=\"18\" overflow=\"visible\" width=\"30\">    <path d=\"M 8 -9 l -6 18 L 8 25\" fill=\"none\" style=\"stroke:rgb(0.0, 138.56128015770727, 250.76166088685727);stroke-width:2\" />  </svg></g><g transform=\"translate(2,0)\">  <svg x=\"76.5728324908567%\" y=\"40\" height=\"18\" overflow=\"visible\" width=\"30\">    <path d=\"M 8 -9 l -6 18 L 8 25\" fill=\"none\" style=\"stroke:rgb(0.0, 138.56128015770727, 250.76166088685727);stroke-width:2\" />  </svg></g><g transform=\"translate(0,0)\">  <svg x=\"76.5728324908567%\" y=\"40\" height=\"18\" overflow=\"visible\" width=\"30\">    <path d=\"M 8 -9 l -6 18 L 8 25\" fill=\"none\" style=\"stroke:rgb(0.0, 138.56128015770727, 250.76166088685727);stroke-width:2\" />  </svg></g><g transform=\"translate(-2,0)\">  <svg x=\"76.5728324908567%\" y=\"40\" height=\"18\" overflow=\"visible\" width=\"30\">    <path d=\"M 8 -9 l -6 18 L 8 25\" fill=\"none\" style=\"stroke:rgb(0.0, 138.56128015770727, 250.76166088685727);stroke-width:2\" />  </svg></g><g transform=\"translate(-4,0)\">  <svg x=\"76.5728324908567%\" y=\"40\" height=\"18\" overflow=\"visible\" width=\"30\">    <path d=\"M 8 -9 l -6 18 L 8 25\" fill=\"none\" style=\"stroke:rgb(0.0, 138.56128015770727, 250.76166088685727);stroke-width:2\" />  </svg></g><g transform=\"translate(-8,0)\">  <svg x=\"78.10073071422181%\" y=\"40\" height=\"18\" overflow=\"visible\" width=\"30\">    <path d=\"M 8 -9 l -6 18 L 8 25\" fill=\"none\" style=\"stroke:rgb(0.0, 138.56128015770727, 250.76166088685727);stroke-width:2\" />  </svg></g><g transform=\"translate(-10,0)\">  <svg x=\"78.10073071422181%\" y=\"40\" height=\"18\" overflow=\"visible\" width=\"30\">    <path d=\"M 8 -9 l -6 18 L 8 25\" fill=\"none\" style=\"stroke:rgb(0.0, 138.56128015770727, 250.76166088685727);stroke-width:2\" />  </svg></g><g transform=\"translate(-12,0)\">  <svg x=\"78.10073071422181%\" y=\"40\" height=\"18\" overflow=\"visible\" width=\"30\">    <path d=\"M 8 -9 l -6 18 L 8 25\" fill=\"none\" style=\"stroke:rgb(0.0, 138.56128015770727, 250.76166088685727);stroke-width:2\" />  </svg></g><g transform=\"translate(-14,0)\">  <svg x=\"78.10073071422181%\" y=\"40\" height=\"18\" overflow=\"visible\" width=\"30\">    <path d=\"M 8 -9 l -6 18 L 8 25\" fill=\"none\" style=\"stroke:rgb(0.0, 138.56128015770727, 250.76166088685727);stroke-width:2\" />  </svg></g><g transform=\"translate(2,0)\">  <svg x=\"78.10073071422181%\" y=\"40\" height=\"18\" overflow=\"visible\" width=\"30\">    <path d=\"M 8 -9 l -6 18 L 8 25\" fill=\"none\" style=\"stroke:rgb(0.0, 138.56128015770727, 250.76166088685727);stroke-width:2\" />  </svg></g><g transform=\"translate(0,0)\">  <svg x=\"78.10073071422181%\" y=\"40\" height=\"18\" overflow=\"visible\" width=\"30\">    <path d=\"M 8 -9 l -6 18 L 8 25\" fill=\"none\" style=\"stroke:rgb(0.0, 138.56128015770727, 250.76166088685727);stroke-width:2\" />  </svg></g><g transform=\"translate(-2,0)\">  <svg x=\"78.10073071422181%\" y=\"40\" height=\"18\" overflow=\"visible\" width=\"30\">    <path d=\"M 8 -9 l -6 18 L 8 25\" fill=\"none\" style=\"stroke:rgb(0.0, 138.56128015770727, 250.76166088685727);stroke-width:2\" />  </svg></g><g transform=\"translate(-4,0)\">  <svg x=\"78.10073071422181%\" y=\"40\" height=\"18\" overflow=\"visible\" width=\"30\">    <path d=\"M 8 -9 l -6 18 L 8 25\" fill=\"none\" style=\"stroke:rgb(0.0, 138.56128015770727, 250.76166088685727);stroke-width:2\" />  </svg></g><g transform=\"translate(-8,0)\">  <svg x=\"79.28518258899337%\" y=\"40\" height=\"18\" overflow=\"visible\" width=\"30\">    <path d=\"M 8 -9 l -6 18 L 8 25\" fill=\"none\" style=\"stroke:rgb(0.0, 138.56128015770727, 250.76166088685727);stroke-width:2\" />  </svg></g><g transform=\"translate(-10,0)\">  <svg x=\"79.28518258899337%\" y=\"40\" height=\"18\" overflow=\"visible\" width=\"30\">    <path d=\"M 8 -9 l -6 18 L 8 25\" fill=\"none\" style=\"stroke:rgb(0.0, 138.56128015770727, 250.76166088685727);stroke-width:2\" />  </svg></g><g transform=\"translate(-12,0)\">  <svg x=\"79.28518258899337%\" y=\"40\" height=\"18\" overflow=\"visible\" width=\"30\">    <path d=\"M 8 -9 l -6 18 L 8 25\" fill=\"none\" style=\"stroke:rgb(0.0, 138.56128015770727, 250.76166088685727);stroke-width:2\" />  </svg></g><g transform=\"translate(-14,0)\">  <svg x=\"79.28518258899337%\" y=\"40\" height=\"18\" overflow=\"visible\" width=\"30\">    <path d=\"M 8 -9 l -6 18 L 8 25\" fill=\"none\" style=\"stroke:rgb(0.0, 138.56128015770727, 250.76166088685727);stroke-width:2\" />  </svg></g><g transform=\"translate(2,0)\">  <svg x=\"79.28518258899337%\" y=\"40\" height=\"18\" overflow=\"visible\" width=\"30\">    <path d=\"M 8 -9 l -6 18 L 8 25\" fill=\"none\" style=\"stroke:rgb(0.0, 138.56128015770727, 250.76166088685727);stroke-width:2\" />  </svg></g><g transform=\"translate(0,0)\">  <svg x=\"79.28518258899337%\" y=\"40\" height=\"18\" overflow=\"visible\" width=\"30\">    <path d=\"M 8 -9 l -6 18 L 8 25\" fill=\"none\" style=\"stroke:rgb(0.0, 138.56128015770727, 250.76166088685727);stroke-width:2\" />  </svg></g><g transform=\"translate(-2,0)\">  <svg x=\"79.28518258899337%\" y=\"40\" height=\"18\" overflow=\"visible\" width=\"30\">    <path d=\"M 8 -9 l -6 18 L 8 25\" fill=\"none\" style=\"stroke:rgb(0.0, 138.56128015770727, 250.76166088685727);stroke-width:2\" />  </svg></g><g transform=\"translate(-4,0)\">  <svg x=\"79.28518258899337%\" y=\"40\" height=\"18\" overflow=\"visible\" width=\"30\">    <path d=\"M 8 -9 l -6 18 L 8 25\" fill=\"none\" style=\"stroke:rgb(0.0, 138.56128015770727, 250.76166088685727);stroke-width:2\" />  </svg></g><g transform=\"translate(-8,0)\">  <svg x=\"80.3769006316769%\" y=\"40\" height=\"18\" overflow=\"visible\" width=\"30\">    <path d=\"M 8 -9 l -6 18 L 8 25\" fill=\"none\" style=\"stroke:rgb(0.0, 138.56128015770727, 250.76166088685727);stroke-width:2\" />  </svg></g><g transform=\"translate(-10,0)\">  <svg x=\"80.3769006316769%\" y=\"40\" height=\"18\" overflow=\"visible\" width=\"30\">    <path d=\"M 8 -9 l -6 18 L 8 25\" fill=\"none\" style=\"stroke:rgb(0.0, 138.56128015770727, 250.76166088685727);stroke-width:2\" />  </svg></g><g transform=\"translate(-12,0)\">  <svg x=\"80.3769006316769%\" y=\"40\" height=\"18\" overflow=\"visible\" width=\"30\">    <path d=\"M 8 -9 l -6 18 L 8 25\" fill=\"none\" style=\"stroke:rgb(0.0, 138.56128015770727, 250.76166088685727);stroke-width:2\" />  </svg></g><g transform=\"translate(-14,0)\">  <svg x=\"80.3769006316769%\" y=\"40\" height=\"18\" overflow=\"visible\" width=\"30\">    <path d=\"M 8 -9 l -6 18 L 8 25\" fill=\"none\" style=\"stroke:rgb(0.0, 138.56128015770727, 250.76166088685727);stroke-width:2\" />  </svg></g><g transform=\"translate(2,0)\">  <svg x=\"80.3769006316769%\" y=\"40\" height=\"18\" overflow=\"visible\" width=\"30\">    <path d=\"M 8 -9 l -6 18 L 8 25\" fill=\"none\" style=\"stroke:rgb(0.0, 138.56128015770727, 250.76166088685727);stroke-width:2\" />  </svg></g><g transform=\"translate(0,0)\">  <svg x=\"80.3769006316769%\" y=\"40\" height=\"18\" overflow=\"visible\" width=\"30\">    <path d=\"M 8 -9 l -6 18 L 8 25\" fill=\"none\" style=\"stroke:rgb(0.0, 138.56128015770727, 250.76166088685727);stroke-width:2\" />  </svg></g><g transform=\"translate(-2,0)\">  <svg x=\"80.3769006316769%\" y=\"40\" height=\"18\" overflow=\"visible\" width=\"30\">    <path d=\"M 8 -9 l -6 18 L 8 25\" fill=\"none\" style=\"stroke:rgb(0.0, 138.56128015770727, 250.76166088685727);stroke-width:2\" />  </svg></g><g transform=\"translate(-4,0)\">  <svg x=\"80.3769006316769%\" y=\"40\" height=\"18\" overflow=\"visible\" width=\"30\">    <path d=\"M 8 -9 l -6 18 L 8 25\" fill=\"none\" style=\"stroke:rgb(0.0, 138.56128015770727, 250.76166088685727);stroke-width:2\" />  </svg></g><g transform=\"translate(-8,0)\">  <svg x=\"81.32557573851244%\" y=\"40\" height=\"18\" overflow=\"visible\" width=\"30\">    <path d=\"M 8 -9 l -6 18 L 8 25\" fill=\"none\" style=\"stroke:rgb(0.0, 138.56128015770727, 250.76166088685727);stroke-width:2\" />  </svg></g><g transform=\"translate(-10,0)\">  <svg x=\"81.32557573851244%\" y=\"40\" height=\"18\" overflow=\"visible\" width=\"30\">    <path d=\"M 8 -9 l -6 18 L 8 25\" fill=\"none\" style=\"stroke:rgb(0.0, 138.56128015770727, 250.76166088685727);stroke-width:2\" />  </svg></g><g transform=\"translate(-12,0)\">  <svg x=\"81.32557573851244%\" y=\"40\" height=\"18\" overflow=\"visible\" width=\"30\">    <path d=\"M 8 -9 l -6 18 L 8 25\" fill=\"none\" style=\"stroke:rgb(0.0, 138.56128015770727, 250.76166088685727);stroke-width:2\" />  </svg></g><g transform=\"translate(-14,0)\">  <svg x=\"81.32557573851244%\" y=\"40\" height=\"18\" overflow=\"visible\" width=\"30\">    <path d=\"M 8 -9 l -6 18 L 8 25\" fill=\"none\" style=\"stroke:rgb(0.0, 138.56128015770727, 250.76166088685727);stroke-width:2\" />  </svg></g><g transform=\"translate(2,0)\">  <svg x=\"81.32557573851244%\" y=\"40\" height=\"18\" overflow=\"visible\" width=\"30\">    <path d=\"M 8 -9 l -6 18 L 8 25\" fill=\"none\" style=\"stroke:rgb(0.0, 138.56128015770727, 250.76166088685727);stroke-width:2\" />  </svg></g><g transform=\"translate(0,0)\">  <svg x=\"81.32557573851244%\" y=\"40\" height=\"18\" overflow=\"visible\" width=\"30\">    <path d=\"M 8 -9 l -6 18 L 8 25\" fill=\"none\" style=\"stroke:rgb(0.0, 138.56128015770727, 250.76166088685727);stroke-width:2\" />  </svg></g><g transform=\"translate(-2,0)\">  <svg x=\"81.32557573851244%\" y=\"40\" height=\"18\" overflow=\"visible\" width=\"30\">    <path d=\"M 8 -9 l -6 18 L 8 25\" fill=\"none\" style=\"stroke:rgb(0.0, 138.56128015770727, 250.76166088685727);stroke-width:2\" />  </svg></g><g transform=\"translate(-4,0)\">  <svg x=\"81.32557573851244%\" y=\"40\" height=\"18\" overflow=\"visible\" width=\"30\">    <path d=\"M 8 -9 l -6 18 L 8 25\" fill=\"none\" style=\"stroke:rgb(0.0, 138.56128015770727, 250.76166088685727);stroke-width:2\" />  </svg></g><g transform=\"translate(-8,0)\">  <svg x=\"82.2604313105772%\" y=\"40\" height=\"18\" overflow=\"visible\" width=\"30\">    <path d=\"M 8 -9 l -6 18 L 8 25\" fill=\"none\" style=\"stroke:rgb(0.0, 138.56128015770727, 250.76166088685727);stroke-width:2\" />  </svg></g><g transform=\"translate(-10,0)\">  <svg x=\"82.2604313105772%\" y=\"40\" height=\"18\" overflow=\"visible\" width=\"30\">    <path d=\"M 8 -9 l -6 18 L 8 25\" fill=\"none\" style=\"stroke:rgb(0.0, 138.56128015770727, 250.76166088685727);stroke-width:2\" />  </svg></g><g transform=\"translate(-12,0)\">  <svg x=\"82.2604313105772%\" y=\"40\" height=\"18\" overflow=\"visible\" width=\"30\">    <path d=\"M 8 -9 l -6 18 L 8 25\" fill=\"none\" style=\"stroke:rgb(0.0, 138.56128015770727, 250.76166088685727);stroke-width:2\" />  </svg></g><g transform=\"translate(-14,0)\">  <svg x=\"82.2604313105772%\" y=\"40\" height=\"18\" overflow=\"visible\" width=\"30\">    <path d=\"M 8 -9 l -6 18 L 8 25\" fill=\"none\" style=\"stroke:rgb(0.0, 138.56128015770727, 250.76166088685727);stroke-width:2\" />  </svg></g><g transform=\"translate(2,0)\">  <svg x=\"82.2604313105772%\" y=\"40\" height=\"18\" overflow=\"visible\" width=\"30\">    <path d=\"M 8 -9 l -6 18 L 8 25\" fill=\"none\" style=\"stroke:rgb(0.0, 138.56128015770727, 250.76166088685727);stroke-width:2\" />  </svg></g><g transform=\"translate(0,0)\">  <svg x=\"82.2604313105772%\" y=\"40\" height=\"18\" overflow=\"visible\" width=\"30\">    <path d=\"M 8 -9 l -6 18 L 8 25\" fill=\"none\" style=\"stroke:rgb(0.0, 138.56128015770727, 250.76166088685727);stroke-width:2\" />  </svg></g><g transform=\"translate(-2,0)\">  <svg x=\"82.2604313105772%\" y=\"40\" height=\"18\" overflow=\"visible\" width=\"30\">    <path d=\"M 8 -9 l -6 18 L 8 25\" fill=\"none\" style=\"stroke:rgb(0.0, 138.56128015770727, 250.76166088685727);stroke-width:2\" />  </svg></g><g transform=\"translate(-4,0)\">  <svg x=\"82.2604313105772%\" y=\"40\" height=\"18\" overflow=\"visible\" width=\"30\">    <path d=\"M 8 -9 l -6 18 L 8 25\" fill=\"none\" style=\"stroke:rgb(0.0, 138.56128015770727, 250.76166088685727);stroke-width:2\" />  </svg></g><g transform=\"translate(-8,0)\">  <svg x=\"83.1496161528993%\" y=\"40\" height=\"18\" overflow=\"visible\" width=\"30\">    <path d=\"M 8 -9 l -6 18 L 8 25\" fill=\"none\" style=\"stroke:rgb(0.0, 138.56128015770727, 250.76166088685727);stroke-width:2\" />  </svg></g><g transform=\"translate(-10,0)\">  <svg x=\"83.1496161528993%\" y=\"40\" height=\"18\" overflow=\"visible\" width=\"30\">    <path d=\"M 8 -9 l -6 18 L 8 25\" fill=\"none\" style=\"stroke:rgb(0.0, 138.56128015770727, 250.76166088685727);stroke-width:2\" />  </svg></g><g transform=\"translate(-12,0)\">  <svg x=\"83.1496161528993%\" y=\"40\" height=\"18\" overflow=\"visible\" width=\"30\">    <path d=\"M 8 -9 l -6 18 L 8 25\" fill=\"none\" style=\"stroke:rgb(0.0, 138.56128015770727, 250.76166088685727);stroke-width:2\" />  </svg></g><g transform=\"translate(-14,0)\">  <svg x=\"83.1496161528993%\" y=\"40\" height=\"18\" overflow=\"visible\" width=\"30\">    <path d=\"M 8 -9 l -6 18 L 8 25\" fill=\"none\" style=\"stroke:rgb(0.0, 138.56128015770727, 250.76166088685727);stroke-width:2\" />  </svg></g><g transform=\"translate(2,0)\">  <svg x=\"83.1496161528993%\" y=\"40\" height=\"18\" overflow=\"visible\" width=\"30\">    <path d=\"M 8 -9 l -6 18 L 8 25\" fill=\"none\" style=\"stroke:rgb(0.0, 138.56128015770727, 250.76166088685727);stroke-width:2\" />  </svg></g><g transform=\"translate(0,0)\">  <svg x=\"83.1496161528993%\" y=\"40\" height=\"18\" overflow=\"visible\" width=\"30\">    <path d=\"M 8 -9 l -6 18 L 8 25\" fill=\"none\" style=\"stroke:rgb(0.0, 138.56128015770727, 250.76166088685727);stroke-width:2\" />  </svg></g><g transform=\"translate(-2,0)\">  <svg x=\"83.1496161528993%\" y=\"40\" height=\"18\" overflow=\"visible\" width=\"30\">    <path d=\"M 8 -9 l -6 18 L 8 25\" fill=\"none\" style=\"stroke:rgb(0.0, 138.56128015770727, 250.76166088685727);stroke-width:2\" />  </svg></g><g transform=\"translate(-4,0)\">  <svg x=\"83.1496161528993%\" y=\"40\" height=\"18\" overflow=\"visible\" width=\"30\">    <path d=\"M 8 -9 l -6 18 L 8 25\" fill=\"none\" style=\"stroke:rgb(0.0, 138.56128015770727, 250.76166088685727);stroke-width:2\" />  </svg></g><g transform=\"translate(-8,0)\">  <svg x=\"83.96641295670737%\" y=\"40\" height=\"18\" overflow=\"visible\" width=\"30\">    <path d=\"M 8 -9 l -6 18 L 8 25\" fill=\"none\" style=\"stroke:rgb(0.0, 138.56128015770727, 250.76166088685727);stroke-width:2\" />  </svg></g><g transform=\"translate(-10,0)\">  <svg x=\"83.96641295670737%\" y=\"40\" height=\"18\" overflow=\"visible\" width=\"30\">    <path d=\"M 8 -9 l -6 18 L 8 25\" fill=\"none\" style=\"stroke:rgb(0.0, 138.56128015770727, 250.76166088685727);stroke-width:2\" />  </svg></g><g transform=\"translate(-12,0)\">  <svg x=\"83.96641295670737%\" y=\"40\" height=\"18\" overflow=\"visible\" width=\"30\">    <path d=\"M 8 -9 l -6 18 L 8 25\" fill=\"none\" style=\"stroke:rgb(0.0, 138.56128015770727, 250.76166088685727);stroke-width:2\" />  </svg></g><g transform=\"translate(-14,0)\">  <svg x=\"83.96641295670737%\" y=\"40\" height=\"18\" overflow=\"visible\" width=\"30\">    <path d=\"M 8 -9 l -6 18 L 8 25\" fill=\"none\" style=\"stroke:rgb(0.0, 138.56128015770727, 250.76166088685727);stroke-width:2\" />  </svg></g><g transform=\"translate(2,0)\">  <svg x=\"83.96641295670737%\" y=\"40\" height=\"18\" overflow=\"visible\" width=\"30\">    <path d=\"M 8 -9 l -6 18 L 8 25\" fill=\"none\" style=\"stroke:rgb(0.0, 138.56128015770727, 250.76166088685727);stroke-width:2\" />  </svg></g><g transform=\"translate(0,0)\">  <svg x=\"83.96641295670737%\" y=\"40\" height=\"18\" overflow=\"visible\" width=\"30\">    <path d=\"M 8 -9 l -6 18 L 8 25\" fill=\"none\" style=\"stroke:rgb(0.0, 138.56128015770727, 250.76166088685727);stroke-width:2\" />  </svg></g><g transform=\"translate(-2,0)\">  <svg x=\"83.96641295670737%\" y=\"40\" height=\"18\" overflow=\"visible\" width=\"30\">    <path d=\"M 8 -9 l -6 18 L 8 25\" fill=\"none\" style=\"stroke:rgb(0.0, 138.56128015770727, 250.76166088685727);stroke-width:2\" />  </svg></g><g transform=\"translate(-4,0)\">  <svg x=\"83.96641295670737%\" y=\"40\" height=\"18\" overflow=\"visible\" width=\"30\">    <path d=\"M 8 -9 l -6 18 L 8 25\" fill=\"none\" style=\"stroke:rgb(0.0, 138.56128015770727, 250.76166088685727);stroke-width:2\" />  </svg></g><g transform=\"translate(-8,0)\">  <svg x=\"84.76086168767301%\" y=\"40\" height=\"18\" overflow=\"visible\" width=\"30\">    <path d=\"M 8 -9 l -6 18 L 8 25\" fill=\"none\" style=\"stroke:rgb(0.0, 138.56128015770727, 250.76166088685727);stroke-width:2\" />  </svg></g><g transform=\"translate(-10,0)\">  <svg x=\"84.76086168767301%\" y=\"40\" height=\"18\" overflow=\"visible\" width=\"30\">    <path d=\"M 8 -9 l -6 18 L 8 25\" fill=\"none\" style=\"stroke:rgb(0.0, 138.56128015770727, 250.76166088685727);stroke-width:2\" />  </svg></g><g transform=\"translate(-12,0)\">  <svg x=\"84.76086168767301%\" y=\"40\" height=\"18\" overflow=\"visible\" width=\"30\">    <path d=\"M 8 -9 l -6 18 L 8 25\" fill=\"none\" style=\"stroke:rgb(0.0, 138.56128015770727, 250.76166088685727);stroke-width:2\" />  </svg></g><g transform=\"translate(-14,0)\">  <svg x=\"84.76086168767301%\" y=\"40\" height=\"18\" overflow=\"visible\" width=\"30\">    <path d=\"M 8 -9 l -6 18 L 8 25\" fill=\"none\" style=\"stroke:rgb(0.0, 138.56128015770727, 250.76166088685727);stroke-width:2\" />  </svg></g><g transform=\"translate(2,0)\">  <svg x=\"84.76086168767301%\" y=\"40\" height=\"18\" overflow=\"visible\" width=\"30\">    <path d=\"M 8 -9 l -6 18 L 8 25\" fill=\"none\" style=\"stroke:rgb(0.0, 138.56128015770727, 250.76166088685727);stroke-width:2\" />  </svg></g><g transform=\"translate(0,0)\">  <svg x=\"84.76086168767301%\" y=\"40\" height=\"18\" overflow=\"visible\" width=\"30\">    <path d=\"M 8 -9 l -6 18 L 8 25\" fill=\"none\" style=\"stroke:rgb(0.0, 138.56128015770727, 250.76166088685727);stroke-width:2\" />  </svg></g><g transform=\"translate(-2,0)\">  <svg x=\"84.76086168767301%\" y=\"40\" height=\"18\" overflow=\"visible\" width=\"30\">    <path d=\"M 8 -9 l -6 18 L 8 25\" fill=\"none\" style=\"stroke:rgb(0.0, 138.56128015770727, 250.76166088685727);stroke-width:2\" />  </svg></g><g transform=\"translate(-4,0)\">  <svg x=\"84.76086168767301%\" y=\"40\" height=\"18\" overflow=\"visible\" width=\"30\">    <path d=\"M 8 -9 l -6 18 L 8 25\" fill=\"none\" style=\"stroke:rgb(0.0, 138.56128015770727, 250.76166088685727);stroke-width:2\" />  </svg></g><g transform=\"translate(-8,0)\">  <svg x=\"85.50413981391694%\" y=\"40\" height=\"18\" overflow=\"visible\" width=\"30\">    <path d=\"M 8 -9 l -6 18 L 8 25\" fill=\"none\" style=\"stroke:rgb(0.0, 138.56128015770727, 250.76166088685727);stroke-width:2\" />  </svg></g><g transform=\"translate(-10,0)\">  <svg x=\"85.50413981391694%\" y=\"40\" height=\"18\" overflow=\"visible\" width=\"30\">    <path d=\"M 8 -9 l -6 18 L 8 25\" fill=\"none\" style=\"stroke:rgb(0.0, 138.56128015770727, 250.76166088685727);stroke-width:2\" />  </svg></g><g transform=\"translate(-12,0)\">  <svg x=\"85.50413981391694%\" y=\"40\" height=\"18\" overflow=\"visible\" width=\"30\">    <path d=\"M 8 -9 l -6 18 L 8 25\" fill=\"none\" style=\"stroke:rgb(0.0, 138.56128015770727, 250.76166088685727);stroke-width:2\" />  </svg></g><g transform=\"translate(-14,0)\">  <svg x=\"85.50413981391694%\" y=\"40\" height=\"18\" overflow=\"visible\" width=\"30\">    <path d=\"M 8 -9 l -6 18 L 8 25\" fill=\"none\" style=\"stroke:rgb(0.0, 138.56128015770727, 250.76166088685727);stroke-width:2\" />  </svg></g><g transform=\"translate(2,0)\">  <svg x=\"85.50413981391694%\" y=\"40\" height=\"18\" overflow=\"visible\" width=\"30\">    <path d=\"M 8 -9 l -6 18 L 8 25\" fill=\"none\" style=\"stroke:rgb(0.0, 138.56128015770727, 250.76166088685727);stroke-width:2\" />  </svg></g><g transform=\"translate(0,0)\">  <svg x=\"85.50413981391694%\" y=\"40\" height=\"18\" overflow=\"visible\" width=\"30\">    <path d=\"M 8 -9 l -6 18 L 8 25\" fill=\"none\" style=\"stroke:rgb(0.0, 138.56128015770727, 250.76166088685727);stroke-width:2\" />  </svg></g><g transform=\"translate(-2,0)\">  <svg x=\"85.50413981391694%\" y=\"40\" height=\"18\" overflow=\"visible\" width=\"30\">    <path d=\"M 8 -9 l -6 18 L 8 25\" fill=\"none\" style=\"stroke:rgb(0.0, 138.56128015770727, 250.76166088685727);stroke-width:2\" />  </svg></g><g transform=\"translate(-4,0)\">  <svg x=\"85.50413981391694%\" y=\"40\" height=\"18\" overflow=\"visible\" width=\"30\">    <path d=\"M 8 -9 l -6 18 L 8 25\" fill=\"none\" style=\"stroke:rgb(0.0, 138.56128015770727, 250.76166088685727);stroke-width:2\" />  </svg></g><g transform=\"translate(-8,0)\">  <svg x=\"86.22673345703686%\" y=\"40\" height=\"18\" overflow=\"visible\" width=\"30\">    <path d=\"M 8 -9 l -6 18 L 8 25\" fill=\"none\" style=\"stroke:rgb(0.0, 138.56128015770727, 250.76166088685727);stroke-width:2\" />  </svg></g><g transform=\"translate(-10,0)\">  <svg x=\"86.22673345703686%\" y=\"40\" height=\"18\" overflow=\"visible\" width=\"30\">    <path d=\"M 8 -9 l -6 18 L 8 25\" fill=\"none\" style=\"stroke:rgb(0.0, 138.56128015770727, 250.76166088685727);stroke-width:2\" />  </svg></g><g transform=\"translate(-12,0)\">  <svg x=\"86.22673345703686%\" y=\"40\" height=\"18\" overflow=\"visible\" width=\"30\">    <path d=\"M 8 -9 l -6 18 L 8 25\" fill=\"none\" style=\"stroke:rgb(0.0, 138.56128015770727, 250.76166088685727);stroke-width:2\" />  </svg></g><g transform=\"translate(-14,0)\">  <svg x=\"86.22673345703686%\" y=\"40\" height=\"18\" overflow=\"visible\" width=\"30\">    <path d=\"M 8 -9 l -6 18 L 8 25\" fill=\"none\" style=\"stroke:rgb(0.0, 138.56128015770727, 250.76166088685727);stroke-width:2\" />  </svg></g><g transform=\"translate(2,0)\">  <svg x=\"86.22673345703686%\" y=\"40\" height=\"18\" overflow=\"visible\" width=\"30\">    <path d=\"M 8 -9 l -6 18 L 8 25\" fill=\"none\" style=\"stroke:rgb(0.0, 138.56128015770727, 250.76166088685727);stroke-width:2\" />  </svg></g><g transform=\"translate(0,0)\">  <svg x=\"86.22673345703686%\" y=\"40\" height=\"18\" overflow=\"visible\" width=\"30\">    <path d=\"M 8 -9 l -6 18 L 8 25\" fill=\"none\" style=\"stroke:rgb(0.0, 138.56128015770727, 250.76166088685727);stroke-width:2\" />  </svg></g><g transform=\"translate(-2,0)\">  <svg x=\"86.22673345703686%\" y=\"40\" height=\"18\" overflow=\"visible\" width=\"30\">    <path d=\"M 8 -9 l -6 18 L 8 25\" fill=\"none\" style=\"stroke:rgb(0.0, 138.56128015770727, 250.76166088685727);stroke-width:2\" />  </svg></g><g transform=\"translate(-4,0)\">  <svg x=\"86.22673345703686%\" y=\"40\" height=\"18\" overflow=\"visible\" width=\"30\">    <path d=\"M 8 -9 l -6 18 L 8 25\" fill=\"none\" style=\"stroke:rgb(0.0, 138.56128015770727, 250.76166088685727);stroke-width:2\" />  </svg></g><g transform=\"translate(-8,0)\">  <svg x=\"86.93461195238298%\" y=\"40\" height=\"18\" overflow=\"visible\" width=\"30\">    <path d=\"M 8 -9 l -6 18 L 8 25\" fill=\"none\" style=\"stroke:rgb(0.0, 138.56128015770727, 250.76166088685727);stroke-width:2\" />  </svg></g><g transform=\"translate(-10,0)\">  <svg x=\"86.93461195238298%\" y=\"40\" height=\"18\" overflow=\"visible\" width=\"30\">    <path d=\"M 8 -9 l -6 18 L 8 25\" fill=\"none\" style=\"stroke:rgb(0.0, 138.56128015770727, 250.76166088685727);stroke-width:2\" />  </svg></g><g transform=\"translate(-12,0)\">  <svg x=\"86.93461195238298%\" y=\"40\" height=\"18\" overflow=\"visible\" width=\"30\">    <path d=\"M 8 -9 l -6 18 L 8 25\" fill=\"none\" style=\"stroke:rgb(0.0, 138.56128015770727, 250.76166088685727);stroke-width:2\" />  </svg></g><g transform=\"translate(-14,0)\">  <svg x=\"86.93461195238298%\" y=\"40\" height=\"18\" overflow=\"visible\" width=\"30\">    <path d=\"M 8 -9 l -6 18 L 8 25\" fill=\"none\" style=\"stroke:rgb(0.0, 138.56128015770727, 250.76166088685727);stroke-width:2\" />  </svg></g><g transform=\"translate(2,0)\">  <svg x=\"86.93461195238298%\" y=\"40\" height=\"18\" overflow=\"visible\" width=\"30\">    <path d=\"M 8 -9 l -6 18 L 8 25\" fill=\"none\" style=\"stroke:rgb(0.0, 138.56128015770727, 250.76166088685727);stroke-width:2\" />  </svg></g><g transform=\"translate(0,0)\">  <svg x=\"86.93461195238298%\" y=\"40\" height=\"18\" overflow=\"visible\" width=\"30\">    <path d=\"M 8 -9 l -6 18 L 8 25\" fill=\"none\" style=\"stroke:rgb(0.0, 138.56128015770727, 250.76166088685727);stroke-width:2\" />  </svg></g><g transform=\"translate(-2,0)\">  <svg x=\"86.93461195238298%\" y=\"40\" height=\"18\" overflow=\"visible\" width=\"30\">    <path d=\"M 8 -9 l -6 18 L 8 25\" fill=\"none\" style=\"stroke:rgb(0.0, 138.56128015770727, 250.76166088685727);stroke-width:2\" />  </svg></g><g transform=\"translate(-4,0)\">  <svg x=\"86.93461195238298%\" y=\"40\" height=\"18\" overflow=\"visible\" width=\"30\">    <path d=\"M 8 -9 l -6 18 L 8 25\" fill=\"none\" style=\"stroke:rgb(0.0, 138.56128015770727, 250.76166088685727);stroke-width:2\" />  </svg></g><g transform=\"translate(-8,0)\">  <svg x=\"87.57643746147099%\" y=\"40\" height=\"18\" overflow=\"visible\" width=\"30\">    <path d=\"M 8 -9 l -6 18 L 8 25\" fill=\"none\" style=\"stroke:rgb(0.0, 138.56128015770727, 250.76166088685727);stroke-width:2\" />  </svg></g><g transform=\"translate(-10,0)\">  <svg x=\"87.57643746147099%\" y=\"40\" height=\"18\" overflow=\"visible\" width=\"30\">    <path d=\"M 8 -9 l -6 18 L 8 25\" fill=\"none\" style=\"stroke:rgb(0.0, 138.56128015770727, 250.76166088685727);stroke-width:2\" />  </svg></g><g transform=\"translate(-12,0)\">  <svg x=\"87.57643746147099%\" y=\"40\" height=\"18\" overflow=\"visible\" width=\"30\">    <path d=\"M 8 -9 l -6 18 L 8 25\" fill=\"none\" style=\"stroke:rgb(0.0, 138.56128015770727, 250.76166088685727);stroke-width:2\" />  </svg></g><g transform=\"translate(-14,0)\">  <svg x=\"87.57643746147099%\" y=\"40\" height=\"18\" overflow=\"visible\" width=\"30\">    <path d=\"M 8 -9 l -6 18 L 8 25\" fill=\"none\" style=\"stroke:rgb(0.0, 138.56128015770727, 250.76166088685727);stroke-width:2\" />  </svg></g><g transform=\"translate(2,0)\">  <svg x=\"87.57643746147099%\" y=\"40\" height=\"18\" overflow=\"visible\" width=\"30\">    <path d=\"M 8 -9 l -6 18 L 8 25\" fill=\"none\" style=\"stroke:rgb(0.0, 138.56128015770727, 250.76166088685727);stroke-width:2\" />  </svg></g><g transform=\"translate(0,0)\">  <svg x=\"87.57643746147099%\" y=\"40\" height=\"18\" overflow=\"visible\" width=\"30\">    <path d=\"M 8 -9 l -6 18 L 8 25\" fill=\"none\" style=\"stroke:rgb(0.0, 138.56128015770727, 250.76166088685727);stroke-width:2\" />  </svg></g><g transform=\"translate(-2,0)\">  <svg x=\"87.57643746147099%\" y=\"40\" height=\"18\" overflow=\"visible\" width=\"30\">    <path d=\"M 8 -9 l -6 18 L 8 25\" fill=\"none\" style=\"stroke:rgb(0.0, 138.56128015770727, 250.76166088685727);stroke-width:2\" />  </svg></g><g transform=\"translate(-4,0)\">  <svg x=\"87.57643746147099%\" y=\"40\" height=\"18\" overflow=\"visible\" width=\"30\">    <path d=\"M 8 -9 l -6 18 L 8 25\" fill=\"none\" style=\"stroke:rgb(0.0, 138.56128015770727, 250.76166088685727);stroke-width:2\" />  </svg></g><g transform=\"translate(-8,0)\">  <svg x=\"88.16113025910529%\" y=\"40\" height=\"18\" overflow=\"visible\" width=\"30\">    <path d=\"M 8 -9 l -6 18 L 8 25\" fill=\"none\" style=\"stroke:rgb(0.0, 138.56128015770727, 250.76166088685727);stroke-width:2\" />  </svg></g><g transform=\"translate(-10,0)\">  <svg x=\"88.16113025910529%\" y=\"40\" height=\"18\" overflow=\"visible\" width=\"30\">    <path d=\"M 8 -9 l -6 18 L 8 25\" fill=\"none\" style=\"stroke:rgb(0.0, 138.56128015770727, 250.76166088685727);stroke-width:2\" />  </svg></g><g transform=\"translate(-12,0)\">  <svg x=\"88.16113025910529%\" y=\"40\" height=\"18\" overflow=\"visible\" width=\"30\">    <path d=\"M 8 -9 l -6 18 L 8 25\" fill=\"none\" style=\"stroke:rgb(0.0, 138.56128015770727, 250.76166088685727);stroke-width:2\" />  </svg></g><g transform=\"translate(-14,0)\">  <svg x=\"88.16113025910529%\" y=\"40\" height=\"18\" overflow=\"visible\" width=\"30\">    <path d=\"M 8 -9 l -6 18 L 8 25\" fill=\"none\" style=\"stroke:rgb(0.0, 138.56128015770727, 250.76166088685727);stroke-width:2\" />  </svg></g><g transform=\"translate(2,0)\">  <svg x=\"88.16113025910529%\" y=\"40\" height=\"18\" overflow=\"visible\" width=\"30\">    <path d=\"M 8 -9 l -6 18 L 8 25\" fill=\"none\" style=\"stroke:rgb(0.0, 138.56128015770727, 250.76166088685727);stroke-width:2\" />  </svg></g><g transform=\"translate(0,0)\">  <svg x=\"88.16113025910529%\" y=\"40\" height=\"18\" overflow=\"visible\" width=\"30\">    <path d=\"M 8 -9 l -6 18 L 8 25\" fill=\"none\" style=\"stroke:rgb(0.0, 138.56128015770727, 250.76166088685727);stroke-width:2\" />  </svg></g><g transform=\"translate(-2,0)\">  <svg x=\"88.16113025910529%\" y=\"40\" height=\"18\" overflow=\"visible\" width=\"30\">    <path d=\"M 8 -9 l -6 18 L 8 25\" fill=\"none\" style=\"stroke:rgb(0.0, 138.56128015770727, 250.76166088685727);stroke-width:2\" />  </svg></g><g transform=\"translate(-4,0)\">  <svg x=\"88.16113025910529%\" y=\"40\" height=\"18\" overflow=\"visible\" width=\"30\">    <path d=\"M 8 -9 l -6 18 L 8 25\" fill=\"none\" style=\"stroke:rgb(0.0, 138.56128015770727, 250.76166088685727);stroke-width:2\" />  </svg></g><g transform=\"translate(-8,0)\">  <svg x=\"88.73937717633275%\" y=\"40\" height=\"18\" overflow=\"visible\" width=\"30\">    <path d=\"M 8 -9 l -6 18 L 8 25\" fill=\"none\" style=\"stroke:rgb(0.0, 138.56128015770727, 250.76166088685727);stroke-width:2\" />  </svg></g><g transform=\"translate(-10,0)\">  <svg x=\"88.73937717633275%\" y=\"40\" height=\"18\" overflow=\"visible\" width=\"30\">    <path d=\"M 8 -9 l -6 18 L 8 25\" fill=\"none\" style=\"stroke:rgb(0.0, 138.56128015770727, 250.76166088685727);stroke-width:2\" />  </svg></g><g transform=\"translate(-12,0)\">  <svg x=\"88.73937717633275%\" y=\"40\" height=\"18\" overflow=\"visible\" width=\"30\">    <path d=\"M 8 -9 l -6 18 L 8 25\" fill=\"none\" style=\"stroke:rgb(0.0, 138.56128015770727, 250.76166088685727);stroke-width:2\" />  </svg></g><g transform=\"translate(-14,0)\">  <svg x=\"88.73937717633275%\" y=\"40\" height=\"18\" overflow=\"visible\" width=\"30\">    <path d=\"M 8 -9 l -6 18 L 8 25\" fill=\"none\" style=\"stroke:rgb(0.0, 138.56128015770727, 250.76166088685727);stroke-width:2\" />  </svg></g><g transform=\"translate(2,0)\">  <svg x=\"88.73937717633275%\" y=\"40\" height=\"18\" overflow=\"visible\" width=\"30\">    <path d=\"M 8 -9 l -6 18 L 8 25\" fill=\"none\" style=\"stroke:rgb(0.0, 138.56128015770727, 250.76166088685727);stroke-width:2\" />  </svg></g><g transform=\"translate(0,0)\">  <svg x=\"88.73937717633275%\" y=\"40\" height=\"18\" overflow=\"visible\" width=\"30\">    <path d=\"M 8 -9 l -6 18 L 8 25\" fill=\"none\" style=\"stroke:rgb(0.0, 138.56128015770727, 250.76166088685727);stroke-width:2\" />  </svg></g><g transform=\"translate(-2,0)\">  <svg x=\"88.73937717633275%\" y=\"40\" height=\"18\" overflow=\"visible\" width=\"30\">    <path d=\"M 8 -9 l -6 18 L 8 25\" fill=\"none\" style=\"stroke:rgb(0.0, 138.56128015770727, 250.76166088685727);stroke-width:2\" />  </svg></g><g transform=\"translate(-4,0)\">  <svg x=\"88.73937717633275%\" y=\"40\" height=\"18\" overflow=\"visible\" width=\"30\">    <path d=\"M 8 -9 l -6 18 L 8 25\" fill=\"none\" style=\"stroke:rgb(0.0, 138.56128015770727, 250.76166088685727);stroke-width:2\" />  </svg></g><g transform=\"translate(-8,0)\">  <svg x=\"89.25195932568086%\" y=\"40\" height=\"18\" overflow=\"visible\" width=\"30\">    <path d=\"M 8 -9 l -6 18 L 8 25\" fill=\"none\" style=\"stroke:rgb(0.0, 138.56128015770727, 250.76166088685727);stroke-width:2\" />  </svg></g><g transform=\"translate(-10,0)\">  <svg x=\"89.25195932568086%\" y=\"40\" height=\"18\" overflow=\"visible\" width=\"30\">    <path d=\"M 8 -9 l -6 18 L 8 25\" fill=\"none\" style=\"stroke:rgb(0.0, 138.56128015770727, 250.76166088685727);stroke-width:2\" />  </svg></g><g transform=\"translate(-12,0)\">  <svg x=\"89.25195932568086%\" y=\"40\" height=\"18\" overflow=\"visible\" width=\"30\">    <path d=\"M 8 -9 l -6 18 L 8 25\" fill=\"none\" style=\"stroke:rgb(0.0, 138.56128015770727, 250.76166088685727);stroke-width:2\" />  </svg></g><g transform=\"translate(-14,0)\">  <svg x=\"89.25195932568086%\" y=\"40\" height=\"18\" overflow=\"visible\" width=\"30\">    <path d=\"M 8 -9 l -6 18 L 8 25\" fill=\"none\" style=\"stroke:rgb(0.0, 138.56128015770727, 250.76166088685727);stroke-width:2\" />  </svg></g><g transform=\"translate(2,0)\">  <svg x=\"89.25195932568086%\" y=\"40\" height=\"18\" overflow=\"visible\" width=\"30\">    <path d=\"M 8 -9 l -6 18 L 8 25\" fill=\"none\" style=\"stroke:rgb(0.0, 138.56128015770727, 250.76166088685727);stroke-width:2\" />  </svg></g><g transform=\"translate(0,0)\">  <svg x=\"89.25195932568086%\" y=\"40\" height=\"18\" overflow=\"visible\" width=\"30\">    <path d=\"M 8 -9 l -6 18 L 8 25\" fill=\"none\" style=\"stroke:rgb(0.0, 138.56128015770727, 250.76166088685727);stroke-width:2\" />  </svg></g><g transform=\"translate(-2,0)\">  <svg x=\"89.25195932568086%\" y=\"40\" height=\"18\" overflow=\"visible\" width=\"30\">    <path d=\"M 8 -9 l -6 18 L 8 25\" fill=\"none\" style=\"stroke:rgb(0.0, 138.56128015770727, 250.76166088685727);stroke-width:2\" />  </svg></g><g transform=\"translate(-4,0)\">  <svg x=\"89.25195932568086%\" y=\"40\" height=\"18\" overflow=\"visible\" width=\"30\">    <path d=\"M 8 -9 l -6 18 L 8 25\" fill=\"none\" style=\"stroke:rgb(0.0, 138.56128015770727, 250.76166088685727);stroke-width:2\" />  </svg></g><g transform=\"translate(-8,0)\">  <svg x=\"89.76046437442965%\" y=\"40\" height=\"18\" overflow=\"visible\" width=\"30\">    <path d=\"M 8 -9 l -6 18 L 8 25\" fill=\"none\" style=\"stroke:rgb(0.0, 138.56128015770727, 250.76166088685727);stroke-width:2\" />  </svg></g><g transform=\"translate(-10,0)\">  <svg x=\"89.76046437442965%\" y=\"40\" height=\"18\" overflow=\"visible\" width=\"30\">    <path d=\"M 8 -9 l -6 18 L 8 25\" fill=\"none\" style=\"stroke:rgb(0.0, 138.56128015770727, 250.76166088685727);stroke-width:2\" />  </svg></g><g transform=\"translate(-12,0)\">  <svg x=\"89.76046437442965%\" y=\"40\" height=\"18\" overflow=\"visible\" width=\"30\">    <path d=\"M 8 -9 l -6 18 L 8 25\" fill=\"none\" style=\"stroke:rgb(0.0, 138.56128015770727, 250.76166088685727);stroke-width:2\" />  </svg></g><g transform=\"translate(-14,0)\">  <svg x=\"89.76046437442965%\" y=\"40\" height=\"18\" overflow=\"visible\" width=\"30\">    <path d=\"M 8 -9 l -6 18 L 8 25\" fill=\"none\" style=\"stroke:rgb(0.0, 138.56128015770727, 250.76166088685727);stroke-width:2\" />  </svg></g><g transform=\"translate(2,0)\">  <svg x=\"89.76046437442965%\" y=\"40\" height=\"18\" overflow=\"visible\" width=\"30\">    <path d=\"M 8 -9 l -6 18 L 8 25\" fill=\"none\" style=\"stroke:rgb(0.0, 138.56128015770727, 250.76166088685727);stroke-width:2\" />  </svg></g><g transform=\"translate(0,0)\">  <svg x=\"89.76046437442965%\" y=\"40\" height=\"18\" overflow=\"visible\" width=\"30\">    <path d=\"M 8 -9 l -6 18 L 8 25\" fill=\"none\" style=\"stroke:rgb(0.0, 138.56128015770727, 250.76166088685727);stroke-width:2\" />  </svg></g><g transform=\"translate(-2,0)\">  <svg x=\"89.76046437442965%\" y=\"40\" height=\"18\" overflow=\"visible\" width=\"30\">    <path d=\"M 8 -9 l -6 18 L 8 25\" fill=\"none\" style=\"stroke:rgb(0.0, 138.56128015770727, 250.76166088685727);stroke-width:2\" />  </svg></g><g transform=\"translate(-4,0)\">  <svg x=\"89.76046437442965%\" y=\"40\" height=\"18\" overflow=\"visible\" width=\"30\">    <path d=\"M 8 -9 l -6 18 L 8 25\" fill=\"none\" style=\"stroke:rgb(0.0, 138.56128015770727, 250.76166088685727);stroke-width:2\" />  </svg></g><g transform=\"translate(-8,0)\">  <svg x=\"90.15838456638214%\" y=\"40\" height=\"18\" overflow=\"visible\" width=\"30\">    <path d=\"M 8 -9 l -6 18 L 8 25\" fill=\"none\" style=\"stroke:rgb(0.0, 138.56128015770727, 250.76166088685727);stroke-width:2\" />  </svg></g><g transform=\"translate(-10,0)\">  <svg x=\"90.15838456638214%\" y=\"40\" height=\"18\" overflow=\"visible\" width=\"30\">    <path d=\"M 8 -9 l -6 18 L 8 25\" fill=\"none\" style=\"stroke:rgb(0.0, 138.56128015770727, 250.76166088685727);stroke-width:2\" />  </svg></g><g transform=\"translate(-12,0)\">  <svg x=\"90.15838456638214%\" y=\"40\" height=\"18\" overflow=\"visible\" width=\"30\">    <path d=\"M 8 -9 l -6 18 L 8 25\" fill=\"none\" style=\"stroke:rgb(0.0, 138.56128015770727, 250.76166088685727);stroke-width:2\" />  </svg></g><g transform=\"translate(-14,0)\">  <svg x=\"90.15838456638214%\" y=\"40\" height=\"18\" overflow=\"visible\" width=\"30\">    <path d=\"M 8 -9 l -6 18 L 8 25\" fill=\"none\" style=\"stroke:rgb(0.0, 138.56128015770727, 250.76166088685727);stroke-width:2\" />  </svg></g><g transform=\"translate(2,0)\">  <svg x=\"90.15838456638214%\" y=\"40\" height=\"18\" overflow=\"visible\" width=\"30\">    <path d=\"M 8 -9 l -6 18 L 8 25\" fill=\"none\" style=\"stroke:rgb(0.0, 138.56128015770727, 250.76166088685727);stroke-width:2\" />  </svg></g><g transform=\"translate(0,0)\">  <svg x=\"90.15838456638214%\" y=\"40\" height=\"18\" overflow=\"visible\" width=\"30\">    <path d=\"M 8 -9 l -6 18 L 8 25\" fill=\"none\" style=\"stroke:rgb(0.0, 138.56128015770727, 250.76166088685727);stroke-width:2\" />  </svg></g><g transform=\"translate(-2,0)\">  <svg x=\"90.15838456638214%\" y=\"40\" height=\"18\" overflow=\"visible\" width=\"30\">    <path d=\"M 8 -9 l -6 18 L 8 25\" fill=\"none\" style=\"stroke:rgb(0.0, 138.56128015770727, 250.76166088685727);stroke-width:2\" />  </svg></g><g transform=\"translate(-4,0)\">  <svg x=\"90.15838456638214%\" y=\"40\" height=\"18\" overflow=\"visible\" width=\"30\">    <path d=\"M 8 -9 l -6 18 L 8 25\" fill=\"none\" style=\"stroke:rgb(0.0, 138.56128015770727, 250.76166088685727);stroke-width:2\" />  </svg></g><g transform=\"translate(-8,0)\">  <svg x=\"90.50485476432033%\" y=\"40\" height=\"18\" overflow=\"visible\" width=\"30\">    <path d=\"M 8 -9 l -6 18 L 8 25\" fill=\"none\" style=\"stroke:rgb(0.0, 138.56128015770727, 250.76166088685727);stroke-width:2\" />  </svg></g><g transform=\"translate(-10,0)\">  <svg x=\"90.50485476432033%\" y=\"40\" height=\"18\" overflow=\"visible\" width=\"30\">    <path d=\"M 8 -9 l -6 18 L 8 25\" fill=\"none\" style=\"stroke:rgb(0.0, 138.56128015770727, 250.76166088685727);stroke-width:2\" />  </svg></g><g transform=\"translate(-12,0)\">  <svg x=\"90.50485476432033%\" y=\"40\" height=\"18\" overflow=\"visible\" width=\"30\">    <path d=\"M 8 -9 l -6 18 L 8 25\" fill=\"none\" style=\"stroke:rgb(0.0, 138.56128015770727, 250.76166088685727);stroke-width:2\" />  </svg></g><g transform=\"translate(-14,0)\">  <svg x=\"90.50485476432033%\" y=\"40\" height=\"18\" overflow=\"visible\" width=\"30\">    <path d=\"M 8 -9 l -6 18 L 8 25\" fill=\"none\" style=\"stroke:rgb(0.0, 138.56128015770727, 250.76166088685727);stroke-width:2\" />  </svg></g><g transform=\"translate(2,0)\">  <svg x=\"90.50485476432033%\" y=\"40\" height=\"18\" overflow=\"visible\" width=\"30\">    <path d=\"M 8 -9 l -6 18 L 8 25\" fill=\"none\" style=\"stroke:rgb(0.0, 138.56128015770727, 250.76166088685727);stroke-width:2\" />  </svg></g><g transform=\"translate(0,0)\">  <svg x=\"90.50485476432033%\" y=\"40\" height=\"18\" overflow=\"visible\" width=\"30\">    <path d=\"M 8 -9 l -6 18 L 8 25\" fill=\"none\" style=\"stroke:rgb(0.0, 138.56128015770727, 250.76166088685727);stroke-width:2\" />  </svg></g><g transform=\"translate(-2,0)\">  <svg x=\"90.50485476432033%\" y=\"40\" height=\"18\" overflow=\"visible\" width=\"30\">    <path d=\"M 8 -9 l -6 18 L 8 25\" fill=\"none\" style=\"stroke:rgb(0.0, 138.56128015770727, 250.76166088685727);stroke-width:2\" />  </svg></g><g transform=\"translate(-4,0)\">  <svg x=\"90.50485476432033%\" y=\"40\" height=\"18\" overflow=\"visible\" width=\"30\">    <path d=\"M 8 -9 l -6 18 L 8 25\" fill=\"none\" style=\"stroke:rgb(0.0, 138.56128015770727, 250.76166088685727);stroke-width:2\" />  </svg></g><g transform=\"translate(-8,0)\">  <svg x=\"90.83871615706894%\" y=\"40\" height=\"18\" overflow=\"visible\" width=\"30\">    <path d=\"M 8 -9 l -6 18 L 8 25\" fill=\"none\" style=\"stroke:rgb(0.0, 138.56128015770727, 250.76166088685727);stroke-width:2\" />  </svg></g><g transform=\"translate(-10,0)\">  <svg x=\"90.83871615706894%\" y=\"40\" height=\"18\" overflow=\"visible\" width=\"30\">    <path d=\"M 8 -9 l -6 18 L 8 25\" fill=\"none\" style=\"stroke:rgb(0.0, 138.56128015770727, 250.76166088685727);stroke-width:2\" />  </svg></g><g transform=\"translate(-12,0)\">  <svg x=\"90.83871615706894%\" y=\"40\" height=\"18\" overflow=\"visible\" width=\"30\">    <path d=\"M 8 -9 l -6 18 L 8 25\" fill=\"none\" style=\"stroke:rgb(0.0, 138.56128015770727, 250.76166088685727);stroke-width:2\" />  </svg></g><g transform=\"translate(-14,0)\">  <svg x=\"90.83871615706894%\" y=\"40\" height=\"18\" overflow=\"visible\" width=\"30\">    <path d=\"M 8 -9 l -6 18 L 8 25\" fill=\"none\" style=\"stroke:rgb(0.0, 138.56128015770727, 250.76166088685727);stroke-width:2\" />  </svg></g><g transform=\"translate(2,0)\">  <svg x=\"90.83871615706894%\" y=\"40\" height=\"18\" overflow=\"visible\" width=\"30\">    <path d=\"M 8 -9 l -6 18 L 8 25\" fill=\"none\" style=\"stroke:rgb(0.0, 138.56128015770727, 250.76166088685727);stroke-width:2\" />  </svg></g><g transform=\"translate(0,0)\">  <svg x=\"90.83871615706894%\" y=\"40\" height=\"18\" overflow=\"visible\" width=\"30\">    <path d=\"M 8 -9 l -6 18 L 8 25\" fill=\"none\" style=\"stroke:rgb(0.0, 138.56128015770727, 250.76166088685727);stroke-width:2\" />  </svg></g><g transform=\"translate(-2,0)\">  <svg x=\"90.83871615706894%\" y=\"40\" height=\"18\" overflow=\"visible\" width=\"30\">    <path d=\"M 8 -9 l -6 18 L 8 25\" fill=\"none\" style=\"stroke:rgb(0.0, 138.56128015770727, 250.76166088685727);stroke-width:2\" />  </svg></g><g transform=\"translate(-4,0)\">  <svg x=\"90.83871615706894%\" y=\"40\" height=\"18\" overflow=\"visible\" width=\"30\">    <path d=\"M 8 -9 l -6 18 L 8 25\" fill=\"none\" style=\"stroke:rgb(0.0, 138.56128015770727, 250.76166088685727);stroke-width:2\" />  </svg></g><g transform=\"translate(-8,0)\">  <svg x=\"91.1333838858922%\" y=\"40\" height=\"18\" overflow=\"visible\" width=\"30\">    <path d=\"M 8 -9 l -6 18 L 8 25\" fill=\"none\" style=\"stroke:rgb(0.0, 138.56128015770727, 250.76166088685727);stroke-width:2\" />  </svg></g><g transform=\"translate(-10,0)\">  <svg x=\"91.1333838858922%\" y=\"40\" height=\"18\" overflow=\"visible\" width=\"30\">    <path d=\"M 8 -9 l -6 18 L 8 25\" fill=\"none\" style=\"stroke:rgb(0.0, 138.56128015770727, 250.76166088685727);stroke-width:2\" />  </svg></g><g transform=\"translate(-12,0)\">  <svg x=\"91.1333838858922%\" y=\"40\" height=\"18\" overflow=\"visible\" width=\"30\">    <path d=\"M 8 -9 l -6 18 L 8 25\" fill=\"none\" style=\"stroke:rgb(0.0, 138.56128015770727, 250.76166088685727);stroke-width:2\" />  </svg></g><g transform=\"translate(-14,0)\">  <svg x=\"91.1333838858922%\" y=\"40\" height=\"18\" overflow=\"visible\" width=\"30\">    <path d=\"M 8 -9 l -6 18 L 8 25\" fill=\"none\" style=\"stroke:rgb(0.0, 138.56128015770727, 250.76166088685727);stroke-width:2\" />  </svg></g><g transform=\"translate(2,0)\">  <svg x=\"91.1333838858922%\" y=\"40\" height=\"18\" overflow=\"visible\" width=\"30\">    <path d=\"M 8 -9 l -6 18 L 8 25\" fill=\"none\" style=\"stroke:rgb(0.0, 138.56128015770727, 250.76166088685727);stroke-width:2\" />  </svg></g><g transform=\"translate(0,0)\">  <svg x=\"91.1333838858922%\" y=\"40\" height=\"18\" overflow=\"visible\" width=\"30\">    <path d=\"M 8 -9 l -6 18 L 8 25\" fill=\"none\" style=\"stroke:rgb(0.0, 138.56128015770727, 250.76166088685727);stroke-width:2\" />  </svg></g><g transform=\"translate(-2,0)\">  <svg x=\"91.1333838858922%\" y=\"40\" height=\"18\" overflow=\"visible\" width=\"30\">    <path d=\"M 8 -9 l -6 18 L 8 25\" fill=\"none\" style=\"stroke:rgb(0.0, 138.56128015770727, 250.76166088685727);stroke-width:2\" />  </svg></g><g transform=\"translate(-4,0)\">  <svg x=\"91.1333838858922%\" y=\"40\" height=\"18\" overflow=\"visible\" width=\"30\">    <path d=\"M 8 -9 l -6 18 L 8 25\" fill=\"none\" style=\"stroke:rgb(0.0, 138.56128015770727, 250.76166088685727);stroke-width:2\" />  </svg></g><g transform=\"translate(-8,0)\">  <svg x=\"91.41839696347627%\" y=\"40\" height=\"18\" overflow=\"visible\" width=\"30\">    <path d=\"M 8 -9 l -6 18 L 8 25\" fill=\"none\" style=\"stroke:rgb(0.0, 138.56128015770727, 250.76166088685727);stroke-width:2\" />  </svg></g><g transform=\"translate(-10,0)\">  <svg x=\"91.41839696347627%\" y=\"40\" height=\"18\" overflow=\"visible\" width=\"30\">    <path d=\"M 8 -9 l -6 18 L 8 25\" fill=\"none\" style=\"stroke:rgb(0.0, 138.56128015770727, 250.76166088685727);stroke-width:2\" />  </svg></g><g transform=\"translate(-12,0)\">  <svg x=\"91.41839696347627%\" y=\"40\" height=\"18\" overflow=\"visible\" width=\"30\">    <path d=\"M 8 -9 l -6 18 L 8 25\" fill=\"none\" style=\"stroke:rgb(0.0, 138.56128015770727, 250.76166088685727);stroke-width:2\" />  </svg></g><g transform=\"translate(-14,0)\">  <svg x=\"91.41839696347627%\" y=\"40\" height=\"18\" overflow=\"visible\" width=\"30\">    <path d=\"M 8 -9 l -6 18 L 8 25\" fill=\"none\" style=\"stroke:rgb(0.0, 138.56128015770727, 250.76166088685727);stroke-width:2\" />  </svg></g><g transform=\"translate(2,0)\">  <svg x=\"91.41839696347627%\" y=\"40\" height=\"18\" overflow=\"visible\" width=\"30\">    <path d=\"M 8 -9 l -6 18 L 8 25\" fill=\"none\" style=\"stroke:rgb(0.0, 138.56128015770727, 250.76166088685727);stroke-width:2\" />  </svg></g><g transform=\"translate(0,0)\">  <svg x=\"91.41839696347627%\" y=\"40\" height=\"18\" overflow=\"visible\" width=\"30\">    <path d=\"M 8 -9 l -6 18 L 8 25\" fill=\"none\" style=\"stroke:rgb(0.0, 138.56128015770727, 250.76166088685727);stroke-width:2\" />  </svg></g><g transform=\"translate(-2,0)\">  <svg x=\"91.41839696347627%\" y=\"40\" height=\"18\" overflow=\"visible\" width=\"30\">    <path d=\"M 8 -9 l -6 18 L 8 25\" fill=\"none\" style=\"stroke:rgb(0.0, 138.56128015770727, 250.76166088685727);stroke-width:2\" />  </svg></g><g transform=\"translate(-4,0)\">  <svg x=\"91.41839696347627%\" y=\"40\" height=\"18\" overflow=\"visible\" width=\"30\">    <path d=\"M 8 -9 l -6 18 L 8 25\" fill=\"none\" style=\"stroke:rgb(0.0, 138.56128015770727, 250.76166088685727);stroke-width:2\" />  </svg></g><g transform=\"translate(-8,0)\">  <svg x=\"91.54288374849699%\" y=\"40\" height=\"18\" overflow=\"visible\" width=\"30\">    <path d=\"M 8 -9 l -6 18 L 8 25\" fill=\"none\" style=\"stroke:rgb(0.0, 138.56128015770727, 250.76166088685727);stroke-width:2\" />  </svg></g><g transform=\"translate(-10,0)\">  <svg x=\"91.54288374849699%\" y=\"40\" height=\"18\" overflow=\"visible\" width=\"30\">    <path d=\"M 8 -9 l -6 18 L 8 25\" fill=\"none\" style=\"stroke:rgb(0.0, 138.56128015770727, 250.76166088685727);stroke-width:2\" />  </svg></g><g transform=\"translate(-12,0)\">  <svg x=\"91.54288374849699%\" y=\"40\" height=\"18\" overflow=\"visible\" width=\"30\">    <path d=\"M 8 -9 l -6 18 L 8 25\" fill=\"none\" style=\"stroke:rgb(0.0, 138.56128015770727, 250.76166088685727);stroke-width:2\" />  </svg></g><g transform=\"translate(-14,0)\">  <svg x=\"91.54288374849699%\" y=\"40\" height=\"18\" overflow=\"visible\" width=\"30\">    <path d=\"M 8 -9 l -6 18 L 8 25\" fill=\"none\" style=\"stroke:rgb(0.0, 138.56128015770727, 250.76166088685727);stroke-width:2\" />  </svg></g><g transform=\"translate(2,0)\">  <svg x=\"91.54288374849699%\" y=\"40\" height=\"18\" overflow=\"visible\" width=\"30\">    <path d=\"M 8 -9 l -6 18 L 8 25\" fill=\"none\" style=\"stroke:rgb(0.0, 138.56128015770727, 250.76166088685727);stroke-width:2\" />  </svg></g><g transform=\"translate(0,0)\">  <svg x=\"91.54288374849699%\" y=\"40\" height=\"18\" overflow=\"visible\" width=\"30\">    <path d=\"M 8 -9 l -6 18 L 8 25\" fill=\"none\" style=\"stroke:rgb(0.0, 138.56128015770727, 250.76166088685727);stroke-width:2\" />  </svg></g><g transform=\"translate(-2,0)\">  <svg x=\"91.54288374849699%\" y=\"40\" height=\"18\" overflow=\"visible\" width=\"30\">    <path d=\"M 8 -9 l -6 18 L 8 25\" fill=\"none\" style=\"stroke:rgb(0.0, 138.56128015770727, 250.76166088685727);stroke-width:2\" />  </svg></g><g transform=\"translate(-4,0)\">  <svg x=\"91.54288374849699%\" y=\"40\" height=\"18\" overflow=\"visible\" width=\"30\">    <path d=\"M 8 -9 l -6 18 L 8 25\" fill=\"none\" style=\"stroke:rgb(0.0, 138.56128015770727, 250.76166088685727);stroke-width:2\" />  </svg></g><g transform=\"translate(-8,0)\">  <svg x=\"91.6497249007204%\" y=\"40\" height=\"18\" overflow=\"visible\" width=\"30\">    <path d=\"M 8 -9 l -6 18 L 8 25\" fill=\"none\" style=\"stroke:rgb(0.0, 138.56128015770727, 250.76166088685727);stroke-width:2\" />  </svg></g><g transform=\"translate(-10,0)\">  <svg x=\"91.6497249007204%\" y=\"40\" height=\"18\" overflow=\"visible\" width=\"30\">    <path d=\"M 8 -9 l -6 18 L 8 25\" fill=\"none\" style=\"stroke:rgb(0.0, 138.56128015770727, 250.76166088685727);stroke-width:2\" />  </svg></g><g transform=\"translate(-12,0)\">  <svg x=\"91.6497249007204%\" y=\"40\" height=\"18\" overflow=\"visible\" width=\"30\">    <path d=\"M 8 -9 l -6 18 L 8 25\" fill=\"none\" style=\"stroke:rgb(0.0, 138.56128015770727, 250.76166088685727);stroke-width:2\" />  </svg></g><g transform=\"translate(-14,0)\">  <svg x=\"91.6497249007204%\" y=\"40\" height=\"18\" overflow=\"visible\" width=\"30\">    <path d=\"M 8 -9 l -6 18 L 8 25\" fill=\"none\" style=\"stroke:rgb(0.0, 138.56128015770727, 250.76166088685727);stroke-width:2\" />  </svg></g><g transform=\"translate(2,0)\">  <svg x=\"91.6497249007204%\" y=\"40\" height=\"18\" overflow=\"visible\" width=\"30\">    <path d=\"M 8 -9 l -6 18 L 8 25\" fill=\"none\" style=\"stroke:rgb(0.0, 138.56128015770727, 250.76166088685727);stroke-width:2\" />  </svg></g><g transform=\"translate(0,0)\">  <svg x=\"91.6497249007204%\" y=\"40\" height=\"18\" overflow=\"visible\" width=\"30\">    <path d=\"M 8 -9 l -6 18 L 8 25\" fill=\"none\" style=\"stroke:rgb(0.0, 138.56128015770727, 250.76166088685727);stroke-width:2\" />  </svg></g><g transform=\"translate(-2,0)\">  <svg x=\"91.6497249007204%\" y=\"40\" height=\"18\" overflow=\"visible\" width=\"30\">    <path d=\"M 8 -9 l -6 18 L 8 25\" fill=\"none\" style=\"stroke:rgb(0.0, 138.56128015770727, 250.76166088685727);stroke-width:2\" />  </svg></g><g transform=\"translate(-4,0)\">  <svg x=\"91.6497249007204%\" y=\"40\" height=\"18\" overflow=\"visible\" width=\"30\">    <path d=\"M 8 -9 l -6 18 L 8 25\" fill=\"none\" style=\"stroke:rgb(0.0, 138.56128015770727, 250.76166088685727);stroke-width:2\" />  </svg></g><g transform=\"translate(-8,0)\">  <svg x=\"91.66301513111705%\" y=\"40\" height=\"18\" overflow=\"visible\" width=\"30\">    <path d=\"M 8 -9 l -6 18 L 8 25\" fill=\"none\" style=\"stroke:rgb(0.0, 138.56128015770727, 250.76166088685727);stroke-width:2\" />  </svg></g><g transform=\"translate(-10,0)\">  <svg x=\"91.66301513111705%\" y=\"40\" height=\"18\" overflow=\"visible\" width=\"30\">    <path d=\"M 8 -9 l -6 18 L 8 25\" fill=\"none\" style=\"stroke:rgb(0.0, 138.56128015770727, 250.76166088685727);stroke-width:2\" />  </svg></g><g transform=\"translate(-12,0)\">  <svg x=\"91.66301513111705%\" y=\"40\" height=\"18\" overflow=\"visible\" width=\"30\">    <path d=\"M 8 -9 l -6 18 L 8 25\" fill=\"none\" style=\"stroke:rgb(0.0, 138.56128015770727, 250.76166088685727);stroke-width:2\" />  </svg></g><g transform=\"translate(-14,0)\">  <svg x=\"91.66301513111705%\" y=\"40\" height=\"18\" overflow=\"visible\" width=\"30\">    <path d=\"M 8 -9 l -6 18 L 8 25\" fill=\"none\" style=\"stroke:rgb(0.0, 138.56128015770727, 250.76166088685727);stroke-width:2\" />  </svg></g><g transform=\"translate(2,0)\">  <svg x=\"91.66301513111705%\" y=\"40\" height=\"18\" overflow=\"visible\" width=\"30\">    <path d=\"M 8 -9 l -6 18 L 8 25\" fill=\"none\" style=\"stroke:rgb(0.0, 138.56128015770727, 250.76166088685727);stroke-width:2\" />  </svg></g><g transform=\"translate(0,0)\">  <svg x=\"91.66301513111705%\" y=\"40\" height=\"18\" overflow=\"visible\" width=\"30\">    <path d=\"M 8 -9 l -6 18 L 8 25\" fill=\"none\" style=\"stroke:rgb(0.0, 138.56128015770727, 250.76166088685727);stroke-width:2\" />  </svg></g><g transform=\"translate(-2,0)\">  <svg x=\"91.66301513111705%\" y=\"40\" height=\"18\" overflow=\"visible\" width=\"30\">    <path d=\"M 8 -9 l -6 18 L 8 25\" fill=\"none\" style=\"stroke:rgb(0.0, 138.56128015770727, 250.76166088685727);stroke-width:2\" />  </svg></g><g transform=\"translate(-4,0)\">  <svg x=\"91.66301513111705%\" y=\"40\" height=\"18\" overflow=\"visible\" width=\"30\">    <path d=\"M 8 -9 l -6 18 L 8 25\" fill=\"none\" style=\"stroke:rgb(0.0, 138.56128015770727, 250.76166088685727);stroke-width:2\" />  </svg></g><rect transform=\"translate(0,0)\" x=\"66.85912364875206%\" y=\"40\" width=\"8\" height=\"18\" style=\"fill:rgb(0.0, 138.56128015770727, 250.76166088685727)\"/><g transform=\"translate(-6.0,0)\">  <svg x=\"91.66666540739871%\" y=\"40\" height=\"18\" overflow=\"visible\" width=\"30\">    <path d=\"M 8 -9 l -6 18 L 8 25 L 20 25 L 20 -9\" fill=\"#ffffff\" style=\"stroke:rgb(255,255,255);stroke-width:2\" />  </svg></g><g transform=\"translate(-6.0,0)\">  <svg x=\"72.09234918311887%\" y=\"40\" height=\"18\" overflow=\"visible\" width=\"30\">    <path d=\"M 8 -9 l -6 18 L 8 25\" fill=\"none\" style=\"stroke:rgb(208, 230, 250);stroke-width:2\" />  </svg></g><rect x=\"66.85912364875206%\" y=\"40\" height=\"20\" width=\"5.2332255343668095%\"      onmouseover=\"document.getElementById('_tp_uinfdupaumkolsbxzlgv_ind_25').style.textDecoration = 'underline';document.getElementById('_fs_uinfdupaumkolsbxzlgv_ind_25').style.opacity = 1;document.getElementById('_fb_uinfdupaumkolsbxzlgv_ind_25').style.opacity = 1;\"      onmouseout=\"document.getElementById('_tp_uinfdupaumkolsbxzlgv_ind_25').style.textDecoration = 'none';document.getElementById('_fs_uinfdupaumkolsbxzlgv_ind_25').style.opacity = 0;document.getElementById('_fb_uinfdupaumkolsbxzlgv_ind_25').style.opacity = 0;\" style=\"fill:rgb(0,0,0,0)\" /><g transform=\"translate(-6.0,0)\">  <svg x=\"74.82747604954027%\" y=\"40\" height=\"18\" overflow=\"visible\" width=\"30\">    <path d=\"M 8 -9 l -6 18 L 8 25\" fill=\"none\" style=\"stroke:rgb(208, 230, 250);stroke-width:2\" />  </svg></g><rect x=\"72.09234918311887%\" y=\"40\" height=\"20\" width=\"2.735126866421396%\"      onmouseover=\"document.getElementById('_tp_uinfdupaumkolsbxzlgv_ind_39').style.textDecoration = 'underline';document.getElementById('_fs_uinfdupaumkolsbxzlgv_ind_39').style.opacity = 1;document.getElementById('_fb_uinfdupaumkolsbxzlgv_ind_39').style.opacity = 1;\"      onmouseout=\"document.getElementById('_tp_uinfdupaumkolsbxzlgv_ind_39').style.textDecoration = 'none';document.getElementById('_fs_uinfdupaumkolsbxzlgv_ind_39').style.opacity = 0;document.getElementById('_fb_uinfdupaumkolsbxzlgv_ind_39').style.opacity = 0;\" style=\"fill:rgb(0,0,0,0)\" /><g transform=\"translate(-6.0,0)\">  <svg x=\"76.5728324908567%\" y=\"40\" height=\"18\" overflow=\"visible\" width=\"30\">    <path d=\"M 8 -9 l -6 18 L 8 25\" fill=\"none\" style=\"stroke:rgb(208, 230, 250);stroke-width:2\" />  </svg></g><rect x=\"74.82747604954027%\" y=\"40\" height=\"20\" width=\"1.7453564413164315%\"      onmouseover=\"document.getElementById('_tp_uinfdupaumkolsbxzlgv_ind_31').style.textDecoration = 'underline';document.getElementById('_fs_uinfdupaumkolsbxzlgv_ind_31').style.opacity = 1;document.getElementById('_fb_uinfdupaumkolsbxzlgv_ind_31').style.opacity = 1;\"      onmouseout=\"document.getElementById('_tp_uinfdupaumkolsbxzlgv_ind_31').style.textDecoration = 'none';document.getElementById('_fs_uinfdupaumkolsbxzlgv_ind_31').style.opacity = 0;document.getElementById('_fb_uinfdupaumkolsbxzlgv_ind_31').style.opacity = 0;\" style=\"fill:rgb(0,0,0,0)\" /><g transform=\"translate(-6.0,0)\">  <svg x=\"78.10073071422181%\" y=\"40\" height=\"18\" overflow=\"visible\" width=\"30\">    <path d=\"M 8 -9 l -6 18 L 8 25\" fill=\"none\" style=\"stroke:rgb(208, 230, 250);stroke-width:2\" />  </svg></g><rect x=\"76.5728324908567%\" y=\"40\" height=\"20\" width=\"1.5278982233651135%\"      onmouseover=\"document.getElementById('_tp_uinfdupaumkolsbxzlgv_ind_26').style.textDecoration = 'underline';document.getElementById('_fs_uinfdupaumkolsbxzlgv_ind_26').style.opacity = 1;document.getElementById('_fb_uinfdupaumkolsbxzlgv_ind_26').style.opacity = 1;\"      onmouseout=\"document.getElementById('_tp_uinfdupaumkolsbxzlgv_ind_26').style.textDecoration = 'none';document.getElementById('_fs_uinfdupaumkolsbxzlgv_ind_26').style.opacity = 0;document.getElementById('_fb_uinfdupaumkolsbxzlgv_ind_26').style.opacity = 0;\" style=\"fill:rgb(0,0,0,0)\" /><g transform=\"translate(-6.0,0)\">  <svg x=\"79.28518258899337%\" y=\"40\" height=\"18\" overflow=\"visible\" width=\"30\">    <path d=\"M 8 -9 l -6 18 L 8 25\" fill=\"none\" style=\"stroke:rgb(208, 230, 250);stroke-width:2\" />  </svg></g><rect x=\"78.10073071422181%\" y=\"40\" height=\"20\" width=\"1.184451874771554%\"      onmouseover=\"document.getElementById('_tp_uinfdupaumkolsbxzlgv_ind_30').style.textDecoration = 'underline';document.getElementById('_fs_uinfdupaumkolsbxzlgv_ind_30').style.opacity = 1;document.getElementById('_fb_uinfdupaumkolsbxzlgv_ind_30').style.opacity = 1;\"      onmouseout=\"document.getElementById('_tp_uinfdupaumkolsbxzlgv_ind_30').style.textDecoration = 'none';document.getElementById('_fs_uinfdupaumkolsbxzlgv_ind_30').style.opacity = 0;document.getElementById('_fb_uinfdupaumkolsbxzlgv_ind_30').style.opacity = 0;\" style=\"fill:rgb(0,0,0,0)\" /><g transform=\"translate(-6.0,0)\">  <svg x=\"80.3769006316769%\" y=\"40\" height=\"18\" overflow=\"visible\" width=\"30\">    <path d=\"M 8 -9 l -6 18 L 8 25\" fill=\"none\" style=\"stroke:rgb(208, 230, 250);stroke-width:2\" />  </svg></g><rect x=\"79.28518258899337%\" y=\"40\" height=\"20\" width=\"1.0917180426835387%\"      onmouseover=\"document.getElementById('_tp_uinfdupaumkolsbxzlgv_ind_38').style.textDecoration = 'underline';document.getElementById('_fs_uinfdupaumkolsbxzlgv_ind_38').style.opacity = 1;document.getElementById('_fb_uinfdupaumkolsbxzlgv_ind_38').style.opacity = 1;\"      onmouseout=\"document.getElementById('_tp_uinfdupaumkolsbxzlgv_ind_38').style.textDecoration = 'none';document.getElementById('_fs_uinfdupaumkolsbxzlgv_ind_38').style.opacity = 0;document.getElementById('_fb_uinfdupaumkolsbxzlgv_ind_38').style.opacity = 0;\" style=\"fill:rgb(0,0,0,0)\" /><g transform=\"translate(-6.0,0)\">  <svg x=\"81.32557573851244%\" y=\"40\" height=\"18\" overflow=\"visible\" width=\"30\">    <path d=\"M 8 -9 l -6 18 L 8 25\" fill=\"none\" style=\"stroke:rgb(208, 230, 250);stroke-width:2\" />  </svg></g><rect x=\"80.3769006316769%\" y=\"40\" height=\"20\" width=\"0.9486751068355375%\"      onmouseover=\"document.getElementById('_tp_uinfdupaumkolsbxzlgv_ind_37').style.textDecoration = 'underline';document.getElementById('_fs_uinfdupaumkolsbxzlgv_ind_37').style.opacity = 1;document.getElementById('_fb_uinfdupaumkolsbxzlgv_ind_37').style.opacity = 1;\"      onmouseout=\"document.getElementById('_tp_uinfdupaumkolsbxzlgv_ind_37').style.textDecoration = 'none';document.getElementById('_fs_uinfdupaumkolsbxzlgv_ind_37').style.opacity = 0;document.getElementById('_fb_uinfdupaumkolsbxzlgv_ind_37').style.opacity = 0;\" style=\"fill:rgb(0,0,0,0)\" /><g transform=\"translate(-6.0,0)\">  <svg x=\"82.2604313105772%\" y=\"40\" height=\"18\" overflow=\"visible\" width=\"30\">    <path d=\"M 8 -9 l -6 18 L 8 25\" fill=\"none\" style=\"stroke:rgb(208, 230, 250);stroke-width:2\" />  </svg></g><rect x=\"81.32557573851244%\" y=\"40\" height=\"20\" width=\"0.9348555720647624%\"      onmouseover=\"document.getElementById('_tp_uinfdupaumkolsbxzlgv_ind_40').style.textDecoration = 'underline';document.getElementById('_fs_uinfdupaumkolsbxzlgv_ind_40').style.opacity = 1;document.getElementById('_fb_uinfdupaumkolsbxzlgv_ind_40').style.opacity = 1;\"      onmouseout=\"document.getElementById('_tp_uinfdupaumkolsbxzlgv_ind_40').style.textDecoration = 'none';document.getElementById('_fs_uinfdupaumkolsbxzlgv_ind_40').style.opacity = 0;document.getElementById('_fb_uinfdupaumkolsbxzlgv_ind_40').style.opacity = 0;\" style=\"fill:rgb(0,0,0,0)\" /><g transform=\"translate(-6.0,0)\">  <svg x=\"83.1496161528993%\" y=\"40\" height=\"18\" overflow=\"visible\" width=\"30\">    <path d=\"M 8 -9 l -6 18 L 8 25\" fill=\"none\" style=\"stroke:rgb(208, 230, 250);stroke-width:2\" />  </svg></g><rect x=\"82.2604313105772%\" y=\"40\" height=\"20\" width=\"0.8891848423220949%\"      onmouseover=\"document.getElementById('_tp_uinfdupaumkolsbxzlgv_ind_23').style.textDecoration = 'underline';document.getElementById('_fs_uinfdupaumkolsbxzlgv_ind_23').style.opacity = 1;document.getElementById('_fb_uinfdupaumkolsbxzlgv_ind_23').style.opacity = 1;\"      onmouseout=\"document.getElementById('_tp_uinfdupaumkolsbxzlgv_ind_23').style.textDecoration = 'none';document.getElementById('_fs_uinfdupaumkolsbxzlgv_ind_23').style.opacity = 0;document.getElementById('_fb_uinfdupaumkolsbxzlgv_ind_23').style.opacity = 0;\" style=\"fill:rgb(0,0,0,0)\" /><g transform=\"translate(-6.0,0)\">  <svg x=\"83.96641295670737%\" y=\"40\" height=\"18\" overflow=\"visible\" width=\"30\">    <path d=\"M 8 -9 l -6 18 L 8 25\" fill=\"none\" style=\"stroke:rgb(208, 230, 250);stroke-width:2\" />  </svg></g><rect x=\"83.1496161528993%\" y=\"40\" height=\"20\" width=\"0.8167968038080744%\"      onmouseover=\"document.getElementById('_tp_uinfdupaumkolsbxzlgv_ind_35').style.textDecoration = 'underline';document.getElementById('_fs_uinfdupaumkolsbxzlgv_ind_35').style.opacity = 1;document.getElementById('_fb_uinfdupaumkolsbxzlgv_ind_35').style.opacity = 1;\"      onmouseout=\"document.getElementById('_tp_uinfdupaumkolsbxzlgv_ind_35').style.textDecoration = 'none';document.getElementById('_fs_uinfdupaumkolsbxzlgv_ind_35').style.opacity = 0;document.getElementById('_fb_uinfdupaumkolsbxzlgv_ind_35').style.opacity = 0;\" style=\"fill:rgb(0,0,0,0)\" /><g transform=\"translate(-6.0,0)\">  <svg x=\"84.76086168767301%\" y=\"40\" height=\"18\" overflow=\"visible\" width=\"30\">    <path d=\"M 8 -9 l -6 18 L 8 25\" fill=\"none\" style=\"stroke:rgb(208, 230, 250);stroke-width:2\" />  </svg></g><rect x=\"83.96641295670737%\" y=\"40\" height=\"20\" width=\"0.794448730965641%\"      onmouseover=\"document.getElementById('_tp_uinfdupaumkolsbxzlgv_ind_34').style.textDecoration = 'underline';document.getElementById('_fs_uinfdupaumkolsbxzlgv_ind_34').style.opacity = 1;document.getElementById('_fb_uinfdupaumkolsbxzlgv_ind_34').style.opacity = 1;\"      onmouseout=\"document.getElementById('_tp_uinfdupaumkolsbxzlgv_ind_34').style.textDecoration = 'none';document.getElementById('_fs_uinfdupaumkolsbxzlgv_ind_34').style.opacity = 0;document.getElementById('_fb_uinfdupaumkolsbxzlgv_ind_34').style.opacity = 0;\" style=\"fill:rgb(0,0,0,0)\" /><g transform=\"translate(-6.0,0)\">  <svg x=\"85.50413981391694%\" y=\"40\" height=\"18\" overflow=\"visible\" width=\"30\">    <path d=\"M 8 -9 l -6 18 L 8 25\" fill=\"none\" style=\"stroke:rgb(208, 230, 250);stroke-width:2\" />  </svg></g><rect x=\"84.76086168767301%\" y=\"40\" height=\"20\" width=\"0.7432781262439221%\"      onmouseover=\"document.getElementById('_tp_uinfdupaumkolsbxzlgv_ind_1').style.textDecoration = 'underline';document.getElementById('_fs_uinfdupaumkolsbxzlgv_ind_1').style.opacity = 1;document.getElementById('_fb_uinfdupaumkolsbxzlgv_ind_1').style.opacity = 1;\"      onmouseout=\"document.getElementById('_tp_uinfdupaumkolsbxzlgv_ind_1').style.textDecoration = 'none';document.getElementById('_fs_uinfdupaumkolsbxzlgv_ind_1').style.opacity = 0;document.getElementById('_fb_uinfdupaumkolsbxzlgv_ind_1').style.opacity = 0;\" style=\"fill:rgb(0,0,0,0)\" /><g transform=\"translate(-6.0,0)\">  <svg x=\"86.22673345703686%\" y=\"40\" height=\"18\" overflow=\"visible\" width=\"30\">    <path d=\"M 8 -9 l -6 18 L 8 25\" fill=\"none\" style=\"stroke:rgb(208, 230, 250);stroke-width:2\" />  </svg></g><rect x=\"85.50413981391694%\" y=\"40\" height=\"20\" width=\"0.7225936431199216%\"      onmouseover=\"document.getElementById('_tp_uinfdupaumkolsbxzlgv_ind_33').style.textDecoration = 'underline';document.getElementById('_fs_uinfdupaumkolsbxzlgv_ind_33').style.opacity = 1;document.getElementById('_fb_uinfdupaumkolsbxzlgv_ind_33').style.opacity = 1;\"      onmouseout=\"document.getElementById('_tp_uinfdupaumkolsbxzlgv_ind_33').style.textDecoration = 'none';document.getElementById('_fs_uinfdupaumkolsbxzlgv_ind_33').style.opacity = 0;document.getElementById('_fb_uinfdupaumkolsbxzlgv_ind_33').style.opacity = 0;\" style=\"fill:rgb(0,0,0,0)\" /><g transform=\"translate(-6.0,0)\">  <svg x=\"86.93461195238298%\" y=\"40\" height=\"18\" overflow=\"visible\" width=\"30\">    <path d=\"M 8 -9 l -6 18 L 8 25\" fill=\"none\" style=\"stroke:rgb(208, 230, 250);stroke-width:2\" />  </svg></g><rect x=\"86.22673345703686%\" y=\"40\" height=\"20\" width=\"0.7078784953461223%\"      onmouseover=\"document.getElementById('_tp_uinfdupaumkolsbxzlgv_ind_41').style.textDecoration = 'underline';document.getElementById('_fs_uinfdupaumkolsbxzlgv_ind_41').style.opacity = 1;document.getElementById('_fb_uinfdupaumkolsbxzlgv_ind_41').style.opacity = 1;\"      onmouseout=\"document.getElementById('_tp_uinfdupaumkolsbxzlgv_ind_41').style.textDecoration = 'none';document.getElementById('_fs_uinfdupaumkolsbxzlgv_ind_41').style.opacity = 0;document.getElementById('_fb_uinfdupaumkolsbxzlgv_ind_41').style.opacity = 0;\" style=\"fill:rgb(0,0,0,0)\" /><g transform=\"translate(-6.0,0)\">  <svg x=\"87.57643746147099%\" y=\"40\" height=\"18\" overflow=\"visible\" width=\"30\">    <path d=\"M 8 -9 l -6 18 L 8 25\" fill=\"none\" style=\"stroke:rgb(208, 230, 250);stroke-width:2\" />  </svg></g><rect x=\"86.93461195238298%\" y=\"40\" height=\"20\" width=\"0.6418255090880081%\"      onmouseover=\"document.getElementById('_tp_uinfdupaumkolsbxzlgv_ind_24').style.textDecoration = 'underline';document.getElementById('_fs_uinfdupaumkolsbxzlgv_ind_24').style.opacity = 1;document.getElementById('_fb_uinfdupaumkolsbxzlgv_ind_24').style.opacity = 1;\"      onmouseout=\"document.getElementById('_tp_uinfdupaumkolsbxzlgv_ind_24').style.textDecoration = 'none';document.getElementById('_fs_uinfdupaumkolsbxzlgv_ind_24').style.opacity = 0;document.getElementById('_fb_uinfdupaumkolsbxzlgv_ind_24').style.opacity = 0;\" style=\"fill:rgb(0,0,0,0)\" /><g transform=\"translate(-6.0,0)\">  <svg x=\"88.16113025910529%\" y=\"40\" height=\"18\" overflow=\"visible\" width=\"30\">    <path d=\"M 8 -9 l -6 18 L 8 25\" fill=\"none\" style=\"stroke:rgb(208, 230, 250);stroke-width:2\" />  </svg></g><rect x=\"87.57643746147099%\" y=\"40\" height=\"20\" width=\"0.5846927976343039%\"      onmouseover=\"document.getElementById('_tp_uinfdupaumkolsbxzlgv_ind_20').style.textDecoration = 'underline';document.getElementById('_fs_uinfdupaumkolsbxzlgv_ind_20').style.opacity = 1;document.getElementById('_fb_uinfdupaumkolsbxzlgv_ind_20').style.opacity = 1;\"      onmouseout=\"document.getElementById('_tp_uinfdupaumkolsbxzlgv_ind_20').style.textDecoration = 'none';document.getElementById('_fs_uinfdupaumkolsbxzlgv_ind_20').style.opacity = 0;document.getElementById('_fb_uinfdupaumkolsbxzlgv_ind_20').style.opacity = 0;\" style=\"fill:rgb(0,0,0,0)\" /><g transform=\"translate(-6.0,0)\">  <svg x=\"88.73937717633275%\" y=\"40\" height=\"18\" overflow=\"visible\" width=\"30\">    <path d=\"M 8 -9 l -6 18 L 8 25\" fill=\"none\" style=\"stroke:rgb(208, 230, 250);stroke-width:2\" />  </svg></g><rect x=\"88.16113025910529%\" y=\"40\" height=\"20\" width=\"0.5782469172274602%\"      onmouseover=\"document.getElementById('_tp_uinfdupaumkolsbxzlgv_ind_22').style.textDecoration = 'underline';document.getElementById('_fs_uinfdupaumkolsbxzlgv_ind_22').style.opacity = 1;document.getElementById('_fb_uinfdupaumkolsbxzlgv_ind_22').style.opacity = 1;\"      onmouseout=\"document.getElementById('_tp_uinfdupaumkolsbxzlgv_ind_22').style.textDecoration = 'none';document.getElementById('_fs_uinfdupaumkolsbxzlgv_ind_22').style.opacity = 0;document.getElementById('_fb_uinfdupaumkolsbxzlgv_ind_22').style.opacity = 0;\" style=\"fill:rgb(0,0,0,0)\" /><g transform=\"translate(-6.0,0)\">  <svg x=\"89.25195932568086%\" y=\"40\" height=\"18\" overflow=\"visible\" width=\"30\">    <path d=\"M 8 -9 l -6 18 L 8 25\" fill=\"none\" style=\"stroke:rgb(208, 230, 250);stroke-width:2\" />  </svg></g><rect x=\"88.73937717633275%\" y=\"40\" height=\"20\" width=\"0.5125821493481055%\"      onmouseover=\"document.getElementById('_tp_uinfdupaumkolsbxzlgv_ind_21').style.textDecoration = 'underline';document.getElementById('_fs_uinfdupaumkolsbxzlgv_ind_21').style.opacity = 1;document.getElementById('_fb_uinfdupaumkolsbxzlgv_ind_21').style.opacity = 1;\"      onmouseout=\"document.getElementById('_tp_uinfdupaumkolsbxzlgv_ind_21').style.textDecoration = 'none';document.getElementById('_fs_uinfdupaumkolsbxzlgv_ind_21').style.opacity = 0;document.getElementById('_fb_uinfdupaumkolsbxzlgv_ind_21').style.opacity = 0;\" style=\"fill:rgb(0,0,0,0)\" /><g transform=\"translate(-6.0,0)\">  <svg x=\"89.76046437442965%\" y=\"40\" height=\"18\" overflow=\"visible\" width=\"30\">    <path d=\"M 8 -9 l -6 18 L 8 25\" fill=\"none\" style=\"stroke:rgb(208, 230, 250);stroke-width:2\" />  </svg></g><rect x=\"89.25195932568086%\" y=\"40\" height=\"20\" width=\"0.5085050487487877%\"      onmouseover=\"document.getElementById('_tp_uinfdupaumkolsbxzlgv_ind_17').style.textDecoration = 'underline';document.getElementById('_fs_uinfdupaumkolsbxzlgv_ind_17').style.opacity = 1;document.getElementById('_fb_uinfdupaumkolsbxzlgv_ind_17').style.opacity = 1;\"      onmouseout=\"document.getElementById('_tp_uinfdupaumkolsbxzlgv_ind_17').style.textDecoration = 'none';document.getElementById('_fs_uinfdupaumkolsbxzlgv_ind_17').style.opacity = 0;document.getElementById('_fb_uinfdupaumkolsbxzlgv_ind_17').style.opacity = 0;\" style=\"fill:rgb(0,0,0,0)\" /><g transform=\"translate(-6.0,0)\">  <svg x=\"90.15838456638214%\" y=\"40\" height=\"18\" overflow=\"visible\" width=\"30\">    <path d=\"M 8 -9 l -6 18 L 8 25\" fill=\"none\" style=\"stroke:rgb(208, 230, 250);stroke-width:2\" />  </svg></g><rect x=\"89.76046437442965%\" y=\"40\" height=\"20\" width=\"0.39792019195249395%\"      onmouseover=\"document.getElementById('_tp_uinfdupaumkolsbxzlgv_ind_32').style.textDecoration = 'underline';document.getElementById('_fs_uinfdupaumkolsbxzlgv_ind_32').style.opacity = 1;document.getElementById('_fb_uinfdupaumkolsbxzlgv_ind_32').style.opacity = 1;\"      onmouseout=\"document.getElementById('_tp_uinfdupaumkolsbxzlgv_ind_32').style.textDecoration = 'none';document.getElementById('_fs_uinfdupaumkolsbxzlgv_ind_32').style.opacity = 0;document.getElementById('_fb_uinfdupaumkolsbxzlgv_ind_32').style.opacity = 0;\" style=\"fill:rgb(0,0,0,0)\" /><g transform=\"translate(-6.0,0)\">  <svg x=\"90.50485476432033%\" y=\"40\" height=\"18\" overflow=\"visible\" width=\"30\">    <path d=\"M 8 -9 l -6 18 L 8 25\" fill=\"none\" style=\"stroke:rgb(208, 230, 250);stroke-width:2\" />  </svg></g><rect x=\"90.15838456638214%\" y=\"40\" height=\"20\" width=\"0.34647019793818856%\"      onmouseover=\"document.getElementById('_tp_uinfdupaumkolsbxzlgv_ind_16').style.textDecoration = 'underline';document.getElementById('_fs_uinfdupaumkolsbxzlgv_ind_16').style.opacity = 1;document.getElementById('_fb_uinfdupaumkolsbxzlgv_ind_16').style.opacity = 1;\"      onmouseout=\"document.getElementById('_tp_uinfdupaumkolsbxzlgv_ind_16').style.textDecoration = 'none';document.getElementById('_fs_uinfdupaumkolsbxzlgv_ind_16').style.opacity = 0;document.getElementById('_fb_uinfdupaumkolsbxzlgv_ind_16').style.opacity = 0;\" style=\"fill:rgb(0,0,0,0)\" /><g transform=\"translate(-6.0,0)\">  <svg x=\"90.83871615706894%\" y=\"40\" height=\"18\" overflow=\"visible\" width=\"30\">    <path d=\"M 8 -9 l -6 18 L 8 25\" fill=\"none\" style=\"stroke:rgb(208, 230, 250);stroke-width:2\" />  </svg></g><rect x=\"90.50485476432033%\" y=\"40\" height=\"20\" width=\"0.3338613927486165%\"      onmouseover=\"document.getElementById('_tp_uinfdupaumkolsbxzlgv_ind_29').style.textDecoration = 'underline';document.getElementById('_fs_uinfdupaumkolsbxzlgv_ind_29').style.opacity = 1;document.getElementById('_fb_uinfdupaumkolsbxzlgv_ind_29').style.opacity = 1;\"      onmouseout=\"document.getElementById('_tp_uinfdupaumkolsbxzlgv_ind_29').style.textDecoration = 'none';document.getElementById('_fs_uinfdupaumkolsbxzlgv_ind_29').style.opacity = 0;document.getElementById('_fb_uinfdupaumkolsbxzlgv_ind_29').style.opacity = 0;\" style=\"fill:rgb(0,0,0,0)\" /><g transform=\"translate(-6.0,0)\">  <svg x=\"91.1333838858922%\" y=\"40\" height=\"18\" overflow=\"visible\" width=\"30\">    <path d=\"M 8 -9 l -6 18 L 8 25\" fill=\"none\" style=\"stroke:rgb(208, 230, 250);stroke-width:2\" />  </svg></g><rect x=\"90.83871615706894%\" y=\"40\" height=\"20\" width=\"0.2946677288232564%\"      onmouseover=\"document.getElementById('_tp_uinfdupaumkolsbxzlgv_ind_36').style.textDecoration = 'underline';document.getElementById('_fs_uinfdupaumkolsbxzlgv_ind_36').style.opacity = 1;document.getElementById('_fb_uinfdupaumkolsbxzlgv_ind_36').style.opacity = 1;\"      onmouseout=\"document.getElementById('_tp_uinfdupaumkolsbxzlgv_ind_36').style.textDecoration = 'none';document.getElementById('_fs_uinfdupaumkolsbxzlgv_ind_36').style.opacity = 0;document.getElementById('_fb_uinfdupaumkolsbxzlgv_ind_36').style.opacity = 0;\" style=\"fill:rgb(0,0,0,0)\" /><g transform=\"translate(-6.0,0)\">  <svg x=\"91.41839696347627%\" y=\"40\" height=\"18\" overflow=\"visible\" width=\"30\">    <path d=\"M 8 -9 l -6 18 L 8 25\" fill=\"none\" style=\"stroke:rgb(208, 230, 250);stroke-width:2\" />  </svg></g><rect x=\"91.1333838858922%\" y=\"40\" height=\"20\" width=\"0.28501307758406824%\"      onmouseover=\"document.getElementById('_tp_uinfdupaumkolsbxzlgv_ind_28').style.textDecoration = 'underline';document.getElementById('_fs_uinfdupaumkolsbxzlgv_ind_28').style.opacity = 1;document.getElementById('_fb_uinfdupaumkolsbxzlgv_ind_28').style.opacity = 1;\"      onmouseout=\"document.getElementById('_tp_uinfdupaumkolsbxzlgv_ind_28').style.textDecoration = 'none';document.getElementById('_fs_uinfdupaumkolsbxzlgv_ind_28').style.opacity = 0;document.getElementById('_fb_uinfdupaumkolsbxzlgv_ind_28').style.opacity = 0;\" style=\"fill:rgb(0,0,0,0)\" /><g transform=\"translate(-6.0,0)\">  <svg x=\"91.54288374849699%\" y=\"40\" height=\"18\" overflow=\"visible\" width=\"30\">    <path d=\"M 8 -9 l -6 18 L 8 25\" fill=\"none\" style=\"stroke:rgb(208, 230, 250);stroke-width:2\" />  </svg></g><rect x=\"91.41839696347627%\" y=\"40\" height=\"20\" width=\"0.12448678502072141%\"      onmouseover=\"document.getElementById('_tp_uinfdupaumkolsbxzlgv_ind_42').style.textDecoration = 'underline';document.getElementById('_fs_uinfdupaumkolsbxzlgv_ind_42').style.opacity = 1;document.getElementById('_fb_uinfdupaumkolsbxzlgv_ind_42').style.opacity = 1;\"      onmouseout=\"document.getElementById('_tp_uinfdupaumkolsbxzlgv_ind_42').style.textDecoration = 'none';document.getElementById('_fs_uinfdupaumkolsbxzlgv_ind_42').style.opacity = 0;document.getElementById('_fb_uinfdupaumkolsbxzlgv_ind_42').style.opacity = 0;\" style=\"fill:rgb(0,0,0,0)\" /><g transform=\"translate(-6.0,0)\">  <svg x=\"91.6497249007204%\" y=\"40\" height=\"18\" overflow=\"visible\" width=\"30\">    <path d=\"M 8 -9 l -6 18 L 8 25\" fill=\"none\" style=\"stroke:rgb(208, 230, 250);stroke-width:2\" />  </svg></g><rect x=\"91.54288374849699%\" y=\"40\" height=\"20\" width=\"0.10684115222341006%\"      onmouseover=\"document.getElementById('_tp_uinfdupaumkolsbxzlgv_ind_0').style.textDecoration = 'underline';document.getElementById('_fs_uinfdupaumkolsbxzlgv_ind_0').style.opacity = 1;document.getElementById('_fb_uinfdupaumkolsbxzlgv_ind_0').style.opacity = 1;\"      onmouseout=\"document.getElementById('_tp_uinfdupaumkolsbxzlgv_ind_0').style.textDecoration = 'none';document.getElementById('_fs_uinfdupaumkolsbxzlgv_ind_0').style.opacity = 0;document.getElementById('_fb_uinfdupaumkolsbxzlgv_ind_0').style.opacity = 0;\" style=\"fill:rgb(0,0,0,0)\" /><g transform=\"translate(-6.0,0)\">  <svg x=\"91.66301513111705%\" y=\"40\" height=\"18\" overflow=\"visible\" width=\"30\">    <path d=\"M 8 -9 l -6 18 L 8 25\" fill=\"none\" style=\"stroke:rgb(208, 230, 250);stroke-width:2\" />  </svg></g><rect x=\"91.6497249007204%\" y=\"40\" height=\"20\" width=\"0.013290230396648894%\"      onmouseover=\"document.getElementById('_tp_uinfdupaumkolsbxzlgv_ind_15').style.textDecoration = 'underline';document.getElementById('_fs_uinfdupaumkolsbxzlgv_ind_15').style.opacity = 1;document.getElementById('_fb_uinfdupaumkolsbxzlgv_ind_15').style.opacity = 1;\"      onmouseout=\"document.getElementById('_tp_uinfdupaumkolsbxzlgv_ind_15').style.textDecoration = 'none';document.getElementById('_fs_uinfdupaumkolsbxzlgv_ind_15').style.opacity = 0;document.getElementById('_fb_uinfdupaumkolsbxzlgv_ind_15').style.opacity = 0;\" style=\"fill:rgb(0,0,0,0)\" /><rect x=\"91.66301513111705%\" y=\"40\" height=\"20\" width=\"0.0036502762816610357%\"      onmouseover=\"document.getElementById('_tp_uinfdupaumkolsbxzlgv_ind_19').style.textDecoration = 'underline';document.getElementById('_fs_uinfdupaumkolsbxzlgv_ind_19').style.opacity = 1;document.getElementById('_fb_uinfdupaumkolsbxzlgv_ind_19').style.opacity = 1;\"      onmouseout=\"document.getElementById('_tp_uinfdupaumkolsbxzlgv_ind_19').style.textDecoration = 'none';document.getElementById('_fs_uinfdupaumkolsbxzlgv_ind_19').style.opacity = 0;document.getElementById('_fb_uinfdupaumkolsbxzlgv_ind_19').style.opacity = 0;\" style=\"fill:rgb(0,0,0,0)\" /></svg><div align='center'><div style=\"color: rgb(120,120,120); font-size: 12px; margin-top: -15px;\">inputs</div><div style='display: inline; text-align: center;'\n",
              "    ><div style='display: none; color: #999; padding-top: 0px; font-size: 12px;'>-0.001</div\n",
              "        ><div id='_tp_uinfdupaumkolsbxzlgv_ind_0'\n",
              "            style='display: inline; background: rgba(54.70588235294111, 122.49411764705886, 213.40784313725496, 0.0); border-radius: 3px; padding: 0px'\n",
              "            onclick=\"\n",
              "            if (this.previousSibling.style.display == 'none') {\n",
              "                this.previousSibling.style.display = 'block';\n",
              "                this.parentNode.style.display = 'inline-block';\n",
              "            } else {\n",
              "                this.previousSibling.style.display = 'none';\n",
              "                this.parentNode.style.display = 'inline';\n",
              "            }\"\n",
              "            onmouseover=\"document.getElementById('_fb_uinfdupaumkolsbxzlgv_ind_0').style.opacity = 1; document.getElementById('_fs_uinfdupaumkolsbxzlgv_ind_0').style.opacity = 1;\"\n",
              "            onmouseout=\"document.getElementById('_fb_uinfdupaumkolsbxzlgv_ind_0').style.opacity = 0; document.getElementById('_fs_uinfdupaumkolsbxzlgv_ind_0').style.opacity = 0;\"\n",
              "        ></div></div><div style='display: inline; text-align: center;'\n",
              "    ><div style='display: none; color: #999; padding-top: 0px; font-size: 12px;'>-0.005</div\n",
              "        ><div id='_tp_uinfdupaumkolsbxzlgv_ind_1'\n",
              "            style='display: inline; background: rgba(30.0, 136.0, 229.0, 0.03042186571598325); border-radius: 3px; padding: 0px'\n",
              "            onclick=\"\n",
              "            if (this.previousSibling.style.display == 'none') {\n",
              "                this.previousSibling.style.display = 'block';\n",
              "                this.parentNode.style.display = 'inline-block';\n",
              "            } else {\n",
              "                this.previousSibling.style.display = 'none';\n",
              "                this.parentNode.style.display = 'inline';\n",
              "            }\"\n",
              "            onmouseover=\"document.getElementById('_fb_uinfdupaumkolsbxzlgv_ind_1').style.opacity = 1; document.getElementById('_fs_uinfdupaumkolsbxzlgv_ind_1').style.opacity = 1;\"\n",
              "            onmouseout=\"document.getElementById('_fb_uinfdupaumkolsbxzlgv_ind_1').style.opacity = 0; document.getElementById('_fs_uinfdupaumkolsbxzlgv_ind_1').style.opacity = 0;\"\n",
              "        > tmxrc_Aggregator_0</div></div><div style='display: inline; text-align: center;'\n",
              "    ><div style='display: none; color: #999; padding-top: 0px; font-size: 12px;'>0.003</div\n",
              "        ><div id='_tp_uinfdupaumkolsbxzlgv_ind_2'\n",
              "            style='display: inline; background: rgba(255.0, 13.0, 87.0, 0.014656367597544035); border-radius: 3px; padding: 0px'\n",
              "            onclick=\"\n",
              "            if (this.previousSibling.style.display == 'none') {\n",
              "                this.previousSibling.style.display = 'block';\n",
              "                this.parentNode.style.display = 'inline-block';\n",
              "            } else {\n",
              "                this.previousSibling.style.display = 'none';\n",
              "                this.parentNode.style.display = 'inline';\n",
              "            }\"\n",
              "            onmouseover=\"document.getElementById('_fb_uinfdupaumkolsbxzlgv_ind_2').style.opacity = 1; document.getElementById('_fs_uinfdupaumkolsbxzlgv_ind_2').style.opacity = 1;\"\n",
              "            onmouseout=\"document.getElementById('_fb_uinfdupaumkolsbxzlgv_ind_2').style.opacity = 0; document.getElementById('_fs_uinfdupaumkolsbxzlgv_ind_2').style.opacity = 0;\"\n",
              "        > tmxrc_ACC_EMAIL_LCL_AGE_GT_3MTHS_0</div></div><div style='display: inline; text-align: center;'\n",
              "    ><div style='display: none; color: #999; padding-top: 0px; font-size: 12px;'>0.005</div\n",
              "        ><div id='_tp_uinfdupaumkolsbxzlgv_ind_3'\n",
              "            style='display: inline; background: rgba(255.0, 13.0, 87.0, 0.030421865715983164); border-radius: 3px; padding: 0px'\n",
              "            onclick=\"\n",
              "            if (this.previousSibling.style.display == 'none') {\n",
              "                this.previousSibling.style.display = 'block';\n",
              "                this.parentNode.style.display = 'inline-block';\n",
              "            } else {\n",
              "                this.previousSibling.style.display = 'none';\n",
              "                this.parentNode.style.display = 'inline';\n",
              "            }\"\n",
              "            onmouseover=\"document.getElementById('_fb_uinfdupaumkolsbxzlgv_ind_3').style.opacity = 1; document.getElementById('_fs_uinfdupaumkolsbxzlgv_ind_3').style.opacity = 1;\"\n",
              "            onmouseout=\"document.getElementById('_fb_uinfdupaumkolsbxzlgv_ind_3').style.opacity = 0; document.getElementById('_fs_uinfdupaumkolsbxzlgv_ind_3').style.opacity = 0;\"\n",
              "        > tmxrc_ACC_LOGIN_SMART_ID_LCL_PAIR_AGE_GT_2MTHS_0</div></div><div style='display: inline; text-align: center;'\n",
              "    ><div style='display: none; color: #999; padding-top: 0px; font-size: 12px;'>0.018</div\n",
              "        ><div id='_tp_uinfdupaumkolsbxzlgv_ind_4'\n",
              "            style='display: inline; background: rgba(255.0, 13.0, 87.0, 0.10136660724896006); border-radius: 3px; padding: 0px'\n",
              "            onclick=\"\n",
              "            if (this.previousSibling.style.display == 'none') {\n",
              "                this.previousSibling.style.display = 'block';\n",
              "                this.parentNode.style.display = 'inline-block';\n",
              "            } else {\n",
              "                this.previousSibling.style.display = 'none';\n",
              "                this.parentNode.style.display = 'inline';\n",
              "            }\"\n",
              "            onmouseover=\"document.getElementById('_fb_uinfdupaumkolsbxzlgv_ind_4').style.opacity = 1; document.getElementById('_fs_uinfdupaumkolsbxzlgv_ind_4').style.opacity = 1;\"\n",
              "            onmouseout=\"document.getElementById('_fb_uinfdupaumkolsbxzlgv_ind_4').style.opacity = 0; document.getElementById('_fs_uinfdupaumkolsbxzlgv_ind_4').style.opacity = 0;\"\n",
              "        > tmxrc_ACC_LOGIN_SMART_ID_LCL_PAIR_AGE_GT_MTH_0</div></div><div style='display: inline; text-align: center;'\n",
              "    ><div style='display: none; color: #999; padding-top: 0px; font-size: 12px;'>0.033</div\n",
              "        ><div id='_tp_uinfdupaumkolsbxzlgv_ind_5'\n",
              "            style='display: inline; background: rgba(255.0, 13.0, 87.0, 0.1959595959595959); border-radius: 3px; padding: 0px'\n",
              "            onclick=\"\n",
              "            if (this.previousSibling.style.display == 'none') {\n",
              "                this.previousSibling.style.display = 'block';\n",
              "                this.parentNode.style.display = 'inline-block';\n",
              "            } else {\n",
              "                this.previousSibling.style.display = 'none';\n",
              "                this.parentNode.style.display = 'inline';\n",
              "            }\"\n",
              "            onmouseover=\"document.getElementById('_fb_uinfdupaumkolsbxzlgv_ind_5').style.opacity = 1; document.getElementById('_fs_uinfdupaumkolsbxzlgv_ind_5').style.opacity = 1;\"\n",
              "            onmouseout=\"document.getElementById('_fb_uinfdupaumkolsbxzlgv_ind_5').style.opacity = 0; document.getElementById('_fs_uinfdupaumkolsbxzlgv_ind_5').style.opacity = 0;\"\n",
              "        > tmxrc_SMART_ID_LCL_AGE_GT_3MTHS_0</div></div><div style='display: inline; text-align: center;'\n",
              "    ><div style='display: none; color: #999; padding-top: 0px; font-size: 12px;'>0.003 / 2</div\n",
              "        ><div id='_tp_uinfdupaumkolsbxzlgv_ind_6'\n",
              "            style='display: inline; background: rgba(255.0, 13.0, 87.0, 0.014656367597544035); border-radius: 3px; padding: 0px'\n",
              "            onclick=\"\n",
              "            if (this.previousSibling.style.display == 'none') {\n",
              "                this.previousSibling.style.display = 'block';\n",
              "                this.parentNode.style.display = 'inline-block';\n",
              "            } else {\n",
              "                this.previousSibling.style.display = 'none';\n",
              "                this.parentNode.style.display = 'inline';\n",
              "            }\"\n",
              "            onmouseover=\"document.getElementById('_fb_uinfdupaumkolsbxzlgv_ind_6').style.opacity = 1; document.getElementById('_fs_uinfdupaumkolsbxzlgv_ind_6').style.opacity = 1;\"\n",
              "            onmouseout=\"document.getElementById('_fb_uinfdupaumkolsbxzlgv_ind_6').style.opacity = 0; document.getElementById('_fs_uinfdupaumkolsbxzlgv_ind_6').style.opacity = 0;\"\n",
              "        > tmxrc_ACC_EMAIL_SMART_ID_LCL_PAIR_AGE_GT_3MTHS_0 tmxrc_ACC_EMAIL_LCL_AGE_GT_MTH_0</div></div><div style='display: inline; text-align: center;'\n",
              "    ><div style='display: none; color: #999; padding-top: 0px; font-size: 12px;'>0.001</div\n",
              "        ><div id='_tp_uinfdupaumkolsbxzlgv_ind_7'\n",
              "            style='display: inline; background: rgba(255.0, 13.0, 87.0, 0.00677361853832443); border-radius: 3px; padding: 0px'\n",
              "            onclick=\"\n",
              "            if (this.previousSibling.style.display == 'none') {\n",
              "                this.previousSibling.style.display = 'block';\n",
              "                this.parentNode.style.display = 'inline-block';\n",
              "            } else {\n",
              "                this.previousSibling.style.display = 'none';\n",
              "                this.parentNode.style.display = 'inline';\n",
              "            }\"\n",
              "            onmouseover=\"document.getElementById('_fb_uinfdupaumkolsbxzlgv_ind_7').style.opacity = 1; document.getElementById('_fs_uinfdupaumkolsbxzlgv_ind_7').style.opacity = 1;\"\n",
              "            onmouseout=\"document.getElementById('_fb_uinfdupaumkolsbxzlgv_ind_7').style.opacity = 0; document.getElementById('_fs_uinfdupaumkolsbxzlgv_ind_7').style.opacity = 0;\"\n",
              "        > tmxrc_AGENT_PUBLICKEY_HASH_LCL_AGE_GT_3MTHS_0</div></div><div style='display: inline; text-align: center;'\n",
              "    ><div style='display: none; color: #999; padding-top: 0px; font-size: 12px;'>0.016</div\n",
              "        ><div id='_tp_uinfdupaumkolsbxzlgv_ind_8'\n",
              "            style='display: inline; background: rgba(255.0, 13.0, 87.0, 0.09348385818974037); border-radius: 3px; padding: 0px'\n",
              "            onclick=\"\n",
              "            if (this.previousSibling.style.display == 'none') {\n",
              "                this.previousSibling.style.display = 'block';\n",
              "                this.parentNode.style.display = 'inline-block';\n",
              "            } else {\n",
              "                this.previousSibling.style.display = 'none';\n",
              "                this.parentNode.style.display = 'inline';\n",
              "            }\"\n",
              "            onmouseover=\"document.getElementById('_fb_uinfdupaumkolsbxzlgv_ind_8').style.opacity = 1; document.getElementById('_fs_uinfdupaumkolsbxzlgv_ind_8').style.opacity = 1;\"\n",
              "            onmouseout=\"document.getElementById('_fb_uinfdupaumkolsbxzlgv_ind_8').style.opacity = 0; document.getElementById('_fs_uinfdupaumkolsbxzlgv_ind_8').style.opacity = 0;\"\n",
              "        > tmxrc_ACC_LOGIN_SMART_ID_LCL_PAIR_AGE_GT_2WKS_0</div></div><div style='display: inline; text-align: center;'\n",
              "    ><div style='display: none; color: #999; padding-top: 0px; font-size: 12px;'>0.001 / 2</div\n",
              "        ><div id='_tp_uinfdupaumkolsbxzlgv_ind_9'\n",
              "            style='display: inline; background: rgba(230.2941176470614, 26.505882352939775, 102.59215686274348, 0.0); border-radius: 3px; padding: 0px'\n",
              "            onclick=\"\n",
              "            if (this.previousSibling.style.display == 'none') {\n",
              "                this.previousSibling.style.display = 'block';\n",
              "                this.parentNode.style.display = 'inline-block';\n",
              "            } else {\n",
              "                this.previousSibling.style.display = 'none';\n",
              "                this.parentNode.style.display = 'inline';\n",
              "            }\"\n",
              "            onmouseover=\"document.getElementById('_fb_uinfdupaumkolsbxzlgv_ind_9').style.opacity = 1; document.getElementById('_fs_uinfdupaumkolsbxzlgv_ind_9').style.opacity = 1;\"\n",
              "            onmouseout=\"document.getElementById('_fb_uinfdupaumkolsbxzlgv_ind_9').style.opacity = 0; document.getElementById('_fs_uinfdupaumkolsbxzlgv_ind_9').style.opacity = 0;\"\n",
              "        > tmxrc_AGENT_PUBLICKEY_HASH_LCL_AGE_GT_MTH_0 tmxrc_ACC_EMAIL_SMART_ID_LCL_PAIR_AGE_GT_2MTHS_0</div></div><div style='display: inline; text-align: center;'\n",
              "    ><div style='display: none; color: #999; padding-top: 0px; font-size: 12px;'>0.003</div\n",
              "        ><div id='_tp_uinfdupaumkolsbxzlgv_ind_10'\n",
              "            style='display: inline; background: rgba(255.0, 13.0, 87.0, 0.014656367597544035); border-radius: 3px; padding: 0px'\n",
              "            onclick=\"\n",
              "            if (this.previousSibling.style.display == 'none') {\n",
              "                this.previousSibling.style.display = 'block';\n",
              "                this.parentNode.style.display = 'inline-block';\n",
              "            } else {\n",
              "                this.previousSibling.style.display = 'none';\n",
              "                this.parentNode.style.display = 'inline';\n",
              "            }\"\n",
              "            onmouseover=\"document.getElementById('_fb_uinfdupaumkolsbxzlgv_ind_10').style.opacity = 1; document.getElementById('_fs_uinfdupaumkolsbxzlgv_ind_10').style.opacity = 1;\"\n",
              "            onmouseout=\"document.getElementById('_fb_uinfdupaumkolsbxzlgv_ind_10').style.opacity = 0; document.getElementById('_fs_uinfdupaumkolsbxzlgv_ind_10').style.opacity = 0;\"\n",
              "        > tmxrc_ACC_NAME_LCL_AGE_GT_3MTHS_0</div></div><div style='display: inline; text-align: center;'\n",
              "    ><div style='display: none; color: #999; padding-top: 0px; font-size: 12px;'>0.002</div\n",
              "        ><div id='_tp_uinfdupaumkolsbxzlgv_ind_11'\n",
              "            style='display: inline; background: rgba(255.0, 13.0, 87.0, 0.00677361853832443); border-radius: 3px; padding: 0px'\n",
              "            onclick=\"\n",
              "            if (this.previousSibling.style.display == 'none') {\n",
              "                this.previousSibling.style.display = 'block';\n",
              "                this.parentNode.style.display = 'inline-block';\n",
              "            } else {\n",
              "                this.previousSibling.style.display = 'none';\n",
              "                this.parentNode.style.display = 'inline';\n",
              "            }\"\n",
              "            onmouseover=\"document.getElementById('_fb_uinfdupaumkolsbxzlgv_ind_11').style.opacity = 1; document.getElementById('_fs_uinfdupaumkolsbxzlgv_ind_11').style.opacity = 1;\"\n",
              "            onmouseout=\"document.getElementById('_fb_uinfdupaumkolsbxzlgv_ind_11').style.opacity = 0; document.getElementById('_fs_uinfdupaumkolsbxzlgv_ind_11').style.opacity = 0;\"\n",
              "        > tmxrc_ACC_EMAIL_SMART_ID_GBL_PAIR_AGE_GT_2MTHS_0</div></div><div style='display: inline; text-align: center;'\n",
              "    ><div style='display: none; color: #999; padding-top: 0px; font-size: 12px;'>0.004</div\n",
              "        ><div id='_tp_uinfdupaumkolsbxzlgv_ind_12'\n",
              "            style='display: inline; background: rgba(255.0, 13.0, 87.0, 0.02253911665676371); border-radius: 3px; padding: 0px'\n",
              "            onclick=\"\n",
              "            if (this.previousSibling.style.display == 'none') {\n",
              "                this.previousSibling.style.display = 'block';\n",
              "                this.parentNode.style.display = 'inline-block';\n",
              "            } else {\n",
              "                this.previousSibling.style.display = 'none';\n",
              "                this.parentNode.style.display = 'inline';\n",
              "            }\"\n",
              "            onmouseover=\"document.getElementById('_fb_uinfdupaumkolsbxzlgv_ind_12').style.opacity = 1; document.getElementById('_fs_uinfdupaumkolsbxzlgv_ind_12').style.opacity = 1;\"\n",
              "            onmouseout=\"document.getElementById('_fb_uinfdupaumkolsbxzlgv_ind_12').style.opacity = 0; document.getElementById('_fs_uinfdupaumkolsbxzlgv_ind_12').style.opacity = 0;\"\n",
              "        > tmxrc_SMART_ID_LCL_AGE_GT_2WKS_0</div></div><div style='display: inline; text-align: center;'\n",
              "    ><div style='display: none; color: #999; padding-top: 0px; font-size: 12px;'>0.162</div\n",
              "        ><div id='_tp_uinfdupaumkolsbxzlgv_ind_13'\n",
              "            style='display: inline; background: rgba(255.0, 13.0, 87.0, 1.0); border-radius: 3px; padding: 0px'\n",
              "            onclick=\"\n",
              "            if (this.previousSibling.style.display == 'none') {\n",
              "                this.previousSibling.style.display = 'block';\n",
              "                this.parentNode.style.display = 'inline-block';\n",
              "            } else {\n",
              "                this.previousSibling.style.display = 'none';\n",
              "                this.parentNode.style.display = 'inline';\n",
              "            }\"\n",
              "            onmouseover=\"document.getElementById('_fb_uinfdupaumkolsbxzlgv_ind_13').style.opacity = 1; document.getElementById('_fs_uinfdupaumkolsbxzlgv_ind_13').style.opacity = 1;\"\n",
              "            onmouseout=\"document.getElementById('_fb_uinfdupaumkolsbxzlgv_ind_13').style.opacity = 0; document.getElementById('_fs_uinfdupaumkolsbxzlgv_ind_13').style.opacity = 0;\"\n",
              "        > tmxrc_DIG_ID_GBL_AGE_GT_3MTHS_0</div></div><div style='display: inline; text-align: center;'\n",
              "    ><div style='display: none; color: #999; padding-top: 0px; font-size: 12px;'>0.078</div\n",
              "        ><div id='_tp_uinfdupaumkolsbxzlgv_ind_14'\n",
              "            style='display: inline; background: rgba(255.0, 13.0, 87.0, 0.4797385620915033); border-radius: 3px; padding: 0px'\n",
              "            onclick=\"\n",
              "            if (this.previousSibling.style.display == 'none') {\n",
              "                this.previousSibling.style.display = 'block';\n",
              "                this.parentNode.style.display = 'inline-block';\n",
              "            } else {\n",
              "                this.previousSibling.style.display = 'none';\n",
              "                this.parentNode.style.display = 'inline';\n",
              "            }\"\n",
              "            onmouseover=\"document.getElementById('_fb_uinfdupaumkolsbxzlgv_ind_14').style.opacity = 1; document.getElementById('_fs_uinfdupaumkolsbxzlgv_ind_14').style.opacity = 1;\"\n",
              "            onmouseout=\"document.getElementById('_fb_uinfdupaumkolsbxzlgv_ind_14').style.opacity = 0; document.getElementById('_fs_uinfdupaumkolsbxzlgv_ind_14').style.opacity = 0;\"\n",
              "        > tmxrc_DIG_ID_LCL_AGE_GT_3MTHS_0</div></div><div style='display: inline; text-align: center;'\n",
              "    ><div style='display: none; color: #999; padding-top: 0px; font-size: 12px;'>-0.0</div\n",
              "        ><div id='_tp_uinfdupaumkolsbxzlgv_ind_15'\n",
              "            style='display: inline; background: rgba(54.70588235294111, 122.49411764705886, 213.40784313725496, 0.0); border-radius: 3px; padding: 0px'\n",
              "            onclick=\"\n",
              "            if (this.previousSibling.style.display == 'none') {\n",
              "                this.previousSibling.style.display = 'block';\n",
              "                this.parentNode.style.display = 'inline-block';\n",
              "            } else {\n",
              "                this.previousSibling.style.display = 'none';\n",
              "                this.parentNode.style.display = 'inline';\n",
              "            }\"\n",
              "            onmouseover=\"document.getElementById('_fb_uinfdupaumkolsbxzlgv_ind_15').style.opacity = 1; document.getElementById('_fs_uinfdupaumkolsbxzlgv_ind_15').style.opacity = 1;\"\n",
              "            onmouseout=\"document.getElementById('_fb_uinfdupaumkolsbxzlgv_ind_15').style.opacity = 0; document.getElementById('_fs_uinfdupaumkolsbxzlgv_ind_15').style.opacity = 0;\"\n",
              "        > tmxrc_DIG_ID_LCL_AGE_LT_DY_0</div></div><div style='display: inline; text-align: center;'\n",
              "    ><div style='display: none; color: #999; padding-top: 0px; font-size: 12px;'>-0.003 / 2</div\n",
              "        ><div id='_tp_uinfdupaumkolsbxzlgv_ind_16'\n",
              "            style='display: inline; background: rgba(30.0, 136.0, 229.0, 0.006773618538324436); border-radius: 3px; padding: 0px'\n",
              "            onclick=\"\n",
              "            if (this.previousSibling.style.display == 'none') {\n",
              "                this.previousSibling.style.display = 'block';\n",
              "                this.parentNode.style.display = 'inline-block';\n",
              "            } else {\n",
              "                this.previousSibling.style.display = 'none';\n",
              "                this.parentNode.style.display = 'inline';\n",
              "            }\"\n",
              "            onmouseover=\"document.getElementById('_fb_uinfdupaumkolsbxzlgv_ind_16').style.opacity = 1; document.getElementById('_fs_uinfdupaumkolsbxzlgv_ind_16').style.opacity = 1;\"\n",
              "            onmouseout=\"document.getElementById('_fb_uinfdupaumkolsbxzlgv_ind_16').style.opacity = 0; document.getElementById('_fs_uinfdupaumkolsbxzlgv_ind_16').style.opacity = 0;\"\n",
              "        > tmxrc_AGENT_PUBLICKEY_HASH_LCL_AGE_LT_DY_0 tmxrc_SMART_ID_GBL_AGE_LT_DY_0</div></div><div style='display: inline; text-align: center;'\n",
              "    ><div style='display: none; color: #999; padding-top: 0px; font-size: 12px;'>-0.004 / 2</div\n",
              "        ><div id='_tp_uinfdupaumkolsbxzlgv_ind_17'\n",
              "            style='display: inline; background: rgba(30.0, 136.0, 229.0, 0.014656367597544028); border-radius: 3px; padding: 0px'\n",
              "            onclick=\"\n",
              "            if (this.previousSibling.style.display == 'none') {\n",
              "                this.previousSibling.style.display = 'block';\n",
              "                this.parentNode.style.display = 'inline-block';\n",
              "            } else {\n",
              "                this.previousSibling.style.display = 'none';\n",
              "                this.parentNode.style.display = 'inline';\n",
              "            }\"\n",
              "            onmouseover=\"document.getElementById('_fb_uinfdupaumkolsbxzlgv_ind_17').style.opacity = 1; document.getElementById('_fs_uinfdupaumkolsbxzlgv_ind_17').style.opacity = 1;\"\n",
              "            onmouseout=\"document.getElementById('_fb_uinfdupaumkolsbxzlgv_ind_17').style.opacity = 0; document.getElementById('_fs_uinfdupaumkolsbxzlgv_ind_17').style.opacity = 0;\"\n",
              "        > tmxrc_ACC_EMAIL_SMART_ID_LCL_PAIR_AGE_LT_DY_0 tmxrc_ACC_LOGIN_EXACT_ID_LCL_PAIR_AGE_LT_DY_0</div></div><div style='display: inline; text-align: center;'\n",
              "    ><div style='display: none; color: #999; padding-top: 0px; font-size: 12px;'>0.009</div\n",
              "        ><div id='_tp_uinfdupaumkolsbxzlgv_ind_18'\n",
              "            style='display: inline; background: rgba(255.0, 13.0, 87.0, 0.04618736383442265); border-radius: 3px; padding: 0px'\n",
              "            onclick=\"\n",
              "            if (this.previousSibling.style.display == 'none') {\n",
              "                this.previousSibling.style.display = 'block';\n",
              "                this.parentNode.style.display = 'inline-block';\n",
              "            } else {\n",
              "                this.previousSibling.style.display = 'none';\n",
              "                this.parentNode.style.display = 'inline';\n",
              "            }\"\n",
              "            onmouseover=\"document.getElementById('_fb_uinfdupaumkolsbxzlgv_ind_18').style.opacity = 1; document.getElementById('_fs_uinfdupaumkolsbxzlgv_ind_18').style.opacity = 1;\"\n",
              "            onmouseout=\"document.getElementById('_fb_uinfdupaumkolsbxzlgv_ind_18').style.opacity = 0; document.getElementById('_fs_uinfdupaumkolsbxzlgv_ind_18').style.opacity = 0;\"\n",
              "        > tmxrc_ExactID_Vel_per_Hour_High_0</div></div><div style='display: inline; text-align: center;'\n",
              "    ><div style='display: none; color: #999; padding-top: 0px; font-size: 12px;'>-0.0</div\n",
              "        ><div id='_tp_uinfdupaumkolsbxzlgv_ind_19'\n",
              "            style='display: inline; background: rgba(54.70588235294111, 122.49411764705886, 213.40784313725496, 0.0); border-radius: 3px; padding: 0px'\n",
              "            onclick=\"\n",
              "            if (this.previousSibling.style.display == 'none') {\n",
              "                this.previousSibling.style.display = 'block';\n",
              "                this.parentNode.style.display = 'inline-block';\n",
              "            } else {\n",
              "                this.previousSibling.style.display = 'none';\n",
              "                this.parentNode.style.display = 'inline';\n",
              "            }\"\n",
              "            onmouseover=\"document.getElementById('_fb_uinfdupaumkolsbxzlgv_ind_19').style.opacity = 1; document.getElementById('_fs_uinfdupaumkolsbxzlgv_ind_19').style.opacity = 1;\"\n",
              "            onmouseout=\"document.getElementById('_fb_uinfdupaumkolsbxzlgv_ind_19').style.opacity = 0; document.getElementById('_fs_uinfdupaumkolsbxzlgv_ind_19').style.opacity = 0;\"\n",
              "        > tmxrc_ACC_LOGIN_LCL_AGE_LT_HR_0</div></div><div style='display: inline; text-align: center;'\n",
              "    ><div style='display: none; color: #999; padding-top: 0px; font-size: 12px;'>-0.004</div\n",
              "        ><div id='_tp_uinfdupaumkolsbxzlgv_ind_20'\n",
              "            style='display: inline; background: rgba(30.0, 136.0, 229.0, 0.022539116656763607); border-radius: 3px; padding: 0px'\n",
              "            onclick=\"\n",
              "            if (this.previousSibling.style.display == 'none') {\n",
              "                this.previousSibling.style.display = 'block';\n",
              "                this.parentNode.style.display = 'inline-block';\n",
              "            } else {\n",
              "                this.previousSibling.style.display = 'none';\n",
              "                this.parentNode.style.display = 'inline';\n",
              "            }\"\n",
              "            onmouseover=\"document.getElementById('_fb_uinfdupaumkolsbxzlgv_ind_20').style.opacity = 1; document.getElementById('_fs_uinfdupaumkolsbxzlgv_ind_20').style.opacity = 1;\"\n",
              "            onmouseout=\"document.getElementById('_fb_uinfdupaumkolsbxzlgv_ind_20').style.opacity = 0; document.getElementById('_fs_uinfdupaumkolsbxzlgv_ind_20').style.opacity = 0;\"\n",
              "        > tmxrc_ACC_EMAIL_SMART_ID_LCL_PAIR_AGE_LT_HR_0</div></div><div style='display: inline; text-align: center;'\n",
              "    ><div style='display: none; color: #999; padding-top: 0px; font-size: 12px;'>-0.004</div\n",
              "        ><div id='_tp_uinfdupaumkolsbxzlgv_ind_21'\n",
              "            style='display: inline; background: rgba(30.0, 136.0, 229.0, 0.014656367597544028); border-radius: 3px; padding: 0px'\n",
              "            onclick=\"\n",
              "            if (this.previousSibling.style.display == 'none') {\n",
              "                this.previousSibling.style.display = 'block';\n",
              "                this.parentNode.style.display = 'inline-block';\n",
              "            } else {\n",
              "                this.previousSibling.style.display = 'none';\n",
              "                this.parentNode.style.display = 'inline';\n",
              "            }\"\n",
              "            onmouseover=\"document.getElementById('_fb_uinfdupaumkolsbxzlgv_ind_21').style.opacity = 1; document.getElementById('_fs_uinfdupaumkolsbxzlgv_ind_21').style.opacity = 1;\"\n",
              "            onmouseout=\"document.getElementById('_fb_uinfdupaumkolsbxzlgv_ind_21').style.opacity = 0; document.getElementById('_fs_uinfdupaumkolsbxzlgv_ind_21').style.opacity = 0;\"\n",
              "        > tmxrc_ExactID_Dist_per_Hour_High_0</div></div><div style='display: inline; text-align: center;'\n",
              "    ><div style='display: none; color: #999; padding-top: 0px; font-size: 12px;'>-0.004</div\n",
              "        ><div id='_tp_uinfdupaumkolsbxzlgv_ind_22'\n",
              "            style='display: inline; background: rgba(30.0, 136.0, 229.0, 0.022539116656763607); border-radius: 3px; padding: 0px'\n",
              "            onclick=\"\n",
              "            if (this.previousSibling.style.display == 'none') {\n",
              "                this.previousSibling.style.display = 'block';\n",
              "                this.parentNode.style.display = 'inline-block';\n",
              "            } else {\n",
              "                this.previousSibling.style.display = 'none';\n",
              "                this.parentNode.style.display = 'inline';\n",
              "            }\"\n",
              "            onmouseover=\"document.getElementById('_fb_uinfdupaumkolsbxzlgv_ind_22').style.opacity = 1; document.getElementById('_fs_uinfdupaumkolsbxzlgv_ind_22').style.opacity = 1;\"\n",
              "            onmouseout=\"document.getElementById('_fb_uinfdupaumkolsbxzlgv_ind_22').style.opacity = 0; document.getElementById('_fs_uinfdupaumkolsbxzlgv_ind_22').style.opacity = 0;\"\n",
              "        > tmxrc_Login_Dist_per_Day_High_0</div></div><div style='display: inline; text-align: center;'\n",
              "    ><div style='display: none; color: #999; padding-top: 0px; font-size: 12px;'>-0.006</div\n",
              "        ><div id='_tp_uinfdupaumkolsbxzlgv_ind_23'\n",
              "            style='display: inline; background: rgba(30.0, 136.0, 229.0, 0.03830461477520309); border-radius: 3px; padding: 0px'\n",
              "            onclick=\"\n",
              "            if (this.previousSibling.style.display == 'none') {\n",
              "                this.previousSibling.style.display = 'block';\n",
              "                this.parentNode.style.display = 'inline-block';\n",
              "            } else {\n",
              "                this.previousSibling.style.display = 'none';\n",
              "                this.parentNode.style.display = 'inline';\n",
              "            }\"\n",
              "            onmouseover=\"document.getElementById('_fb_uinfdupaumkolsbxzlgv_ind_23').style.opacity = 1; document.getElementById('_fs_uinfdupaumkolsbxzlgv_ind_23').style.opacity = 1;\"\n",
              "            onmouseout=\"document.getElementById('_fb_uinfdupaumkolsbxzlgv_ind_23').style.opacity = 0; document.getElementById('_fs_uinfdupaumkolsbxzlgv_ind_23').style.opacity = 0;\"\n",
              "        > tmxrc_TZ_Geo_Mismatch_0</div></div><div style='display: inline; text-align: center;'\n",
              "    ><div style='display: none; color: #999; padding-top: 0px; font-size: 12px;'>-0.005</div\n",
              "        ><div id='_tp_uinfdupaumkolsbxzlgv_ind_24'\n",
              "            style='display: inline; background: rgba(30.0, 136.0, 229.0, 0.022539116656763607); border-radius: 3px; padding: 0px'\n",
              "            onclick=\"\n",
              "            if (this.previousSibling.style.display == 'none') {\n",
              "                this.previousSibling.style.display = 'block';\n",
              "                this.parentNode.style.display = 'inline-block';\n",
              "            } else {\n",
              "                this.previousSibling.style.display = 'none';\n",
              "                this.parentNode.style.display = 'inline';\n",
              "            }\"\n",
              "            onmouseover=\"document.getElementById('_fb_uinfdupaumkolsbxzlgv_ind_24').style.opacity = 1; document.getElementById('_fs_uinfdupaumkolsbxzlgv_ind_24').style.opacity = 1;\"\n",
              "            onmouseout=\"document.getElementById('_fb_uinfdupaumkolsbxzlgv_ind_24').style.opacity = 0; document.getElementById('_fs_uinfdupaumkolsbxzlgv_ind_24').style.opacity = 0;\"\n",
              "        > tmxrc_Geo_Lang_Mismatch_0</div></div><div style='display: inline; text-align: center;'\n",
              "    ><div style='display: none; color: #999; padding-top: 0px; font-size: 12px;'>-0.038</div\n",
              "        ><div id='_tp_uinfdupaumkolsbxzlgv_ind_25'\n",
              "            style='display: inline; background: rgba(30.0, 136.0, 229.0, 0.23537334125569417); border-radius: 3px; padding: 0px'\n",
              "            onclick=\"\n",
              "            if (this.previousSibling.style.display == 'none') {\n",
              "                this.previousSibling.style.display = 'block';\n",
              "                this.parentNode.style.display = 'inline-block';\n",
              "            } else {\n",
              "                this.previousSibling.style.display = 'none';\n",
              "                this.parentNode.style.display = 'inline';\n",
              "            }\"\n",
              "            onmouseover=\"document.getElementById('_fb_uinfdupaumkolsbxzlgv_ind_25').style.opacity = 1; document.getElementById('_fs_uinfdupaumkolsbxzlgv_ind_25').style.opacity = 1;\"\n",
              "            onmouseout=\"document.getElementById('_fb_uinfdupaumkolsbxzlgv_ind_25').style.opacity = 0; document.getElementById('_fs_uinfdupaumkolsbxzlgv_ind_25').style.opacity = 0;\"\n",
              "        > tmxrc_Rejected_TrueIP_Month_0</div></div><div style='display: inline; text-align: center;'\n",
              "    ><div style='display: none; color: #999; padding-top: 0px; font-size: 12px;'>-0.011</div\n",
              "        ><div id='_tp_uinfdupaumkolsbxzlgv_ind_26'\n",
              "            style='display: inline; background: rgba(30.0, 136.0, 229.0, 0.06195286195286191); border-radius: 3px; padding: 0px'\n",
              "            onclick=\"\n",
              "            if (this.previousSibling.style.display == 'none') {\n",
              "                this.previousSibling.style.display = 'block';\n",
              "                this.parentNode.style.display = 'inline-block';\n",
              "            } else {\n",
              "                this.previousSibling.style.display = 'none';\n",
              "                this.parentNode.style.display = 'inline';\n",
              "            }\"\n",
              "            onmouseover=\"document.getElementById('_fb_uinfdupaumkolsbxzlgv_ind_26').style.opacity = 1; document.getElementById('_fs_uinfdupaumkolsbxzlgv_ind_26').style.opacity = 1;\"\n",
              "            onmouseout=\"document.getElementById('_fb_uinfdupaumkolsbxzlgv_ind_26').style.opacity = 0; document.getElementById('_fs_uinfdupaumkolsbxzlgv_ind_26').style.opacity = 0;\"\n",
              "        > tmxrc_Possible_VPN_or_Tunnel_0</div></div><div style='display: inline; text-align: center;'\n",
              "    ><div style='display: none; color: #999; padding-top: 0px; font-size: 12px;'>0.089</div\n",
              "        ><div id='_tp_uinfdupaumkolsbxzlgv_ind_27'\n",
              "            style='display: inline; background: rgba(255.0, 13.0, 87.0, 0.55068330362448); border-radius: 3px; padding: 0px'\n",
              "            onclick=\"\n",
              "            if (this.previousSibling.style.display == 'none') {\n",
              "                this.previousSibling.style.display = 'block';\n",
              "                this.parentNode.style.display = 'inline-block';\n",
              "            } else {\n",
              "                this.previousSibling.style.display = 'none';\n",
              "                this.parentNode.style.display = 'inline';\n",
              "            }\"\n",
              "            onmouseover=\"document.getElementById('_fb_uinfdupaumkolsbxzlgv_ind_27').style.opacity = 1; document.getElementById('_fs_uinfdupaumkolsbxzlgv_ind_27').style.opacity = 1;\"\n",
              "            onmouseout=\"document.getElementById('_fb_uinfdupaumkolsbxzlgv_ind_27').style.opacity = 0; document.getElementById('_fs_uinfdupaumkolsbxzlgv_ind_27').style.opacity = 0;\"\n",
              "        > tmxrc_ACC_LOGIN_SMART_ID_LCL_PAIR_LAST_TXN_1MIN_1</div></div><div style='display: inline; text-align: center;'\n",
              "    ><div style='display: none; color: #999; padding-top: 0px; font-size: 12px;'>-0.002</div\n",
              "        ><div id='_tp_uinfdupaumkolsbxzlgv_ind_28'\n",
              "            style='display: inline; background: rgba(30.0, 136.0, 229.0, 0.006773618538324436); border-radius: 3px; padding: 0px'\n",
              "            onclick=\"\n",
              "            if (this.previousSibling.style.display == 'none') {\n",
              "                this.previousSibling.style.display = 'block';\n",
              "                this.parentNode.style.display = 'inline-block';\n",
              "            } else {\n",
              "                this.previousSibling.style.display = 'none';\n",
              "                this.parentNode.style.display = 'inline';\n",
              "            }\"\n",
              "            onmouseover=\"document.getElementById('_fb_uinfdupaumkolsbxzlgv_ind_28').style.opacity = 1; document.getElementById('_fs_uinfdupaumkolsbxzlgv_ind_28').style.opacity = 1;\"\n",
              "            onmouseout=\"document.getElementById('_fb_uinfdupaumkolsbxzlgv_ind_28').style.opacity = 0; document.getElementById('_fs_uinfdupaumkolsbxzlgv_ind_28').style.opacity = 0;\"\n",
              "        > tmxrc_Email_Dist_per_Hour_High_0</div></div><div style='display: inline; text-align: center;'\n",
              "    ><div style='display: none; color: #999; padding-top: 0px; font-size: 12px;'>-0.002</div\n",
              "        ><div id='_tp_uinfdupaumkolsbxzlgv_ind_29'\n",
              "            style='display: inline; background: rgba(30.0, 136.0, 229.0, 0.006773618538324436); border-radius: 3px; padding: 0px'\n",
              "            onclick=\"\n",
              "            if (this.previousSibling.style.display == 'none') {\n",
              "                this.previousSibling.style.display = 'block';\n",
              "                this.parentNode.style.display = 'inline-block';\n",
              "            } else {\n",
              "                this.previousSibling.style.display = 'none';\n",
              "                this.parentNode.style.display = 'inline';\n",
              "            }\"\n",
              "            onmouseover=\"document.getElementById('_fb_uinfdupaumkolsbxzlgv_ind_29').style.opacity = 1; document.getElementById('_fs_uinfdupaumkolsbxzlgv_ind_29').style.opacity = 1;\"\n",
              "            onmouseout=\"document.getElementById('_fb_uinfdupaumkolsbxzlgv_ind_29').style.opacity = 0; document.getElementById('_fs_uinfdupaumkolsbxzlgv_ind_29').style.opacity = 0;\"\n",
              "        > tmxrc_Rejected_InputIP_Year_0</div></div><div style='display: inline; text-align: center;'\n",
              "    ><div style='display: none; color: #999; padding-top: 0px; font-size: 12px;'>-0.009</div\n",
              "        ><div id='_tp_uinfdupaumkolsbxzlgv_ind_30'\n",
              "            style='display: inline; background: rgba(30.0, 136.0, 229.0, 0.04618736383442258); border-radius: 3px; padding: 0px'\n",
              "            onclick=\"\n",
              "            if (this.previousSibling.style.display == 'none') {\n",
              "                this.previousSibling.style.display = 'block';\n",
              "                this.parentNode.style.display = 'inline-block';\n",
              "            } else {\n",
              "                this.previousSibling.style.display = 'none';\n",
              "                this.parentNode.style.display = 'inline';\n",
              "            }\"\n",
              "            onmouseover=\"document.getElementById('_fb_uinfdupaumkolsbxzlgv_ind_30').style.opacity = 1; document.getElementById('_fs_uinfdupaumkolsbxzlgv_ind_30').style.opacity = 1;\"\n",
              "            onmouseout=\"document.getElementById('_fb_uinfdupaumkolsbxzlgv_ind_30').style.opacity = 0; document.getElementById('_fs_uinfdupaumkolsbxzlgv_ind_30').style.opacity = 0;\"\n",
              "        > tmxrc_Rejected_InputIP_Month_0</div></div><div style='display: inline; text-align: center;'\n",
              "    ><div style='display: none; color: #999; padding-top: 0px; font-size: 12px;'>-0.013</div\n",
              "        ><div id='_tp_uinfdupaumkolsbxzlgv_ind_31'\n",
              "            style='display: inline; background: rgba(30.0, 136.0, 229.0, 0.07771836007130117); border-radius: 3px; padding: 0px'\n",
              "            onclick=\"\n",
              "            if (this.previousSibling.style.display == 'none') {\n",
              "                this.previousSibling.style.display = 'block';\n",
              "                this.parentNode.style.display = 'inline-block';\n",
              "            } else {\n",
              "                this.previousSibling.style.display = 'none';\n",
              "                this.parentNode.style.display = 'inline';\n",
              "            }\"\n",
              "            onmouseover=\"document.getElementById('_fb_uinfdupaumkolsbxzlgv_ind_31').style.opacity = 1; document.getElementById('_fs_uinfdupaumkolsbxzlgv_ind_31').style.opacity = 1;\"\n",
              "            onmouseout=\"document.getElementById('_fb_uinfdupaumkolsbxzlgv_ind_31').style.opacity = 0; document.getElementById('_fs_uinfdupaumkolsbxzlgv_ind_31').style.opacity = 0;\"\n",
              "        > tmxrc_Rejected_Email_Month_0</div></div><div style='display: inline; text-align: center;'\n",
              "    ><div style='display: none; color: #999; padding-top: 0px; font-size: 12px;'>-0.003</div\n",
              "        ><div id='_tp_uinfdupaumkolsbxzlgv_ind_32'\n",
              "            style='display: inline; background: rgba(30.0, 136.0, 229.0, 0.014656367597544028); border-radius: 3px; padding: 0px'\n",
              "            onclick=\"\n",
              "            if (this.previousSibling.style.display == 'none') {\n",
              "                this.previousSibling.style.display = 'block';\n",
              "                this.parentNode.style.display = 'inline-block';\n",
              "            } else {\n",
              "                this.previousSibling.style.display = 'none';\n",
              "                this.parentNode.style.display = 'inline';\n",
              "            }\"\n",
              "            onmouseover=\"document.getElementById('_fb_uinfdupaumkolsbxzlgv_ind_32').style.opacity = 1; document.getElementById('_fs_uinfdupaumkolsbxzlgv_ind_32').style.opacity = 1;\"\n",
              "            onmouseout=\"document.getElementById('_fb_uinfdupaumkolsbxzlgv_ind_32').style.opacity = 0; document.getElementById('_fs_uinfdupaumkolsbxzlgv_ind_32').style.opacity = 0;\"\n",
              "        > tmxrc_ACC_NUM_SMART_ID_LCL_PAIR_LAST_TXN_15MIN_0</div></div><div style='display: inline; text-align: center;'\n",
              "    ><div style='display: none; color: #999; padding-top: 0px; font-size: 12px;'>-0.005</div\n",
              "        ><div id='_tp_uinfdupaumkolsbxzlgv_ind_33'\n",
              "            style='display: inline; background: rgba(30.0, 136.0, 229.0, 0.03042186571598325); border-radius: 3px; padding: 0px'\n",
              "            onclick=\"\n",
              "            if (this.previousSibling.style.display == 'none') {\n",
              "                this.previousSibling.style.display = 'block';\n",
              "                this.parentNode.style.display = 'inline-block';\n",
              "            } else {\n",
              "                this.previousSibling.style.display = 'none';\n",
              "                this.parentNode.style.display = 'inline';\n",
              "            }\"\n",
              "            onmouseover=\"document.getElementById('_fb_uinfdupaumkolsbxzlgv_ind_33').style.opacity = 1; document.getElementById('_fs_uinfdupaumkolsbxzlgv_ind_33').style.opacity = 1;\"\n",
              "            onmouseout=\"document.getElementById('_fb_uinfdupaumkolsbxzlgv_ind_33').style.opacity = 0; document.getElementById('_fs_uinfdupaumkolsbxzlgv_ind_33').style.opacity = 0;\"\n",
              "        > tmxrc_TMX_email_persona_anomaly_0</div></div><div style='display: inline; text-align: center;'\n",
              "    ><div style='display: none; color: #999; padding-top: 0px; font-size: 12px;'>-0.006</div\n",
              "        ><div id='_tp_uinfdupaumkolsbxzlgv_ind_34'\n",
              "            style='display: inline; background: rgba(30.0, 136.0, 229.0, 0.03042186571598325); border-radius: 3px; padding: 0px'\n",
              "            onclick=\"\n",
              "            if (this.previousSibling.style.display == 'none') {\n",
              "                this.previousSibling.style.display = 'block';\n",
              "                this.parentNode.style.display = 'inline-block';\n",
              "            } else {\n",
              "                this.previousSibling.style.display = 'none';\n",
              "                this.parentNode.style.display = 'inline';\n",
              "            }\"\n",
              "            onmouseover=\"document.getElementById('_fb_uinfdupaumkolsbxzlgv_ind_34').style.opacity = 1; document.getElementById('_fs_uinfdupaumkolsbxzlgv_ind_34').style.opacity = 1;\"\n",
              "            onmouseout=\"document.getElementById('_fb_uinfdupaumkolsbxzlgv_ind_34').style.opacity = 0; document.getElementById('_fs_uinfdupaumkolsbxzlgv_ind_34').style.opacity = 0;\"\n",
              "        > tmxrc_ACC_EMAIL_GBL_AGE_LT_DY_0</div></div><div style='display: inline; text-align: center;'\n",
              "    ><div style='display: none; color: #999; padding-top: 0px; font-size: 12px;'>-0.006</div\n",
              "        ><div id='_tp_uinfdupaumkolsbxzlgv_ind_35'\n",
              "            style='display: inline; background: rgba(30.0, 136.0, 229.0, 0.03042186571598325); border-radius: 3px; padding: 0px'\n",
              "            onclick=\"\n",
              "            if (this.previousSibling.style.display == 'none') {\n",
              "                this.previousSibling.style.display = 'block';\n",
              "                this.parentNode.style.display = 'inline-block';\n",
              "            } else {\n",
              "                this.previousSibling.style.display = 'none';\n",
              "                this.parentNode.style.display = 'inline';\n",
              "            }\"\n",
              "            onmouseover=\"document.getElementById('_fb_uinfdupaumkolsbxzlgv_ind_35').style.opacity = 1; document.getElementById('_fs_uinfdupaumkolsbxzlgv_ind_35').style.opacity = 1;\"\n",
              "            onmouseout=\"document.getElementById('_fb_uinfdupaumkolsbxzlgv_ind_35').style.opacity = 0; document.getElementById('_fs_uinfdupaumkolsbxzlgv_ind_35').style.opacity = 0;\"\n",
              "        > tmxrc_ACC_NUM_SMART_ID_LCL_PAIR_AGE_LT_DY_0</div></div><div style='display: inline; text-align: center;'\n",
              "    ><div style='display: none; color: #999; padding-top: 0px; font-size: 12px;'>-0.002</div\n",
              "        ><div id='_tp_uinfdupaumkolsbxzlgv_ind_36'\n",
              "            style='display: inline; background: rgba(30.0, 136.0, 229.0, 0.006773618538324436); border-radius: 3px; padding: 0px'\n",
              "            onclick=\"\n",
              "            if (this.previousSibling.style.display == 'none') {\n",
              "                this.previousSibling.style.display = 'block';\n",
              "                this.parentNode.style.display = 'inline-block';\n",
              "            } else {\n",
              "                this.previousSibling.style.display = 'none';\n",
              "                this.parentNode.style.display = 'inline';\n",
              "            }\"\n",
              "            onmouseover=\"document.getElementById('_fb_uinfdupaumkolsbxzlgv_ind_36').style.opacity = 1; document.getElementById('_fs_uinfdupaumkolsbxzlgv_ind_36').style.opacity = 1;\"\n",
              "            onmouseout=\"document.getElementById('_fb_uinfdupaumkolsbxzlgv_ind_36').style.opacity = 0; document.getElementById('_fs_uinfdupaumkolsbxzlgv_ind_36').style.opacity = 0;\"\n",
              "        > tmxrc_Jailbreak_or_Root_0</div></div><div style='display: inline; text-align: center;'\n",
              "    ><div style='display: none; color: #999; padding-top: 0px; font-size: 12px;'>-0.007</div\n",
              "        ><div id='_tp_uinfdupaumkolsbxzlgv_ind_37'\n",
              "            style='display: inline; background: rgba(30.0, 136.0, 229.0, 0.03830461477520309); border-radius: 3px; padding: 0px'\n",
              "            onclick=\"\n",
              "            if (this.previousSibling.style.display == 'none') {\n",
              "                this.previousSibling.style.display = 'block';\n",
              "                this.parentNode.style.display = 'inline-block';\n",
              "            } else {\n",
              "                this.previousSibling.style.display = 'none';\n",
              "                this.parentNode.style.display = 'inline';\n",
              "            }\"\n",
              "            onmouseover=\"document.getElementById('_fb_uinfdupaumkolsbxzlgv_ind_37').style.opacity = 1; document.getElementById('_fs_uinfdupaumkolsbxzlgv_ind_37').style.opacity = 1;\"\n",
              "            onmouseout=\"document.getElementById('_fb_uinfdupaumkolsbxzlgv_ind_37').style.opacity = 0; document.getElementById('_fs_uinfdupaumkolsbxzlgv_ind_37').style.opacity = 0;\"\n",
              "        > tmxrc_Proxy_Anonymous_0</div></div><div style='display: inline; text-align: center;'\n",
              "    ><div style='display: none; color: #999; padding-top: 0px; font-size: 12px;'>-0.008</div\n",
              "        ><div id='_tp_uinfdupaumkolsbxzlgv_ind_38'\n",
              "            style='display: inline; background: rgba(30.0, 136.0, 229.0, 0.04618736383442258); border-radius: 3px; padding: 0px'\n",
              "            onclick=\"\n",
              "            if (this.previousSibling.style.display == 'none') {\n",
              "                this.previousSibling.style.display = 'block';\n",
              "                this.parentNode.style.display = 'inline-block';\n",
              "            } else {\n",
              "                this.previousSibling.style.display = 'none';\n",
              "                this.parentNode.style.display = 'inline';\n",
              "            }\"\n",
              "            onmouseover=\"document.getElementById('_fb_uinfdupaumkolsbxzlgv_ind_38').style.opacity = 1; document.getElementById('_fs_uinfdupaumkolsbxzlgv_ind_38').style.opacity = 1;\"\n",
              "            onmouseout=\"document.getElementById('_fb_uinfdupaumkolsbxzlgv_ind_38').style.opacity = 0; document.getElementById('_fs_uinfdupaumkolsbxzlgv_ind_38').style.opacity = 0;\"\n",
              "        > sumrc_Level_1_Link_Reject_0</div></div><div style='display: inline; text-align: center;'\n",
              "    ><div style='display: none; color: #999; padding-top: 0px; font-size: 12px;'>-0.02</div\n",
              "        ><div id='_tp_uinfdupaumkolsbxzlgv_ind_39'\n",
              "            style='display: inline; background: rgba(30.0, 136.0, 229.0, 0.11713210536739943); border-radius: 3px; padding: 0px'\n",
              "            onclick=\"\n",
              "            if (this.previousSibling.style.display == 'none') {\n",
              "                this.previousSibling.style.display = 'block';\n",
              "                this.parentNode.style.display = 'inline-block';\n",
              "            } else {\n",
              "                this.previousSibling.style.display = 'none';\n",
              "                this.parentNode.style.display = 'inline';\n",
              "            }\"\n",
              "            onmouseover=\"document.getElementById('_fb_uinfdupaumkolsbxzlgv_ind_39').style.opacity = 1; document.getElementById('_fs_uinfdupaumkolsbxzlgv_ind_39').style.opacity = 1;\"\n",
              "            onmouseout=\"document.getElementById('_fb_uinfdupaumkolsbxzlgv_ind_39').style.opacity = 0; document.getElementById('_fs_uinfdupaumkolsbxzlgv_ind_39').style.opacity = 0;\"\n",
              "        > tmxrc_Rejected_ExactID_Month_0</div></div><div style='display: inline; text-align: center;'\n",
              "    ><div style='display: none; color: #999; padding-top: 0px; font-size: 12px;'>-0.007</div\n",
              "        ><div id='_tp_uinfdupaumkolsbxzlgv_ind_40'\n",
              "            style='display: inline; background: rgba(30.0, 136.0, 229.0, 0.03830461477520309); border-radius: 3px; padding: 0px'\n",
              "            onclick=\"\n",
              "            if (this.previousSibling.style.display == 'none') {\n",
              "                this.previousSibling.style.display = 'block';\n",
              "                this.parentNode.style.display = 'inline-block';\n",
              "            } else {\n",
              "                this.previousSibling.style.display = 'none';\n",
              "                this.parentNode.style.display = 'inline';\n",
              "            }\"\n",
              "            onmouseover=\"document.getElementById('_fb_uinfdupaumkolsbxzlgv_ind_40').style.opacity = 1; document.getElementById('_fs_uinfdupaumkolsbxzlgv_ind_40').style.opacity = 1;\"\n",
              "            onmouseout=\"document.getElementById('_fb_uinfdupaumkolsbxzlgv_ind_40').style.opacity = 0; document.getElementById('_fs_uinfdupaumkolsbxzlgv_ind_40').style.opacity = 0;\"\n",
              "        > tmxrc_PotentialVM_UA_Android_OS_Win_0</div></div><div style='display: inline; text-align: center;'\n",
              "    ><div style='display: none; color: #999; padding-top: 0px; font-size: 12px;'>-0.005</div\n",
              "        ><div id='_tp_uinfdupaumkolsbxzlgv_ind_41'\n",
              "            style='display: inline; background: rgba(30.0, 136.0, 229.0, 0.03042186571598325); border-radius: 3px; padding: 0px'\n",
              "            onclick=\"\n",
              "            if (this.previousSibling.style.display == 'none') {\n",
              "                this.previousSibling.style.display = 'block';\n",
              "                this.parentNode.style.display = 'inline-block';\n",
              "            } else {\n",
              "                this.previousSibling.style.display = 'none';\n",
              "                this.parentNode.style.display = 'inline';\n",
              "            }\"\n",
              "            onmouseover=\"document.getElementById('_fb_uinfdupaumkolsbxzlgv_ind_41').style.opacity = 1; document.getElementById('_fs_uinfdupaumkolsbxzlgv_ind_41').style.opacity = 1;\"\n",
              "            onmouseout=\"document.getElementById('_fb_uinfdupaumkolsbxzlgv_ind_41').style.opacity = 0; document.getElementById('_fs_uinfdupaumkolsbxzlgv_ind_41').style.opacity = 0;\"\n",
              "        > tmxrc_Phones_per_ExactID_Week_High_0</div></div><div style='display: inline; text-align: center;'\n",
              "    ><div style='display: none; color: #999; padding-top: 0px; font-size: 12px;'>-0.001</div\n",
              "        ><div id='_tp_uinfdupaumkolsbxzlgv_ind_42'\n",
              "            style='display: inline; background: rgba(54.70588235294111, 122.49411764705886, 213.40784313725496, 0.0); border-radius: 3px; padding: 0px'\n",
              "            onclick=\"\n",
              "            if (this.previousSibling.style.display == 'none') {\n",
              "                this.previousSibling.style.display = 'block';\n",
              "                this.parentNode.style.display = 'inline-block';\n",
              "            } else {\n",
              "                this.previousSibling.style.display = 'none';\n",
              "                this.parentNode.style.display = 'inline';\n",
              "            }\"\n",
              "            onmouseover=\"document.getElementById('_fb_uinfdupaumkolsbxzlgv_ind_42').style.opacity = 1; document.getElementById('_fs_uinfdupaumkolsbxzlgv_ind_42').style.opacity = 1;\"\n",
              "            onmouseout=\"document.getElementById('_fb_uinfdupaumkolsbxzlgv_ind_42').style.opacity = 0; document.getElementById('_fs_uinfdupaumkolsbxzlgv_ind_42').style.opacity = 0;\"\n",
              "        ></div></div></div>"
            ]
          },
          "metadata": {}
        }
      ]
    },
    {
      "cell_type": "code",
      "source": [
        "def st_plot_text_shap(shap_val, height=None):\n",
        "    InteractiveShell().instance()\n",
        "    with capture.capture_output() as cap: \n",
        "        shap.plots.text(shap_val)\n",
        "    components.html(cap.outputs[0].data['text/html'], height=height, scrolling=True)"
      ],
      "metadata": {
        "id": "V8UHpkSlZTxw"
      },
      "execution_count": null,
      "outputs": []
    },
    {
      "cell_type": "code",
      "source": [
        "InteractiveShell().instance()\n",
        "with capture.capture_output() as cap: \n",
        "  shap.plots.text(shap_values[:,:,\"LABEL_1\"])"
      ],
      "metadata": {
        "id": "cxza5u48ZTKs"
      },
      "execution_count": null,
      "outputs": []
    }
  ]
}